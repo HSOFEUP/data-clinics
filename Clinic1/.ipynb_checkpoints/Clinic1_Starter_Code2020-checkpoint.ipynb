{
 "cells": [
  {
   "cell_type": "markdown",
   "metadata": {},
   "source": [
    "# KEN3450, Data Analysis, Spring 2020 \n",
    "\n",
    "## Clinic 1: EDA of Movies \n",
    "\n",
    "**Błażej Dolicki - i6155906**\n",
    "\n",
    "---"
   ]
  },
  {
   "cell_type": "markdown",
   "metadata": {},
   "source": [
    "## Part 1: Loading and Cleaning with Pandas \n",
    "Here is a description of the columns (in order) present in this csv file:\n",
    "\n",
    "```\n",
    "id: a unique identifier for each movie\n",
    "title: the title of the movie\n",
    "cast: name of most recognizeable cast members seperated by a \"|\"\n",
    "director: name of the director (if more than one, different names seperated by a \"|\"\n",
    "runtime: duration of movie in min.\n",
    "genres: categories of the movie seperated by a \"|\"\n",
    "release_date: exact date of the release in the format MM/DD/YY or MM/DD/YYYY\n",
    "users_voted: how many users have cast their vote for this movie\n",
    "rating: average rating for the movie (scale 0-5)\n",
    "release_year: the year of release\n",
    "budget: production costs in US dollars\n",
    "revenue: revenue income in US dollars\n",
    "```\n",
    "\n",
    "----"
   ]
  },
  {
   "cell_type": "markdown",
   "metadata": {},
   "source": [
    "Load the appropriate libraries"
   ]
  },
  {
   "cell_type": "code",
   "execution_count": 1,
   "metadata": {
    "ExecuteTime": {
     "end_time": "2020-02-15T12:15:56.637923Z",
     "start_time": "2020-02-15T12:15:55.196090Z"
    }
   },
   "outputs": [],
   "source": [
    "%matplotlib inline\n",
    "import numpy as np\n",
    "import matplotlib.pyplot as plt\n",
    "import pandas as pd\n",
    "import seaborn as sns\n",
    "pd.set_option('display.width', 500)\n",
    "pd.set_option('display.max_columns', 100)"
   ]
  },
  {
   "cell_type": "markdown",
   "metadata": {},
   "source": [
    "### Cleaning: Reading in the data"
   ]
  },
  {
   "cell_type": "code",
   "execution_count": 2,
   "metadata": {
    "ExecuteTime": {
     "end_time": "2020-02-15T12:15:57.367068Z",
     "start_time": "2020-02-15T12:15:56.638895Z"
    }
   },
   "outputs": [],
   "source": [
    "#Read the data into a dataframe\n",
    "df = pd.read_csv(\"movies.csv\", parse_dates=[\"release_date\"])"
   ]
  },
  {
   "cell_type": "code",
   "execution_count": 3,
   "metadata": {
    "ExecuteTime": {
     "end_time": "2020-02-15T12:15:57.382061Z",
     "start_time": "2020-02-15T12:15:57.368068Z"
    }
   },
   "outputs": [
    {
     "data": {
      "text/html": [
       "<div>\n",
       "<style scoped>\n",
       "    .dataframe tbody tr th:only-of-type {\n",
       "        vertical-align: middle;\n",
       "    }\n",
       "\n",
       "    .dataframe tbody tr th {\n",
       "        vertical-align: top;\n",
       "    }\n",
       "\n",
       "    .dataframe thead th {\n",
       "        text-align: right;\n",
       "    }\n",
       "</style>\n",
       "<table border=\"1\" class=\"dataframe\">\n",
       "  <thead>\n",
       "    <tr style=\"text-align: right;\">\n",
       "      <th></th>\n",
       "      <th>id</th>\n",
       "      <th>title</th>\n",
       "      <th>cast</th>\n",
       "      <th>director</th>\n",
       "      <th>runtime</th>\n",
       "      <th>genres</th>\n",
       "      <th>release_date</th>\n",
       "      <th>users_voted</th>\n",
       "      <th>rating</th>\n",
       "      <th>release_year</th>\n",
       "      <th>budget</th>\n",
       "      <th>revenue</th>\n",
       "    </tr>\n",
       "  </thead>\n",
       "  <tbody>\n",
       "    <tr>\n",
       "      <th>0</th>\n",
       "      <td>135397</td>\n",
       "      <td>Jurassic World</td>\n",
       "      <td>Chris Pratt|Bryce Dallas Howard|Irrfan Khan|Vi...</td>\n",
       "      <td>Colin Trevorrow</td>\n",
       "      <td>124</td>\n",
       "      <td>Action|Adventure|Science Fiction|Thriller</td>\n",
       "      <td>2015-06-09</td>\n",
       "      <td>5562</td>\n",
       "      <td>3.25</td>\n",
       "      <td>2015</td>\n",
       "      <td>150000000</td>\n",
       "      <td>1513528810</td>\n",
       "    </tr>\n",
       "    <tr>\n",
       "      <th>1</th>\n",
       "      <td>76341</td>\n",
       "      <td>Mad Max: Fury Road</td>\n",
       "      <td>Tom Hardy|Charlize Theron|Hugh Keays-Byrne|Nic...</td>\n",
       "      <td>George Miller</td>\n",
       "      <td>120</td>\n",
       "      <td>Action|Adventure|Science Fiction|Thriller</td>\n",
       "      <td>2015-05-13</td>\n",
       "      <td>6185</td>\n",
       "      <td>3.55</td>\n",
       "      <td>2015</td>\n",
       "      <td>150000000</td>\n",
       "      <td>378436354</td>\n",
       "    </tr>\n",
       "    <tr>\n",
       "      <th>2</th>\n",
       "      <td>262500</td>\n",
       "      <td>Insurgent</td>\n",
       "      <td>Shailene Woodley|Theo James|Kate Winslet|Ansel...</td>\n",
       "      <td>Robert Schwentke</td>\n",
       "      <td>119</td>\n",
       "      <td>Adventure|Science Fiction|Thriller</td>\n",
       "      <td>2015-03-18</td>\n",
       "      <td>2480</td>\n",
       "      <td>3.15</td>\n",
       "      <td>2015</td>\n",
       "      <td>110000000</td>\n",
       "      <td>295238201</td>\n",
       "    </tr>\n",
       "    <tr>\n",
       "      <th>3</th>\n",
       "      <td>140607</td>\n",
       "      <td>Star Wars: The Force Awakens</td>\n",
       "      <td>Harrison Ford|Mark Hamill|Carrie Fisher|Adam D...</td>\n",
       "      <td>J.J. Abrams</td>\n",
       "      <td>136</td>\n",
       "      <td>Action|Adventure|Science Fiction|Fantasy</td>\n",
       "      <td>2015-12-15</td>\n",
       "      <td>5292</td>\n",
       "      <td>3.75</td>\n",
       "      <td>2015</td>\n",
       "      <td>200000000</td>\n",
       "      <td>2068178225</td>\n",
       "    </tr>\n",
       "    <tr>\n",
       "      <th>4</th>\n",
       "      <td>168259</td>\n",
       "      <td>Furious 7</td>\n",
       "      <td>Vin Diesel|Paul Walker|Jason Statham|Michelle ...</td>\n",
       "      <td>James Wan</td>\n",
       "      <td>137</td>\n",
       "      <td>Action|Crime|Thriller</td>\n",
       "      <td>2015-04-01</td>\n",
       "      <td>2947</td>\n",
       "      <td>3.65</td>\n",
       "      <td>2015</td>\n",
       "      <td>190000000</td>\n",
       "      <td>1506249360</td>\n",
       "    </tr>\n",
       "  </tbody>\n",
       "</table>\n",
       "</div>"
      ],
      "text/plain": [
       "       id                         title                                               cast          director  runtime                                     genres release_date  users_voted  rating  release_year     budget     revenue\n",
       "0  135397                Jurassic World  Chris Pratt|Bryce Dallas Howard|Irrfan Khan|Vi...   Colin Trevorrow      124  Action|Adventure|Science Fiction|Thriller   2015-06-09         5562    3.25          2015  150000000  1513528810\n",
       "1   76341            Mad Max: Fury Road  Tom Hardy|Charlize Theron|Hugh Keays-Byrne|Nic...     George Miller      120  Action|Adventure|Science Fiction|Thriller   2015-05-13         6185    3.55          2015  150000000   378436354\n",
       "2  262500                     Insurgent  Shailene Woodley|Theo James|Kate Winslet|Ansel...  Robert Schwentke      119         Adventure|Science Fiction|Thriller   2015-03-18         2480    3.15          2015  110000000   295238201\n",
       "3  140607  Star Wars: The Force Awakens  Harrison Ford|Mark Hamill|Carrie Fisher|Adam D...       J.J. Abrams      136   Action|Adventure|Science Fiction|Fantasy   2015-12-15         5292    3.75          2015  200000000  2068178225\n",
       "4  168259                     Furious 7  Vin Diesel|Paul Walker|Jason Statham|Michelle ...         James Wan      137                      Action|Crime|Thriller   2015-04-01         2947    3.65          2015  190000000  1506249360"
      ]
     },
     "execution_count": 3,
     "metadata": {},
     "output_type": "execute_result"
    }
   ],
   "source": [
    "df.head()"
   ]
  },
  {
   "cell_type": "markdown",
   "metadata": {},
   "source": [
    "There are more than two date formats in `release_date` column, therefore it's not possible to parse the dates with `to_datetime()` method. Thankfully, this issue is solved by adding the `parse_dates` argument - the dates are properly parsed."
   ]
  },
  {
   "cell_type": "markdown",
   "metadata": {},
   "source": [
    "### Cleaning: Examing the dataframe - quick checks\n",
    "\n",
    "We should examine the dataframe to get a overall sense of the content. "
   ]
  },
  {
   "cell_type": "code",
   "execution_count": 4,
   "metadata": {
    "ExecuteTime": {
     "end_time": "2020-02-15T12:15:57.402986Z",
     "start_time": "2020-02-15T12:15:57.383027Z"
    }
   },
   "outputs": [
    {
     "data": {
      "text/plain": [
       "id                       int64\n",
       "title                   object\n",
       "cast                    object\n",
       "director                object\n",
       "runtime                  int64\n",
       "genres                  object\n",
       "release_date    datetime64[ns]\n",
       "users_voted              int64\n",
       "rating                 float64\n",
       "release_year             int64\n",
       "budget                   int64\n",
       "revenue                  int64\n",
       "dtype: object"
      ]
     },
     "execution_count": 4,
     "metadata": {},
     "output_type": "execute_result"
    }
   ],
   "source": [
    "df.dtypes"
   ]
  },
  {
   "cell_type": "markdown",
   "metadata": {},
   "source": [
    "Everything seems okay, numeric variables are indeed numeric and string variables are of type object."
   ]
  },
  {
   "cell_type": "code",
   "execution_count": 5,
   "metadata": {
    "ExecuteTime": {
     "end_time": "2020-02-15T12:15:57.419393Z",
     "start_time": "2020-02-15T12:15:57.404969Z"
    }
   },
   "outputs": [
    {
     "data": {
      "text/plain": [
       "(10866, 12)"
      ]
     },
     "execution_count": 5,
     "metadata": {},
     "output_type": "execute_result"
    }
   ],
   "source": [
    "df.shape"
   ]
  },
  {
   "cell_type": "markdown",
   "metadata": {},
   "source": [
    "**B** There are 10866 movies, each with 12 features"
   ]
  },
  {
   "cell_type": "code",
   "execution_count": 6,
   "metadata": {
    "ExecuteTime": {
     "end_time": "2020-02-15T12:15:57.459704Z",
     "start_time": "2020-02-15T12:15:57.420360Z"
    }
   },
   "outputs": [
    {
     "data": {
      "text/html": [
       "<div>\n",
       "<style scoped>\n",
       "    .dataframe tbody tr th:only-of-type {\n",
       "        vertical-align: middle;\n",
       "    }\n",
       "\n",
       "    .dataframe tbody tr th {\n",
       "        vertical-align: top;\n",
       "    }\n",
       "\n",
       "    .dataframe thead th {\n",
       "        text-align: right;\n",
       "    }\n",
       "</style>\n",
       "<table border=\"1\" class=\"dataframe\">\n",
       "  <thead>\n",
       "    <tr style=\"text-align: right;\">\n",
       "      <th></th>\n",
       "      <th>id</th>\n",
       "      <th>runtime</th>\n",
       "      <th>users_voted</th>\n",
       "      <th>rating</th>\n",
       "      <th>release_year</th>\n",
       "      <th>budget</th>\n",
       "      <th>revenue</th>\n",
       "    </tr>\n",
       "  </thead>\n",
       "  <tbody>\n",
       "    <tr>\n",
       "      <th>count</th>\n",
       "      <td>10866.000000</td>\n",
       "      <td>10866.000000</td>\n",
       "      <td>10866.000000</td>\n",
       "      <td>10861.000000</td>\n",
       "      <td>10866.000000</td>\n",
       "      <td>1.086600e+04</td>\n",
       "      <td>1.086600e+04</td>\n",
       "    </tr>\n",
       "    <tr>\n",
       "      <th>mean</th>\n",
       "      <td>66064.177434</td>\n",
       "      <td>102.070863</td>\n",
       "      <td>217.389748</td>\n",
       "      <td>2.987386</td>\n",
       "      <td>2001.322658</td>\n",
       "      <td>1.462570e+07</td>\n",
       "      <td>3.982332e+07</td>\n",
       "    </tr>\n",
       "    <tr>\n",
       "      <th>std</th>\n",
       "      <td>92130.136561</td>\n",
       "      <td>31.381405</td>\n",
       "      <td>575.619058</td>\n",
       "      <td>0.467639</td>\n",
       "      <td>12.812941</td>\n",
       "      <td>3.091321e+07</td>\n",
       "      <td>1.170035e+08</td>\n",
       "    </tr>\n",
       "    <tr>\n",
       "      <th>min</th>\n",
       "      <td>5.000000</td>\n",
       "      <td>0.000000</td>\n",
       "      <td>10.000000</td>\n",
       "      <td>0.750000</td>\n",
       "      <td>1960.000000</td>\n",
       "      <td>0.000000e+00</td>\n",
       "      <td>0.000000e+00</td>\n",
       "    </tr>\n",
       "    <tr>\n",
       "      <th>25%</th>\n",
       "      <td>10596.250000</td>\n",
       "      <td>90.000000</td>\n",
       "      <td>17.000000</td>\n",
       "      <td>2.700000</td>\n",
       "      <td>1995.000000</td>\n",
       "      <td>0.000000e+00</td>\n",
       "      <td>0.000000e+00</td>\n",
       "    </tr>\n",
       "    <tr>\n",
       "      <th>50%</th>\n",
       "      <td>20669.000000</td>\n",
       "      <td>99.000000</td>\n",
       "      <td>38.000000</td>\n",
       "      <td>3.000000</td>\n",
       "      <td>2006.000000</td>\n",
       "      <td>0.000000e+00</td>\n",
       "      <td>0.000000e+00</td>\n",
       "    </tr>\n",
       "    <tr>\n",
       "      <th>75%</th>\n",
       "      <td>75610.000000</td>\n",
       "      <td>111.000000</td>\n",
       "      <td>145.750000</td>\n",
       "      <td>3.300000</td>\n",
       "      <td>2011.000000</td>\n",
       "      <td>1.500000e+07</td>\n",
       "      <td>2.400000e+07</td>\n",
       "    </tr>\n",
       "    <tr>\n",
       "      <th>max</th>\n",
       "      <td>417859.000000</td>\n",
       "      <td>900.000000</td>\n",
       "      <td>9767.000000</td>\n",
       "      <td>4.600000</td>\n",
       "      <td>2015.000000</td>\n",
       "      <td>4.250000e+08</td>\n",
       "      <td>2.781506e+09</td>\n",
       "    </tr>\n",
       "  </tbody>\n",
       "</table>\n",
       "</div>"
      ],
      "text/plain": [
       "                  id       runtime   users_voted        rating  release_year        budget       revenue\n",
       "count   10866.000000  10866.000000  10866.000000  10861.000000  10866.000000  1.086600e+04  1.086600e+04\n",
       "mean    66064.177434    102.070863    217.389748      2.987386   2001.322658  1.462570e+07  3.982332e+07\n",
       "std     92130.136561     31.381405    575.619058      0.467639     12.812941  3.091321e+07  1.170035e+08\n",
       "min         5.000000      0.000000     10.000000      0.750000   1960.000000  0.000000e+00  0.000000e+00\n",
       "25%     10596.250000     90.000000     17.000000      2.700000   1995.000000  0.000000e+00  0.000000e+00\n",
       "50%     20669.000000     99.000000     38.000000      3.000000   2006.000000  0.000000e+00  0.000000e+00\n",
       "75%     75610.000000    111.000000    145.750000      3.300000   2011.000000  1.500000e+07  2.400000e+07\n",
       "max    417859.000000    900.000000   9767.000000      4.600000   2015.000000  4.250000e+08  2.781506e+09"
      ]
     },
     "execution_count": 6,
     "metadata": {},
     "output_type": "execute_result"
    }
   ],
   "source": [
    "df.describe()"
   ]
  },
  {
   "cell_type": "markdown",
   "metadata": {
    "ExecuteTime": {
     "end_time": "2020-02-07T09:06:46.772255Z",
     "start_time": "2020-02-07T09:06:46.767299Z"
    }
   },
   "source": [
    "The above method summarizes some basic statistics. It helps to make sanity checks on edge values - for example rating should be between 0 and 5. Here you can see that min value of rating is 0.75 and max value is 4.6 so this is correct. Based on common sense, none of the numerical variables should be negative - looking at the above table, it checks out. This may seem irrelevant, but even from my short work experience I can tell situations like that happen in real-life situations."
   ]
  },
  {
   "cell_type": "markdown",
   "metadata": {},
   "source": [
    "It's also worth checking any numbers that seem weird. Often this means that there's an error. For example maximum runtime is 900 which means that some movie supposedly is 15 hours long, which would be quite bizarre. After checking the title and googling it, it appears that the film was presented in 15 one-hour chapters. So everything is correct in this case."
   ]
  },
  {
   "cell_type": "markdown",
   "metadata": {},
   "source": [
    "In this dataset a really important insight is that medians of budget and revenue - i.e. half (or more) examples - are zeros. However, common sense suggests that every movie needs a non-zero budget and revenue. "
   ]
  },
  {
   "cell_type": "code",
   "execution_count": 7,
   "metadata": {
    "ExecuteTime": {
     "end_time": "2020-02-15T12:15:57.474669Z",
     "start_time": "2020-02-15T12:15:57.460675Z"
    },
    "scrolled": true
   },
   "outputs": [
    {
     "data": {
      "text/html": [
       "<div>\n",
       "<style scoped>\n",
       "    .dataframe tbody tr th:only-of-type {\n",
       "        vertical-align: middle;\n",
       "    }\n",
       "\n",
       "    .dataframe tbody tr th {\n",
       "        vertical-align: top;\n",
       "    }\n",
       "\n",
       "    .dataframe thead th {\n",
       "        text-align: right;\n",
       "    }\n",
       "</style>\n",
       "<table border=\"1\" class=\"dataframe\">\n",
       "  <thead>\n",
       "    <tr style=\"text-align: right;\">\n",
       "      <th></th>\n",
       "      <th>id</th>\n",
       "      <th>title</th>\n",
       "      <th>cast</th>\n",
       "      <th>director</th>\n",
       "      <th>runtime</th>\n",
       "      <th>genres</th>\n",
       "      <th>release_date</th>\n",
       "      <th>users_voted</th>\n",
       "      <th>rating</th>\n",
       "      <th>release_year</th>\n",
       "      <th>budget</th>\n",
       "      <th>revenue</th>\n",
       "    </tr>\n",
       "  </thead>\n",
       "  <tbody>\n",
       "    <tr>\n",
       "      <th>7410</th>\n",
       "      <td>4638</td>\n",
       "      <td>Hot Fuzz</td>\n",
       "      <td>Simon Pegg|Nick Frost|Timothy Dalton|Jim Broad...</td>\n",
       "      <td>Edgar Wright</td>\n",
       "      <td>121</td>\n",
       "      <td>Crime|Action|Comedy</td>\n",
       "      <td>2007-02-14</td>\n",
       "      <td>1329</td>\n",
       "      <td>3.60</td>\n",
       "      <td>2007</td>\n",
       "      <td>0</td>\n",
       "      <td>80573774</td>\n",
       "    </tr>\n",
       "    <tr>\n",
       "      <th>5450</th>\n",
       "      <td>122906</td>\n",
       "      <td>About Time</td>\n",
       "      <td>Rachel McAdams|Bill Nighy|Domhnall Gleeson|Tom...</td>\n",
       "      <td>Richard Curtis</td>\n",
       "      <td>123</td>\n",
       "      <td>Comedy|Drama|Science Fiction</td>\n",
       "      <td>2013-08-16</td>\n",
       "      <td>1329</td>\n",
       "      <td>3.85</td>\n",
       "      <td>2013</td>\n",
       "      <td>0</td>\n",
       "      <td>87100449</td>\n",
       "    </tr>\n",
       "    <tr>\n",
       "      <th>746</th>\n",
       "      <td>188161</td>\n",
       "      <td>A Million Ways to Die in the West</td>\n",
       "      <td>Seth MacFarlane|Charlize Theron|Liam Neeson|Am...</td>\n",
       "      <td>Seth MacFarlane</td>\n",
       "      <td>116</td>\n",
       "      <td>Comedy|Western</td>\n",
       "      <td>2014-05-22</td>\n",
       "      <td>1074</td>\n",
       "      <td>2.95</td>\n",
       "      <td>2014</td>\n",
       "      <td>0</td>\n",
       "      <td>0</td>\n",
       "    </tr>\n",
       "    <tr>\n",
       "      <th>2419</th>\n",
       "      <td>37135</td>\n",
       "      <td>Tarzan</td>\n",
       "      <td>Tony Goldwyn|Glenn Close|Minnie Driver|Brian B...</td>\n",
       "      <td>Chris Buck|Kevin Lima</td>\n",
       "      <td>88</td>\n",
       "      <td>Adventure|Animation|Drama|Family</td>\n",
       "      <td>1999-06-18</td>\n",
       "      <td>912</td>\n",
       "      <td>3.45</td>\n",
       "      <td>1999</td>\n",
       "      <td>0</td>\n",
       "      <td>0</td>\n",
       "    </tr>\n",
       "    <tr>\n",
       "      <th>693</th>\n",
       "      <td>200727</td>\n",
       "      <td>Love, Rosie</td>\n",
       "      <td>Lily Collins|Sam Claflin|Suki Waterhouse|Chris...</td>\n",
       "      <td>Christian Ditter</td>\n",
       "      <td>102</td>\n",
       "      <td>Comedy|Romance</td>\n",
       "      <td>2014-07-02</td>\n",
       "      <td>904</td>\n",
       "      <td>3.80</td>\n",
       "      <td>2014</td>\n",
       "      <td>0</td>\n",
       "      <td>4439431</td>\n",
       "    </tr>\n",
       "  </tbody>\n",
       "</table>\n",
       "</div>"
      ],
      "text/plain": [
       "          id                              title                                               cast               director  runtime                            genres release_date  users_voted  rating  release_year  budget   revenue\n",
       "7410    4638                           Hot Fuzz  Simon Pegg|Nick Frost|Timothy Dalton|Jim Broad...           Edgar Wright      121               Crime|Action|Comedy   2007-02-14         1329    3.60          2007       0  80573774\n",
       "5450  122906                         About Time  Rachel McAdams|Bill Nighy|Domhnall Gleeson|Tom...         Richard Curtis      123      Comedy|Drama|Science Fiction   2013-08-16         1329    3.85          2013       0  87100449\n",
       "746   188161  A Million Ways to Die in the West  Seth MacFarlane|Charlize Theron|Liam Neeson|Am...        Seth MacFarlane      116                    Comedy|Western   2014-05-22         1074    2.95          2014       0         0\n",
       "2419   37135                             Tarzan  Tony Goldwyn|Glenn Close|Minnie Driver|Brian B...  Chris Buck|Kevin Lima       88  Adventure|Animation|Drama|Family   1999-06-18          912    3.45          1999       0         0\n",
       "693   200727                        Love, Rosie  Lily Collins|Sam Claflin|Suki Waterhouse|Chris...       Christian Ditter      102                    Comedy|Romance   2014-07-02          904    3.80          2014       0   4439431"
      ]
     },
     "execution_count": 7,
     "metadata": {},
     "output_type": "execute_result"
    }
   ],
   "source": [
    "df[df.budget==0].sort_values(by='users_voted',ascending=False).head()"
   ]
  },
  {
   "cell_type": "markdown",
   "metadata": {},
   "source": [
    "Thanks to the nature of this specific dataset we can use external sources (aka the Internet) to check the data. The movie \"Hot Fuzz\" that is on the top of the table in the cell above can be found on iMDB (https://www.imdb.com/title/tt0425112/). It's budget was 8 million pounds. So clearly many (if not all) the movies that have zeros as in the budget column in fact have missing data."
   ]
  },
  {
   "cell_type": "code",
   "execution_count": 8,
   "metadata": {
    "ExecuteTime": {
     "end_time": "2020-02-15T12:15:57.489598Z",
     "start_time": "2020-02-15T12:15:57.476634Z"
    }
   },
   "outputs": [
    {
     "name": "stdout",
     "output_type": "stream",
     "text": [
      "There are 5696 examples with missing values in the budget column\n",
      "There are 6016 examples with missing values in the revenue column\n",
      "There are 6165 examples with missing values in both budget or revenue columns\n"
     ]
    }
   ],
   "source": [
    "print(\"There are {} examples with missing values in the budget column\".format(df[df.budget==0].shape[0]))\n",
    "print(\"There are {} examples with missing values in the revenue column\".format(df[df.revenue==0].shape[0]))\n",
    "print(\"There are {} examples with missing values in both budget or revenue columns\".format(df[(df.budget>0) | (df.revenue>0)].shape[0]))"
   ]
  },
  {
   "cell_type": "markdown",
   "metadata": {},
   "source": [
    "**How to handle this problem?** If we wanted to train the model on this data, I would probably impute the missing values with predictions from an estimator trained on examples with non-missing budget and revenue (given that we have several thousands of those). However, for data analysis like this one, I will stick to the original dataset and only filter out rows with missing data in some cases when it makes sense."
   ]
  },
  {
   "cell_type": "markdown",
   "metadata": {},
   "source": [
    "After working for some time with this notebook I realized that \"The Karate Kid, Part II\" has supposedly budget of 113 dollars. So let us make the cutoff point around 1000, that seems reasonable."
   ]
  },
  {
   "cell_type": "code",
   "execution_count": 9,
   "metadata": {
    "ExecuteTime": {
     "end_time": "2020-02-15T12:15:57.502626Z",
     "start_time": "2020-02-15T12:15:57.490596Z"
    }
   },
   "outputs": [],
   "source": [
    "df_filtered = df[(df.budget>1000) & (df.revenue>0)]"
   ]
  },
  {
   "cell_type": "markdown",
   "metadata": {},
   "source": [
    "### Cleaning: Examining the dataframe - a deeper look"
   ]
  },
  {
   "cell_type": "code",
   "execution_count": 10,
   "metadata": {
    "ExecuteTime": {
     "end_time": "2020-02-15T12:15:57.522615Z",
     "start_time": "2020-02-15T12:15:57.503601Z"
    },
    "scrolled": false
   },
   "outputs": [
    {
     "data": {
      "text/plain": [
       "id               0\n",
       "title            0\n",
       "cast            76\n",
       "director        44\n",
       "runtime          0\n",
       "genres          23\n",
       "release_date     0\n",
       "users_voted      0\n",
       "rating           5\n",
       "release_year     0\n",
       "budget           0\n",
       "revenue          0\n",
       "dtype: int64"
      ]
     },
     "execution_count": 10,
     "metadata": {},
     "output_type": "execute_result"
    }
   ],
   "source": [
    "df.isna().sum()"
   ]
  },
  {
   "cell_type": "markdown",
   "metadata": {},
   "source": [
    "As mentioned in the docs, the `describe()` method excludes NaN values when computing statistics."
   ]
  },
  {
   "cell_type": "markdown",
   "metadata": {},
   "source": [
    "### Cleaning: Dealing with Missing Values\n",
    "How should we interpret 'missing' or 'invalid' values in the data (hint: look at where these values occur)?\n",
    "\n",
    "Think of the techniques we discussed during lecture and apply it below. Remember that there is no golden rule about which technique is best, as long as you as an experienced data scientist report how you handled them."
   ]
  },
  {
   "cell_type": "markdown",
   "metadata": {},
   "source": [
    "For the purpose of data exploration, I think the best choice is to use a separate \"Unknown\" class for categorical variables. This is a common choice in many visualizations. Substituting missing values with the most common categories etc. might significantly change the dataset. For `rating` we can just replace it with the mean, it's only 5 rows anyway..."
   ]
  },
  {
   "cell_type": "code",
   "execution_count": 11,
   "metadata": {
    "ExecuteTime": {
     "end_time": "2020-02-15T12:15:57.541450Z",
     "start_time": "2020-02-15T12:15:57.523590Z"
    }
   },
   "outputs": [],
   "source": [
    "df[['cast','director','genres']] = df[['cast','director','genres']].fillna(\"Unknown\")"
   ]
  },
  {
   "cell_type": "code",
   "execution_count": 12,
   "metadata": {
    "ExecuteTime": {
     "end_time": "2020-02-15T12:15:57.559537Z",
     "start_time": "2020-02-15T12:15:57.542452Z"
    }
   },
   "outputs": [],
   "source": [
    "df['rating'].fillna(df['rating'].mean(),inplace=True)"
   ]
  },
  {
   "cell_type": "markdown",
   "metadata": {},
   "source": [
    "It's always good to check if the code is actually doing what you think it is doing..."
   ]
  },
  {
   "cell_type": "code",
   "execution_count": 13,
   "metadata": {
    "ExecuteTime": {
     "end_time": "2020-02-15T12:15:57.583181Z",
     "start_time": "2020-02-15T12:15:57.560538Z"
    }
   },
   "outputs": [
    {
     "name": "stdout",
     "output_type": "stream",
     "text": [
      "Any missing values left? False\n"
     ]
    }
   ],
   "source": [
    "print(\"Any missing values left?\",df.isna().sum().any())"
   ]
  },
  {
   "cell_type": "markdown",
   "metadata": {},
   "source": [
    "##  Part 2: Asking Questions\n",
    "Think of few questions we want to ask and then examine the data and decide if the dataframe contains what you need to address these questions. \n",
    "\n",
    "**Example:** Which are the highest rated movies? To determine this, you'll only need the data in two columns: `title` and `rating`. The task will be to sort these two columns by the value in `rating`.\n",
    "\n",
    "Try to formulate questions that you can explain to non-scientists and use your imagination (e.g. look for your favorite actor or movie)\n",
    "\n",
    "[5 min]"
   ]
  },
  {
   "cell_type": "code",
   "execution_count": 14,
   "metadata": {
    "ExecuteTime": {
     "end_time": "2020-02-15T12:15:57.606405Z",
     "start_time": "2020-02-15T12:15:57.584157Z"
    }
   },
   "outputs": [
    {
     "data": {
      "text/html": [
       "<div>\n",
       "<style scoped>\n",
       "    .dataframe tbody tr th:only-of-type {\n",
       "        vertical-align: middle;\n",
       "    }\n",
       "\n",
       "    .dataframe tbody tr th {\n",
       "        vertical-align: top;\n",
       "    }\n",
       "\n",
       "    .dataframe thead th {\n",
       "        text-align: right;\n",
       "    }\n",
       "</style>\n",
       "<table border=\"1\" class=\"dataframe\">\n",
       "  <thead>\n",
       "    <tr style=\"text-align: right;\">\n",
       "      <th></th>\n",
       "      <th>id</th>\n",
       "      <th>title</th>\n",
       "      <th>cast</th>\n",
       "      <th>director</th>\n",
       "      <th>runtime</th>\n",
       "      <th>genres</th>\n",
       "      <th>release_date</th>\n",
       "      <th>users_voted</th>\n",
       "      <th>rating</th>\n",
       "      <th>release_year</th>\n",
       "      <th>budget</th>\n",
       "      <th>revenue</th>\n",
       "    </tr>\n",
       "  </thead>\n",
       "  <tbody>\n",
       "    <tr>\n",
       "      <th>0</th>\n",
       "      <td>135397</td>\n",
       "      <td>Jurassic World</td>\n",
       "      <td>Chris Pratt|Bryce Dallas Howard|Irrfan Khan|Vi...</td>\n",
       "      <td>Colin Trevorrow</td>\n",
       "      <td>124</td>\n",
       "      <td>Action|Adventure|Science Fiction|Thriller</td>\n",
       "      <td>2015-06-09</td>\n",
       "      <td>5562</td>\n",
       "      <td>3.25</td>\n",
       "      <td>2015</td>\n",
       "      <td>150000000</td>\n",
       "      <td>1513528810</td>\n",
       "    </tr>\n",
       "    <tr>\n",
       "      <th>1</th>\n",
       "      <td>76341</td>\n",
       "      <td>Mad Max: Fury Road</td>\n",
       "      <td>Tom Hardy|Charlize Theron|Hugh Keays-Byrne|Nic...</td>\n",
       "      <td>George Miller</td>\n",
       "      <td>120</td>\n",
       "      <td>Action|Adventure|Science Fiction|Thriller</td>\n",
       "      <td>2015-05-13</td>\n",
       "      <td>6185</td>\n",
       "      <td>3.55</td>\n",
       "      <td>2015</td>\n",
       "      <td>150000000</td>\n",
       "      <td>378436354</td>\n",
       "    </tr>\n",
       "    <tr>\n",
       "      <th>2</th>\n",
       "      <td>262500</td>\n",
       "      <td>Insurgent</td>\n",
       "      <td>Shailene Woodley|Theo James|Kate Winslet|Ansel...</td>\n",
       "      <td>Robert Schwentke</td>\n",
       "      <td>119</td>\n",
       "      <td>Adventure|Science Fiction|Thriller</td>\n",
       "      <td>2015-03-18</td>\n",
       "      <td>2480</td>\n",
       "      <td>3.15</td>\n",
       "      <td>2015</td>\n",
       "      <td>110000000</td>\n",
       "      <td>295238201</td>\n",
       "    </tr>\n",
       "    <tr>\n",
       "      <th>3</th>\n",
       "      <td>140607</td>\n",
       "      <td>Star Wars: The Force Awakens</td>\n",
       "      <td>Harrison Ford|Mark Hamill|Carrie Fisher|Adam D...</td>\n",
       "      <td>J.J. Abrams</td>\n",
       "      <td>136</td>\n",
       "      <td>Action|Adventure|Science Fiction|Fantasy</td>\n",
       "      <td>2015-12-15</td>\n",
       "      <td>5292</td>\n",
       "      <td>3.75</td>\n",
       "      <td>2015</td>\n",
       "      <td>200000000</td>\n",
       "      <td>2068178225</td>\n",
       "    </tr>\n",
       "    <tr>\n",
       "      <th>4</th>\n",
       "      <td>168259</td>\n",
       "      <td>Furious 7</td>\n",
       "      <td>Vin Diesel|Paul Walker|Jason Statham|Michelle ...</td>\n",
       "      <td>James Wan</td>\n",
       "      <td>137</td>\n",
       "      <td>Action|Crime|Thriller</td>\n",
       "      <td>2015-04-01</td>\n",
       "      <td>2947</td>\n",
       "      <td>3.65</td>\n",
       "      <td>2015</td>\n",
       "      <td>190000000</td>\n",
       "      <td>1506249360</td>\n",
       "    </tr>\n",
       "  </tbody>\n",
       "</table>\n",
       "</div>"
      ],
      "text/plain": [
       "       id                         title                                               cast          director  runtime                                     genres release_date  users_voted  rating  release_year     budget     revenue\n",
       "0  135397                Jurassic World  Chris Pratt|Bryce Dallas Howard|Irrfan Khan|Vi...   Colin Trevorrow      124  Action|Adventure|Science Fiction|Thriller   2015-06-09         5562    3.25          2015  150000000  1513528810\n",
       "1   76341            Mad Max: Fury Road  Tom Hardy|Charlize Theron|Hugh Keays-Byrne|Nic...     George Miller      120  Action|Adventure|Science Fiction|Thriller   2015-05-13         6185    3.55          2015  150000000   378436354\n",
       "2  262500                     Insurgent  Shailene Woodley|Theo James|Kate Winslet|Ansel...  Robert Schwentke      119         Adventure|Science Fiction|Thriller   2015-03-18         2480    3.15          2015  110000000   295238201\n",
       "3  140607  Star Wars: The Force Awakens  Harrison Ford|Mark Hamill|Carrie Fisher|Adam D...       J.J. Abrams      136   Action|Adventure|Science Fiction|Fantasy   2015-12-15         5292    3.75          2015  200000000  2068178225\n",
       "4  168259                     Furious 7  Vin Diesel|Paul Walker|Jason Statham|Michelle ...         James Wan      137                      Action|Crime|Thriller   2015-04-01         2947    3.65          2015  190000000  1506249360"
      ]
     },
     "execution_count": 14,
     "metadata": {},
     "output_type": "execute_result"
    }
   ],
   "source": [
    "df.head()"
   ]
  },
  {
   "cell_type": "markdown",
   "metadata": {
    "ExecuteTime": {
     "end_time": "2020-02-07T19:58:52.682698Z",
     "start_time": "2020-02-07T19:58:52.665750Z"
    }
   },
   "source": [
    "### Questions\n",
    "1. Which actor has the best average movie rating?\n",
    "2. Which director made the most movies?\n",
    "3. Is there a correlation betwen release date and revenue? Are there any periods especially beneficial for releasing a movie? (For example winter, when days are short and it's cold outside)\n",
    "4. Is there a correlation between the budget and revenue? (Intuitively, there should be a positive correlation)\n",
    "5. Is there a correlation between the revenue and the rating? (Theoretically, revenue means a lot of people saw the film -> a lot of people recommended the film -> the film is good)"
   ]
  },
  {
   "cell_type": "markdown",
   "metadata": {},
   "source": [
    "---"
   ]
  },
  {
   "cell_type": "markdown",
   "metadata": {},
   "source": [
    "## Part 3: EDA \n",
    "Before proceeding any further, get to know the dataset using a few \"global property\" visualizations, illustrating histograms or other visualizations. Do you find anything interesting or strange? Report it.\n",
    "\n",
    "\n",
    "[20 minutes]\n",
    "\n",
    "---"
   ]
  },
  {
   "cell_type": "markdown",
   "metadata": {},
   "source": [
    "Choose the numerical (quantitative) columns to generate some histograms."
   ]
  },
  {
   "cell_type": "code",
   "execution_count": 15,
   "metadata": {
    "ExecuteTime": {
     "end_time": "2020-02-15T12:15:57.622742Z",
     "start_time": "2020-02-15T12:15:57.607356Z"
    }
   },
   "outputs": [],
   "source": [
    "num_cols = ['runtime','users_voted','release_year','budget','revenue']"
   ]
  },
  {
   "cell_type": "code",
   "execution_count": 16,
   "metadata": {
    "ExecuteTime": {
     "end_time": "2020-02-15T12:15:57.836492Z",
     "start_time": "2020-02-15T12:15:57.623742Z"
    }
   },
   "outputs": [
    {
     "data": {
      "image/png": "[encoded data removed]",
      "text/plain": [
       "<Figure size 432x288 with 1 Axes>"
      ]
     },
     "metadata": {
      "needs_background": "light"
     },
     "output_type": "display_data"
    }
   ],
   "source": [
    "df.runtime.hist(bins=50)\n",
    "plt.xlabel('Runtime (in minutes)')\n",
    "plt.ylabel('Movies count')\n",
    "plt.title('Runtime histogram')\n",
    "plt.xlim((0,300))\n",
    "plt.show()"
   ]
  },
  {
   "cell_type": "markdown",
   "metadata": {},
   "source": [
    "We can see that the histogram is unimodal, skewed right. Most of the movies are between 1 and 3 hours long, which seems plausible."
   ]
  },
  {
   "cell_type": "code",
   "execution_count": 17,
   "metadata": {
    "ExecuteTime": {
     "end_time": "2020-02-15T12:15:58.059895Z",
     "start_time": "2020-02-15T12:15:57.838487Z"
    }
   },
   "outputs": [
    {
     "data": {
      "image/png": "[encoded data removed]",
      "text/plain": [
       "<Figure size 432x288 with 1 Axes>"
      ]
     },
     "metadata": {
      "needs_background": "light"
     },
     "output_type": "display_data"
    }
   ],
   "source": [
    "df.users_voted.hist(bins=50)\n",
    "plt.xlabel('Users\\' votes count')\n",
    "plt.ylabel('Movies count')\n",
    "plt.title('Users\\' votes histogram')\n",
    "plt.xlim((0,2000))\n",
    "plt.show()"
   ]
  },
  {
   "cell_type": "markdown",
   "metadata": {},
   "source": [
    "Seems that the majority of movies don't have any votes, the distribution is similar to exponential, but even steeper. Let's zoom in a bit more."
   ]
  },
  {
   "cell_type": "code",
   "execution_count": 18,
   "metadata": {
    "ExecuteTime": {
     "end_time": "2020-02-15T12:15:59.384380Z",
     "start_time": "2020-02-15T12:15:58.060893Z"
    }
   },
   "outputs": [
    {
     "data": {
      "image/png": "[encoded data removed]",
      "text/plain": [
       "<Figure size 432x288 with 1 Axes>"
      ]
     },
     "metadata": {
      "needs_background": "light"
     },
     "output_type": "display_data"
    }
   ],
   "source": [
    "df.users_voted.hist(bins=1000)\n",
    "plt.xlabel('Users\\' votes count')\n",
    "plt.ylabel('Movies count')\n",
    "plt.title('Users\\' votes histogram')\n",
    "plt.xlim((0,500))\n",
    "plt.show()"
   ]
  },
  {
   "cell_type": "code",
   "execution_count": 19,
   "metadata": {
    "ExecuteTime": {
     "end_time": "2020-02-15T12:15:59.391338Z",
     "start_time": "2020-02-15T12:15:59.385352Z"
    }
   },
   "outputs": [
    {
     "data": {
      "text/plain": [
       "3330"
      ]
     },
     "execution_count": 19,
     "metadata": {},
     "output_type": "execute_result"
    }
   ],
   "source": [
    "df[df.users_voted<20].shape[0]"
   ]
  },
  {
   "cell_type": "markdown",
   "metadata": {},
   "source": [
    "After having a closer look, we can see that every movie has some votes, but 3330 (about 1/3 of the whole dataset) of them has less than 20 votes"
   ]
  },
  {
   "cell_type": "code",
   "execution_count": 20,
   "metadata": {
    "ExecuteTime": {
     "end_time": "2020-02-15T12:15:59.918654Z",
     "start_time": "2020-02-15T12:15:59.392333Z"
    }
   },
   "outputs": [
    {
     "data": {
      "image/png": "[encoded data removed]",
      "text/plain": [
       "<Figure size 432x288 with 1 Axes>"
      ]
     },
     "metadata": {
      "needs_background": "light"
     },
     "output_type": "display_data"
    },
    {
     "data": {
      "image/png": "[encoded data removed]",
      "text/plain": [
       "<Figure size 432x288 with 1 Axes>"
      ]
     },
     "metadata": {
      "needs_background": "light"
     },
     "output_type": "display_data"
    },
    {
     "data": {
      "image/png": "[encoded data removed]",
      "text/plain": [
       "<Figure size 432x288 with 1 Axes>"
      ]
     },
     "metadata": {
      "needs_background": "light"
     },
     "output_type": "display_data"
    }
   ],
   "source": [
    "unique_years = df.release_year.nunique()\n",
    "for num_bins in [30,40,unique_years]:\n",
    "    df.release_year.hist(bins=num_bins)\n",
    "    plt.xlabel('Realese year')\n",
    "    plt.ylabel('Movies count')\n",
    "    plt.title('Release year histogram - {} bins'.format(num_bins))\n",
    "    plt.show()"
   ]
  },
  {
   "cell_type": "markdown",
   "metadata": {},
   "source": [
    "For `release year` the shape of the plot differs a lot depending on the selected bin size. First diagram has a few sudden drops. Conversely, on the second one we can observe multiple significant spikes and the last one in which there is one bin per year displays a much smoother distribution. Despite the differences, all plots render an increasing number of movies made over time. This does not necessarily mean that in general less movies were made in earlier years, because it might be that for newer movie it is easier to obtain the data and that is why they are better represented in the dataset."
   ]
  },
  {
   "cell_type": "code",
   "execution_count": 21,
   "metadata": {
    "ExecuteTime": {
     "end_time": "2020-02-15T12:15:59.923614Z",
     "start_time": "2020-02-15T12:15:59.919625Z"
    }
   },
   "outputs": [
    {
     "data": {
      "text/plain": [
       "(3833, 12)"
      ]
     },
     "execution_count": 21,
     "metadata": {},
     "output_type": "execute_result"
    }
   ],
   "source": [
    "df_filtered.shape"
   ]
  },
  {
   "cell_type": "code",
   "execution_count": 22,
   "metadata": {
    "ExecuteTime": {
     "end_time": "2020-02-15T12:16:00.172548Z",
     "start_time": "2020-02-15T12:15:59.924612Z"
    }
   },
   "outputs": [
    {
     "data": {
      "image/png": "[encoded data removed]",
      "text/plain": [
       "<Figure size 432x288 with 1 Axes>"
      ]
     },
     "metadata": {
      "needs_background": "light"
     },
     "output_type": "display_data"
    }
   ],
   "source": [
    "df_filtered.budget.hist(bins=100)\n",
    "plt.xlabel('Budget')\n",
    "plt.ylabel('Movies count')\n",
    "plt.title('Budget histogram')\n",
    "plt.show()"
   ]
  },
  {
   "cell_type": "markdown",
   "metadata": {
    "ExecuteTime": {
     "end_time": "2020-02-09T18:38:45.197844Z",
     "start_time": "2020-02-09T18:38:45.191861Z"
    }
   },
   "source": [
    "Of course, the movie count decreases as the budget increases."
   ]
  },
  {
   "cell_type": "code",
   "execution_count": 23,
   "metadata": {
    "ExecuteTime": {
     "end_time": "2020-02-15T12:16:00.480690Z",
     "start_time": "2020-02-15T12:16:00.175507Z"
    }
   },
   "outputs": [
    {
     "data": {
      "image/png": "[encoded data removed]",
      "text/plain": [
       "<Figure size 432x288 with 1 Axes>"
      ]
     },
     "metadata": {
      "needs_background": "light"
     },
     "output_type": "display_data"
    }
   ],
   "source": [
    "df_filtered.revenue.hist(bins=100)\n",
    "plt.xlabel('Revenue')\n",
    "plt.ylabel('Movies count')\n",
    "plt.title('Revenue histogram')\n",
    "# plt.ylim((0,1000))\n",
    "plt.show()"
   ]
  },
  {
   "cell_type": "markdown",
   "metadata": {},
   "source": [
    "## Part 4: Basic associations\n",
    "\n",
    "After we have inspected the individual values, it's time to start checking combinations of events, e.g. does the rating correlate with the budget or the revenue? Does the budget correlate with revenue? Analyze what your findings mean\n",
    "\n",
    "[20 minutes]\n",
    "\n",
    "---"
   ]
  },
  {
   "cell_type": "markdown",
   "metadata": {},
   "source": [
    "Especially for big datasets when inspecting correlations with scatterplots, it's important to increase transparency of ticks with the alpha parameter. This is a common practice for data visualization in many Kaggle competitions. Otherwise, ticks are overlapping each other and it's really difficult to read anything from the plots."
   ]
  },
  {
   "cell_type": "code",
   "execution_count": 24,
   "metadata": {
    "ExecuteTime": {
     "end_time": "2020-02-15T12:16:08.024930Z",
     "start_time": "2020-02-15T12:16:00.482369Z"
    }
   },
   "outputs": [
    {
     "data": {
      "text/plain": [
       "<seaborn.axisgrid.PairGrid at 0x2937c70d588>"
      ]
     },
     "execution_count": 24,
     "metadata": {},
     "output_type": "execute_result"
    },
    {
     "data": {
      "image/png": "[encoded data removed]",
      "text/plain": [
       "<Figure size 900x900 with 30 Axes>"
      ]
     },
     "metadata": {},
     "output_type": "display_data"
    }
   ],
   "source": [
    "sns.set()\n",
    "g = sns.PairGrid(df, vars=num_cols)\n",
    "g.map_diag(sns.distplot)\n",
    "g.map_offdiag(plt.scatter, s=15,alpha=0.1)"
   ]
  },
  {
   "cell_type": "code",
   "execution_count": 25,
   "metadata": {
    "ExecuteTime": {
     "end_time": "2020-02-15T12:16:08.441165Z",
     "start_time": "2020-02-15T12:16:08.025928Z"
    }
   },
   "outputs": [
    {
     "data": {
      "image/png": "[encoded data removed]",
      "text/plain": [
       "<Figure size 1080x864 with 2 Axes>"
      ]
     },
     "metadata": {},
     "output_type": "display_data"
    }
   ],
   "source": [
    "f, ax = plt.subplots(figsize= [15,12])\n",
    "sns.heatmap(df_filtered.corr(), annot=True, fmt=\".2f\", ax=ax, \n",
    "            cbar_kws={'label': 'Correlation Coefficient'}, cmap='viridis')\n",
    "ax.set_title(\"Correlation Matrix\", fontsize=15)\n",
    "plt.show()"
   ]
  },
  {
   "cell_type": "markdown",
   "metadata": {},
   "source": [
    "A correlation heatmap is more informative. Here we can clearly see that there is a strong positive correlation between budget, revenue and users_voted. This is not surprising. The more money was invested into a film, the more the movie should earn to make a profit. Similarly the higher the budget, the better promotion, thus more viewers and thus more votes. Apart from that, there are no strong correlations. Interestingly enough, there is a small correlation of 0.25 between users_voted and rating, which may lead to a conclusion that popularity doesn't always go together with positive reception of the audience.<br><br>\n",
    "Here I am using `df` instead of `df_filtered` because a correlation based on 10k examples is much more reliable than on 4k examples. The only precaution we need to bear in mind is that correlations between revenue (and budget) and other variables are a bit biased. However, after plotting a heatmap for `df_filtered` I checked that the differences beetween them are not signficant."
   ]
  },
  {
   "cell_type": "markdown",
   "metadata": {
    "ExecuteTime": {
     "end_time": "2020-02-13T11:45:37.247921Z",
     "start_time": "2020-02-13T11:45:37.231921Z"
    }
   },
   "source": [
    "Let's make a table with sorted correlations, to make sure we didn't overlook anything. It's important to pay close attention both to the top (strongest positive correlations) and to the bottom (strongest negative correlations) of the table. In this dataset, there are no strong negative correlations."
   ]
  },
  {
   "cell_type": "code",
   "execution_count": 26,
   "metadata": {
    "ExecuteTime": {
     "end_time": "2020-02-15T12:16:08.489036Z",
     "start_time": "2020-02-15T12:16:08.442136Z"
    },
    "scrolled": true
   },
   "outputs": [
    {
     "data": {
      "text/html": [
       "<div>\n",
       "<style scoped>\n",
       "    .dataframe tbody tr th:only-of-type {\n",
       "        vertical-align: middle;\n",
       "    }\n",
       "\n",
       "    .dataframe tbody tr th {\n",
       "        vertical-align: top;\n",
       "    }\n",
       "\n",
       "    .dataframe thead th {\n",
       "        text-align: right;\n",
       "    }\n",
       "</style>\n",
       "<table border=\"1\" class=\"dataframe\">\n",
       "  <thead>\n",
       "    <tr style=\"text-align: right;\">\n",
       "      <th></th>\n",
       "      <th>col1</th>\n",
       "      <th>col2</th>\n",
       "      <th>corr</th>\n",
       "    </tr>\n",
       "  </thead>\n",
       "  <tbody>\n",
       "    <tr>\n",
       "      <th>17</th>\n",
       "      <td>revenue</td>\n",
       "      <td>users_voted</td>\n",
       "      <td>0.791175</td>\n",
       "    </tr>\n",
       "    <tr>\n",
       "      <th>20</th>\n",
       "      <td>revenue</td>\n",
       "      <td>budget</td>\n",
       "      <td>0.734901</td>\n",
       "    </tr>\n",
       "    <tr>\n",
       "      <th>12</th>\n",
       "      <td>budget</td>\n",
       "      <td>users_voted</td>\n",
       "      <td>0.632702</td>\n",
       "    </tr>\n",
       "    <tr>\n",
       "      <th>6</th>\n",
       "      <td>release_year</td>\n",
       "      <td>id</td>\n",
       "      <td>0.511364</td>\n",
       "    </tr>\n",
       "    <tr>\n",
       "      <th>5</th>\n",
       "      <td>rating</td>\n",
       "      <td>users_voted</td>\n",
       "      <td>0.253795</td>\n",
       "    </tr>\n",
       "    <tr>\n",
       "      <th>11</th>\n",
       "      <td>budget</td>\n",
       "      <td>runtime</td>\n",
       "      <td>0.191283</td>\n",
       "    </tr>\n",
       "    <tr>\n",
       "      <th>18</th>\n",
       "      <td>revenue</td>\n",
       "      <td>rating</td>\n",
       "      <td>0.172538</td>\n",
       "    </tr>\n",
       "    <tr>\n",
       "      <th>2</th>\n",
       "      <td>users_voted</td>\n",
       "      <td>runtime</td>\n",
       "      <td>0.163278</td>\n",
       "    </tr>\n",
       "    <tr>\n",
       "      <th>16</th>\n",
       "      <td>revenue</td>\n",
       "      <td>runtime</td>\n",
       "      <td>0.162838</td>\n",
       "    </tr>\n",
       "    <tr>\n",
       "      <th>4</th>\n",
       "      <td>rating</td>\n",
       "      <td>runtime</td>\n",
       "      <td>0.156745</td>\n",
       "    </tr>\n",
       "    <tr>\n",
       "      <th>14</th>\n",
       "      <td>budget</td>\n",
       "      <td>release_year</td>\n",
       "      <td>0.115931</td>\n",
       "    </tr>\n",
       "    <tr>\n",
       "      <th>8</th>\n",
       "      <td>release_year</td>\n",
       "      <td>users_voted</td>\n",
       "      <td>0.107948</td>\n",
       "    </tr>\n",
       "    <tr>\n",
       "      <th>13</th>\n",
       "      <td>budget</td>\n",
       "      <td>rating</td>\n",
       "      <td>0.080938</td>\n",
       "    </tr>\n",
       "    <tr>\n",
       "      <th>19</th>\n",
       "      <td>revenue</td>\n",
       "      <td>release_year</td>\n",
       "      <td>0.057048</td>\n",
       "    </tr>\n",
       "    <tr>\n",
       "      <th>1</th>\n",
       "      <td>users_voted</td>\n",
       "      <td>id</td>\n",
       "      <td>-0.035551</td>\n",
       "    </tr>\n",
       "    <tr>\n",
       "      <th>3</th>\n",
       "      <td>rating</td>\n",
       "      <td>id</td>\n",
       "      <td>-0.058534</td>\n",
       "    </tr>\n",
       "    <tr>\n",
       "      <th>0</th>\n",
       "      <td>runtime</td>\n",
       "      <td>id</td>\n",
       "      <td>-0.088360</td>\n",
       "    </tr>\n",
       "    <tr>\n",
       "      <th>15</th>\n",
       "      <td>revenue</td>\n",
       "      <td>id</td>\n",
       "      <td>-0.099227</td>\n",
       "    </tr>\n",
       "    <tr>\n",
       "      <th>7</th>\n",
       "      <td>release_year</td>\n",
       "      <td>runtime</td>\n",
       "      <td>-0.117204</td>\n",
       "    </tr>\n",
       "    <tr>\n",
       "      <th>9</th>\n",
       "      <td>release_year</td>\n",
       "      <td>rating</td>\n",
       "      <td>-0.117798</td>\n",
       "    </tr>\n",
       "    <tr>\n",
       "      <th>10</th>\n",
       "      <td>budget</td>\n",
       "      <td>id</td>\n",
       "      <td>-0.141351</td>\n",
       "    </tr>\n",
       "  </tbody>\n",
       "</table>\n",
       "</div>"
      ],
      "text/plain": [
       "            col1          col2      corr\n",
       "17       revenue   users_voted  0.791175\n",
       "20       revenue        budget  0.734901\n",
       "12        budget   users_voted  0.632702\n",
       "6   release_year            id  0.511364\n",
       "5         rating   users_voted  0.253795\n",
       "11        budget       runtime  0.191283\n",
       "18       revenue        rating  0.172538\n",
       "2    users_voted       runtime  0.163278\n",
       "16       revenue       runtime  0.162838\n",
       "4         rating       runtime  0.156745\n",
       "14        budget  release_year  0.115931\n",
       "8   release_year   users_voted  0.107948\n",
       "13        budget        rating  0.080938\n",
       "19       revenue  release_year  0.057048\n",
       "1    users_voted            id -0.035551\n",
       "3         rating            id -0.058534\n",
       "0        runtime            id -0.088360\n",
       "15       revenue            id -0.099227\n",
       "7   release_year       runtime -0.117204\n",
       "9   release_year        rating -0.117798\n",
       "10        budget            id -0.141351"
      ]
     },
     "execution_count": 26,
     "metadata": {},
     "output_type": "execute_result"
    }
   ],
   "source": [
    "cols = df.corr().columns\n",
    "corrs = {'col1':[],'col2':[],'corr':[]}\n",
    "for i in range(len(cols)):\n",
    "    for j in range(len(cols)):\n",
    "#         It's a symmetric matrix which leads to repeated values. We can avoid the duplicated using the following if statement\n",
    "        if i>j:\n",
    "            corrs['col1'].append(cols[i])\n",
    "            corrs['col2'].append(cols[j])\n",
    "            corrs['corr'].append(df.corr().iat[i,j])\n",
    "        \n",
    "corrs = pd.DataFrame.from_dict(corrs).sort_values(by='corr',ascending=False)\n",
    "corrs"
   ]
  },
  {
   "cell_type": "code",
   "execution_count": 27,
   "metadata": {
    "ExecuteTime": {
     "end_time": "2020-02-15T12:16:08.494029Z",
     "start_time": "2020-02-15T12:16:08.490009Z"
    }
   },
   "outputs": [
    {
     "data": {
      "text/plain": [
       "Index(['id', 'title', 'cast', 'director', 'runtime', 'genres', 'release_date', 'users_voted', 'rating', 'release_year', 'budget', 'revenue'], dtype='object')"
      ]
     },
     "execution_count": 27,
     "metadata": {},
     "output_type": "execute_result"
    }
   ],
   "source": [
    "df.columns"
   ]
  },
  {
   "cell_type": "markdown",
   "metadata": {},
   "source": [
    "\n",
    "## Part 5:  Determining the Most Successful Movies \n",
    "\n",
    "Roughly speaking, we can say that `rating` is a proxy for quality of a movie and profit (`revenue`-`budget`) indicates popularity and financial success. Thus a natural choice would be to combine these two. However, a profit of 200 thousand euros is an incredible success for some indie movie with a budget of 20 thousand euros, but quite a disappointment for a blockbuster with a few million dollars budget. This is why instead of a difference, it is smarter to use a quotient (revenue divided by budget). <br>\n",
    "\n",
    "To compare different approaches we will try multiple methods of calculating success. Unfortunately, for this analysis we need to discard movies with missing values in revenue and budget.\n",
    "\n",
    "---"
   ]
  },
  {
   "cell_type": "markdown",
   "metadata": {},
   "source": [
    "For example, we can determine the \"best successful\" movie by year! Determine the best movie in each year."
   ]
  },
  {
   "cell_type": "code",
   "execution_count": 28,
   "metadata": {
    "ExecuteTime": {
     "end_time": "2020-02-15T12:16:08.620118Z",
     "start_time": "2020-02-15T12:16:08.494996Z"
    }
   },
   "outputs": [
    {
     "name": "stderr",
     "output_type": "stream",
     "text": [
      "D:\\Blazej\\Programs\\Anaconda\\lib\\site-packages\\ipykernel_launcher.py:1: SettingWithCopyWarning: \n",
      "A value is trying to be set on a copy of a slice from a DataFrame.\n",
      "Try using .loc[row_indexer,col_indexer] = value instead\n",
      "\n",
      "See the caveats in the documentation: http://pandas.pydata.org/pandas-docs/stable/indexing.html#indexing-view-versus-copy\n",
      "  \"\"\"Entry point for launching an IPython kernel.\n",
      "D:\\Blazej\\Programs\\Anaconda\\lib\\site-packages\\ipykernel_launcher.py:2: SettingWithCopyWarning: \n",
      "A value is trying to be set on a copy of a slice from a DataFrame.\n",
      "Try using .loc[row_indexer,col_indexer] = value instead\n",
      "\n",
      "See the caveats in the documentation: http://pandas.pydata.org/pandas-docs/stable/indexing.html#indexing-view-versus-copy\n",
      "  \n",
      "D:\\Blazej\\Programs\\Anaconda\\lib\\site-packages\\ipykernel_launcher.py:3: SettingWithCopyWarning: \n",
      "A value is trying to be set on a copy of a slice from a DataFrame.\n",
      "Try using .loc[row_indexer,col_indexer] = value instead\n",
      "\n",
      "See the caveats in the documentation: http://pandas.pydata.org/pandas-docs/stable/indexing.html#indexing-view-versus-copy\n",
      "  This is separate from the ipykernel package so we can avoid doing imports until\n"
     ]
    }
   ],
   "source": [
    "df_filtered['income'] = df_filtered.revenue-df_filtered.budget\n",
    "df_filtered['relative_income'] = df_filtered.revenue/df_filtered.budget\n",
    "df_filtered['relative_income*rating'] = df_filtered['relative_income']*df_filtered['rating']"
   ]
  },
  {
   "cell_type": "code",
   "execution_count": 29,
   "metadata": {
    "ExecuteTime": {
     "end_time": "2020-02-15T12:16:08.698925Z",
     "start_time": "2020-02-15T12:16:08.621084Z"
    }
   },
   "outputs": [],
   "source": [
    "#Using .groupby, we can divide the dataframe into subsets by the values of 'year'.\n",
    "#We can then iterate over these subsets\n",
    "best_movies = {\"year\":[],\"#movies\":[],\"rating\":[],\"income\":[],\"relative_income\":[],\"relative_income*rating\":[]}\n",
    "for year, year_df in df_filtered.groupby('release_year'):\n",
    "    for key in best_movies:\n",
    "        if key==\"year\":\n",
    "            best_movies[key].append(year)\n",
    "        elif key==\"#movies\":\n",
    "            best_movies[key].append(df_filtered.release_year.value_counts()[year])\n",
    "        else:\n",
    "            best_movie_index = year_df[key].idxmax()\n",
    "            best_movie_title = year_df.at[best_movie_index,\"title\"]\n",
    "            best_movies[key].append(best_movie_title)\n",
    "\n",
    "best_movies = pd.DataFrame.from_dict(best_movies)"
   ]
  },
  {
   "cell_type": "code",
   "execution_count": 30,
   "metadata": {
    "ExecuteTime": {
     "end_time": "2020-02-15T12:16:08.713836Z",
     "start_time": "2020-02-15T12:16:08.699873Z"
    }
   },
   "outputs": [
    {
     "data": {
      "text/html": [
       "<div>\n",
       "<style scoped>\n",
       "    .dataframe tbody tr th:only-of-type {\n",
       "        vertical-align: middle;\n",
       "    }\n",
       "\n",
       "    .dataframe tbody tr th {\n",
       "        vertical-align: top;\n",
       "    }\n",
       "\n",
       "    .dataframe thead th {\n",
       "        text-align: right;\n",
       "    }\n",
       "</style>\n",
       "<table border=\"1\" class=\"dataframe\">\n",
       "  <thead>\n",
       "    <tr style=\"text-align: right;\">\n",
       "      <th></th>\n",
       "      <th>year</th>\n",
       "      <th>#movies</th>\n",
       "      <th>rating</th>\n",
       "      <th>income</th>\n",
       "      <th>relative_income</th>\n",
       "      <th>relative_income*rating</th>\n",
       "    </tr>\n",
       "  </thead>\n",
       "  <tbody>\n",
       "    <tr>\n",
       "      <th>0</th>\n",
       "      <td>1960</td>\n",
       "      <td>5</td>\n",
       "      <td>Psycho</td>\n",
       "      <td>Spartacus</td>\n",
       "      <td>Psycho</td>\n",
       "      <td>Psycho</td>\n",
       "    </tr>\n",
       "    <tr>\n",
       "      <th>1</th>\n",
       "      <td>1961</td>\n",
       "      <td>10</td>\n",
       "      <td>One, Two, Three</td>\n",
       "      <td>One Hundred and One Dalmatians</td>\n",
       "      <td>One Hundred and One Dalmatians</td>\n",
       "      <td>One Hundred and One Dalmatians</td>\n",
       "    </tr>\n",
       "    <tr>\n",
       "      <th>2</th>\n",
       "      <td>1962</td>\n",
       "      <td>7</td>\n",
       "      <td>To Kill a Mockingbird</td>\n",
       "      <td>Dr. No</td>\n",
       "      <td>Dr. No</td>\n",
       "      <td>Dr. No</td>\n",
       "    </tr>\n",
       "    <tr>\n",
       "      <th>3</th>\n",
       "      <td>1963</td>\n",
       "      <td>6</td>\n",
       "      <td>Charade</td>\n",
       "      <td>From Russia With Love</td>\n",
       "      <td>From Russia With Love</td>\n",
       "      <td>From Russia With Love</td>\n",
       "    </tr>\n",
       "    <tr>\n",
       "      <th>4</th>\n",
       "      <td>1964</td>\n",
       "      <td>7</td>\n",
       "      <td>Dr. Strangelove or: How I Learned to Stop Worr...</td>\n",
       "      <td>Goldfinger</td>\n",
       "      <td>Goldfinger</td>\n",
       "      <td>Goldfinger</td>\n",
       "    </tr>\n",
       "    <tr>\n",
       "      <th>5</th>\n",
       "      <td>1965</td>\n",
       "      <td>5</td>\n",
       "      <td>The Sound of Music</td>\n",
       "      <td>The Sound of Music</td>\n",
       "      <td>The Sound of Music</td>\n",
       "      <td>The Sound of Music</td>\n",
       "    </tr>\n",
       "    <tr>\n",
       "      <th>6</th>\n",
       "      <td>1966</td>\n",
       "      <td>5</td>\n",
       "      <td>Who's Afraid of Virginia Woolf?</td>\n",
       "      <td>Who's Afraid of Virginia Woolf?</td>\n",
       "      <td>Who's Afraid of Virginia Woolf?</td>\n",
       "      <td>Who's Afraid of Virginia Woolf?</td>\n",
       "    </tr>\n",
       "    <tr>\n",
       "      <th>7</th>\n",
       "      <td>1967</td>\n",
       "      <td>13</td>\n",
       "      <td>Bonnie and Clyde</td>\n",
       "      <td>The Jungle Book</td>\n",
       "      <td>The Jungle Book</td>\n",
       "      <td>The Jungle Book</td>\n",
       "    </tr>\n",
       "    <tr>\n",
       "      <th>8</th>\n",
       "      <td>1968</td>\n",
       "      <td>9</td>\n",
       "      <td>2001: A Space Odyssey</td>\n",
       "      <td>2001: A Space Odyssey</td>\n",
       "      <td>Rosemary's Baby</td>\n",
       "      <td>Rosemary's Baby</td>\n",
       "    </tr>\n",
       "    <tr>\n",
       "      <th>9</th>\n",
       "      <td>1969</td>\n",
       "      <td>4</td>\n",
       "      <td>The Wild Bunch</td>\n",
       "      <td>Butch Cassidy and the Sundance Kid</td>\n",
       "      <td>Butch Cassidy and the Sundance Kid</td>\n",
       "      <td>Butch Cassidy and the Sundance Kid</td>\n",
       "    </tr>\n",
       "    <tr>\n",
       "      <th>10</th>\n",
       "      <td>1970</td>\n",
       "      <td>11</td>\n",
       "      <td>The Ballad of Cable Hogue</td>\n",
       "      <td>Love Story</td>\n",
       "      <td>Love Story</td>\n",
       "      <td>Love Story</td>\n",
       "    </tr>\n",
       "    <tr>\n",
       "      <th>11</th>\n",
       "      <td>1971</td>\n",
       "      <td>13</td>\n",
       "      <td>A Clockwork Orange</td>\n",
       "      <td>Diamonds Are Forever</td>\n",
       "      <td>Vanishing Point</td>\n",
       "      <td>Vanishing Point</td>\n",
       "    </tr>\n",
       "    <tr>\n",
       "      <th>12</th>\n",
       "      <td>1972</td>\n",
       "      <td>8</td>\n",
       "      <td>The Godfather</td>\n",
       "      <td>The Godfather</td>\n",
       "      <td>Pink Flamingos</td>\n",
       "      <td>Pink Flamingos</td>\n",
       "    </tr>\n",
       "    <tr>\n",
       "      <th>13</th>\n",
       "      <td>1973</td>\n",
       "      <td>12</td>\n",
       "      <td>The Sting</td>\n",
       "      <td>The Exorcist</td>\n",
       "      <td>American Graffiti</td>\n",
       "      <td>American Graffiti</td>\n",
       "    </tr>\n",
       "    <tr>\n",
       "      <th>14</th>\n",
       "      <td>1974</td>\n",
       "      <td>13</td>\n",
       "      <td>The Godfather: Part II</td>\n",
       "      <td>Blazing Saddles</td>\n",
       "      <td>The Texas Chain Saw Massacre</td>\n",
       "      <td>The Texas Chain Saw Massacre</td>\n",
       "    </tr>\n",
       "    <tr>\n",
       "      <th>15</th>\n",
       "      <td>1975</td>\n",
       "      <td>9</td>\n",
       "      <td>One Flew Over the Cuckoo's Nest</td>\n",
       "      <td>Jaws</td>\n",
       "      <td>The Rocky Horror Picture Show</td>\n",
       "      <td>The Rocky Horror Picture Show</td>\n",
       "    </tr>\n",
       "    <tr>\n",
       "      <th>16</th>\n",
       "      <td>1976</td>\n",
       "      <td>15</td>\n",
       "      <td>Taxi Driver</td>\n",
       "      <td>A Star Is Born</td>\n",
       "      <td>Rocky</td>\n",
       "      <td>Rocky</td>\n",
       "    </tr>\n",
       "    <tr>\n",
       "      <th>17</th>\n",
       "      <td>1977</td>\n",
       "      <td>19</td>\n",
       "      <td>Star Wars</td>\n",
       "      <td>Star Wars</td>\n",
       "      <td>Eraserhead</td>\n",
       "      <td>Eraserhead</td>\n",
       "    </tr>\n",
       "    <tr>\n",
       "      <th>18</th>\n",
       "      <td>1978</td>\n",
       "      <td>16</td>\n",
       "      <td>Midnight Express</td>\n",
       "      <td>Superman</td>\n",
       "      <td>Halloween</td>\n",
       "      <td>Halloween</td>\n",
       "    </tr>\n",
       "    <tr>\n",
       "      <th>19</th>\n",
       "      <td>1979</td>\n",
       "      <td>16</td>\n",
       "      <td>Apocalypse Now</td>\n",
       "      <td>Rocky II</td>\n",
       "      <td>Mad Max</td>\n",
       "      <td>Mad Max</td>\n",
       "    </tr>\n",
       "    <tr>\n",
       "      <th>20</th>\n",
       "      <td>1980</td>\n",
       "      <td>23</td>\n",
       "      <td>The Empire Strikes Back</td>\n",
       "      <td>The Empire Strikes Back</td>\n",
       "      <td>Friday the 13th</td>\n",
       "      <td>Friday the 13th</td>\n",
       "    </tr>\n",
       "    <tr>\n",
       "      <th>21</th>\n",
       "      <td>1981</td>\n",
       "      <td>30</td>\n",
       "      <td>Raiders of the Lost Ark</td>\n",
       "      <td>Raiders of the Lost Ark</td>\n",
       "      <td>The Evil Dead</td>\n",
       "      <td>The Evil Dead</td>\n",
       "    </tr>\n",
       "    <tr>\n",
       "      <th>22</th>\n",
       "      <td>1982</td>\n",
       "      <td>25</td>\n",
       "      <td>Blade Runner</td>\n",
       "      <td>E.T. the Extra-Terrestrial</td>\n",
       "      <td>48 Hrs.</td>\n",
       "      <td>E.T. the Extra-Terrestrial</td>\n",
       "    </tr>\n",
       "    <tr>\n",
       "      <th>23</th>\n",
       "      <td>1983</td>\n",
       "      <td>31</td>\n",
       "      <td>Return of the Jedi</td>\n",
       "      <td>Return of the Jedi</td>\n",
       "      <td>The House on Sorority Row</td>\n",
       "      <td>Flashdance</td>\n",
       "    </tr>\n",
       "    <tr>\n",
       "      <th>24</th>\n",
       "      <td>1984</td>\n",
       "      <td>42</td>\n",
       "      <td>Stop Making Sense</td>\n",
       "      <td>Indiana Jones and the Temple of Doom</td>\n",
       "      <td>Ghoulies</td>\n",
       "      <td>Beverly Hills Cop</td>\n",
       "    </tr>\n",
       "    <tr>\n",
       "      <th>25</th>\n",
       "      <td>1985</td>\n",
       "      <td>40</td>\n",
       "      <td>Back to the Future</td>\n",
       "      <td>Back to the Future</td>\n",
       "      <td>The Breakfast Club</td>\n",
       "      <td>The Breakfast Club</td>\n",
       "    </tr>\n",
       "    <tr>\n",
       "      <th>26</th>\n",
       "      <td>1986</td>\n",
       "      <td>47</td>\n",
       "      <td>Aliens</td>\n",
       "      <td>Top Gun</td>\n",
       "      <td>Crocodile Dundee</td>\n",
       "      <td>Crocodile Dundee</td>\n",
       "    </tr>\n",
       "    <tr>\n",
       "      <th>27</th>\n",
       "      <td>1987</td>\n",
       "      <td>46</td>\n",
       "      <td>Full Metal Jacket</td>\n",
       "      <td>Fatal Attraction</td>\n",
       "      <td>Dirty Dancing</td>\n",
       "      <td>Dirty Dancing</td>\n",
       "    </tr>\n",
       "    <tr>\n",
       "      <th>28</th>\n",
       "      <td>1988</td>\n",
       "      <td>57</td>\n",
       "      <td>Rain Man</td>\n",
       "      <td>Rain Man</td>\n",
       "      <td>Twins</td>\n",
       "      <td>Rain Man</td>\n",
       "    </tr>\n",
       "    <tr>\n",
       "      <th>29</th>\n",
       "      <td>1989</td>\n",
       "      <td>51</td>\n",
       "      <td>Dead Poets Society</td>\n",
       "      <td>Indiana Jones and the Last Crusade</td>\n",
       "      <td>Look Who's Talking</td>\n",
       "      <td>Look Who's Talking</td>\n",
       "    </tr>\n",
       "    <tr>\n",
       "      <th>30</th>\n",
       "      <td>1990</td>\n",
       "      <td>51</td>\n",
       "      <td>Goodfellas</td>\n",
       "      <td>Ghost</td>\n",
       "      <td>Pretty Woman</td>\n",
       "      <td>Pretty Woman</td>\n",
       "    </tr>\n",
       "    <tr>\n",
       "      <th>31</th>\n",
       "      <td>1991</td>\n",
       "      <td>50</td>\n",
       "      <td>The Silence of the Lambs</td>\n",
       "      <td>Terminator 2: Judgment Day</td>\n",
       "      <td>Beauty and the Beast</td>\n",
       "      <td>The Silence of the Lambs</td>\n",
       "    </tr>\n",
       "    <tr>\n",
       "      <th>32</th>\n",
       "      <td>1992</td>\n",
       "      <td>53</td>\n",
       "      <td>Reservoir Dogs</td>\n",
       "      <td>Aladdin</td>\n",
       "      <td>Home Alone 2: Lost In New York</td>\n",
       "      <td>Aladdin</td>\n",
       "    </tr>\n",
       "    <tr>\n",
       "      <th>33</th>\n",
       "      <td>1993</td>\n",
       "      <td>70</td>\n",
       "      <td>Schindler's List</td>\n",
       "      <td>Jurassic Park</td>\n",
       "      <td>Mrs. Doubtfire</td>\n",
       "      <td>Mrs. Doubtfire</td>\n",
       "    </tr>\n",
       "    <tr>\n",
       "      <th>34</th>\n",
       "      <td>1994</td>\n",
       "      <td>62</td>\n",
       "      <td>The Shawshank Redemption</td>\n",
       "      <td>The Lion King</td>\n",
       "      <td>Clerks</td>\n",
       "      <td>Clerks</td>\n",
       "    </tr>\n",
       "    <tr>\n",
       "      <th>35</th>\n",
       "      <td>1995</td>\n",
       "      <td>79</td>\n",
       "      <td>The Usual Suspects</td>\n",
       "      <td>The Net</td>\n",
       "      <td>The Net</td>\n",
       "      <td>The Net</td>\n",
       "    </tr>\n",
       "    <tr>\n",
       "      <th>36</th>\n",
       "      <td>1996</td>\n",
       "      <td>86</td>\n",
       "      <td>Trainspotting</td>\n",
       "      <td>Independence Day</td>\n",
       "      <td>Sling Blade</td>\n",
       "      <td>Sling Blade</td>\n",
       "    </tr>\n",
       "    <tr>\n",
       "      <th>37</th>\n",
       "      <td>1997</td>\n",
       "      <td>90</td>\n",
       "      <td>Good Will Hunting</td>\n",
       "      <td>Titanic</td>\n",
       "      <td>The Full Monty</td>\n",
       "      <td>The Full Monty</td>\n",
       "    </tr>\n",
       "    <tr>\n",
       "      <th>38</th>\n",
       "      <td>1998</td>\n",
       "      <td>92</td>\n",
       "      <td>American History X</td>\n",
       "      <td>Armageddon</td>\n",
       "      <td>Pi</td>\n",
       "      <td>Pi</td>\n",
       "    </tr>\n",
       "    <tr>\n",
       "      <th>39</th>\n",
       "      <td>1999</td>\n",
       "      <td>114</td>\n",
       "      <td>Fight Club</td>\n",
       "      <td>Star Wars: Episode I - The Phantom Menace</td>\n",
       "      <td>The Blair Witch Project</td>\n",
       "      <td>The Blair Witch Project</td>\n",
       "    </tr>\n",
       "    <tr>\n",
       "      <th>40</th>\n",
       "      <td>2000</td>\n",
       "      <td>106</td>\n",
       "      <td>Memento</td>\n",
       "      <td>Mission: Impossible II</td>\n",
       "      <td>Billy Elliot</td>\n",
       "      <td>Billy Elliot</td>\n",
       "    </tr>\n",
       "    <tr>\n",
       "      <th>41</th>\n",
       "      <td>2001</td>\n",
       "      <td>121</td>\n",
       "      <td>The Lord of the Rings: The Fellowship of the Ring</td>\n",
       "      <td>Harry Potter and the Philosopher's Stone</td>\n",
       "      <td>Lovely &amp; Amazing</td>\n",
       "      <td>Lovely &amp; Amazing</td>\n",
       "    </tr>\n",
       "    <tr>\n",
       "      <th>42</th>\n",
       "      <td>2002</td>\n",
       "      <td>126</td>\n",
       "      <td>The Pianist</td>\n",
       "      <td>The Lord of the Rings: The Two Towers</td>\n",
       "      <td>My Big Fat Greek Wedding</td>\n",
       "      <td>My Big Fat Greek Wedding</td>\n",
       "    </tr>\n",
       "    <tr>\n",
       "      <th>43</th>\n",
       "      <td>2003</td>\n",
       "      <td>120</td>\n",
       "      <td>The Lord of the Rings: The Return of the King</td>\n",
       "      <td>The Lord of the Rings: The Return of the King</td>\n",
       "      <td>Lost in Translation</td>\n",
       "      <td>Lost in Translation</td>\n",
       "    </tr>\n",
       "    <tr>\n",
       "      <th>44</th>\n",
       "      <td>2004</td>\n",
       "      <td>147</td>\n",
       "      <td>Eternal Sunshine of the Spotless Mind</td>\n",
       "      <td>Shrek 2</td>\n",
       "      <td>Super Size Me</td>\n",
       "      <td>Super Size Me</td>\n",
       "    </tr>\n",
       "    <tr>\n",
       "      <th>45</th>\n",
       "      <td>2005</td>\n",
       "      <td>163</td>\n",
       "      <td>V for Vendetta</td>\n",
       "      <td>Harry Potter and the Goblet of Fire</td>\n",
       "      <td>Keeping Mum</td>\n",
       "      <td>Keeping Mum</td>\n",
       "    </tr>\n",
       "    <tr>\n",
       "      <th>46</th>\n",
       "      <td>2006</td>\n",
       "      <td>169</td>\n",
       "      <td>The Prestige</td>\n",
       "      <td>Pirates of the Caribbean: Dead Man's Chest</td>\n",
       "      <td>Facing the Giants</td>\n",
       "      <td>Facing the Giants</td>\n",
       "    </tr>\n",
       "    <tr>\n",
       "      <th>47</th>\n",
       "      <td>2007</td>\n",
       "      <td>165</td>\n",
       "      <td>There Will Be Blood</td>\n",
       "      <td>Harry Potter and the Order of the Phoenix</td>\n",
       "      <td>Paranormal Activity</td>\n",
       "      <td>Paranormal Activity</td>\n",
       "    </tr>\n",
       "    <tr>\n",
       "      <th>48</th>\n",
       "      <td>2008</td>\n",
       "      <td>167</td>\n",
       "      <td>The Dark Knight</td>\n",
       "      <td>The Dark Knight</td>\n",
       "      <td>Fireproof</td>\n",
       "      <td>Fireproof</td>\n",
       "    </tr>\n",
       "    <tr>\n",
       "      <th>49</th>\n",
       "      <td>2009</td>\n",
       "      <td>173</td>\n",
       "      <td>Mr. Nobody</td>\n",
       "      <td>Avatar</td>\n",
       "      <td>The Twilight Saga: New Moon</td>\n",
       "      <td>The Hangover</td>\n",
       "    </tr>\n",
       "    <tr>\n",
       "      <th>50</th>\n",
       "      <td>2010</td>\n",
       "      <td>178</td>\n",
       "      <td>Inception</td>\n",
       "      <td>Toy Story 3</td>\n",
       "      <td>Catfish</td>\n",
       "      <td>Catfish</td>\n",
       "    </tr>\n",
       "    <tr>\n",
       "      <th>51</th>\n",
       "      <td>2011</td>\n",
       "      <td>196</td>\n",
       "      <td>Louis C.K.: Live at the Beacon Theater</td>\n",
       "      <td>Harry Potter and the Deathly Hallows: Part 2</td>\n",
       "      <td>Weekend</td>\n",
       "      <td>Weekend</td>\n",
       "    </tr>\n",
       "    <tr>\n",
       "      <th>52</th>\n",
       "      <td>2012</td>\n",
       "      <td>157</td>\n",
       "      <td>Django Unchained</td>\n",
       "      <td>The Avengers</td>\n",
       "      <td>The Devil Inside</td>\n",
       "      <td>The Devil Inside</td>\n",
       "    </tr>\n",
       "    <tr>\n",
       "      <th>53</th>\n",
       "      <td>2013</td>\n",
       "      <td>178</td>\n",
       "      <td>The Wolf of Wall Street</td>\n",
       "      <td>Frozen</td>\n",
       "      <td>The Purge</td>\n",
       "      <td>The Conjuring</td>\n",
       "    </tr>\n",
       "    <tr>\n",
       "      <th>54</th>\n",
       "      <td>2014</td>\n",
       "      <td>165</td>\n",
       "      <td>Whiplash</td>\n",
       "      <td>The Hobbit: The Battle of the Five Armies</td>\n",
       "      <td>The Quiet Ones</td>\n",
       "      <td>The Quiet Ones</td>\n",
       "    </tr>\n",
       "    <tr>\n",
       "      <th>55</th>\n",
       "      <td>2015</td>\n",
       "      <td>160</td>\n",
       "      <td>Inside Out</td>\n",
       "      <td>Star Wars: The Force Awakens</td>\n",
       "      <td>The Gallows</td>\n",
       "      <td>The Gallows</td>\n",
       "    </tr>\n",
       "  </tbody>\n",
       "</table>\n",
       "</div>"
      ],
      "text/plain": [
       "    year  #movies                                             rating                                         income                     relative_income              relative_income*rating\n",
       "0   1960        5                                             Psycho                                      Spartacus                              Psycho                              Psycho\n",
       "1   1961       10                                    One, Two, Three                 One Hundred and One Dalmatians      One Hundred and One Dalmatians      One Hundred and One Dalmatians\n",
       "2   1962        7                              To Kill a Mockingbird                                         Dr. No                              Dr. No                              Dr. No\n",
       "3   1963        6                                            Charade                          From Russia With Love               From Russia With Love               From Russia With Love\n",
       "4   1964        7  Dr. Strangelove or: How I Learned to Stop Worr...                                     Goldfinger                          Goldfinger                          Goldfinger\n",
       "5   1965        5                                 The Sound of Music                             The Sound of Music                  The Sound of Music                  The Sound of Music\n",
       "6   1966        5                    Who's Afraid of Virginia Woolf?                Who's Afraid of Virginia Woolf?     Who's Afraid of Virginia Woolf?     Who's Afraid of Virginia Woolf?\n",
       "7   1967       13                                   Bonnie and Clyde                                The Jungle Book                     The Jungle Book                     The Jungle Book\n",
       "8   1968        9                              2001: A Space Odyssey                          2001: A Space Odyssey                     Rosemary's Baby                     Rosemary's Baby\n",
       "9   1969        4                                     The Wild Bunch             Butch Cassidy and the Sundance Kid  Butch Cassidy and the Sundance Kid  Butch Cassidy and the Sundance Kid\n",
       "10  1970       11                          The Ballad of Cable Hogue                                     Love Story                          Love Story                          Love Story\n",
       "11  1971       13                                 A Clockwork Orange                           Diamonds Are Forever                     Vanishing Point                     Vanishing Point\n",
       "12  1972        8                                      The Godfather                                  The Godfather                      Pink Flamingos                      Pink Flamingos\n",
       "13  1973       12                                          The Sting                                   The Exorcist                   American Graffiti                   American Graffiti\n",
       "14  1974       13                             The Godfather: Part II                                Blazing Saddles        The Texas Chain Saw Massacre        The Texas Chain Saw Massacre\n",
       "15  1975        9                    One Flew Over the Cuckoo's Nest                                           Jaws       The Rocky Horror Picture Show       The Rocky Horror Picture Show\n",
       "16  1976       15                                        Taxi Driver                                 A Star Is Born                               Rocky                               Rocky\n",
       "17  1977       19                                          Star Wars                                      Star Wars                          Eraserhead                          Eraserhead\n",
       "18  1978       16                                   Midnight Express                                       Superman                           Halloween                           Halloween\n",
       "19  1979       16                                     Apocalypse Now                                       Rocky II                             Mad Max                             Mad Max\n",
       "20  1980       23                            The Empire Strikes Back                        The Empire Strikes Back                     Friday the 13th                     Friday the 13th\n",
       "21  1981       30                            Raiders of the Lost Ark                        Raiders of the Lost Ark                       The Evil Dead                       The Evil Dead\n",
       "22  1982       25                                       Blade Runner                     E.T. the Extra-Terrestrial                             48 Hrs.          E.T. the Extra-Terrestrial\n",
       "23  1983       31                                 Return of the Jedi                             Return of the Jedi           The House on Sorority Row                          Flashdance\n",
       "24  1984       42                                  Stop Making Sense           Indiana Jones and the Temple of Doom                            Ghoulies                   Beverly Hills Cop\n",
       "25  1985       40                                 Back to the Future                             Back to the Future                  The Breakfast Club                  The Breakfast Club\n",
       "26  1986       47                                             Aliens                                        Top Gun                    Crocodile Dundee                    Crocodile Dundee\n",
       "27  1987       46                                  Full Metal Jacket                               Fatal Attraction                       Dirty Dancing                       Dirty Dancing\n",
       "28  1988       57                                           Rain Man                                       Rain Man                               Twins                            Rain Man\n",
       "29  1989       51                                 Dead Poets Society             Indiana Jones and the Last Crusade                  Look Who's Talking                  Look Who's Talking\n",
       "30  1990       51                                         Goodfellas                                          Ghost                        Pretty Woman                        Pretty Woman\n",
       "31  1991       50                           The Silence of the Lambs                     Terminator 2: Judgment Day                Beauty and the Beast            The Silence of the Lambs\n",
       "32  1992       53                                     Reservoir Dogs                                        Aladdin      Home Alone 2: Lost In New York                             Aladdin\n",
       "33  1993       70                                   Schindler's List                                  Jurassic Park                      Mrs. Doubtfire                      Mrs. Doubtfire\n",
       "34  1994       62                           The Shawshank Redemption                                  The Lion King                              Clerks                              Clerks\n",
       "35  1995       79                                 The Usual Suspects                                        The Net                             The Net                             The Net\n",
       "36  1996       86                                      Trainspotting                               Independence Day                         Sling Blade                         Sling Blade\n",
       "37  1997       90                                  Good Will Hunting                                        Titanic                      The Full Monty                      The Full Monty\n",
       "38  1998       92                                 American History X                                     Armageddon                                  Pi                                  Pi\n",
       "39  1999      114                                         Fight Club      Star Wars: Episode I - The Phantom Menace             The Blair Witch Project             The Blair Witch Project\n",
       "40  2000      106                                            Memento                         Mission: Impossible II                        Billy Elliot                        Billy Elliot\n",
       "41  2001      121  The Lord of the Rings: The Fellowship of the Ring       Harry Potter and the Philosopher's Stone                    Lovely & Amazing                    Lovely & Amazing\n",
       "42  2002      126                                        The Pianist          The Lord of the Rings: The Two Towers            My Big Fat Greek Wedding            My Big Fat Greek Wedding\n",
       "43  2003      120      The Lord of the Rings: The Return of the King  The Lord of the Rings: The Return of the King                 Lost in Translation                 Lost in Translation\n",
       "44  2004      147              Eternal Sunshine of the Spotless Mind                                        Shrek 2                       Super Size Me                       Super Size Me\n",
       "45  2005      163                                     V for Vendetta            Harry Potter and the Goblet of Fire                         Keeping Mum                         Keeping Mum\n",
       "46  2006      169                                       The Prestige     Pirates of the Caribbean: Dead Man's Chest                   Facing the Giants                   Facing the Giants\n",
       "47  2007      165                                There Will Be Blood      Harry Potter and the Order of the Phoenix                 Paranormal Activity                 Paranormal Activity\n",
       "48  2008      167                                    The Dark Knight                                The Dark Knight                           Fireproof                           Fireproof\n",
       "49  2009      173                                         Mr. Nobody                                         Avatar         The Twilight Saga: New Moon                        The Hangover\n",
       "50  2010      178                                          Inception                                    Toy Story 3                             Catfish                             Catfish\n",
       "51  2011      196             Louis C.K.: Live at the Beacon Theater   Harry Potter and the Deathly Hallows: Part 2                             Weekend                             Weekend\n",
       "52  2012      157                                   Django Unchained                                   The Avengers                    The Devil Inside                    The Devil Inside\n",
       "53  2013      178                            The Wolf of Wall Street                                         Frozen                           The Purge                       The Conjuring\n",
       "54  2014      165                                           Whiplash      The Hobbit: The Battle of the Five Armies                      The Quiet Ones                      The Quiet Ones\n",
       "55  2015      160                                         Inside Out                   Star Wars: The Force Awakens                         The Gallows                         The Gallows"
      ]
     },
     "execution_count": 30,
     "metadata": {},
     "output_type": "execute_result"
    }
   ],
   "source": [
    "best_movies"
   ]
  },
  {
   "cell_type": "markdown",
   "metadata": {},
   "source": [
    "If we wanted to go further, we could pick up the best film by selecting the film that is the best in the largest number of criteria, for example for 2015 \"The Gallows\" is the only movie that is the most successful in two criteria.<br>\n",
    "Now that we know the titles, let's see how the scores changed over years."
   ]
  },
  {
   "cell_type": "code",
   "execution_count": 31,
   "metadata": {
    "ExecuteTime": {
     "end_time": "2020-02-15T12:16:08.732786Z",
     "start_time": "2020-02-15T12:16:08.714834Z"
    }
   },
   "outputs": [
    {
     "data": {
      "text/plain": [
       "1868178225"
      ]
     },
     "execution_count": 31,
     "metadata": {},
     "output_type": "execute_result"
    }
   ],
   "source": [
    "year_df['income'].max()"
   ]
  },
  {
   "cell_type": "code",
   "execution_count": 32,
   "metadata": {
    "ExecuteTime": {
     "end_time": "2020-02-15T12:16:08.749839Z",
     "start_time": "2020-02-15T12:16:08.733785Z"
    }
   },
   "outputs": [],
   "source": [
    "# df_filtered[\"income*rating\"] = df_filtered.income*df_filtered.rating/5"
   ]
  },
  {
   "cell_type": "code",
   "execution_count": 33,
   "metadata": {
    "ExecuteTime": {
     "end_time": "2020-02-15T12:16:08.840640Z",
     "start_time": "2020-02-15T12:16:08.750836Z"
    }
   },
   "outputs": [],
   "source": [
    "best_movies_values = {\"year\":[],\"#movies\":[],\"rating\":[],\"income\":[],\"relative_income\":[],\"relative_income*rating\":[]}\n",
    "for year, year_df in df_filtered.groupby('release_year'):\n",
    "    for key in best_movies_values:\n",
    "        if key==\"year\":\n",
    "            best_movies_values[key].append(year)\n",
    "        elif key==\"#movies\":\n",
    "            best_movies_values[key].append(df_filtered.release_year.value_counts()[year])\n",
    "        else:\n",
    "            best_movies_values[key].append(year_df[key].max())\n",
    "\n",
    "best_movies_values = pd.DataFrame.from_dict(best_movies_values)"
   ]
  },
  {
   "cell_type": "code",
   "execution_count": 34,
   "metadata": {
    "ExecuteTime": {
     "end_time": "2020-02-15T12:16:08.855646Z",
     "start_time": "2020-02-15T12:16:08.841680Z"
    }
   },
   "outputs": [
    {
     "data": {
      "text/html": [
       "<div>\n",
       "<style scoped>\n",
       "    .dataframe tbody tr th:only-of-type {\n",
       "        vertical-align: middle;\n",
       "    }\n",
       "\n",
       "    .dataframe tbody tr th {\n",
       "        vertical-align: top;\n",
       "    }\n",
       "\n",
       "    .dataframe thead th {\n",
       "        text-align: right;\n",
       "    }\n",
       "</style>\n",
       "<table border=\"1\" class=\"dataframe\">\n",
       "  <thead>\n",
       "    <tr style=\"text-align: right;\">\n",
       "      <th></th>\n",
       "      <th>year</th>\n",
       "      <th>#movies</th>\n",
       "      <th>rating</th>\n",
       "      <th>income</th>\n",
       "      <th>relative_income</th>\n",
       "      <th>relative_income*rating</th>\n",
       "    </tr>\n",
       "  </thead>\n",
       "  <tbody>\n",
       "    <tr>\n",
       "      <th>0</th>\n",
       "      <td>1960</td>\n",
       "      <td>5</td>\n",
       "      <td>4.00</td>\n",
       "      <td>48000000</td>\n",
       "      <td>39.655591</td>\n",
       "      <td>158.622365</td>\n",
       "    </tr>\n",
       "    <tr>\n",
       "      <th>1</th>\n",
       "      <td>1961</td>\n",
       "      <td>10</td>\n",
       "      <td>3.75</td>\n",
       "      <td>211880014</td>\n",
       "      <td>53.970003</td>\n",
       "      <td>178.101012</td>\n",
       "    </tr>\n",
       "    <tr>\n",
       "      <th>2</th>\n",
       "      <td>1962</td>\n",
       "      <td>7</td>\n",
       "      <td>3.85</td>\n",
       "      <td>58500000</td>\n",
       "      <td>54.181818</td>\n",
       "      <td>181.509091</td>\n",
       "    </tr>\n",
       "    <tr>\n",
       "      <th>3</th>\n",
       "      <td>1963</td>\n",
       "      <td>6</td>\n",
       "      <td>3.75</td>\n",
       "      <td>76398765</td>\n",
       "      <td>31.559506</td>\n",
       "      <td>105.724345</td>\n",
       "    </tr>\n",
       "    <tr>\n",
       "      <th>4</th>\n",
       "      <td>1964</td>\n",
       "      <td>7</td>\n",
       "      <td>3.85</td>\n",
       "      <td>121400000</td>\n",
       "      <td>35.685714</td>\n",
       "      <td>124.900000</td>\n",
       "    </tr>\n",
       "    <tr>\n",
       "      <th>5</th>\n",
       "      <td>1965</td>\n",
       "      <td>5</td>\n",
       "      <td>3.60</td>\n",
       "      <td>155014286</td>\n",
       "      <td>19.904181</td>\n",
       "      <td>71.655052</td>\n",
       "    </tr>\n",
       "    <tr>\n",
       "      <th>6</th>\n",
       "      <td>1966</td>\n",
       "      <td>5</td>\n",
       "      <td>3.75</td>\n",
       "      <td>26236689</td>\n",
       "      <td>4.498225</td>\n",
       "      <td>16.868344</td>\n",
       "    </tr>\n",
       "    <tr>\n",
       "      <th>7</th>\n",
       "      <td>1967</td>\n",
       "      <td>13</td>\n",
       "      <td>3.80</td>\n",
       "      <td>201843612</td>\n",
       "      <td>51.460903</td>\n",
       "      <td>180.113160</td>\n",
       "    </tr>\n",
       "    <tr>\n",
       "      <th>8</th>\n",
       "      <td>1968</td>\n",
       "      <td>9</td>\n",
       "      <td>3.85</td>\n",
       "      <td>44715371</td>\n",
       "      <td>10.436071</td>\n",
       "      <td>38.091658</td>\n",
       "    </tr>\n",
       "    <tr>\n",
       "      <th>9</th>\n",
       "      <td>1969</td>\n",
       "      <td>4</td>\n",
       "      <td>3.60</td>\n",
       "      <td>96308889</td>\n",
       "      <td>17.051482</td>\n",
       "      <td>59.680185</td>\n",
       "    </tr>\n",
       "    <tr>\n",
       "      <th>10</th>\n",
       "      <td>1970</td>\n",
       "      <td>11</td>\n",
       "      <td>3.65</td>\n",
       "      <td>134200000</td>\n",
       "      <td>62.000000</td>\n",
       "      <td>204.600000</td>\n",
       "    </tr>\n",
       "    <tr>\n",
       "      <th>11</th>\n",
       "      <td>1971</td>\n",
       "      <td>13</td>\n",
       "      <td>3.85</td>\n",
       "      <td>108800000</td>\n",
       "      <td>55.589466</td>\n",
       "      <td>197.342605</td>\n",
       "    </tr>\n",
       "    <tr>\n",
       "      <th>12</th>\n",
       "      <td>1972</td>\n",
       "      <td>8</td>\n",
       "      <td>4.15</td>\n",
       "      <td>239066411</td>\n",
       "      <td>500.000000</td>\n",
       "      <td>1575.000000</td>\n",
       "    </tr>\n",
       "    <tr>\n",
       "      <th>13</th>\n",
       "      <td>1973</td>\n",
       "      <td>12</td>\n",
       "      <td>3.85</td>\n",
       "      <td>433306145</td>\n",
       "      <td>148.005148</td>\n",
       "      <td>481.016731</td>\n",
       "    </tr>\n",
       "    <tr>\n",
       "      <th>14</th>\n",
       "      <td>1974</td>\n",
       "      <td>13</td>\n",
       "      <td>4.05</td>\n",
       "      <td>116900000</td>\n",
       "      <td>363.047059</td>\n",
       "      <td>1234.360000</td>\n",
       "    </tr>\n",
       "    <tr>\n",
       "      <th>15</th>\n",
       "      <td>1975</td>\n",
       "      <td>9</td>\n",
       "      <td>4.00</td>\n",
       "      <td>463654000</td>\n",
       "      <td>94.076932</td>\n",
       "      <td>333.973110</td>\n",
       "    </tr>\n",
       "    <tr>\n",
       "      <th>16</th>\n",
       "      <td>1976</td>\n",
       "      <td>15</td>\n",
       "      <td>3.90</td>\n",
       "      <td>155000000</td>\n",
       "      <td>106.577406</td>\n",
       "      <td>383.678663</td>\n",
       "    </tr>\n",
       "    <tr>\n",
       "      <th>17</th>\n",
       "      <td>1977</td>\n",
       "      <td>19</td>\n",
       "      <td>3.95</td>\n",
       "      <td>764398007</td>\n",
       "      <td>700.000000</td>\n",
       "      <td>2485.000000</td>\n",
       "    </tr>\n",
       "    <tr>\n",
       "      <th>18</th>\n",
       "      <td>1978</td>\n",
       "      <td>16</td>\n",
       "      <td>3.75</td>\n",
       "      <td>245218018</td>\n",
       "      <td>233.333333</td>\n",
       "      <td>851.666667</td>\n",
       "    </tr>\n",
       "    <tr>\n",
       "      <th>19</th>\n",
       "      <td>1979</td>\n",
       "      <td>16</td>\n",
       "      <td>3.90</td>\n",
       "      <td>193182160</td>\n",
       "      <td>250.000000</td>\n",
       "      <td>812.500000</td>\n",
       "    </tr>\n",
       "    <tr>\n",
       "      <th>20</th>\n",
       "      <td>1980</td>\n",
       "      <td>23</td>\n",
       "      <td>4.00</td>\n",
       "      <td>520400000</td>\n",
       "      <td>108.644729</td>\n",
       "      <td>347.663133</td>\n",
       "    </tr>\n",
       "    <tr>\n",
       "      <th>21</th>\n",
       "      <td>1981</td>\n",
       "      <td>30</td>\n",
       "      <td>3.75</td>\n",
       "      <td>371925971</td>\n",
       "      <td>84.000000</td>\n",
       "      <td>302.400000</td>\n",
       "    </tr>\n",
       "    <tr>\n",
       "      <th>22</th>\n",
       "      <td>1982</td>\n",
       "      <td>25</td>\n",
       "      <td>3.85</td>\n",
       "      <td>782410554</td>\n",
       "      <td>78.868508</td>\n",
       "      <td>271.855047</td>\n",
       "    </tr>\n",
       "    <tr>\n",
       "      <th>23</th>\n",
       "      <td>1983</td>\n",
       "      <td>31</td>\n",
       "      <td>3.90</td>\n",
       "      <td>540350000</td>\n",
       "      <td>24.952908</td>\n",
       "      <td>70.852417</td>\n",
       "    </tr>\n",
       "    <tr>\n",
       "      <th>24</th>\n",
       "      <td>1984</td>\n",
       "      <td>42</td>\n",
       "      <td>4.20</td>\n",
       "      <td>305000000</td>\n",
       "      <td>35.000000</td>\n",
       "      <td>68.544770</td>\n",
       "    </tr>\n",
       "    <tr>\n",
       "      <th>25</th>\n",
       "      <td>1985</td>\n",
       "      <td>40</td>\n",
       "      <td>3.90</td>\n",
       "      <td>362109762</td>\n",
       "      <td>51.525171</td>\n",
       "      <td>195.795650</td>\n",
       "    </tr>\n",
       "    <tr>\n",
       "      <th>26</th>\n",
       "      <td>1986</td>\n",
       "      <td>47</td>\n",
       "      <td>3.80</td>\n",
       "      <td>341830601</td>\n",
       "      <td>65.640701</td>\n",
       "      <td>203.486174</td>\n",
       "    </tr>\n",
       "    <tr>\n",
       "      <th>27</th>\n",
       "      <td>1987</td>\n",
       "      <td>46</td>\n",
       "      <td>3.85</td>\n",
       "      <td>306145693</td>\n",
       "      <td>35.659046</td>\n",
       "      <td>123.023708</td>\n",
       "    </tr>\n",
       "    <tr>\n",
       "      <th>28</th>\n",
       "      <td>1988</td>\n",
       "      <td>57</td>\n",
       "      <td>3.70</td>\n",
       "      <td>329825435</td>\n",
       "      <td>14.440959</td>\n",
       "      <td>52.514164</td>\n",
       "    </tr>\n",
       "    <tr>\n",
       "      <th>29</th>\n",
       "      <td>1989</td>\n",
       "      <td>51</td>\n",
       "      <td>3.95</td>\n",
       "      <td>426171806</td>\n",
       "      <td>39.466667</td>\n",
       "      <td>112.480000</td>\n",
       "    </tr>\n",
       "    <tr>\n",
       "      <th>30</th>\n",
       "      <td>1990</td>\n",
       "      <td>51</td>\n",
       "      <td>4.00</td>\n",
       "      <td>483000000</td>\n",
       "      <td>33.071429</td>\n",
       "      <td>114.096429</td>\n",
       "    </tr>\n",
       "    <tr>\n",
       "      <th>31</th>\n",
       "      <td>1991</td>\n",
       "      <td>50</td>\n",
       "      <td>3.95</td>\n",
       "      <td>420000000</td>\n",
       "      <td>15.094022</td>\n",
       "      <td>56.701818</td>\n",
       "    </tr>\n",
       "    <tr>\n",
       "      <th>32</th>\n",
       "      <td>1992</td>\n",
       "      <td>53</td>\n",
       "      <td>3.95</td>\n",
       "      <td>476050219</td>\n",
       "      <td>19.943982</td>\n",
       "      <td>65.706546</td>\n",
       "    </tr>\n",
       "    <tr>\n",
       "      <th>33</th>\n",
       "      <td>1993</td>\n",
       "      <td>70</td>\n",
       "      <td>4.05</td>\n",
       "      <td>857100000</td>\n",
       "      <td>17.651448</td>\n",
       "      <td>60.897495</td>\n",
       "    </tr>\n",
       "    <tr>\n",
       "      <th>34</th>\n",
       "      <td>1994</td>\n",
       "      <td>62</td>\n",
       "      <td>4.20</td>\n",
       "      <td>743241776</td>\n",
       "      <td>116.708519</td>\n",
       "      <td>420.150667</td>\n",
       "    </tr>\n",
       "    <tr>\n",
       "      <th>35</th>\n",
       "      <td>1995</td>\n",
       "      <td>79</td>\n",
       "      <td>4.00</td>\n",
       "      <td>1084279658</td>\n",
       "      <td>50.285439</td>\n",
       "      <td>140.799229</td>\n",
       "    </tr>\n",
       "    <tr>\n",
       "      <th>36</th>\n",
       "      <td>1996</td>\n",
       "      <td>86</td>\n",
       "      <td>3.80</td>\n",
       "      <td>741969268</td>\n",
       "      <td>24.475416</td>\n",
       "      <td>84.440185</td>\n",
       "    </tr>\n",
       "    <tr>\n",
       "      <th>37</th>\n",
       "      <td>1997</td>\n",
       "      <td>90</td>\n",
       "      <td>3.85</td>\n",
       "      <td>1645034188</td>\n",
       "      <td>73.671463</td>\n",
       "      <td>235.748683</td>\n",
       "    </tr>\n",
       "    <tr>\n",
       "      <th>38</th>\n",
       "      <td>1998</td>\n",
       "      <td>92</td>\n",
       "      <td>4.00</td>\n",
       "      <td>413799566</td>\n",
       "      <td>53.685867</td>\n",
       "      <td>185.216240</td>\n",
       "    </tr>\n",
       "    <tr>\n",
       "      <th>39</th>\n",
       "      <td>1999</td>\n",
       "      <td>114</td>\n",
       "      <td>4.05</td>\n",
       "      <td>809317558</td>\n",
       "      <td>9920.000000</td>\n",
       "      <td>31248.000000</td>\n",
       "    </tr>\n",
       "    <tr>\n",
       "      <th>40</th>\n",
       "      <td>2000</td>\n",
       "      <td>106</td>\n",
       "      <td>3.95</td>\n",
       "      <td>421388105</td>\n",
       "      <td>22.000000</td>\n",
       "      <td>78.100000</td>\n",
       "    </tr>\n",
       "    <tr>\n",
       "      <th>41</th>\n",
       "      <td>2001</td>\n",
       "      <td>121</td>\n",
       "      <td>3.90</td>\n",
       "      <td>851475550</td>\n",
       "      <td>16.747724</td>\n",
       "      <td>52.755331</td>\n",
       "    </tr>\n",
       "    <tr>\n",
       "      <th>42</th>\n",
       "      <td>2002</td>\n",
       "      <td>126</td>\n",
       "      <td>3.95</td>\n",
       "      <td>847287400</td>\n",
       "      <td>73.748809</td>\n",
       "      <td>224.933867</td>\n",
       "    </tr>\n",
       "    <tr>\n",
       "      <th>43</th>\n",
       "      <td>2003</td>\n",
       "      <td>120</td>\n",
       "      <td>3.95</td>\n",
       "      <td>1024888979</td>\n",
       "      <td>29.930964</td>\n",
       "      <td>109.248019</td>\n",
       "    </tr>\n",
       "    <tr>\n",
       "      <th>44</th>\n",
       "      <td>2004</td>\n",
       "      <td>147</td>\n",
       "      <td>3.90</td>\n",
       "      <td>769838758</td>\n",
       "      <td>439.616585</td>\n",
       "      <td>1428.753900</td>\n",
       "    </tr>\n",
       "    <tr>\n",
       "      <th>45</th>\n",
       "      <td>2005</td>\n",
       "      <td>163</td>\n",
       "      <td>3.80</td>\n",
       "      <td>745921036</td>\n",
       "      <td>109.850308</td>\n",
       "      <td>357.013500</td>\n",
       "    </tr>\n",
       "    <tr>\n",
       "      <th>46</th>\n",
       "      <td>2006</td>\n",
       "      <td>169</td>\n",
       "      <td>3.90</td>\n",
       "      <td>865659812</td>\n",
       "      <td>101.783310</td>\n",
       "      <td>346.063254</td>\n",
       "    </tr>\n",
       "    <tr>\n",
       "      <th>47</th>\n",
       "      <td>2007</td>\n",
       "      <td>165</td>\n",
       "      <td>3.90</td>\n",
       "      <td>788212738</td>\n",
       "      <td>12890.386667</td>\n",
       "      <td>39315.679333</td>\n",
       "    </tr>\n",
       "    <tr>\n",
       "      <th>48</th>\n",
       "      <td>2008</td>\n",
       "      <td>167</td>\n",
       "      <td>4.05</td>\n",
       "      <td>816921825</td>\n",
       "      <td>66.912634</td>\n",
       "      <td>250.922377</td>\n",
       "    </tr>\n",
       "    <tr>\n",
       "      <th>49</th>\n",
       "      <td>2009</td>\n",
       "      <td>173</td>\n",
       "      <td>3.90</td>\n",
       "      <td>2544505847</td>\n",
       "      <td>14.196549</td>\n",
       "      <td>46.583163</td>\n",
       "    </tr>\n",
       "    <tr>\n",
       "      <th>50</th>\n",
       "      <td>2010</td>\n",
       "      <td>178</td>\n",
       "      <td>3.95</td>\n",
       "      <td>863171911</td>\n",
       "      <td>101.531433</td>\n",
       "      <td>324.900587</td>\n",
       "    </tr>\n",
       "    <tr>\n",
       "      <th>51</th>\n",
       "      <td>2011</td>\n",
       "      <td>196</td>\n",
       "      <td>3.95</td>\n",
       "      <td>1202817822</td>\n",
       "      <td>58.743375</td>\n",
       "      <td>217.350488</td>\n",
       "    </tr>\n",
       "    <tr>\n",
       "      <th>52</th>\n",
       "      <td>2012</td>\n",
       "      <td>157</td>\n",
       "      <td>3.85</td>\n",
       "      <td>1299557910</td>\n",
       "      <td>101.758490</td>\n",
       "      <td>228.956602</td>\n",
       "    </tr>\n",
       "    <tr>\n",
       "      <th>53</th>\n",
       "      <td>2013</td>\n",
       "      <td>178</td>\n",
       "      <td>3.95</td>\n",
       "      <td>1124219009</td>\n",
       "      <td>29.776209</td>\n",
       "      <td>90.507732</td>\n",
       "    </tr>\n",
       "    <tr>\n",
       "      <th>54</th>\n",
       "      <td>2014</td>\n",
       "      <td>165</td>\n",
       "      <td>4.10</td>\n",
       "      <td>705119788</td>\n",
       "      <td>89.174335</td>\n",
       "      <td>227.394554</td>\n",
       "    </tr>\n",
       "    <tr>\n",
       "      <th>55</th>\n",
       "      <td>2015</td>\n",
       "      <td>160</td>\n",
       "      <td>4.00</td>\n",
       "      <td>1868178225</td>\n",
       "      <td>426.644100</td>\n",
       "      <td>1066.610250</td>\n",
       "    </tr>\n",
       "  </tbody>\n",
       "</table>\n",
       "</div>"
      ],
      "text/plain": [
       "    year  #movies  rating      income  relative_income  relative_income*rating\n",
       "0   1960        5    4.00    48000000        39.655591              158.622365\n",
       "1   1961       10    3.75   211880014        53.970003              178.101012\n",
       "2   1962        7    3.85    58500000        54.181818              181.509091\n",
       "3   1963        6    3.75    76398765        31.559506              105.724345\n",
       "4   1964        7    3.85   121400000        35.685714              124.900000\n",
       "5   1965        5    3.60   155014286        19.904181               71.655052\n",
       "6   1966        5    3.75    26236689         4.498225               16.868344\n",
       "7   1967       13    3.80   201843612        51.460903              180.113160\n",
       "8   1968        9    3.85    44715371        10.436071               38.091658\n",
       "9   1969        4    3.60    96308889        17.051482               59.680185\n",
       "10  1970       11    3.65   134200000        62.000000              204.600000\n",
       "11  1971       13    3.85   108800000        55.589466              197.342605\n",
       "12  1972        8    4.15   239066411       500.000000             1575.000000\n",
       "13  1973       12    3.85   433306145       148.005148              481.016731\n",
       "14  1974       13    4.05   116900000       363.047059             1234.360000\n",
       "15  1975        9    4.00   463654000        94.076932              333.973110\n",
       "16  1976       15    3.90   155000000       106.577406              383.678663\n",
       "17  1977       19    3.95   764398007       700.000000             2485.000000\n",
       "18  1978       16    3.75   245218018       233.333333              851.666667\n",
       "19  1979       16    3.90   193182160       250.000000              812.500000\n",
       "20  1980       23    4.00   520400000       108.644729              347.663133\n",
       "21  1981       30    3.75   371925971        84.000000              302.400000\n",
       "22  1982       25    3.85   782410554        78.868508              271.855047\n",
       "23  1983       31    3.90   540350000        24.952908               70.852417\n",
       "24  1984       42    4.20   305000000        35.000000               68.544770\n",
       "25  1985       40    3.90   362109762        51.525171              195.795650\n",
       "26  1986       47    3.80   341830601        65.640701              203.486174\n",
       "27  1987       46    3.85   306145693        35.659046              123.023708\n",
       "28  1988       57    3.70   329825435        14.440959               52.514164\n",
       "29  1989       51    3.95   426171806        39.466667              112.480000\n",
       "30  1990       51    4.00   483000000        33.071429              114.096429\n",
       "31  1991       50    3.95   420000000        15.094022               56.701818\n",
       "32  1992       53    3.95   476050219        19.943982               65.706546\n",
       "33  1993       70    4.05   857100000        17.651448               60.897495\n",
       "34  1994       62    4.20   743241776       116.708519              420.150667\n",
       "35  1995       79    4.00  1084279658        50.285439              140.799229\n",
       "36  1996       86    3.80   741969268        24.475416               84.440185\n",
       "37  1997       90    3.85  1645034188        73.671463              235.748683\n",
       "38  1998       92    4.00   413799566        53.685867              185.216240\n",
       "39  1999      114    4.05   809317558      9920.000000            31248.000000\n",
       "40  2000      106    3.95   421388105        22.000000               78.100000\n",
       "41  2001      121    3.90   851475550        16.747724               52.755331\n",
       "42  2002      126    3.95   847287400        73.748809              224.933867\n",
       "43  2003      120    3.95  1024888979        29.930964              109.248019\n",
       "44  2004      147    3.90   769838758       439.616585             1428.753900\n",
       "45  2005      163    3.80   745921036       109.850308              357.013500\n",
       "46  2006      169    3.90   865659812       101.783310              346.063254\n",
       "47  2007      165    3.90   788212738     12890.386667            39315.679333\n",
       "48  2008      167    4.05   816921825        66.912634              250.922377\n",
       "49  2009      173    3.90  2544505847        14.196549               46.583163\n",
       "50  2010      178    3.95   863171911       101.531433              324.900587\n",
       "51  2011      196    3.95  1202817822        58.743375              217.350488\n",
       "52  2012      157    3.85  1299557910       101.758490              228.956602\n",
       "53  2013      178    3.95  1124219009        29.776209               90.507732\n",
       "54  2014      165    4.10   705119788        89.174335              227.394554\n",
       "55  2015      160    4.00  1868178225       426.644100             1066.610250"
      ]
     },
     "execution_count": 34,
     "metadata": {},
     "output_type": "execute_result"
    }
   ],
   "source": [
    "best_movies_values"
   ]
  },
  {
   "cell_type": "code",
   "execution_count": 35,
   "metadata": {
    "ExecuteTime": {
     "end_time": "2020-02-15T12:16:09.881635Z",
     "start_time": "2020-02-15T12:16:08.856644Z"
    }
   },
   "outputs": [
    {
     "data": {
      "image/png": "[encoded data removed]",
      "text/plain": [
       "<Figure size 648x648 with 1 Axes>"
      ]
     },
     "metadata": {},
     "output_type": "display_data"
    },
    {
     "data": {
      "image/png": "[encoded data removed]",
      "text/plain": [
       "<Figure size 648x648 with 1 Axes>"
      ]
     },
     "metadata": {},
     "output_type": "display_data"
    },
    {
     "data": {
      "image/png": "[encoded data removed]",
      "text/plain": [
       "<Figure size 648x648 with 1 Axes>"
      ]
     },
     "metadata": {},
     "output_type": "display_data"
    },
    {
     "data": {
      "image/png": "[encoded data removed]",
      "text/plain": [
       "<Figure size 648x648 with 1 Axes>"
      ]
     },
     "metadata": {},
     "output_type": "display_data"
    }
   ],
   "source": [
    "def plot_best_movies_over_time(criterium,y_range=None):\n",
    "    plt.figure(figsize=(9,9))\n",
    "    plt.title(\"Best movies based on \"+criterium+\" over years\",fontsize=16)\n",
    "    if y_range:\n",
    "        plt.ylim(y_range)\n",
    "    sns.scatterplot(x='year',y=criterium,data=best_movies_values)\n",
    "    \n",
    "criteria = [\"rating\",\"income\",\"relative_income\",\"relative_income*rating\"]\n",
    "y_ranges = [None,None,(0,1000),(0,5000)]\n",
    "for i,c in enumerate(criteria):\n",
    "    plot_best_movies_over_time(c,y_ranges[i])"
   ]
  },
  {
   "cell_type": "code",
   "execution_count": 36,
   "metadata": {
    "ExecuteTime": {
     "end_time": "2020-02-15T12:16:09.888585Z",
     "start_time": "2020-02-15T12:16:09.882603Z"
    }
   },
   "outputs": [
    {
     "data": {
      "text/plain": [
       "year                      1.000000\n",
       "#movies                   0.944424\n",
       "rating                    0.383969\n",
       "income                    0.767638\n",
       "relative_income           0.189327\n",
       "relative_income*rating    0.185981\n",
       "Name: year, dtype: float64"
      ]
     },
     "execution_count": 36,
     "metadata": {},
     "output_type": "execute_result"
    }
   ],
   "source": [
    "best_movies_values.corr().year"
   ]
  },
  {
   "cell_type": "markdown",
   "metadata": {},
   "source": [
    "We can see number of movies produced and income have been steadily increasing over time (strong correlation), however the rest of variables has quitew weak correlations with time. This is plausible because nowadays the budgets are much larger than a few decades ago, but so are the revenues, so the proportion stays roughly similar. Also a movie rated 4 out of 5 in 1967 might be in fact worse than 4/5 movie in 2010 because the expectations and taste changed since then."
   ]
  },
  {
   "cell_type": "markdown",
   "metadata": {},
   "source": [
    "## Part 6:  Trends in Popularity of Genres \n",
    "\n",
    "This is an example of an analysis of the \"grouped property\" type.\n",
    "\n",
    "There are a lot of questions you could ask about genres.\n",
    "* Which genre is currently the most popular?\n",
    "* Do you reach the same conclusions if you use as indication of popularity the revenue or the rating?\n",
    "* Better, based on our data, what draw conclusions can you draw about the time evolution of the popularity of each genre?\n",
    "\n",
    "[20 minutes]\n",
    "\n",
    "---"
   ]
  },
  {
   "cell_type": "markdown",
   "metadata": {},
   "source": [
    "First we need to find the distinct genres in the dataframe. \n",
    "\n",
    "To do this, notice that each string is a pipe (|) separated list of genres. For each string, we ask if the genre is in that pipe separated list.  If it is, we return True, else False\n",
    "\n",
    "**Hint: remember that python sets have unique (non-repeating) items.**"
   ]
  },
  {
   "cell_type": "code",
   "execution_count": 37,
   "metadata": {
    "ExecuteTime": {
     "end_time": "2020-02-15T12:16:09.910601Z",
     "start_time": "2020-02-15T12:16:09.889584Z"
    }
   },
   "outputs": [
    {
     "data": {
      "text/plain": [
       "['Action',\n",
       " 'Adventure',\n",
       " 'Science Fiction',\n",
       " 'Thriller',\n",
       " 'Fantasy',\n",
       " 'Crime',\n",
       " 'Western',\n",
       " 'Drama',\n",
       " 'Family',\n",
       " 'Animation',\n",
       " 'Comedy',\n",
       " 'Mystery',\n",
       " 'Romance',\n",
       " 'War',\n",
       " 'History',\n",
       " 'Music',\n",
       " 'Horror',\n",
       " 'Documentary',\n",
       " 'TV Movie',\n",
       " 'Unknown',\n",
       " 'Foreign']"
      ]
     },
     "execution_count": 37,
     "metadata": {},
     "output_type": "execute_result"
    }
   ],
   "source": [
    "unique_genres = []\n",
    "for g in df.genres.unique():\n",
    "    for genre in g.split(\"|\"):\n",
    "        if genre not in unique_genres:\n",
    "            unique_genres.append(genre)\n",
    "unique_genres"
   ]
  },
  {
   "cell_type": "markdown",
   "metadata": {},
   "source": [
    "What happens if we add a column to the dataframe for each genre? \n",
    "\n",
    "Is this way of representing genre efficient? Allows for easy computation and visualization?\n",
    "\n",
    "Are there other ways to represent genre information in the dataframe that allow for each visualization?"
   ]
  },
  {
   "cell_type": "code",
   "execution_count": 38,
   "metadata": {
    "ExecuteTime": {
     "end_time": "2020-02-15T12:16:10.019347Z",
     "start_time": "2020-02-15T12:16:09.911599Z"
    }
   },
   "outputs": [
    {
     "data": {
      "text/plain": [
       "Index(['id', 'title', 'cast', 'director', 'runtime', 'genres', 'release_date', 'users_voted', 'rating', 'release_year', 'budget', 'revenue', 'is_Action', 'is_Adventure', 'is_Science Fiction', 'is_Thriller', 'is_Fantasy', 'is_Crime', 'is_Western', 'is_Drama', 'is_Family', 'is_Animation', 'is_Comedy', 'is_Mystery', 'is_Romance', 'is_War', 'is_History', 'is_Music', 'is_Horror', 'is_Documentary', 'is_TV Movie', 'is_Unknown', 'is_Foreign'], dtype='object')"
      ]
     },
     "execution_count": 38,
     "metadata": {},
     "output_type": "execute_result"
    }
   ],
   "source": [
    "for genre in unique_genres:\n",
    "    df[\"is_\"+genre] = df.genres.str.contains(genre)\n",
    "df.columns"
   ]
  },
  {
   "cell_type": "markdown",
   "metadata": {},
   "source": [
    "Now explore some ways to visualize the genres represented in the dataframe. \n",
    "\n",
    "For example, you might ask which is the most represented genre."
   ]
  },
  {
   "cell_type": "code",
   "execution_count": 39,
   "metadata": {
    "ExecuteTime": {
     "end_time": "2020-02-15T12:16:10.024332Z",
     "start_time": "2020-02-15T12:16:10.020309Z"
    }
   },
   "outputs": [],
   "source": [
    "genres_columns = [\"is_\"+genre for genre in unique_genres]"
   ]
  },
  {
   "cell_type": "code",
   "execution_count": 65,
   "metadata": {
    "ExecuteTime": {
     "end_time": "2020-02-15T12:21:33.270167Z",
     "start_time": "2020-02-15T12:21:33.014850Z"
    }
   },
   "outputs": [
    {
     "data": {
      "image/png": "[encoded data removed]",
      "text/plain": [
       "<Figure size 648x432 with 1 Axes>"
      ]
     },
     "metadata": {},
     "output_type": "display_data"
    }
   ],
   "source": [
    "genres_counts = df.loc[:, genres_columns].sum().sort_values(ascending=False)\n",
    "plt.figure(figsize=(9,6))\n",
    "plt.xticks(rotation=45)\n",
    "sns.barplot(x=genres_counts.index,y=genres_counts.values)\n",
    "plt.show()"
   ]
  },
  {
   "cell_type": "code",
   "execution_count": 57,
   "metadata": {
    "ExecuteTime": {
     "end_time": "2020-02-15T12:19:30.647721Z",
     "start_time": "2020-02-15T12:19:30.641737Z"
    }
   },
   "outputs": [],
   "source": [
    "def genres_fun(relative=False):\n",
    "    genres_by_year = {\"year\":[]}\n",
    "\n",
    "    for g in genres_columns:\n",
    "        genres_by_year[g] = []\n",
    "\n",
    "    for year, year_df in df.groupby('release_year'):\n",
    "        for key in genres_by_year:\n",
    "            if key==\"year\":\n",
    "                genres_by_year[key].append(year)\n",
    "            else:\n",
    "                if relative:\n",
    "                    genres_by_year[key].append(year_df[key].sum()/year_df[key].shape[0])\n",
    "                else:\n",
    "                    genres_by_year[key].append(year_df[key].sum())\n",
    "\n",
    "    genres_by_year = pd.DataFrame.from_dict(genres_by_year)\n",
    "    return genres_by_year"
   ]
  },
  {
   "cell_type": "code",
   "execution_count": 50,
   "metadata": {
    "ExecuteTime": {
     "end_time": "2020-02-15T12:17:00.407417Z",
     "start_time": "2020-02-15T12:17:00.404399Z"
    }
   },
   "outputs": [],
   "source": [
    "import plotly.express as px"
   ]
  },
  {
   "cell_type": "code",
   "execution_count": 87,
   "metadata": {
    "ExecuteTime": {
     "end_time": "2020-02-15T12:28:47.598275Z",
     "start_time": "2020-02-15T12:28:47.593258Z"
    }
   },
   "outputs": [],
   "source": [
    "import plotly.graph_objects as go\n",
    "\n",
    "def plot_genres(genres_by_year,title=\"Genre popularity over years\", columns=genres_columns):\n",
    "    fig = go.Figure()\n",
    "    for col in genres_columns:\n",
    "        if col in columns:\n",
    "            fig.add_trace(go.Scatter(x=genres_by_year.year, y=genres_by_year[col],mode='lines',name=col))\n",
    "    fig.update_layout(title={\n",
    "            'text': title,\n",
    "            'x':0.5})\n",
    "    fig.show()"
   ]
  },
  {
   "cell_type": "code",
   "execution_count": 131,
   "metadata": {
    "ExecuteTime": {
     "end_time": "2020-02-15T13:36:50.253151Z",
     "start_time": "2020-02-15T13:36:49.934971Z"
    },
    "scrolled": true
   },
   "outputs": [
    {
     "data": {
      "application/vnd.plotly.v1+json": {
       "config": {
        "plotlyServerURL": "https://plot.ly"
       },
       "data": [
        {
         "mode": "lines",
         "name": "is_Action",
         "type": "scatter",
         "x": [
          1960,
          1961,
          1962,
          1963,
          1964,
          1965,
          1966,
          1967,
          1968,
          1969,
          1970,
          1971,
          1972,
          1973,
          1974,
          1975,
          1976,
          1977,
          1978,
          1979,
          1980,
          1981,
          1982,
          1983,
          1984,
          1985,
          1986,
          1987,
          1988,
          1989,
          1990,
          1991,
          1992,
          1993,
          1994,
          1995,
          1996,
          1997,
          1998,
          1999,
          2000,
          2001,
          2002,
          2003,
          2004,
          2005,
          2006,
          2007,
          2008,
          2009,
          2010,
          2011,
          2012,
          2013,
          2014,
          2015
         ],
         "y": [
          8,
          7,
          8,
          4,
          5,
          9,
          14,
          7,
          6,
          10,
          11,
          11,
          10,
          15,
          14,
          10,
          13,
          14,
          15,
          8,
          27,
          17,
          17,
          21,
          33,
          28,
          30,
          29,
          32,
          38,
          39,
          39,
          34,
          53,
          61,
          47,
          42,
          59,
          43,
          38,
          47,
          61,
          72,
          73,
          75,
          70,
          80,
          95,
          99,
          108,
          108,
          115,
          99,
          121,
          129,
          107
         ]
        },
        {
         "mode": "lines",
         "name": "is_Adventure",
         "type": "scatter",
         "x": [
          1960,
          1961,
          1962,
          1963,
          1964,
          1965,
          1966,
          1967,
          1968,
          1969,
          1970,
          1971,
          1972,
          1973,
          1974,
          1975,
          1976,
          1977,
          1978,
          1979,
          1980,
          1981,
          1982,
          1983,
          1984,
          1985,
          1986,
          1987,
          1988,
          1989,
          1990,
          1991,
          1992,
          1993,
          1994,
          1995,
          1996,
          1997,
          1998,
          1999,
          2000,
          2001,
          2002,
          2003,
          2004,
          2005,
          2006,
          2007,
          2008,
          2009,
          2010,
          2011,
          2012,
          2013,
          2014,
          2015
         ],
         "y": [
          5,
          6,
          7,
          7,
          5,
          6,
          11,
          7,
          5,
          5,
          6,
          5,
          5,
          5,
          8,
          8,
          6,
          15,
          11,
          8,
          14,
          14,
          10,
          14,
          22,
          28,
          17,
          17,
          15,
          24,
          23,
          21,
          17,
          26,
          33,
          32,
          30,
          35,
          38,
          20,
          28,
          40,
          45,
          41,
          49,
          53,
          55,
          60,
          63,
          72,
          59,
          62,
          50,
          67,
          67,
          69
         ]
        },
        {
         "mode": "lines",
         "name": "is_Science Fiction",
         "type": "scatter",
         "x": [
          1960,
          1961,
          1962,
          1963,
          1964,
          1965,
          1966,
          1967,
          1968,
          1969,
          1970,
          1971,
          1972,
          1973,
          1974,
          1975,
          1976,
          1977,
          1978,
          1979,
          1980,
          1981,
          1982,
          1983,
          1984,
          1985,
          1986,
          1987,
          1988,
          1989,
          1990,
          1991,
          1992,
          1993,
          1994,
          1995,
          1996,
          1997,
          1998,
          1999,
          2000,
          2001,
          2002,
          2003,
          2004,
          2005,
          2006,
          2007,
          2008,
          2009,
          2010,
          2011,
          2012,
          2013,
          2014,
          2015
         ],
         "y": [
          3,
          4,
          2,
          2,
          4,
          2,
          6,
          4,
          4,
          3,
          3,
          6,
          4,
          6,
          5,
          11,
          5,
          11,
          16,
          10,
          11,
          10,
          13,
          16,
          27,
          17,
          21,
          18,
          18,
          21,
          18,
          13,
          16,
          18,
          20,
          18,
          24,
          29,
          26,
          29,
          24,
          25,
          28,
          41,
          34,
          25,
          30,
          41,
          52,
          71,
          46,
          56,
          54,
          61,
          62,
          86
         ]
        },
        {
         "mode": "lines",
         "name": "is_Thriller",
         "type": "scatter",
         "x": [
          1960,
          1961,
          1962,
          1963,
          1964,
          1965,
          1966,
          1967,
          1968,
          1969,
          1970,
          1971,
          1972,
          1973,
          1974,
          1975,
          1976,
          1977,
          1978,
          1979,
          1980,
          1981,
          1982,
          1983,
          1984,
          1985,
          1986,
          1987,
          1988,
          1989,
          1990,
          1991,
          1992,
          1993,
          1994,
          1995,
          1996,
          1997,
          1998,
          1999,
          2000,
          2001,
          2002,
          2003,
          2004,
          2005,
          2006,
          2007,
          2008,
          2009,
          2010,
          2011,
          2012,
          2013,
          2014,
          2015
         ],
         "y": [
          6,
          0,
          7,
          10,
          9,
          11,
          8,
          5,
          5,
          3,
          5,
          17,
          10,
          16,
          20,
          13,
          17,
          12,
          22,
          16,
          25,
          27,
          17,
          24,
          24,
          24,
          23,
          28,
          33,
          35,
          46,
          37,
          45,
          45,
          45,
          49,
          61,
          61,
          53,
          53,
          63,
          66,
          84,
          73,
          74,
          92,
          114,
          125,
          127,
          157,
          135,
          146,
          160,
          175,
          179,
          171
         ]
        },
        {
         "mode": "lines",
         "name": "is_Fantasy",
         "type": "scatter",
         "x": [
          1960,
          1961,
          1962,
          1963,
          1964,
          1965,
          1966,
          1967,
          1968,
          1969,
          1970,
          1971,
          1972,
          1973,
          1974,
          1975,
          1976,
          1977,
          1978,
          1979,
          1980,
          1981,
          1982,
          1983,
          1984,
          1985,
          1986,
          1987,
          1988,
          1989,
          1990,
          1991,
          1992,
          1993,
          1994,
          1995,
          1996,
          1997,
          1998,
          1999,
          2000,
          2001,
          2002,
          2003,
          2004,
          2005,
          2006,
          2007,
          2008,
          2009,
          2010,
          2011,
          2012,
          2013,
          2014,
          2015
         ],
         "y": [
          2,
          2,
          1,
          2,
          4,
          0,
          2,
          3,
          5,
          2,
          3,
          2,
          1,
          1,
          3,
          4,
          2,
          9,
          5,
          0,
          7,
          3,
          13,
          10,
          15,
          14,
          11,
          18,
          16,
          16,
          13,
          19,
          14,
          13,
          24,
          17,
          22,
          21,
          22,
          23,
          21,
          25,
          20,
          27,
          19,
          35,
          34,
          47,
          43,
          49,
          44,
          46,
          34,
          39,
          36,
          33
         ]
        },
        {
         "mode": "lines",
         "name": "is_Crime",
         "type": "scatter",
         "x": [
          1960,
          1961,
          1962,
          1963,
          1964,
          1965,
          1966,
          1967,
          1968,
          1969,
          1970,
          1971,
          1972,
          1973,
          1974,
          1975,
          1976,
          1977,
          1978,
          1979,
          1980,
          1981,
          1982,
          1983,
          1984,
          1985,
          1986,
          1987,
          1988,
          1989,
          1990,
          1991,
          1992,
          1993,
          1994,
          1995,
          1996,
          1997,
          1998,
          1999,
          2000,
          2001,
          2002,
          2003,
          2004,
          2005,
          2006,
          2007,
          2008,
          2009,
          2010,
          2011,
          2012,
          2013,
          2014,
          2015
         ],
         "y": [
          2,
          2,
          3,
          4,
          10,
          2,
          5,
          7,
          5,
          3,
          4,
          10,
          7,
          17,
          15,
          6,
          8,
          2,
          6,
          8,
          9,
          10,
          9,
          11,
          15,
          14,
          18,
          21,
          21,
          25,
          30,
          20,
          25,
          28,
          26,
          31,
          19,
          28,
          34,
          29,
          31,
          39,
          41,
          46,
          32,
          45,
          53,
          65,
          62,
          52,
          51,
          48,
          54,
          71,
          65,
          51
         ]
        },
        {
         "mode": "lines",
         "name": "is_Western",
         "type": "scatter",
         "x": [
          1960,
          1961,
          1962,
          1963,
          1964,
          1965,
          1966,
          1967,
          1968,
          1969,
          1970,
          1971,
          1972,
          1973,
          1974,
          1975,
          1976,
          1977,
          1978,
          1979,
          1980,
          1981,
          1982,
          1983,
          1984,
          1985,
          1986,
          1987,
          1988,
          1989,
          1990,
          1991,
          1992,
          1993,
          1994,
          1995,
          1996,
          1997,
          1998,
          1999,
          2000,
          2001,
          2002,
          2003,
          2004,
          2005,
          2006,
          2007,
          2008,
          2009,
          2010,
          2011,
          2012,
          2013,
          2014,
          2015
         ],
         "y": [
          6,
          3,
          3,
          2,
          1,
          4,
          7,
          2,
          1,
          7,
          8,
          5,
          5,
          4,
          2,
          3,
          3,
          1,
          1,
          4,
          5,
          0,
          2,
          1,
          0,
          3,
          1,
          1,
          0,
          1,
          3,
          2,
          2,
          3,
          8,
          3,
          0,
          0,
          1,
          3,
          2,
          2,
          1,
          4,
          7,
          2,
          1,
          5,
          2,
          0,
          6,
          3,
          4,
          3,
          6,
          6
         ]
        },
        {
         "mode": "lines",
         "name": "is_Drama",
         "type": "scatter",
         "x": [
          1960,
          1961,
          1962,
          1963,
          1964,
          1965,
          1966,
          1967,
          1968,
          1969,
          1970,
          1971,
          1972,
          1973,
          1974,
          1975,
          1976,
          1977,
          1978,
          1979,
          1980,
          1981,
          1982,
          1983,
          1984,
          1985,
          1986,
          1987,
          1988,
          1989,
          1990,
          1991,
          1992,
          1993,
          1994,
          1995,
          1996,
          1997,
          1998,
          1999,
          2000,
          2001,
          2002,
          2003,
          2004,
          2005,
          2006,
          2007,
          2008,
          2009,
          2010,
          2011,
          2012,
          2013,
          2014,
          2015
         ],
         "y": [
          13,
          16,
          21,
          13,
          20,
          20,
          16,
          16,
          20,
          13,
          19,
          30,
          16,
          31,
          21,
          17,
          22,
          24,
          29,
          30,
          32,
          32,
          33,
          35,
          40,
          40,
          51,
          52,
          54,
          54,
          60,
          63,
          65,
          90,
          83,
          93,
          104,
          83,
          108,
          113,
          101,
          100,
          130,
          110,
          141,
          182,
          197,
          197,
          233,
          224,
          211,
          214,
          232,
          253,
          284,
          260
         ]
        },
        {
         "mode": "lines",
         "name": "is_Family",
         "type": "scatter",
         "x": [
          1960,
          1961,
          1962,
          1963,
          1964,
          1965,
          1966,
          1967,
          1968,
          1969,
          1970,
          1971,
          1972,
          1973,
          1974,
          1975,
          1976,
          1977,
          1978,
          1979,
          1980,
          1981,
          1982,
          1983,
          1984,
          1985,
          1986,
          1987,
          1988,
          1989,
          1990,
          1991,
          1992,
          1993,
          1994,
          1995,
          1996,
          1997,
          1998,
          1999,
          2000,
          2001,
          2002,
          2003,
          2004,
          2005,
          2006,
          2007,
          2008,
          2009,
          2010,
          2011,
          2012,
          2013,
          2014,
          2015
         ],
         "y": [
          3,
          5,
          2,
          3,
          4,
          3,
          7,
          3,
          5,
          4,
          3,
          2,
          2,
          4,
          4,
          2,
          3,
          8,
          6,
          5,
          4,
          5,
          8,
          4,
          9,
          12,
          13,
          16,
          17,
          17,
          12,
          21,
          16,
          29,
          35,
          33,
          31,
          33,
          34,
          29,
          34,
          31,
          39,
          44,
          40,
          57,
          65,
          45,
          56,
          60,
          55,
          72,
          42,
          48,
          43,
          44
         ]
        },
        {
         "mode": "lines",
         "name": "is_Animation",
         "type": "scatter",
         "x": [
          1960,
          1961,
          1962,
          1963,
          1964,
          1965,
          1966,
          1967,
          1968,
          1969,
          1970,
          1971,
          1972,
          1973,
          1974,
          1975,
          1976,
          1977,
          1978,
          1979,
          1980,
          1981,
          1982,
          1983,
          1984,
          1985,
          1986,
          1987,
          1988,
          1989,
          1990,
          1991,
          1992,
          1993,
          1994,
          1995,
          1996,
          1997,
          1998,
          1999,
          2000,
          2001,
          2002,
          2003,
          2004,
          2005,
          2006,
          2007,
          2008,
          2009,
          2010,
          2011,
          2012,
          2013,
          2014,
          2015
         ],
         "y": [
          0,
          1,
          0,
          1,
          2,
          1,
          3,
          2,
          3,
          3,
          2,
          1,
          1,
          3,
          1,
          1,
          0,
          5,
          2,
          1,
          0,
          3,
          6,
          3,
          1,
          2,
          7,
          4,
          7,
          5,
          4,
          3,
          4,
          6,
          8,
          7,
          8,
          10,
          16,
          13,
          27,
          18,
          21,
          29,
          23,
          26,
          39,
          32,
          33,
          48,
          50,
          46,
          40,
          42,
          36,
          39
         ]
        },
        {
         "mode": "lines",
         "name": "is_Comedy",
         "type": "scatter",
         "x": [
          1960,
          1961,
          1962,
          1963,
          1964,
          1965,
          1966,
          1967,
          1968,
          1969,
          1970,
          1971,
          1972,
          1973,
          1974,
          1975,
          1976,
          1977,
          1978,
          1979,
          1980,
          1981,
          1982,
          1983,
          1984,
          1985,
          1986,
          1987,
          1988,
          1989,
          1990,
          1991,
          1992,
          1993,
          1994,
          1995,
          1996,
          1997,
          1998,
          1999,
          2000,
          2001,
          2002,
          2003,
          2004,
          2005,
          2006,
          2007,
          2008,
          2009,
          2010,
          2011,
          2012,
          2013,
          2014,
          2015
         ],
         "y": [
          8,
          10,
          5,
          13,
          16,
          7,
          16,
          17,
          9,
          12,
          12,
          9,
          13,
          8,
          12,
          12,
          12,
          11,
          14,
          19,
          25,
          20,
          28,
          28,
          38,
          51,
          49,
          57,
          69,
          63,
          48,
          60,
          54,
          72,
          88,
          63,
          91,
          77,
          84,
          100,
          97,
          101,
          104,
          111,
          125,
          143,
          155,
          151,
          169,
          198,
          169,
          172,
          176,
          175,
          185,
          162
         ]
        },
        {
         "mode": "lines",
         "name": "is_Mystery",
         "type": "scatter",
         "x": [
          1960,
          1961,
          1962,
          1963,
          1964,
          1965,
          1966,
          1967,
          1968,
          1969,
          1970,
          1971,
          1972,
          1973,
          1974,
          1975,
          1976,
          1977,
          1978,
          1979,
          1980,
          1981,
          1982,
          1983,
          1984,
          1985,
          1986,
          1987,
          1988,
          1989,
          1990,
          1991,
          1992,
          1993,
          1994,
          1995,
          1996,
          1997,
          1998,
          1999,
          2000,
          2001,
          2002,
          2003,
          2004,
          2005,
          2006,
          2007,
          2008,
          2009,
          2010,
          2011,
          2012,
          2013,
          2014,
          2015
         ],
         "y": [
          0,
          1,
          4,
          6,
          4,
          3,
          6,
          3,
          4,
          1,
          3,
          6,
          4,
          7,
          5,
          8,
          7,
          5,
          7,
          4,
          9,
          10,
          10,
          5,
          4,
          3,
          7,
          7,
          9,
          8,
          14,
          9,
          10,
          15,
          10,
          14,
          13,
          21,
          18,
          24,
          14,
          22,
          28,
          19,
          27,
          29,
          30,
          34,
          29,
          51,
          32,
          38,
          33,
          38,
          36,
          42
         ]
        },
        {
         "mode": "lines",
         "name": "is_Romance",
         "type": "scatter",
         "x": [
          1960,
          1961,
          1962,
          1963,
          1964,
          1965,
          1966,
          1967,
          1968,
          1969,
          1970,
          1971,
          1972,
          1973,
          1974,
          1975,
          1976,
          1977,
          1978,
          1979,
          1980,
          1981,
          1982,
          1983,
          1984,
          1985,
          1986,
          1987,
          1988,
          1989,
          1990,
          1991,
          1992,
          1993,
          1994,
          1995,
          1996,
          1997,
          1998,
          1999,
          2000,
          2001,
          2002,
          2003,
          2004,
          2005,
          2006,
          2007,
          2008,
          2009,
          2010,
          2011,
          2012,
          2013,
          2014,
          2015
         ],
         "y": [
          6,
          7,
          5,
          8,
          9,
          5,
          6,
          11,
          6,
          4,
          6,
          9,
          5,
          3,
          4,
          2,
          5,
          4,
          5,
          8,
          9,
          10,
          12,
          14,
          19,
          21,
          25,
          24,
          19,
          22,
          19,
          26,
          31,
          34,
          35,
          37,
          44,
          32,
          41,
          42,
          47,
          53,
          48,
          49,
          63,
          62,
          70,
          74,
          84,
          83,
          85,
          75,
          79,
          65,
          84,
          57
         ]
        },
        {
         "mode": "lines",
         "name": "is_War",
         "type": "scatter",
         "x": [
          1960,
          1961,
          1962,
          1963,
          1964,
          1965,
          1966,
          1967,
          1968,
          1969,
          1970,
          1971,
          1972,
          1973,
          1974,
          1975,
          1976,
          1977,
          1978,
          1979,
          1980,
          1981,
          1982,
          1983,
          1984,
          1985,
          1986,
          1987,
          1988,
          1989,
          1990,
          1991,
          1992,
          1993,
          1994,
          1995,
          1996,
          1997,
          1998,
          1999,
          2000,
          2001,
          2002,
          2003,
          2004,
          2005,
          2006,
          2007,
          2008,
          2009,
          2010,
          2011,
          2012,
          2013,
          2014,
          2015
         ],
         "y": [
          2,
          2,
          3,
          1,
          3,
          8,
          4,
          1,
          4,
          3,
          5,
          4,
          0,
          0,
          1,
          2,
          2,
          4,
          4,
          3,
          2,
          2,
          2,
          1,
          3,
          2,
          4,
          6,
          6,
          4,
          2,
          2,
          1,
          6,
          3,
          5,
          3,
          1,
          3,
          3,
          5,
          12,
          7,
          8,
          8,
          5,
          7,
          6,
          18,
          12,
          7,
          9,
          10,
          7,
          23,
          9
         ]
        },
        {
         "mode": "lines",
         "name": "is_History",
         "type": "scatter",
         "x": [
          1960,
          1961,
          1962,
          1963,
          1964,
          1965,
          1966,
          1967,
          1968,
          1969,
          1970,
          1971,
          1972,
          1973,
          1974,
          1975,
          1976,
          1977,
          1978,
          1979,
          1980,
          1981,
          1982,
          1983,
          1984,
          1985,
          1986,
          1987,
          1988,
          1989,
          1990,
          1991,
          1992,
          1993,
          1994,
          1995,
          1996,
          1997,
          1998,
          1999,
          2000,
          2001,
          2002,
          2003,
          2004,
          2005,
          2006,
          2007,
          2008,
          2009,
          2010,
          2011,
          2012,
          2013,
          2014,
          2015
         ],
         "y": [
          5,
          3,
          4,
          4,
          3,
          4,
          2,
          0,
          3,
          3,
          3,
          3,
          0,
          2,
          1,
          3,
          2,
          4,
          2,
          3,
          5,
          5,
          2,
          1,
          5,
          1,
          3,
          3,
          4,
          4,
          4,
          1,
          4,
          8,
          3,
          7,
          5,
          7,
          7,
          7,
          4,
          12,
          8,
          9,
          7,
          10,
          12,
          13,
          24,
          16,
          14,
          8,
          13,
          14,
          15,
          15
         ]
        },
        {
         "mode": "lines",
         "name": "is_Music",
         "type": "scatter",
         "x": [
          1960,
          1961,
          1962,
          1963,
          1964,
          1965,
          1966,
          1967,
          1968,
          1969,
          1970,
          1971,
          1972,
          1973,
          1974,
          1975,
          1976,
          1977,
          1978,
          1979,
          1980,
          1981,
          1982,
          1983,
          1984,
          1985,
          1986,
          1987,
          1988,
          1989,
          1990,
          1991,
          1992,
          1993,
          1994,
          1995,
          1996,
          1997,
          1998,
          1999,
          2000,
          2001,
          2002,
          2003,
          2004,
          2005,
          2006,
          2007,
          2008,
          2009,
          2010,
          2011,
          2012,
          2013,
          2014,
          2015
         ],
         "y": [
          1,
          2,
          1,
          0,
          5,
          2,
          0,
          5,
          3,
          2,
          4,
          1,
          2,
          1,
          1,
          3,
          3,
          3,
          3,
          4,
          4,
          3,
          6,
          5,
          11,
          2,
          6,
          4,
          8,
          3,
          2,
          7,
          6,
          6,
          3,
          0,
          4,
          4,
          12,
          5,
          10,
          6,
          4,
          11,
          13,
          13,
          12,
          15,
          20,
          17,
          10,
          17,
          22,
          30,
          28,
          33
         ]
        },
        {
         "mode": "lines",
         "name": "is_Horror",
         "type": "scatter",
         "x": [
          1960,
          1961,
          1962,
          1963,
          1964,
          1965,
          1966,
          1967,
          1968,
          1969,
          1970,
          1971,
          1972,
          1973,
          1974,
          1975,
          1976,
          1977,
          1978,
          1979,
          1980,
          1981,
          1982,
          1983,
          1984,
          1985,
          1986,
          1987,
          1988,
          1989,
          1990,
          1991,
          1992,
          1993,
          1994,
          1995,
          1996,
          1997,
          1998,
          1999,
          2000,
          2001,
          2002,
          2003,
          2004,
          2005,
          2006,
          2007,
          2008,
          2009,
          2010,
          2011,
          2012,
          2013,
          2014,
          2015
         ],
         "y": [
          7,
          3,
          5,
          9,
          6,
          5,
          3,
          4,
          4,
          1,
          5,
          7,
          8,
          15,
          8,
          8,
          9,
          14,
          19,
          11,
          16,
          24,
          20,
          13,
          18,
          14,
          30,
          25,
          36,
          25,
          26,
          13,
          16,
          18,
          13,
          19,
          17,
          18,
          23,
          26,
          21,
          23,
          30,
          24,
          29,
          56,
          56,
          79,
          76,
          90,
          78,
          78,
          104,
          102,
          105,
          125
         ]
        },
        {
         "mode": "lines",
         "name": "is_Documentary",
         "type": "scatter",
         "x": [
          1960,
          1961,
          1962,
          1963,
          1964,
          1965,
          1966,
          1967,
          1968,
          1969,
          1970,
          1971,
          1972,
          1973,
          1974,
          1975,
          1976,
          1977,
          1978,
          1979,
          1980,
          1981,
          1982,
          1983,
          1984,
          1985,
          1986,
          1987,
          1988,
          1989,
          1990,
          1991,
          1992,
          1993,
          1994,
          1995,
          1996,
          1997,
          1998,
          1999,
          2000,
          2001,
          2002,
          2003,
          2004,
          2005,
          2006,
          2007,
          2008,
          2009,
          2010,
          2011,
          2012,
          2013,
          2014,
          2015
         ],
         "y": [
          0,
          0,
          0,
          0,
          0,
          0,
          1,
          1,
          0,
          0,
          3,
          0,
          1,
          1,
          2,
          1,
          1,
          1,
          3,
          0,
          0,
          2,
          1,
          0,
          2,
          1,
          0,
          0,
          5,
          2,
          1,
          3,
          1,
          1,
          2,
          2,
          3,
          2,
          3,
          5,
          3,
          5,
          10,
          11,
          12,
          17,
          16,
          19,
          26,
          25,
          35,
          49,
          49,
          62,
          73,
          57
         ]
        },
        {
         "mode": "lines",
         "name": "is_TV Movie",
         "type": "scatter",
         "x": [
          1960,
          1961,
          1962,
          1963,
          1964,
          1965,
          1966,
          1967,
          1968,
          1969,
          1970,
          1971,
          1972,
          1973,
          1974,
          1975,
          1976,
          1977,
          1978,
          1979,
          1980,
          1981,
          1982,
          1983,
          1984,
          1985,
          1986,
          1987,
          1988,
          1989,
          1990,
          1991,
          1992,
          1993,
          1994,
          1995,
          1996,
          1997,
          1998,
          1999,
          2000,
          2001,
          2002,
          2003,
          2004,
          2005,
          2006,
          2007,
          2008,
          2009,
          2010,
          2011,
          2012,
          2013,
          2014,
          2015
         ],
         "y": [
          0,
          0,
          0,
          0,
          0,
          1,
          0,
          0,
          0,
          1,
          1,
          1,
          0,
          1,
          1,
          0,
          1,
          0,
          3,
          0,
          1,
          1,
          1,
          1,
          1,
          0,
          0,
          2,
          2,
          0,
          1,
          0,
          0,
          0,
          5,
          1,
          2,
          1,
          3,
          6,
          1,
          10,
          3,
          3,
          6,
          3,
          8,
          6,
          5,
          8,
          8,
          10,
          14,
          10,
          14,
          20
         ]
        },
        {
         "mode": "lines",
         "name": "is_Unknown",
         "type": "scatter",
         "x": [
          1960,
          1961,
          1962,
          1963,
          1964,
          1965,
          1966,
          1967,
          1968,
          1969,
          1970,
          1971,
          1972,
          1973,
          1974,
          1975,
          1976,
          1977,
          1978,
          1979,
          1980,
          1981,
          1982,
          1983,
          1984,
          1985,
          1986,
          1987,
          1988,
          1989,
          1990,
          1991,
          1992,
          1993,
          1994,
          1995,
          1996,
          1997,
          1998,
          1999,
          2000,
          2001,
          2002,
          2003,
          2004,
          2005,
          2006,
          2007,
          2008,
          2009,
          2010,
          2011,
          2012,
          2013,
          2014,
          2015
         ],
         "y": [
          0,
          0,
          0,
          0,
          0,
          0,
          0,
          0,
          0,
          0,
          1,
          0,
          0,
          0,
          1,
          0,
          0,
          0,
          0,
          0,
          0,
          0,
          0,
          0,
          0,
          0,
          0,
          0,
          0,
          1,
          0,
          0,
          0,
          0,
          0,
          1,
          1,
          0,
          0,
          0,
          1,
          1,
          0,
          0,
          0,
          1,
          0,
          0,
          1,
          2,
          2,
          0,
          4,
          3,
          1,
          2
         ]
        },
        {
         "mode": "lines",
         "name": "is_Foreign",
         "type": "scatter",
         "x": [
          1960,
          1961,
          1962,
          1963,
          1964,
          1965,
          1966,
          1967,
          1968,
          1969,
          1970,
          1971,
          1972,
          1973,
          1974,
          1975,
          1976,
          1977,
          1978,
          1979,
          1980,
          1981,
          1982,
          1983,
          1984,
          1985,
          1986,
          1987,
          1988,
          1989,
          1990,
          1991,
          1992,
          1993,
          1994,
          1995,
          1996,
          1997,
          1998,
          1999,
          2000,
          2001,
          2002,
          2003,
          2004,
          2005,
          2006,
          2007,
          2008,
          2009,
          2010,
          2011,
          2012,
          2013,
          2014,
          2015
         ],
         "y": [
          1,
          1,
          1,
          2,
          1,
          1,
          2,
          0,
          0,
          0,
          1,
          0,
          0,
          0,
          0,
          0,
          1,
          0,
          1,
          0,
          2,
          0,
          2,
          1,
          0,
          0,
          0,
          0,
          1,
          2,
          1,
          3,
          3,
          5,
          3,
          2,
          2,
          3,
          4,
          6,
          4,
          4,
          11,
          5,
          7,
          10,
          10,
          17,
          18,
          17,
          13,
          14,
          6,
          0,
          0,
          0
         ]
        }
       ],
       "layout": {
        "template": {
         "data": {
          "bar": [
           {
            "error_x": {
             "color": "#2a3f5f"
            },
            "error_y": {
             "color": "#2a3f5f"
            },
            "marker": {
             "line": {
              "color": "#E5ECF6",
              "width": 0.5
             }
            },
            "type": "bar"
           }
          ],
          "barpolar": [
           {
            "marker": {
             "line": {
              "color": "#E5ECF6",
              "width": 0.5
             }
            },
            "type": "barpolar"
           }
          ],
          "carpet": [
           {
            "aaxis": {
             "endlinecolor": "#2a3f5f",
             "gridcolor": "white",
             "linecolor": "white",
             "minorgridcolor": "white",
             "startlinecolor": "#2a3f5f"
            },
            "baxis": {
             "endlinecolor": "#2a3f5f",
             "gridcolor": "white",
             "linecolor": "white",
             "minorgridcolor": "white",
             "startlinecolor": "#2a3f5f"
            },
            "type": "carpet"
           }
          ],
          "choropleth": [
           {
            "colorbar": {
             "outlinewidth": 0,
             "ticks": ""
            },
            "type": "choropleth"
           }
          ],
          "contour": [
           {
            "colorbar": {
             "outlinewidth": 0,
             "ticks": ""
            },
            "colorscale": [
             [
              0,
              "#0d0887"
             ],
             [
              0.1111111111111111,
              "#46039f"
             ],
             [
              0.2222222222222222,
              "#7201a8"
             ],
             [
              0.3333333333333333,
              "#9c179e"
             ],
             [
              0.4444444444444444,
              "#bd3786"
             ],
             [
              0.5555555555555556,
              "#d8576b"
             ],
             [
              0.6666666666666666,
              "#ed7953"
             ],
             [
              0.7777777777777778,
              "#fb9f3a"
             ],
             [
              0.8888888888888888,
              "#fdca26"
             ],
             [
              1,
              "#f0f921"
             ]
            ],
            "type": "contour"
           }
          ],
          "contourcarpet": [
           {
            "colorbar": {
             "outlinewidth": 0,
             "ticks": ""
            },
            "type": "contourcarpet"
           }
          ],
          "heatmap": [
           {
            "colorbar": {
             "outlinewidth": 0,
             "ticks": ""
            },
            "colorscale": [
             [
              0,
              "#0d0887"
             ],
             [
              0.1111111111111111,
              "#46039f"
             ],
             [
              0.2222222222222222,
              "#7201a8"
             ],
             [
              0.3333333333333333,
              "#9c179e"
             ],
             [
              0.4444444444444444,
              "#bd3786"
             ],
             [
              0.5555555555555556,
              "#d8576b"
             ],
             [
              0.6666666666666666,
              "#ed7953"
             ],
             [
              0.7777777777777778,
              "#fb9f3a"
             ],
             [
              0.8888888888888888,
              "#fdca26"
             ],
             [
              1,
              "#f0f921"
             ]
            ],
            "type": "heatmap"
           }
          ],
          "heatmapgl": [
           {
            "colorbar": {
             "outlinewidth": 0,
             "ticks": ""
            },
            "colorscale": [
             [
              0,
              "#0d0887"
             ],
             [
              0.1111111111111111,
              "#46039f"
             ],
             [
              0.2222222222222222,
              "#7201a8"
             ],
             [
              0.3333333333333333,
              "#9c179e"
             ],
             [
              0.4444444444444444,
              "#bd3786"
             ],
             [
              0.5555555555555556,
              "#d8576b"
             ],
             [
              0.6666666666666666,
              "#ed7953"
             ],
             [
              0.7777777777777778,
              "#fb9f3a"
             ],
             [
              0.8888888888888888,
              "#fdca26"
             ],
             [
              1,
              "#f0f921"
             ]
            ],
            "type": "heatmapgl"
           }
          ],
          "histogram": [
           {
            "marker": {
             "colorbar": {
              "outlinewidth": 0,
              "ticks": ""
             }
            },
            "type": "histogram"
           }
          ],
          "histogram2d": [
           {
            "colorbar": {
             "outlinewidth": 0,
             "ticks": ""
            },
            "colorscale": [
             [
              0,
              "#0d0887"
             ],
             [
              0.1111111111111111,
              "#46039f"
             ],
             [
              0.2222222222222222,
              "#7201a8"
             ],
             [
              0.3333333333333333,
              "#9c179e"
             ],
             [
              0.4444444444444444,
              "#bd3786"
             ],
             [
              0.5555555555555556,
              "#d8576b"
             ],
             [
              0.6666666666666666,
              "#ed7953"
             ],
             [
              0.7777777777777778,
              "#fb9f3a"
             ],
             [
              0.8888888888888888,
              "#fdca26"
             ],
             [
              1,
              "#f0f921"
             ]
            ],
            "type": "histogram2d"
           }
          ],
          "histogram2dcontour": [
           {
            "colorbar": {
             "outlinewidth": 0,
             "ticks": ""
            },
            "colorscale": [
             [
              0,
              "#0d0887"
             ],
             [
              0.1111111111111111,
              "#46039f"
             ],
             [
              0.2222222222222222,
              "#7201a8"
             ],
             [
              0.3333333333333333,
              "#9c179e"
             ],
             [
              0.4444444444444444,
              "#bd3786"
             ],
             [
              0.5555555555555556,
              "#d8576b"
             ],
             [
              0.6666666666666666,
              "#ed7953"
             ],
             [
              0.7777777777777778,
              "#fb9f3a"
             ],
             [
              0.8888888888888888,
              "#fdca26"
             ],
             [
              1,
              "#f0f921"
             ]
            ],
            "type": "histogram2dcontour"
           }
          ],
          "mesh3d": [
           {
            "colorbar": {
             "outlinewidth": 0,
             "ticks": ""
            },
            "type": "mesh3d"
           }
          ],
          "parcoords": [
           {
            "line": {
             "colorbar": {
              "outlinewidth": 0,
              "ticks": ""
             }
            },
            "type": "parcoords"
           }
          ],
          "pie": [
           {
            "automargin": true,
            "type": "pie"
           }
          ],
          "scatter": [
           {
            "marker": {
             "colorbar": {
              "outlinewidth": 0,
              "ticks": ""
             }
            },
            "type": "scatter"
           }
          ],
          "scatter3d": [
           {
            "line": {
             "colorbar": {
              "outlinewidth": 0,
              "ticks": ""
             }
            },
            "marker": {
             "colorbar": {
              "outlinewidth": 0,
              "ticks": ""
             }
            },
            "type": "scatter3d"
           }
          ],
          "scattercarpet": [
           {
            "marker": {
             "colorbar": {
              "outlinewidth": 0,
              "ticks": ""
             }
            },
            "type": "scattercarpet"
           }
          ],
          "scattergeo": [
           {
            "marker": {
             "colorbar": {
              "outlinewidth": 0,
              "ticks": ""
             }
            },
            "type": "scattergeo"
           }
          ],
          "scattergl": [
           {
            "marker": {
             "colorbar": {
              "outlinewidth": 0,
              "ticks": ""
             }
            },
            "type": "scattergl"
           }
          ],
          "scattermapbox": [
           {
            "marker": {
             "colorbar": {
              "outlinewidth": 0,
              "ticks": ""
             }
            },
            "type": "scattermapbox"
           }
          ],
          "scatterpolar": [
           {
            "marker": {
             "colorbar": {
              "outlinewidth": 0,
              "ticks": ""
             }
            },
            "type": "scatterpolar"
           }
          ],
          "scatterpolargl": [
           {
            "marker": {
             "colorbar": {
              "outlinewidth": 0,
              "ticks": ""
             }
            },
            "type": "scatterpolargl"
           }
          ],
          "scatterternary": [
           {
            "marker": {
             "colorbar": {
              "outlinewidth": 0,
              "ticks": ""
             }
            },
            "type": "scatterternary"
           }
          ],
          "surface": [
           {
            "colorbar": {
             "outlinewidth": 0,
             "ticks": ""
            },
            "colorscale": [
             [
              0,
              "#0d0887"
             ],
             [
              0.1111111111111111,
              "#46039f"
             ],
             [
              0.2222222222222222,
              "#7201a8"
             ],
             [
              0.3333333333333333,
              "#9c179e"
             ],
             [
              0.4444444444444444,
              "#bd3786"
             ],
             [
              0.5555555555555556,
              "#d8576b"
             ],
             [
              0.6666666666666666,
              "#ed7953"
             ],
             [
              0.7777777777777778,
              "#fb9f3a"
             ],
             [
              0.8888888888888888,
              "#fdca26"
             ],
             [
              1,
              "#f0f921"
             ]
            ],
            "type": "surface"
           }
          ],
          "table": [
           {
            "cells": {
             "fill": {
              "color": "#EBF0F8"
             },
             "line": {
              "color": "white"
             }
            },
            "header": {
             "fill": {
              "color": "#C8D4E3"
             },
             "line": {
              "color": "white"
             }
            },
            "type": "table"
           }
          ]
         },
         "layout": {
          "annotationdefaults": {
           "arrowcolor": "#2a3f5f",
           "arrowhead": 0,
           "arrowwidth": 1
          },
          "coloraxis": {
           "colorbar": {
            "outlinewidth": 0,
            "ticks": ""
           }
          },
          "colorscale": {
           "diverging": [
            [
             0,
             "#8e0152"
            ],
            [
             0.1,
             "#c51b7d"
            ],
            [
             0.2,
             "#de77ae"
            ],
            [
             0.3,
             "#f1b6da"
            ],
            [
             0.4,
             "#fde0ef"
            ],
            [
             0.5,
             "#f7f7f7"
            ],
            [
             0.6,
             "#e6f5d0"
            ],
            [
             0.7,
             "#b8e186"
            ],
            [
             0.8,
             "#7fbc41"
            ],
            [
             0.9,
             "#4d9221"
            ],
            [
             1,
             "#276419"
            ]
           ],
           "sequential": [
            [
             0,
             "#0d0887"
            ],
            [
             0.1111111111111111,
             "#46039f"
            ],
            [
             0.2222222222222222,
             "#7201a8"
            ],
            [
             0.3333333333333333,
             "#9c179e"
            ],
            [
             0.4444444444444444,
             "#bd3786"
            ],
            [
             0.5555555555555556,
             "#d8576b"
            ],
            [
             0.6666666666666666,
             "#ed7953"
            ],
            [
             0.7777777777777778,
             "#fb9f3a"
            ],
            [
             0.8888888888888888,
             "#fdca26"
            ],
            [
             1,
             "#f0f921"
            ]
           ],
           "sequentialminus": [
            [
             0,
             "#0d0887"
            ],
            [
             0.1111111111111111,
             "#46039f"
            ],
            [
             0.2222222222222222,
             "#7201a8"
            ],
            [
             0.3333333333333333,
             "#9c179e"
            ],
            [
             0.4444444444444444,
             "#bd3786"
            ],
            [
             0.5555555555555556,
             "#d8576b"
            ],
            [
             0.6666666666666666,
             "#ed7953"
            ],
            [
             0.7777777777777778,
             "#fb9f3a"
            ],
            [
             0.8888888888888888,
             "#fdca26"
            ],
            [
             1,
             "#f0f921"
            ]
           ]
          },
          "colorway": [
           "#636efa",
           "#EF553B",
           "#00cc96",
           "#ab63fa",
           "#FFA15A",
           "#19d3f3",
           "#FF6692",
           "#B6E880",
           "#FF97FF",
           "#FECB52"
          ],
          "font": {
           "color": "#2a3f5f"
          },
          "geo": {
           "bgcolor": "white",
           "lakecolor": "white",
           "landcolor": "#E5ECF6",
           "showlakes": true,
           "showland": true,
           "subunitcolor": "white"
          },
          "hoverlabel": {
           "align": "left"
          },
          "hovermode": "closest",
          "mapbox": {
           "style": "light"
          },
          "paper_bgcolor": "white",
          "plot_bgcolor": "#E5ECF6",
          "polar": {
           "angularaxis": {
            "gridcolor": "white",
            "linecolor": "white",
            "ticks": ""
           },
           "bgcolor": "#E5ECF6",
           "radialaxis": {
            "gridcolor": "white",
            "linecolor": "white",
            "ticks": ""
           }
          },
          "scene": {
           "xaxis": {
            "backgroundcolor": "#E5ECF6",
            "gridcolor": "white",
            "gridwidth": 2,
            "linecolor": "white",
            "showbackground": true,
            "ticks": "",
            "zerolinecolor": "white"
           },
           "yaxis": {
            "backgroundcolor": "#E5ECF6",
            "gridcolor": "white",
            "gridwidth": 2,
            "linecolor": "white",
            "showbackground": true,
            "ticks": "",
            "zerolinecolor": "white"
           },
           "zaxis": {
            "backgroundcolor": "#E5ECF6",
            "gridcolor": "white",
            "gridwidth": 2,
            "linecolor": "white",
            "showbackground": true,
            "ticks": "",
            "zerolinecolor": "white"
           }
          },
          "shapedefaults": {
           "line": {
            "color": "#2a3f5f"
           }
          },
          "ternary": {
           "aaxis": {
            "gridcolor": "white",
            "linecolor": "white",
            "ticks": ""
           },
           "baxis": {
            "gridcolor": "white",
            "linecolor": "white",
            "ticks": ""
           },
           "bgcolor": "#E5ECF6",
           "caxis": {
            "gridcolor": "white",
            "linecolor": "white",
            "ticks": ""
           }
          },
          "title": {
           "x": 0.05
          },
          "xaxis": {
           "automargin": true,
           "gridcolor": "white",
           "linecolor": "white",
           "ticks": "",
           "title": {
            "standoff": 15
           },
           "zerolinecolor": "white",
           "zerolinewidth": 2
          },
          "yaxis": {
           "automargin": true,
           "gridcolor": "white",
           "linecolor": "white",
           "ticks": "",
           "title": {
            "standoff": 15
           },
           "zerolinecolor": "white",
           "zerolinewidth": 2
          }
         }
        },
        "title": {
         "text": "Genre popularity over years",
         "x": 0.5
        }
       }
      },
      "text/html": [
       "<div>\n",
       "        \n",
       "        \n",
       "            <div id=\"e15c0880-8173-41bb-a311-5750fcc8597b\" class=\"plotly-graph-div\" style=\"height:525px; width:100%;\"></div>\n",
       "            <script type=\"text/javascript\">\n",
       "                require([\"plotly\"], function(Plotly) {\n",
       "                    window.PLOTLYENV=window.PLOTLYENV || {};\n",
       "                    \n",
       "                if (document.getElementById(\"e15c0880-8173-41bb-a311-5750fcc8597b\")) {\n",
       "                    Plotly.newPlot(\n",
       "                        'e15c0880-8173-41bb-a311-5750fcc8597b',\n",
       "                        [{\"mode\": \"lines\", \"name\": \"is_Action\", \"type\": \"scatter\", \"x\": [1960, 1961, 1962, 1963, 1964, 1965, 1966, 1967, 1968, 1969, 1970, 1971, 1972, 1973, 1974, 1975, 1976, 1977, 1978, 1979, 1980, 1981, 1982, 1983, 1984, 1985, 1986, 1987, 1988, 1989, 1990, 1991, 1992, 1993, 1994, 1995, 1996, 1997, 1998, 1999, 2000, 2001, 2002, 2003, 2004, 2005, 2006, 2007, 2008, 2009, 2010, 2011, 2012, 2013, 2014, 2015], \"y\": [8, 7, 8, 4, 5, 9, 14, 7, 6, 10, 11, 11, 10, 15, 14, 10, 13, 14, 15, 8, 27, 17, 17, 21, 33, 28, 30, 29, 32, 38, 39, 39, 34, 53, 61, 47, 42, 59, 43, 38, 47, 61, 72, 73, 75, 70, 80, 95, 99, 108, 108, 115, 99, 121, 129, 107]}, {\"mode\": \"lines\", \"name\": \"is_Adventure\", \"type\": \"scatter\", \"x\": [1960, 1961, 1962, 1963, 1964, 1965, 1966, 1967, 1968, 1969, 1970, 1971, 1972, 1973, 1974, 1975, 1976, 1977, 1978, 1979, 1980, 1981, 1982, 1983, 1984, 1985, 1986, 1987, 1988, 1989, 1990, 1991, 1992, 1993, 1994, 1995, 1996, 1997, 1998, 1999, 2000, 2001, 2002, 2003, 2004, 2005, 2006, 2007, 2008, 2009, 2010, 2011, 2012, 2013, 2014, 2015], \"y\": [5, 6, 7, 7, 5, 6, 11, 7, 5, 5, 6, 5, 5, 5, 8, 8, 6, 15, 11, 8, 14, 14, 10, 14, 22, 28, 17, 17, 15, 24, 23, 21, 17, 26, 33, 32, 30, 35, 38, 20, 28, 40, 45, 41, 49, 53, 55, 60, 63, 72, 59, 62, 50, 67, 67, 69]}, {\"mode\": \"lines\", \"name\": \"is_Science Fiction\", \"type\": \"scatter\", \"x\": [1960, 1961, 1962, 1963, 1964, 1965, 1966, 1967, 1968, 1969, 1970, 1971, 1972, 1973, 1974, 1975, 1976, 1977, 1978, 1979, 1980, 1981, 1982, 1983, 1984, 1985, 1986, 1987, 1988, 1989, 1990, 1991, 1992, 1993, 1994, 1995, 1996, 1997, 1998, 1999, 2000, 2001, 2002, 2003, 2004, 2005, 2006, 2007, 2008, 2009, 2010, 2011, 2012, 2013, 2014, 2015], \"y\": [3, 4, 2, 2, 4, 2, 6, 4, 4, 3, 3, 6, 4, 6, 5, 11, 5, 11, 16, 10, 11, 10, 13, 16, 27, 17, 21, 18, 18, 21, 18, 13, 16, 18, 20, 18, 24, 29, 26, 29, 24, 25, 28, 41, 34, 25, 30, 41, 52, 71, 46, 56, 54, 61, 62, 86]}, {\"mode\": \"lines\", \"name\": \"is_Thriller\", \"type\": \"scatter\", \"x\": [1960, 1961, 1962, 1963, 1964, 1965, 1966, 1967, 1968, 1969, 1970, 1971, 1972, 1973, 1974, 1975, 1976, 1977, 1978, 1979, 1980, 1981, 1982, 1983, 1984, 1985, 1986, 1987, 1988, 1989, 1990, 1991, 1992, 1993, 1994, 1995, 1996, 1997, 1998, 1999, 2000, 2001, 2002, 2003, 2004, 2005, 2006, 2007, 2008, 2009, 2010, 2011, 2012, 2013, 2014, 2015], \"y\": [6, 0, 7, 10, 9, 11, 8, 5, 5, 3, 5, 17, 10, 16, 20, 13, 17, 12, 22, 16, 25, 27, 17, 24, 24, 24, 23, 28, 33, 35, 46, 37, 45, 45, 45, 49, 61, 61, 53, 53, 63, 66, 84, 73, 74, 92, 114, 125, 127, 157, 135, 146, 160, 175, 179, 171]}, {\"mode\": \"lines\", \"name\": \"is_Fantasy\", \"type\": \"scatter\", \"x\": [1960, 1961, 1962, 1963, 1964, 1965, 1966, 1967, 1968, 1969, 1970, 1971, 1972, 1973, 1974, 1975, 1976, 1977, 1978, 1979, 1980, 1981, 1982, 1983, 1984, 1985, 1986, 1987, 1988, 1989, 1990, 1991, 1992, 1993, 1994, 1995, 1996, 1997, 1998, 1999, 2000, 2001, 2002, 2003, 2004, 2005, 2006, 2007, 2008, 2009, 2010, 2011, 2012, 2013, 2014, 2015], \"y\": [2, 2, 1, 2, 4, 0, 2, 3, 5, 2, 3, 2, 1, 1, 3, 4, 2, 9, 5, 0, 7, 3, 13, 10, 15, 14, 11, 18, 16, 16, 13, 19, 14, 13, 24, 17, 22, 21, 22, 23, 21, 25, 20, 27, 19, 35, 34, 47, 43, 49, 44, 46, 34, 39, 36, 33]}, {\"mode\": \"lines\", \"name\": \"is_Crime\", \"type\": \"scatter\", \"x\": [1960, 1961, 1962, 1963, 1964, 1965, 1966, 1967, 1968, 1969, 1970, 1971, 1972, 1973, 1974, 1975, 1976, 1977, 1978, 1979, 1980, 1981, 1982, 1983, 1984, 1985, 1986, 1987, 1988, 1989, 1990, 1991, 1992, 1993, 1994, 1995, 1996, 1997, 1998, 1999, 2000, 2001, 2002, 2003, 2004, 2005, 2006, 2007, 2008, 2009, 2010, 2011, 2012, 2013, 2014, 2015], \"y\": [2, 2, 3, 4, 10, 2, 5, 7, 5, 3, 4, 10, 7, 17, 15, 6, 8, 2, 6, 8, 9, 10, 9, 11, 15, 14, 18, 21, 21, 25, 30, 20, 25, 28, 26, 31, 19, 28, 34, 29, 31, 39, 41, 46, 32, 45, 53, 65, 62, 52, 51, 48, 54, 71, 65, 51]}, {\"mode\": \"lines\", \"name\": \"is_Western\", \"type\": \"scatter\", \"x\": [1960, 1961, 1962, 1963, 1964, 1965, 1966, 1967, 1968, 1969, 1970, 1971, 1972, 1973, 1974, 1975, 1976, 1977, 1978, 1979, 1980, 1981, 1982, 1983, 1984, 1985, 1986, 1987, 1988, 1989, 1990, 1991, 1992, 1993, 1994, 1995, 1996, 1997, 1998, 1999, 2000, 2001, 2002, 2003, 2004, 2005, 2006, 2007, 2008, 2009, 2010, 2011, 2012, 2013, 2014, 2015], \"y\": [6, 3, 3, 2, 1, 4, 7, 2, 1, 7, 8, 5, 5, 4, 2, 3, 3, 1, 1, 4, 5, 0, 2, 1, 0, 3, 1, 1, 0, 1, 3, 2, 2, 3, 8, 3, 0, 0, 1, 3, 2, 2, 1, 4, 7, 2, 1, 5, 2, 0, 6, 3, 4, 3, 6, 6]}, {\"mode\": \"lines\", \"name\": \"is_Drama\", \"type\": \"scatter\", \"x\": [1960, 1961, 1962, 1963, 1964, 1965, 1966, 1967, 1968, 1969, 1970, 1971, 1972, 1973, 1974, 1975, 1976, 1977, 1978, 1979, 1980, 1981, 1982, 1983, 1984, 1985, 1986, 1987, 1988, 1989, 1990, 1991, 1992, 1993, 1994, 1995, 1996, 1997, 1998, 1999, 2000, 2001, 2002, 2003, 2004, 2005, 2006, 2007, 2008, 2009, 2010, 2011, 2012, 2013, 2014, 2015], \"y\": [13, 16, 21, 13, 20, 20, 16, 16, 20, 13, 19, 30, 16, 31, 21, 17, 22, 24, 29, 30, 32, 32, 33, 35, 40, 40, 51, 52, 54, 54, 60, 63, 65, 90, 83, 93, 104, 83, 108, 113, 101, 100, 130, 110, 141, 182, 197, 197, 233, 224, 211, 214, 232, 253, 284, 260]}, {\"mode\": \"lines\", \"name\": \"is_Family\", \"type\": \"scatter\", \"x\": [1960, 1961, 1962, 1963, 1964, 1965, 1966, 1967, 1968, 1969, 1970, 1971, 1972, 1973, 1974, 1975, 1976, 1977, 1978, 1979, 1980, 1981, 1982, 1983, 1984, 1985, 1986, 1987, 1988, 1989, 1990, 1991, 1992, 1993, 1994, 1995, 1996, 1997, 1998, 1999, 2000, 2001, 2002, 2003, 2004, 2005, 2006, 2007, 2008, 2009, 2010, 2011, 2012, 2013, 2014, 2015], \"y\": [3, 5, 2, 3, 4, 3, 7, 3, 5, 4, 3, 2, 2, 4, 4, 2, 3, 8, 6, 5, 4, 5, 8, 4, 9, 12, 13, 16, 17, 17, 12, 21, 16, 29, 35, 33, 31, 33, 34, 29, 34, 31, 39, 44, 40, 57, 65, 45, 56, 60, 55, 72, 42, 48, 43, 44]}, {\"mode\": \"lines\", \"name\": \"is_Animation\", \"type\": \"scatter\", \"x\": [1960, 1961, 1962, 1963, 1964, 1965, 1966, 1967, 1968, 1969, 1970, 1971, 1972, 1973, 1974, 1975, 1976, 1977, 1978, 1979, 1980, 1981, 1982, 1983, 1984, 1985, 1986, 1987, 1988, 1989, 1990, 1991, 1992, 1993, 1994, 1995, 1996, 1997, 1998, 1999, 2000, 2001, 2002, 2003, 2004, 2005, 2006, 2007, 2008, 2009, 2010, 2011, 2012, 2013, 2014, 2015], \"y\": [0, 1, 0, 1, 2, 1, 3, 2, 3, 3, 2, 1, 1, 3, 1, 1, 0, 5, 2, 1, 0, 3, 6, 3, 1, 2, 7, 4, 7, 5, 4, 3, 4, 6, 8, 7, 8, 10, 16, 13, 27, 18, 21, 29, 23, 26, 39, 32, 33, 48, 50, 46, 40, 42, 36, 39]}, {\"mode\": \"lines\", \"name\": \"is_Comedy\", \"type\": \"scatter\", \"x\": [1960, 1961, 1962, 1963, 1964, 1965, 1966, 1967, 1968, 1969, 1970, 1971, 1972, 1973, 1974, 1975, 1976, 1977, 1978, 1979, 1980, 1981, 1982, 1983, 1984, 1985, 1986, 1987, 1988, 1989, 1990, 1991, 1992, 1993, 1994, 1995, 1996, 1997, 1998, 1999, 2000, 2001, 2002, 2003, 2004, 2005, 2006, 2007, 2008, 2009, 2010, 2011, 2012, 2013, 2014, 2015], \"y\": [8, 10, 5, 13, 16, 7, 16, 17, 9, 12, 12, 9, 13, 8, 12, 12, 12, 11, 14, 19, 25, 20, 28, 28, 38, 51, 49, 57, 69, 63, 48, 60, 54, 72, 88, 63, 91, 77, 84, 100, 97, 101, 104, 111, 125, 143, 155, 151, 169, 198, 169, 172, 176, 175, 185, 162]}, {\"mode\": \"lines\", \"name\": \"is_Mystery\", \"type\": \"scatter\", \"x\": [1960, 1961, 1962, 1963, 1964, 1965, 1966, 1967, 1968, 1969, 1970, 1971, 1972, 1973, 1974, 1975, 1976, 1977, 1978, 1979, 1980, 1981, 1982, 1983, 1984, 1985, 1986, 1987, 1988, 1989, 1990, 1991, 1992, 1993, 1994, 1995, 1996, 1997, 1998, 1999, 2000, 2001, 2002, 2003, 2004, 2005, 2006, 2007, 2008, 2009, 2010, 2011, 2012, 2013, 2014, 2015], \"y\": [0, 1, 4, 6, 4, 3, 6, 3, 4, 1, 3, 6, 4, 7, 5, 8, 7, 5, 7, 4, 9, 10, 10, 5, 4, 3, 7, 7, 9, 8, 14, 9, 10, 15, 10, 14, 13, 21, 18, 24, 14, 22, 28, 19, 27, 29, 30, 34, 29, 51, 32, 38, 33, 38, 36, 42]}, {\"mode\": \"lines\", \"name\": \"is_Romance\", \"type\": \"scatter\", \"x\": [1960, 1961, 1962, 1963, 1964, 1965, 1966, 1967, 1968, 1969, 1970, 1971, 1972, 1973, 1974, 1975, 1976, 1977, 1978, 1979, 1980, 1981, 1982, 1983, 1984, 1985, 1986, 1987, 1988, 1989, 1990, 1991, 1992, 1993, 1994, 1995, 1996, 1997, 1998, 1999, 2000, 2001, 2002, 2003, 2004, 2005, 2006, 2007, 2008, 2009, 2010, 2011, 2012, 2013, 2014, 2015], \"y\": [6, 7, 5, 8, 9, 5, 6, 11, 6, 4, 6, 9, 5, 3, 4, 2, 5, 4, 5, 8, 9, 10, 12, 14, 19, 21, 25, 24, 19, 22, 19, 26, 31, 34, 35, 37, 44, 32, 41, 42, 47, 53, 48, 49, 63, 62, 70, 74, 84, 83, 85, 75, 79, 65, 84, 57]}, {\"mode\": \"lines\", \"name\": \"is_War\", \"type\": \"scatter\", \"x\": [1960, 1961, 1962, 1963, 1964, 1965, 1966, 1967, 1968, 1969, 1970, 1971, 1972, 1973, 1974, 1975, 1976, 1977, 1978, 1979, 1980, 1981, 1982, 1983, 1984, 1985, 1986, 1987, 1988, 1989, 1990, 1991, 1992, 1993, 1994, 1995, 1996, 1997, 1998, 1999, 2000, 2001, 2002, 2003, 2004, 2005, 2006, 2007, 2008, 2009, 2010, 2011, 2012, 2013, 2014, 2015], \"y\": [2, 2, 3, 1, 3, 8, 4, 1, 4, 3, 5, 4, 0, 0, 1, 2, 2, 4, 4, 3, 2, 2, 2, 1, 3, 2, 4, 6, 6, 4, 2, 2, 1, 6, 3, 5, 3, 1, 3, 3, 5, 12, 7, 8, 8, 5, 7, 6, 18, 12, 7, 9, 10, 7, 23, 9]}, {\"mode\": \"lines\", \"name\": \"is_History\", \"type\": \"scatter\", \"x\": [1960, 1961, 1962, 1963, 1964, 1965, 1966, 1967, 1968, 1969, 1970, 1971, 1972, 1973, 1974, 1975, 1976, 1977, 1978, 1979, 1980, 1981, 1982, 1983, 1984, 1985, 1986, 1987, 1988, 1989, 1990, 1991, 1992, 1993, 1994, 1995, 1996, 1997, 1998, 1999, 2000, 2001, 2002, 2003, 2004, 2005, 2006, 2007, 2008, 2009, 2010, 2011, 2012, 2013, 2014, 2015], \"y\": [5, 3, 4, 4, 3, 4, 2, 0, 3, 3, 3, 3, 0, 2, 1, 3, 2, 4, 2, 3, 5, 5, 2, 1, 5, 1, 3, 3, 4, 4, 4, 1, 4, 8, 3, 7, 5, 7, 7, 7, 4, 12, 8, 9, 7, 10, 12, 13, 24, 16, 14, 8, 13, 14, 15, 15]}, {\"mode\": \"lines\", \"name\": \"is_Music\", \"type\": \"scatter\", \"x\": [1960, 1961, 1962, 1963, 1964, 1965, 1966, 1967, 1968, 1969, 1970, 1971, 1972, 1973, 1974, 1975, 1976, 1977, 1978, 1979, 1980, 1981, 1982, 1983, 1984, 1985, 1986, 1987, 1988, 1989, 1990, 1991, 1992, 1993, 1994, 1995, 1996, 1997, 1998, 1999, 2000, 2001, 2002, 2003, 2004, 2005, 2006, 2007, 2008, 2009, 2010, 2011, 2012, 2013, 2014, 2015], \"y\": [1, 2, 1, 0, 5, 2, 0, 5, 3, 2, 4, 1, 2, 1, 1, 3, 3, 3, 3, 4, 4, 3, 6, 5, 11, 2, 6, 4, 8, 3, 2, 7, 6, 6, 3, 0, 4, 4, 12, 5, 10, 6, 4, 11, 13, 13, 12, 15, 20, 17, 10, 17, 22, 30, 28, 33]}, {\"mode\": \"lines\", \"name\": \"is_Horror\", \"type\": \"scatter\", \"x\": [1960, 1961, 1962, 1963, 1964, 1965, 1966, 1967, 1968, 1969, 1970, 1971, 1972, 1973, 1974, 1975, 1976, 1977, 1978, 1979, 1980, 1981, 1982, 1983, 1984, 1985, 1986, 1987, 1988, 1989, 1990, 1991, 1992, 1993, 1994, 1995, 1996, 1997, 1998, 1999, 2000, 2001, 2002, 2003, 2004, 2005, 2006, 2007, 2008, 2009, 2010, 2011, 2012, 2013, 2014, 2015], \"y\": [7, 3, 5, 9, 6, 5, 3, 4, 4, 1, 5, 7, 8, 15, 8, 8, 9, 14, 19, 11, 16, 24, 20, 13, 18, 14, 30, 25, 36, 25, 26, 13, 16, 18, 13, 19, 17, 18, 23, 26, 21, 23, 30, 24, 29, 56, 56, 79, 76, 90, 78, 78, 104, 102, 105, 125]}, {\"mode\": \"lines\", \"name\": \"is_Documentary\", \"type\": \"scatter\", \"x\": [1960, 1961, 1962, 1963, 1964, 1965, 1966, 1967, 1968, 1969, 1970, 1971, 1972, 1973, 1974, 1975, 1976, 1977, 1978, 1979, 1980, 1981, 1982, 1983, 1984, 1985, 1986, 1987, 1988, 1989, 1990, 1991, 1992, 1993, 1994, 1995, 1996, 1997, 1998, 1999, 2000, 2001, 2002, 2003, 2004, 2005, 2006, 2007, 2008, 2009, 2010, 2011, 2012, 2013, 2014, 2015], \"y\": [0, 0, 0, 0, 0, 0, 1, 1, 0, 0, 3, 0, 1, 1, 2, 1, 1, 1, 3, 0, 0, 2, 1, 0, 2, 1, 0, 0, 5, 2, 1, 3, 1, 1, 2, 2, 3, 2, 3, 5, 3, 5, 10, 11, 12, 17, 16, 19, 26, 25, 35, 49, 49, 62, 73, 57]}, {\"mode\": \"lines\", \"name\": \"is_TV Movie\", \"type\": \"scatter\", \"x\": [1960, 1961, 1962, 1963, 1964, 1965, 1966, 1967, 1968, 1969, 1970, 1971, 1972, 1973, 1974, 1975, 1976, 1977, 1978, 1979, 1980, 1981, 1982, 1983, 1984, 1985, 1986, 1987, 1988, 1989, 1990, 1991, 1992, 1993, 1994, 1995, 1996, 1997, 1998, 1999, 2000, 2001, 2002, 2003, 2004, 2005, 2006, 2007, 2008, 2009, 2010, 2011, 2012, 2013, 2014, 2015], \"y\": [0, 0, 0, 0, 0, 1, 0, 0, 0, 1, 1, 1, 0, 1, 1, 0, 1, 0, 3, 0, 1, 1, 1, 1, 1, 0, 0, 2, 2, 0, 1, 0, 0, 0, 5, 1, 2, 1, 3, 6, 1, 10, 3, 3, 6, 3, 8, 6, 5, 8, 8, 10, 14, 10, 14, 20]}, {\"mode\": \"lines\", \"name\": \"is_Unknown\", \"type\": \"scatter\", \"x\": [1960, 1961, 1962, 1963, 1964, 1965, 1966, 1967, 1968, 1969, 1970, 1971, 1972, 1973, 1974, 1975, 1976, 1977, 1978, 1979, 1980, 1981, 1982, 1983, 1984, 1985, 1986, 1987, 1988, 1989, 1990, 1991, 1992, 1993, 1994, 1995, 1996, 1997, 1998, 1999, 2000, 2001, 2002, 2003, 2004, 2005, 2006, 2007, 2008, 2009, 2010, 2011, 2012, 2013, 2014, 2015], \"y\": [0, 0, 0, 0, 0, 0, 0, 0, 0, 0, 1, 0, 0, 0, 1, 0, 0, 0, 0, 0, 0, 0, 0, 0, 0, 0, 0, 0, 0, 1, 0, 0, 0, 0, 0, 1, 1, 0, 0, 0, 1, 1, 0, 0, 0, 1, 0, 0, 1, 2, 2, 0, 4, 3, 1, 2]}, {\"mode\": \"lines\", \"name\": \"is_Foreign\", \"type\": \"scatter\", \"x\": [1960, 1961, 1962, 1963, 1964, 1965, 1966, 1967, 1968, 1969, 1970, 1971, 1972, 1973, 1974, 1975, 1976, 1977, 1978, 1979, 1980, 1981, 1982, 1983, 1984, 1985, 1986, 1987, 1988, 1989, 1990, 1991, 1992, 1993, 1994, 1995, 1996, 1997, 1998, 1999, 2000, 2001, 2002, 2003, 2004, 2005, 2006, 2007, 2008, 2009, 2010, 2011, 2012, 2013, 2014, 2015], \"y\": [1, 1, 1, 2, 1, 1, 2, 0, 0, 0, 1, 0, 0, 0, 0, 0, 1, 0, 1, 0, 2, 0, 2, 1, 0, 0, 0, 0, 1, 2, 1, 3, 3, 5, 3, 2, 2, 3, 4, 6, 4, 4, 11, 5, 7, 10, 10, 17, 18, 17, 13, 14, 6, 0, 0, 0]}],\n",
       "                        {\"template\": {\"data\": {\"bar\": [{\"error_x\": {\"color\": \"#2a3f5f\"}, \"error_y\": {\"color\": \"#2a3f5f\"}, \"marker\": {\"line\": {\"color\": \"#E5ECF6\", \"width\": 0.5}}, \"type\": \"bar\"}], \"barpolar\": [{\"marker\": {\"line\": {\"color\": \"#E5ECF6\", \"width\": 0.5}}, \"type\": \"barpolar\"}], \"carpet\": [{\"aaxis\": {\"endlinecolor\": \"#2a3f5f\", \"gridcolor\": \"white\", \"linecolor\": \"white\", \"minorgridcolor\": \"white\", \"startlinecolor\": \"#2a3f5f\"}, \"baxis\": {\"endlinecolor\": \"#2a3f5f\", \"gridcolor\": \"white\", \"linecolor\": \"white\", \"minorgridcolor\": \"white\", \"startlinecolor\": \"#2a3f5f\"}, \"type\": \"carpet\"}], \"choropleth\": [{\"colorbar\": {\"outlinewidth\": 0, \"ticks\": \"\"}, \"type\": \"choropleth\"}], \"contour\": [{\"colorbar\": {\"outlinewidth\": 0, \"ticks\": \"\"}, \"colorscale\": [[0.0, \"#0d0887\"], [0.1111111111111111, \"#46039f\"], [0.2222222222222222, \"#7201a8\"], [0.3333333333333333, \"#9c179e\"], [0.4444444444444444, \"#bd3786\"], [0.5555555555555556, \"#d8576b\"], [0.6666666666666666, \"#ed7953\"], [0.7777777777777778, \"#fb9f3a\"], [0.8888888888888888, \"#fdca26\"], [1.0, \"#f0f921\"]], \"type\": \"contour\"}], \"contourcarpet\": [{\"colorbar\": {\"outlinewidth\": 0, \"ticks\": \"\"}, \"type\": \"contourcarpet\"}], \"heatmap\": [{\"colorbar\": {\"outlinewidth\": 0, \"ticks\": \"\"}, \"colorscale\": [[0.0, \"#0d0887\"], [0.1111111111111111, \"#46039f\"], [0.2222222222222222, \"#7201a8\"], [0.3333333333333333, \"#9c179e\"], [0.4444444444444444, \"#bd3786\"], [0.5555555555555556, \"#d8576b\"], [0.6666666666666666, \"#ed7953\"], [0.7777777777777778, \"#fb9f3a\"], [0.8888888888888888, \"#fdca26\"], [1.0, \"#f0f921\"]], \"type\": \"heatmap\"}], \"heatmapgl\": [{\"colorbar\": {\"outlinewidth\": 0, \"ticks\": \"\"}, \"colorscale\": [[0.0, \"#0d0887\"], [0.1111111111111111, \"#46039f\"], [0.2222222222222222, \"#7201a8\"], [0.3333333333333333, \"#9c179e\"], [0.4444444444444444, \"#bd3786\"], [0.5555555555555556, \"#d8576b\"], [0.6666666666666666, \"#ed7953\"], [0.7777777777777778, \"#fb9f3a\"], [0.8888888888888888, \"#fdca26\"], [1.0, \"#f0f921\"]], \"type\": \"heatmapgl\"}], \"histogram\": [{\"marker\": {\"colorbar\": {\"outlinewidth\": 0, \"ticks\": \"\"}}, \"type\": \"histogram\"}], \"histogram2d\": [{\"colorbar\": {\"outlinewidth\": 0, \"ticks\": \"\"}, \"colorscale\": [[0.0, \"#0d0887\"], [0.1111111111111111, \"#46039f\"], [0.2222222222222222, \"#7201a8\"], [0.3333333333333333, \"#9c179e\"], [0.4444444444444444, \"#bd3786\"], [0.5555555555555556, \"#d8576b\"], [0.6666666666666666, \"#ed7953\"], [0.7777777777777778, \"#fb9f3a\"], [0.8888888888888888, \"#fdca26\"], [1.0, \"#f0f921\"]], \"type\": \"histogram2d\"}], \"histogram2dcontour\": [{\"colorbar\": {\"outlinewidth\": 0, \"ticks\": \"\"}, \"colorscale\": [[0.0, \"#0d0887\"], [0.1111111111111111, \"#46039f\"], [0.2222222222222222, \"#7201a8\"], [0.3333333333333333, \"#9c179e\"], [0.4444444444444444, \"#bd3786\"], [0.5555555555555556, \"#d8576b\"], [0.6666666666666666, \"#ed7953\"], [0.7777777777777778, \"#fb9f3a\"], [0.8888888888888888, \"#fdca26\"], [1.0, \"#f0f921\"]], \"type\": \"histogram2dcontour\"}], \"mesh3d\": [{\"colorbar\": {\"outlinewidth\": 0, \"ticks\": \"\"}, \"type\": \"mesh3d\"}], \"parcoords\": [{\"line\": {\"colorbar\": {\"outlinewidth\": 0, \"ticks\": \"\"}}, \"type\": \"parcoords\"}], \"pie\": [{\"automargin\": true, \"type\": \"pie\"}], \"scatter\": [{\"marker\": {\"colorbar\": {\"outlinewidth\": 0, \"ticks\": \"\"}}, \"type\": \"scatter\"}], \"scatter3d\": [{\"line\": {\"colorbar\": {\"outlinewidth\": 0, \"ticks\": \"\"}}, \"marker\": {\"colorbar\": {\"outlinewidth\": 0, \"ticks\": \"\"}}, \"type\": \"scatter3d\"}], \"scattercarpet\": [{\"marker\": {\"colorbar\": {\"outlinewidth\": 0, \"ticks\": \"\"}}, \"type\": \"scattercarpet\"}], \"scattergeo\": [{\"marker\": {\"colorbar\": {\"outlinewidth\": 0, \"ticks\": \"\"}}, \"type\": \"scattergeo\"}], \"scattergl\": [{\"marker\": {\"colorbar\": {\"outlinewidth\": 0, \"ticks\": \"\"}}, \"type\": \"scattergl\"}], \"scattermapbox\": [{\"marker\": {\"colorbar\": {\"outlinewidth\": 0, \"ticks\": \"\"}}, \"type\": \"scattermapbox\"}], \"scatterpolar\": [{\"marker\": {\"colorbar\": {\"outlinewidth\": 0, \"ticks\": \"\"}}, \"type\": \"scatterpolar\"}], \"scatterpolargl\": [{\"marker\": {\"colorbar\": {\"outlinewidth\": 0, \"ticks\": \"\"}}, \"type\": \"scatterpolargl\"}], \"scatterternary\": [{\"marker\": {\"colorbar\": {\"outlinewidth\": 0, \"ticks\": \"\"}}, \"type\": \"scatterternary\"}], \"surface\": [{\"colorbar\": {\"outlinewidth\": 0, \"ticks\": \"\"}, \"colorscale\": [[0.0, \"#0d0887\"], [0.1111111111111111, \"#46039f\"], [0.2222222222222222, \"#7201a8\"], [0.3333333333333333, \"#9c179e\"], [0.4444444444444444, \"#bd3786\"], [0.5555555555555556, \"#d8576b\"], [0.6666666666666666, \"#ed7953\"], [0.7777777777777778, \"#fb9f3a\"], [0.8888888888888888, \"#fdca26\"], [1.0, \"#f0f921\"]], \"type\": \"surface\"}], \"table\": [{\"cells\": {\"fill\": {\"color\": \"#EBF0F8\"}, \"line\": {\"color\": \"white\"}}, \"header\": {\"fill\": {\"color\": \"#C8D4E3\"}, \"line\": {\"color\": \"white\"}}, \"type\": \"table\"}]}, \"layout\": {\"annotationdefaults\": {\"arrowcolor\": \"#2a3f5f\", \"arrowhead\": 0, \"arrowwidth\": 1}, \"coloraxis\": {\"colorbar\": {\"outlinewidth\": 0, \"ticks\": \"\"}}, \"colorscale\": {\"diverging\": [[0, \"#8e0152\"], [0.1, \"#c51b7d\"], [0.2, \"#de77ae\"], [0.3, \"#f1b6da\"], [0.4, \"#fde0ef\"], [0.5, \"#f7f7f7\"], [0.6, \"#e6f5d0\"], [0.7, \"#b8e186\"], [0.8, \"#7fbc41\"], [0.9, \"#4d9221\"], [1, \"#276419\"]], \"sequential\": [[0.0, \"#0d0887\"], [0.1111111111111111, \"#46039f\"], [0.2222222222222222, \"#7201a8\"], [0.3333333333333333, \"#9c179e\"], [0.4444444444444444, \"#bd3786\"], [0.5555555555555556, \"#d8576b\"], [0.6666666666666666, \"#ed7953\"], [0.7777777777777778, \"#fb9f3a\"], [0.8888888888888888, \"#fdca26\"], [1.0, \"#f0f921\"]], \"sequentialminus\": [[0.0, \"#0d0887\"], [0.1111111111111111, \"#46039f\"], [0.2222222222222222, \"#7201a8\"], [0.3333333333333333, \"#9c179e\"], [0.4444444444444444, \"#bd3786\"], [0.5555555555555556, \"#d8576b\"], [0.6666666666666666, \"#ed7953\"], [0.7777777777777778, \"#fb9f3a\"], [0.8888888888888888, \"#fdca26\"], [1.0, \"#f0f921\"]]}, \"colorway\": [\"#636efa\", \"#EF553B\", \"#00cc96\", \"#ab63fa\", \"#FFA15A\", \"#19d3f3\", \"#FF6692\", \"#B6E880\", \"#FF97FF\", \"#FECB52\"], \"font\": {\"color\": \"#2a3f5f\"}, \"geo\": {\"bgcolor\": \"white\", \"lakecolor\": \"white\", \"landcolor\": \"#E5ECF6\", \"showlakes\": true, \"showland\": true, \"subunitcolor\": \"white\"}, \"hoverlabel\": {\"align\": \"left\"}, \"hovermode\": \"closest\", \"mapbox\": {\"style\": \"light\"}, \"paper_bgcolor\": \"white\", \"plot_bgcolor\": \"#E5ECF6\", \"polar\": {\"angularaxis\": {\"gridcolor\": \"white\", \"linecolor\": \"white\", \"ticks\": \"\"}, \"bgcolor\": \"#E5ECF6\", \"radialaxis\": {\"gridcolor\": \"white\", \"linecolor\": \"white\", \"ticks\": \"\"}}, \"scene\": {\"xaxis\": {\"backgroundcolor\": \"#E5ECF6\", \"gridcolor\": \"white\", \"gridwidth\": 2, \"linecolor\": \"white\", \"showbackground\": true, \"ticks\": \"\", \"zerolinecolor\": \"white\"}, \"yaxis\": {\"backgroundcolor\": \"#E5ECF6\", \"gridcolor\": \"white\", \"gridwidth\": 2, \"linecolor\": \"white\", \"showbackground\": true, \"ticks\": \"\", \"zerolinecolor\": \"white\"}, \"zaxis\": {\"backgroundcolor\": \"#E5ECF6\", \"gridcolor\": \"white\", \"gridwidth\": 2, \"linecolor\": \"white\", \"showbackground\": true, \"ticks\": \"\", \"zerolinecolor\": \"white\"}}, \"shapedefaults\": {\"line\": {\"color\": \"#2a3f5f\"}}, \"ternary\": {\"aaxis\": {\"gridcolor\": \"white\", \"linecolor\": \"white\", \"ticks\": \"\"}, \"baxis\": {\"gridcolor\": \"white\", \"linecolor\": \"white\", \"ticks\": \"\"}, \"bgcolor\": \"#E5ECF6\", \"caxis\": {\"gridcolor\": \"white\", \"linecolor\": \"white\", \"ticks\": \"\"}}, \"title\": {\"x\": 0.05}, \"xaxis\": {\"automargin\": true, \"gridcolor\": \"white\", \"linecolor\": \"white\", \"ticks\": \"\", \"title\": {\"standoff\": 15}, \"zerolinecolor\": \"white\", \"zerolinewidth\": 2}, \"yaxis\": {\"automargin\": true, \"gridcolor\": \"white\", \"linecolor\": \"white\", \"ticks\": \"\", \"title\": {\"standoff\": 15}, \"zerolinecolor\": \"white\", \"zerolinewidth\": 2}}}, \"title\": {\"text\": \"Genre popularity over years\", \"x\": 0.5}},\n",
       "                        {\"responsive\": true}\n",
       "                    ).then(function(){\n",
       "                            \n",
       "var gd = document.getElementById('e15c0880-8173-41bb-a311-5750fcc8597b');\n",
       "var x = new MutationObserver(function (mutations, observer) {{\n",
       "        var display = window.getComputedStyle(gd).display;\n",
       "        if (!display || display === 'none') {{\n",
       "            console.log([gd, 'removed!']);\n",
       "            Plotly.purge(gd);\n",
       "            observer.disconnect();\n",
       "        }}\n",
       "}});\n",
       "\n",
       "// Listen for the removal of the full notebook cells\n",
       "var notebookContainer = gd.closest('#notebook-container');\n",
       "if (notebookContainer) {{\n",
       "    x.observe(notebookContainer, {childList: true});\n",
       "}}\n",
       "\n",
       "// Listen for the clearing of the current output cell\n",
       "var outputEl = gd.closest('.output');\n",
       "if (outputEl) {{\n",
       "    x.observe(outputEl, {childList: true});\n",
       "}}\n",
       "\n",
       "                        })\n",
       "                };\n",
       "                });\n",
       "            </script>\n",
       "        </div>"
      ]
     },
     "metadata": {},
     "output_type": "display_data"
    }
   ],
   "source": [
    "genres_by_year = genres_fun()\n",
    "plot_genres(genres_by_year)"
   ]
  },
  {
   "cell_type": "code",
   "execution_count": 123,
   "metadata": {
    "ExecuteTime": {
     "end_time": "2020-02-15T13:32:24.043658Z",
     "start_time": "2020-02-15T13:32:23.688580Z"
    }
   },
   "outputs": [
    {
     "data": {
      "application/vnd.plotly.v1+json": {
       "config": {
        "plotlyServerURL": "https://plot.ly"
       },
       "data": [
        {
         "mode": "lines",
         "name": "is_Action",
         "type": "scatter",
         "x": [
          1960,
          1961,
          1962,
          1963,
          1964,
          1965,
          1966,
          1967,
          1968,
          1969,
          1970,
          1971,
          1972,
          1973,
          1974,
          1975,
          1976,
          1977,
          1978,
          1979,
          1980,
          1981,
          1982,
          1983,
          1984,
          1985,
          1986,
          1987,
          1988,
          1989,
          1990,
          1991,
          1992,
          1993,
          1994,
          1995,
          1996,
          1997,
          1998,
          1999,
          2000,
          2001,
          2002,
          2003,
          2004,
          2005,
          2006,
          2007,
          2008,
          2009,
          2010,
          2011,
          2012,
          2013,
          2014,
          2015
         ],
         "y": [
          0.25,
          0.22580645161290322,
          0.25,
          0.11764705882352941,
          0.11904761904761904,
          0.2571428571428571,
          0.30434782608695654,
          0.175,
          0.15384615384615385,
          0.3225806451612903,
          0.2682926829268293,
          0.2,
          0.25,
          0.2727272727272727,
          0.2978723404255319,
          0.22727272727272727,
          0.2765957446808511,
          0.24561403508771928,
          0.23076923076923078,
          0.14035087719298245,
          0.34615384615384615,
          0.2073170731707317,
          0.20987654320987653,
          0.2625,
          0.3142857142857143,
          0.25688073394495414,
          0.24793388429752067,
          0.232,
          0.2206896551724138,
          0.2773722627737226,
          0.29545454545454547,
          0.2932330827067669,
          0.2556390977443609,
          0.29775280898876405,
          0.33152173913043476,
          0.26857142857142857,
          0.20588235294117646,
          0.3072916666666667,
          0.20476190476190476,
          0.16964285714285715,
          0.20704845814977973,
          0.25206611570247933,
          0.2706766917293233,
          0.2597864768683274,
          0.24429967426710097,
          0.19230769230769232,
          0.19607843137254902,
          0.21689497716894976,
          0.19959677419354838,
          0.2026266416510319,
          0.22040816326530613,
          0.21296296296296297,
          0.1683673469387755,
          0.18361153262518967,
          0.18428571428571427,
          0.17011128775834658
         ]
        },
        {
         "mode": "lines",
         "name": "is_Adventure",
         "type": "scatter",
         "x": [
          1960,
          1961,
          1962,
          1963,
          1964,
          1965,
          1966,
          1967,
          1968,
          1969,
          1970,
          1971,
          1972,
          1973,
          1974,
          1975,
          1976,
          1977,
          1978,
          1979,
          1980,
          1981,
          1982,
          1983,
          1984,
          1985,
          1986,
          1987,
          1988,
          1989,
          1990,
          1991,
          1992,
          1993,
          1994,
          1995,
          1996,
          1997,
          1998,
          1999,
          2000,
          2001,
          2002,
          2003,
          2004,
          2005,
          2006,
          2007,
          2008,
          2009,
          2010,
          2011,
          2012,
          2013,
          2014,
          2015
         ],
         "y": [
          0.15625,
          0.1935483870967742,
          0.21875,
          0.20588235294117646,
          0.11904761904761904,
          0.17142857142857143,
          0.2391304347826087,
          0.175,
          0.1282051282051282,
          0.16129032258064516,
          0.14634146341463414,
          0.09090909090909091,
          0.125,
          0.09090909090909091,
          0.1702127659574468,
          0.18181818181818182,
          0.1276595744680851,
          0.2631578947368421,
          0.16923076923076924,
          0.14035087719298245,
          0.1794871794871795,
          0.17073170731707318,
          0.12345679012345678,
          0.175,
          0.20952380952380953,
          0.25688073394495414,
          0.14049586776859505,
          0.136,
          0.10344827586206896,
          0.17518248175182483,
          0.17424242424242425,
          0.15789473684210525,
          0.12781954887218044,
          0.14606741573033707,
          0.1793478260869565,
          0.18285714285714286,
          0.14705882352941177,
          0.18229166666666666,
          0.18095238095238095,
          0.08928571428571429,
          0.12334801762114538,
          0.1652892561983471,
          0.16917293233082706,
          0.14590747330960854,
          0.15960912052117263,
          0.14560439560439561,
          0.13480392156862744,
          0.136986301369863,
          0.12701612903225806,
          0.1350844277673546,
          0.12040816326530612,
          0.11481481481481481,
          0.08503401360544217,
          0.10166919575113809,
          0.09571428571428571,
          0.10969793322734499
         ]
        },
        {
         "mode": "lines",
         "name": "is_Science Fiction",
         "type": "scatter",
         "x": [
          1960,
          1961,
          1962,
          1963,
          1964,
          1965,
          1966,
          1967,
          1968,
          1969,
          1970,
          1971,
          1972,
          1973,
          1974,
          1975,
          1976,
          1977,
          1978,
          1979,
          1980,
          1981,
          1982,
          1983,
          1984,
          1985,
          1986,
          1987,
          1988,
          1989,
          1990,
          1991,
          1992,
          1993,
          1994,
          1995,
          1996,
          1997,
          1998,
          1999,
          2000,
          2001,
          2002,
          2003,
          2004,
          2005,
          2006,
          2007,
          2008,
          2009,
          2010,
          2011,
          2012,
          2013,
          2014,
          2015
         ],
         "y": [
          0.09375,
          0.12903225806451613,
          0.0625,
          0.058823529411764705,
          0.09523809523809523,
          0.05714285714285714,
          0.13043478260869565,
          0.1,
          0.10256410256410256,
          0.0967741935483871,
          0.07317073170731707,
          0.10909090909090909,
          0.1,
          0.10909090909090909,
          0.10638297872340426,
          0.25,
          0.10638297872340426,
          0.19298245614035087,
          0.24615384615384617,
          0.17543859649122806,
          0.14102564102564102,
          0.12195121951219512,
          0.16049382716049382,
          0.2,
          0.2571428571428571,
          0.1559633027522936,
          0.17355371900826447,
          0.144,
          0.12413793103448276,
          0.15328467153284672,
          0.13636363636363635,
          0.09774436090225563,
          0.12030075187969924,
          0.10112359550561797,
          0.10869565217391304,
          0.10285714285714286,
          0.11764705882352941,
          0.15104166666666666,
          0.12380952380952381,
          0.12946428571428573,
          0.10572687224669604,
          0.10330578512396695,
          0.10526315789473684,
          0.14590747330960854,
          0.11074918566775244,
          0.06868131868131869,
          0.07352941176470588,
          0.09360730593607305,
          0.10483870967741936,
          0.13320825515947468,
          0.09387755102040816,
          0.1037037037037037,
          0.09183673469387756,
          0.09256449165402124,
          0.08857142857142856,
          0.13672496025437203
         ]
        },
        {
         "mode": "lines",
         "name": "is_Thriller",
         "type": "scatter",
         "x": [
          1960,
          1961,
          1962,
          1963,
          1964,
          1965,
          1966,
          1967,
          1968,
          1969,
          1970,
          1971,
          1972,
          1973,
          1974,
          1975,
          1976,
          1977,
          1978,
          1979,
          1980,
          1981,
          1982,
          1983,
          1984,
          1985,
          1986,
          1987,
          1988,
          1989,
          1990,
          1991,
          1992,
          1993,
          1994,
          1995,
          1996,
          1997,
          1998,
          1999,
          2000,
          2001,
          2002,
          2003,
          2004,
          2005,
          2006,
          2007,
          2008,
          2009,
          2010,
          2011,
          2012,
          2013,
          2014,
          2015
         ],
         "y": [
          0.1875,
          0,
          0.21875,
          0.29411764705882354,
          0.21428571428571427,
          0.3142857142857143,
          0.17391304347826086,
          0.125,
          0.1282051282051282,
          0.0967741935483871,
          0.12195121951219512,
          0.3090909090909091,
          0.25,
          0.2909090909090909,
          0.425531914893617,
          0.29545454545454547,
          0.3617021276595745,
          0.21052631578947367,
          0.3384615384615385,
          0.2807017543859649,
          0.32051282051282054,
          0.32926829268292684,
          0.20987654320987653,
          0.3,
          0.22857142857142856,
          0.22018348623853212,
          0.19008264462809918,
          0.224,
          0.22758620689655173,
          0.25547445255474455,
          0.3484848484848485,
          0.2781954887218045,
          0.3383458646616541,
          0.25280898876404495,
          0.24456521739130435,
          0.28,
          0.29901960784313725,
          0.3177083333333333,
          0.2523809523809524,
          0.23660714285714285,
          0.2775330396475771,
          0.2727272727272727,
          0.3157894736842105,
          0.2597864768683274,
          0.24104234527687296,
          0.25274725274725274,
          0.27941176470588236,
          0.2853881278538813,
          0.2560483870967742,
          0.2945590994371482,
          0.2755102040816326,
          0.27037037037037037,
          0.272108843537415,
          0.26555386949924126,
          0.2557142857142857,
          0.2718600953895072
         ]
        },
        {
         "mode": "lines",
         "name": "is_Fantasy",
         "type": "scatter",
         "x": [
          1960,
          1961,
          1962,
          1963,
          1964,
          1965,
          1966,
          1967,
          1968,
          1969,
          1970,
          1971,
          1972,
          1973,
          1974,
          1975,
          1976,
          1977,
          1978,
          1979,
          1980,
          1981,
          1982,
          1983,
          1984,
          1985,
          1986,
          1987,
          1988,
          1989,
          1990,
          1991,
          1992,
          1993,
          1994,
          1995,
          1996,
          1997,
          1998,
          1999,
          2000,
          2001,
          2002,
          2003,
          2004,
          2005,
          2006,
          2007,
          2008,
          2009,
          2010,
          2011,
          2012,
          2013,
          2014,
          2015
         ],
         "y": [
          0.0625,
          0.06451612903225806,
          0.03125,
          0.058823529411764705,
          0.09523809523809523,
          0,
          0.043478260869565216,
          0.075,
          0.1282051282051282,
          0.06451612903225806,
          0.07317073170731707,
          0.03636363636363636,
          0.025,
          0.01818181818181818,
          0.06382978723404255,
          0.09090909090909091,
          0.0425531914893617,
          0.15789473684210525,
          0.07692307692307693,
          0,
          0.08974358974358974,
          0.036585365853658534,
          0.16049382716049382,
          0.125,
          0.14285714285714285,
          0.12844036697247707,
          0.09090909090909091,
          0.144,
          0.1103448275862069,
          0.11678832116788321,
          0.09848484848484848,
          0.14285714285714285,
          0.10526315789473684,
          0.07303370786516854,
          0.13043478260869565,
          0.09714285714285714,
          0.10784313725490197,
          0.109375,
          0.10476190476190476,
          0.10267857142857142,
          0.09251101321585903,
          0.10330578512396695,
          0.07518796992481203,
          0.09608540925266904,
          0.06188925081433225,
          0.09615384615384616,
          0.08333333333333333,
          0.10730593607305935,
          0.08669354838709678,
          0.09193245778611632,
          0.08979591836734693,
          0.08518518518518518,
          0.05782312925170068,
          0.05918057663125948,
          0.05142857142857143,
          0.05246422893481717
         ]
        },
        {
         "mode": "lines",
         "name": "is_Crime",
         "type": "scatter",
         "x": [
          1960,
          1961,
          1962,
          1963,
          1964,
          1965,
          1966,
          1967,
          1968,
          1969,
          1970,
          1971,
          1972,
          1973,
          1974,
          1975,
          1976,
          1977,
          1978,
          1979,
          1980,
          1981,
          1982,
          1983,
          1984,
          1985,
          1986,
          1987,
          1988,
          1989,
          1990,
          1991,
          1992,
          1993,
          1994,
          1995,
          1996,
          1997,
          1998,
          1999,
          2000,
          2001,
          2002,
          2003,
          2004,
          2005,
          2006,
          2007,
          2008,
          2009,
          2010,
          2011,
          2012,
          2013,
          2014,
          2015
         ],
         "y": [
          0.0625,
          0.06451612903225806,
          0.09375,
          0.11764705882352941,
          0.23809523809523808,
          0.05714285714285714,
          0.10869565217391304,
          0.175,
          0.1282051282051282,
          0.0967741935483871,
          0.0975609756097561,
          0.18181818181818182,
          0.175,
          0.3090909090909091,
          0.3191489361702128,
          0.13636363636363635,
          0.1702127659574468,
          0.03508771929824561,
          0.09230769230769231,
          0.14035087719298245,
          0.11538461538461539,
          0.12195121951219512,
          0.1111111111111111,
          0.1375,
          0.14285714285714285,
          0.12844036697247707,
          0.1487603305785124,
          0.168,
          0.14482758620689656,
          0.18248175182481752,
          0.22727272727272727,
          0.15037593984962405,
          0.18796992481203006,
          0.15730337078651685,
          0.14130434782608695,
          0.17714285714285713,
          0.09313725490196079,
          0.14583333333333334,
          0.1619047619047619,
          0.12946428571428573,
          0.13656387665198239,
          0.16115702479338842,
          0.15413533834586465,
          0.16370106761565836,
          0.10423452768729642,
          0.12362637362637363,
          0.12990196078431374,
          0.14840182648401826,
          0.125,
          0.0975609756097561,
          0.10408163265306122,
          0.08888888888888889,
          0.09183673469387756,
          0.10773899848254932,
          0.09285714285714286,
          0.08108108108108109
         ]
        },
        {
         "mode": "lines",
         "name": "is_Western",
         "type": "scatter",
         "x": [
          1960,
          1961,
          1962,
          1963,
          1964,
          1965,
          1966,
          1967,
          1968,
          1969,
          1970,
          1971,
          1972,
          1973,
          1974,
          1975,
          1976,
          1977,
          1978,
          1979,
          1980,
          1981,
          1982,
          1983,
          1984,
          1985,
          1986,
          1987,
          1988,
          1989,
          1990,
          1991,
          1992,
          1993,
          1994,
          1995,
          1996,
          1997,
          1998,
          1999,
          2000,
          2001,
          2002,
          2003,
          2004,
          2005,
          2006,
          2007,
          2008,
          2009,
          2010,
          2011,
          2012,
          2013,
          2014,
          2015
         ],
         "y": [
          0.1875,
          0.0967741935483871,
          0.09375,
          0.058823529411764705,
          0.023809523809523808,
          0.11428571428571428,
          0.15217391304347827,
          0.05,
          0.02564102564102564,
          0.22580645161290322,
          0.1951219512195122,
          0.09090909090909091,
          0.125,
          0.07272727272727272,
          0.0425531914893617,
          0.06818181818181818,
          0.06382978723404255,
          0.017543859649122806,
          0.015384615384615385,
          0.07017543859649122,
          0.0641025641025641,
          0,
          0.024691358024691357,
          0.0125,
          0,
          0.027522935779816515,
          0.008264462809917356,
          0.008,
          0,
          0.0072992700729927005,
          0.022727272727272728,
          0.015037593984962405,
          0.015037593984962405,
          0.016853932584269662,
          0.043478260869565216,
          0.017142857142857144,
          0,
          0,
          0.004761904761904762,
          0.013392857142857142,
          0.00881057268722467,
          0.008264462809917356,
          0.0037593984962406013,
          0.014234875444839857,
          0.02280130293159609,
          0.005494505494505495,
          0.0024509803921568627,
          0.01141552511415525,
          0.004032258064516129,
          0,
          0.012244897959183673,
          0.005555555555555556,
          0.006802721088435374,
          0.004552352048558422,
          0.008571428571428572,
          0.009538950715421303
         ]
        },
        {
         "mode": "lines",
         "name": "is_Drama",
         "type": "scatter",
         "x": [
          1960,
          1961,
          1962,
          1963,
          1964,
          1965,
          1966,
          1967,
          1968,
          1969,
          1970,
          1971,
          1972,
          1973,
          1974,
          1975,
          1976,
          1977,
          1978,
          1979,
          1980,
          1981,
          1982,
          1983,
          1984,
          1985,
          1986,
          1987,
          1988,
          1989,
          1990,
          1991,
          1992,
          1993,
          1994,
          1995,
          1996,
          1997,
          1998,
          1999,
          2000,
          2001,
          2002,
          2003,
          2004,
          2005,
          2006,
          2007,
          2008,
          2009,
          2010,
          2011,
          2012,
          2013,
          2014,
          2015
         ],
         "y": [
          0.40625,
          0.5161290322580645,
          0.65625,
          0.38235294117647056,
          0.47619047619047616,
          0.5714285714285714,
          0.34782608695652173,
          0.4,
          0.5128205128205128,
          0.41935483870967744,
          0.4634146341463415,
          0.5454545454545454,
          0.4,
          0.5636363636363636,
          0.44680851063829785,
          0.38636363636363635,
          0.46808510638297873,
          0.42105263157894735,
          0.4461538461538462,
          0.5263157894736842,
          0.41025641025641024,
          0.3902439024390244,
          0.4074074074074074,
          0.4375,
          0.38095238095238093,
          0.3669724770642202,
          0.4214876033057851,
          0.416,
          0.3724137931034483,
          0.39416058394160586,
          0.45454545454545453,
          0.47368421052631576,
          0.48872180451127817,
          0.5056179775280899,
          0.45108695652173914,
          0.5314285714285715,
          0.5098039215686274,
          0.4322916666666667,
          0.5142857142857142,
          0.5044642857142857,
          0.44493392070484583,
          0.4132231404958678,
          0.48872180451127817,
          0.3914590747330961,
          0.4592833876221498,
          0.5,
          0.48284313725490197,
          0.4497716894977169,
          0.46975806451612906,
          0.4202626641651032,
          0.4306122448979592,
          0.3962962962962963,
          0.3945578231292517,
          0.38391502276176026,
          0.4057142857142857,
          0.4133545310015898
         ]
        },
        {
         "mode": "lines",
         "name": "is_Family",
         "type": "scatter",
         "x": [
          1960,
          1961,
          1962,
          1963,
          1964,
          1965,
          1966,
          1967,
          1968,
          1969,
          1970,
          1971,
          1972,
          1973,
          1974,
          1975,
          1976,
          1977,
          1978,
          1979,
          1980,
          1981,
          1982,
          1983,
          1984,
          1985,
          1986,
          1987,
          1988,
          1989,
          1990,
          1991,
          1992,
          1993,
          1994,
          1995,
          1996,
          1997,
          1998,
          1999,
          2000,
          2001,
          2002,
          2003,
          2004,
          2005,
          2006,
          2007,
          2008,
          2009,
          2010,
          2011,
          2012,
          2013,
          2014,
          2015
         ],
         "y": [
          0.09375,
          0.16129032258064516,
          0.0625,
          0.08823529411764706,
          0.09523809523809523,
          0.08571428571428572,
          0.15217391304347827,
          0.075,
          0.1282051282051282,
          0.12903225806451613,
          0.07317073170731707,
          0.03636363636363636,
          0.05,
          0.07272727272727272,
          0.0851063829787234,
          0.045454545454545456,
          0.06382978723404255,
          0.14035087719298245,
          0.09230769230769231,
          0.08771929824561403,
          0.05128205128205128,
          0.06097560975609756,
          0.09876543209876543,
          0.05,
          0.08571428571428572,
          0.11009174311926606,
          0.10743801652892562,
          0.128,
          0.11724137931034483,
          0.12408759124087591,
          0.09090909090909091,
          0.15789473684210525,
          0.12030075187969924,
          0.16292134831460675,
          0.19021739130434784,
          0.18857142857142858,
          0.15196078431372548,
          0.171875,
          0.1619047619047619,
          0.12946428571428573,
          0.14977973568281938,
          0.128099173553719,
          0.14661654135338345,
          0.15658362989323843,
          0.13029315960912052,
          0.1565934065934066,
          0.15931372549019607,
          0.10273972602739725,
          0.11290322580645161,
          0.1125703564727955,
          0.11224489795918367,
          0.13333333333333333,
          0.07142857142857142,
          0.07283763277693475,
          0.06142857142857143,
          0.06995230524642289
         ]
        },
        {
         "mode": "lines",
         "name": "is_Animation",
         "type": "scatter",
         "x": [
          1960,
          1961,
          1962,
          1963,
          1964,
          1965,
          1966,
          1967,
          1968,
          1969,
          1970,
          1971,
          1972,
          1973,
          1974,
          1975,
          1976,
          1977,
          1978,
          1979,
          1980,
          1981,
          1982,
          1983,
          1984,
          1985,
          1986,
          1987,
          1988,
          1989,
          1990,
          1991,
          1992,
          1993,
          1994,
          1995,
          1996,
          1997,
          1998,
          1999,
          2000,
          2001,
          2002,
          2003,
          2004,
          2005,
          2006,
          2007,
          2008,
          2009,
          2010,
          2011,
          2012,
          2013,
          2014,
          2015
         ],
         "y": [
          0,
          0.03225806451612903,
          0,
          0.029411764705882353,
          0.047619047619047616,
          0.02857142857142857,
          0.06521739130434782,
          0.05,
          0.07692307692307693,
          0.0967741935483871,
          0.04878048780487805,
          0.01818181818181818,
          0.025,
          0.05454545454545454,
          0.02127659574468085,
          0.022727272727272728,
          0,
          0.08771929824561403,
          0.03076923076923077,
          0.017543859649122806,
          0,
          0.036585365853658534,
          0.07407407407407407,
          0.0375,
          0.009523809523809525,
          0.01834862385321101,
          0.05785123966942149,
          0.032,
          0.04827586206896552,
          0.0364963503649635,
          0.030303030303030304,
          0.022556390977443608,
          0.03007518796992481,
          0.033707865168539325,
          0.043478260869565216,
          0.04,
          0.0392156862745098,
          0.052083333333333336,
          0.0761904761904762,
          0.05803571428571429,
          0.11894273127753303,
          0.0743801652892562,
          0.07894736842105263,
          0.10320284697508897,
          0.0749185667752443,
          0.07142857142857142,
          0.09558823529411764,
          0.0730593607305936,
          0.06653225806451613,
          0.0900562851782364,
          0.10204081632653061,
          0.08518518518518518,
          0.06802721088435375,
          0.0637329286798179,
          0.05142857142857143,
          0.06200317965023847
         ]
        },
        {
         "mode": "lines",
         "name": "is_Comedy",
         "type": "scatter",
         "x": [
          1960,
          1961,
          1962,
          1963,
          1964,
          1965,
          1966,
          1967,
          1968,
          1969,
          1970,
          1971,
          1972,
          1973,
          1974,
          1975,
          1976,
          1977,
          1978,
          1979,
          1980,
          1981,
          1982,
          1983,
          1984,
          1985,
          1986,
          1987,
          1988,
          1989,
          1990,
          1991,
          1992,
          1993,
          1994,
          1995,
          1996,
          1997,
          1998,
          1999,
          2000,
          2001,
          2002,
          2003,
          2004,
          2005,
          2006,
          2007,
          2008,
          2009,
          2010,
          2011,
          2012,
          2013,
          2014,
          2015
         ],
         "y": [
          0.25,
          0.3225806451612903,
          0.15625,
          0.38235294117647056,
          0.38095238095238093,
          0.2,
          0.34782608695652173,
          0.425,
          0.23076923076923078,
          0.3870967741935484,
          0.2926829268292683,
          0.16363636363636364,
          0.325,
          0.14545454545454545,
          0.2553191489361702,
          0.2727272727272727,
          0.2553191489361702,
          0.19298245614035087,
          0.2153846153846154,
          0.3333333333333333,
          0.32051282051282054,
          0.24390243902439024,
          0.345679012345679,
          0.35,
          0.3619047619047619,
          0.46788990825688076,
          0.4049586776859504,
          0.456,
          0.47586206896551725,
          0.45985401459854014,
          0.36363636363636365,
          0.45112781954887216,
          0.40601503759398494,
          0.4044943820224719,
          0.4782608695652174,
          0.36,
          0.44607843137254904,
          0.4010416666666667,
          0.4,
          0.44642857142857145,
          0.42731277533039647,
          0.41735537190082644,
          0.39097744360902253,
          0.39501779359430605,
          0.40716612377850164,
          0.39285714285714285,
          0.3799019607843137,
          0.3447488584474886,
          0.3407258064516129,
          0.3714821763602251,
          0.3448979591836735,
          0.31851851851851853,
          0.29931972789115646,
          0.26555386949924126,
          0.2642857142857143,
          0.2575516693163752
         ]
        },
        {
         "mode": "lines",
         "name": "is_Mystery",
         "type": "scatter",
         "x": [
          1960,
          1961,
          1962,
          1963,
          1964,
          1965,
          1966,
          1967,
          1968,
          1969,
          1970,
          1971,
          1972,
          1973,
          1974,
          1975,
          1976,
          1977,
          1978,
          1979,
          1980,
          1981,
          1982,
          1983,
          1984,
          1985,
          1986,
          1987,
          1988,
          1989,
          1990,
          1991,
          1992,
          1993,
          1994,
          1995,
          1996,
          1997,
          1998,
          1999,
          2000,
          2001,
          2002,
          2003,
          2004,
          2005,
          2006,
          2007,
          2008,
          2009,
          2010,
          2011,
          2012,
          2013,
          2014,
          2015
         ],
         "y": [
          0,
          0.03225806451612903,
          0.125,
          0.17647058823529413,
          0.09523809523809523,
          0.08571428571428572,
          0.13043478260869565,
          0.075,
          0.10256410256410256,
          0.03225806451612903,
          0.07317073170731707,
          0.10909090909090909,
          0.1,
          0.12727272727272726,
          0.10638297872340426,
          0.18181818181818182,
          0.14893617021276595,
          0.08771929824561403,
          0.1076923076923077,
          0.07017543859649122,
          0.11538461538461539,
          0.12195121951219512,
          0.12345679012345678,
          0.0625,
          0.0380952380952381,
          0.027522935779816515,
          0.05785123966942149,
          0.056,
          0.06206896551724138,
          0.058394160583941604,
          0.10606060606060606,
          0.06766917293233082,
          0.07518796992481203,
          0.08426966292134831,
          0.05434782608695652,
          0.08,
          0.06372549019607843,
          0.109375,
          0.08571428571428572,
          0.10714285714285714,
          0.06167400881057269,
          0.09090909090909091,
          0.10526315789473684,
          0.06761565836298933,
          0.08794788273615635,
          0.07967032967032966,
          0.07352941176470588,
          0.0776255707762557,
          0.05846774193548387,
          0.09568480300187618,
          0.0653061224489796,
          0.07037037037037037,
          0.05612244897959184,
          0.057663125948406675,
          0.05142857142857143,
          0.06677265500794913
         ]
        },
        {
         "mode": "lines",
         "name": "is_Romance",
         "type": "scatter",
         "x": [
          1960,
          1961,
          1962,
          1963,
          1964,
          1965,
          1966,
          1967,
          1968,
          1969,
          1970,
          1971,
          1972,
          1973,
          1974,
          1975,
          1976,
          1977,
          1978,
          1979,
          1980,
          1981,
          1982,
          1983,
          1984,
          1985,
          1986,
          1987,
          1988,
          1989,
          1990,
          1991,
          1992,
          1993,
          1994,
          1995,
          1996,
          1997,
          1998,
          1999,
          2000,
          2001,
          2002,
          2003,
          2004,
          2005,
          2006,
          2007,
          2008,
          2009,
          2010,
          2011,
          2012,
          2013,
          2014,
          2015
         ],
         "y": [
          0.1875,
          0.22580645161290322,
          0.15625,
          0.23529411764705882,
          0.21428571428571427,
          0.14285714285714285,
          0.13043478260869565,
          0.275,
          0.15384615384615385,
          0.12903225806451613,
          0.14634146341463414,
          0.16363636363636364,
          0.125,
          0.05454545454545454,
          0.0851063829787234,
          0.045454545454545456,
          0.10638297872340426,
          0.07017543859649122,
          0.07692307692307693,
          0.14035087719298245,
          0.11538461538461539,
          0.12195121951219512,
          0.14814814814814814,
          0.175,
          0.18095238095238095,
          0.1926605504587156,
          0.2066115702479339,
          0.192,
          0.1310344827586207,
          0.16058394160583941,
          0.14393939393939395,
          0.19548872180451127,
          0.23308270676691728,
          0.19101123595505617,
          0.19021739130434784,
          0.21142857142857144,
          0.21568627450980393,
          0.16666666666666666,
          0.19523809523809524,
          0.1875,
          0.20704845814977973,
          0.2190082644628099,
          0.18045112781954886,
          0.17437722419928825,
          0.20521172638436483,
          0.17032967032967034,
          0.1715686274509804,
          0.1689497716894977,
          0.1693548387096774,
          0.15572232645403378,
          0.17346938775510204,
          0.1388888888888889,
          0.13435374149659865,
          0.09863429438543247,
          0.12,
          0.09062003179650238
         ]
        },
        {
         "mode": "lines",
         "name": "is_War",
         "type": "scatter",
         "x": [
          1960,
          1961,
          1962,
          1963,
          1964,
          1965,
          1966,
          1967,
          1968,
          1969,
          1970,
          1971,
          1972,
          1973,
          1974,
          1975,
          1976,
          1977,
          1978,
          1979,
          1980,
          1981,
          1982,
          1983,
          1984,
          1985,
          1986,
          1987,
          1988,
          1989,
          1990,
          1991,
          1992,
          1993,
          1994,
          1995,
          1996,
          1997,
          1998,
          1999,
          2000,
          2001,
          2002,
          2003,
          2004,
          2005,
          2006,
          2007,
          2008,
          2009,
          2010,
          2011,
          2012,
          2013,
          2014,
          2015
         ],
         "y": [
          0.0625,
          0.06451612903225806,
          0.09375,
          0.029411764705882353,
          0.07142857142857142,
          0.22857142857142856,
          0.08695652173913043,
          0.025,
          0.10256410256410256,
          0.0967741935483871,
          0.12195121951219512,
          0.07272727272727272,
          0,
          0,
          0.02127659574468085,
          0.045454545454545456,
          0.0425531914893617,
          0.07017543859649122,
          0.06153846153846154,
          0.05263157894736842,
          0.02564102564102564,
          0.024390243902439025,
          0.024691358024691357,
          0.0125,
          0.02857142857142857,
          0.01834862385321101,
          0.03305785123966942,
          0.048,
          0.041379310344827586,
          0.029197080291970802,
          0.015151515151515152,
          0.015037593984962405,
          0.007518796992481203,
          0.033707865168539325,
          0.016304347826086956,
          0.02857142857142857,
          0.014705882352941176,
          0.005208333333333333,
          0.014285714285714285,
          0.013392857142857142,
          0.022026431718061675,
          0.049586776859504134,
          0.02631578947368421,
          0.028469750889679714,
          0.026058631921824105,
          0.013736263736263736,
          0.01715686274509804,
          0.0136986301369863,
          0.036290322580645164,
          0.0225140712945591,
          0.014285714285714285,
          0.016666666666666666,
          0.017006802721088437,
          0.010622154779969651,
          0.032857142857142856,
          0.014308426073131956
         ]
        },
        {
         "mode": "lines",
         "name": "is_History",
         "type": "scatter",
         "x": [
          1960,
          1961,
          1962,
          1963,
          1964,
          1965,
          1966,
          1967,
          1968,
          1969,
          1970,
          1971,
          1972,
          1973,
          1974,
          1975,
          1976,
          1977,
          1978,
          1979,
          1980,
          1981,
          1982,
          1983,
          1984,
          1985,
          1986,
          1987,
          1988,
          1989,
          1990,
          1991,
          1992,
          1993,
          1994,
          1995,
          1996,
          1997,
          1998,
          1999,
          2000,
          2001,
          2002,
          2003,
          2004,
          2005,
          2006,
          2007,
          2008,
          2009,
          2010,
          2011,
          2012,
          2013,
          2014,
          2015
         ],
         "y": [
          0.15625,
          0.0967741935483871,
          0.125,
          0.11764705882352941,
          0.07142857142857142,
          0.11428571428571428,
          0.043478260869565216,
          0,
          0.07692307692307693,
          0.0967741935483871,
          0.07317073170731707,
          0.05454545454545454,
          0,
          0.03636363636363636,
          0.02127659574468085,
          0.06818181818181818,
          0.0425531914893617,
          0.07017543859649122,
          0.03076923076923077,
          0.05263157894736842,
          0.0641025641025641,
          0.06097560975609756,
          0.024691358024691357,
          0.0125,
          0.047619047619047616,
          0.009174311926605505,
          0.024793388429752067,
          0.024,
          0.027586206896551724,
          0.029197080291970802,
          0.030303030303030304,
          0.007518796992481203,
          0.03007518796992481,
          0.0449438202247191,
          0.016304347826086956,
          0.04,
          0.024509803921568627,
          0.036458333333333336,
          0.03333333333333333,
          0.03125,
          0.01762114537444934,
          0.049586776859504134,
          0.03007518796992481,
          0.03202846975088968,
          0.02280130293159609,
          0.027472527472527472,
          0.029411764705882353,
          0.02968036529680365,
          0.04838709677419355,
          0.0300187617260788,
          0.02857142857142857,
          0.014814814814814815,
          0.022108843537414966,
          0.021244309559939303,
          0.02142857142857143,
          0.02384737678855326
         ]
        },
        {
         "mode": "lines",
         "name": "is_Music",
         "type": "scatter",
         "x": [
          1960,
          1961,
          1962,
          1963,
          1964,
          1965,
          1966,
          1967,
          1968,
          1969,
          1970,
          1971,
          1972,
          1973,
          1974,
          1975,
          1976,
          1977,
          1978,
          1979,
          1980,
          1981,
          1982,
          1983,
          1984,
          1985,
          1986,
          1987,
          1988,
          1989,
          1990,
          1991,
          1992,
          1993,
          1994,
          1995,
          1996,
          1997,
          1998,
          1999,
          2000,
          2001,
          2002,
          2003,
          2004,
          2005,
          2006,
          2007,
          2008,
          2009,
          2010,
          2011,
          2012,
          2013,
          2014,
          2015
         ],
         "y": [
          0.03125,
          0.06451612903225806,
          0.03125,
          0,
          0.11904761904761904,
          0.05714285714285714,
          0,
          0.125,
          0.07692307692307693,
          0.06451612903225806,
          0.0975609756097561,
          0.01818181818181818,
          0.05,
          0.01818181818181818,
          0.02127659574468085,
          0.06818181818181818,
          0.06382978723404255,
          0.05263157894736842,
          0.046153846153846156,
          0.07017543859649122,
          0.05128205128205128,
          0.036585365853658534,
          0.07407407407407407,
          0.0625,
          0.10476190476190476,
          0.01834862385321101,
          0.049586776859504134,
          0.032,
          0.05517241379310345,
          0.021897810218978103,
          0.015151515151515152,
          0.05263157894736842,
          0.045112781954887216,
          0.033707865168539325,
          0.016304347826086956,
          0,
          0.0196078431372549,
          0.020833333333333332,
          0.05714285714285714,
          0.022321428571428572,
          0.04405286343612335,
          0.024793388429752067,
          0.015037593984962405,
          0.03914590747330961,
          0.04234527687296417,
          0.03571428571428571,
          0.029411764705882353,
          0.03424657534246575,
          0.04032258064516129,
          0.03189493433395872,
          0.02040816326530612,
          0.03148148148148148,
          0.03741496598639456,
          0.04552352048558422,
          0.04,
          0.05246422893481717
         ]
        },
        {
         "mode": "lines",
         "name": "is_Horror",
         "type": "scatter",
         "x": [
          1960,
          1961,
          1962,
          1963,
          1964,
          1965,
          1966,
          1967,
          1968,
          1969,
          1970,
          1971,
          1972,
          1973,
          1974,
          1975,
          1976,
          1977,
          1978,
          1979,
          1980,
          1981,
          1982,
          1983,
          1984,
          1985,
          1986,
          1987,
          1988,
          1989,
          1990,
          1991,
          1992,
          1993,
          1994,
          1995,
          1996,
          1997,
          1998,
          1999,
          2000,
          2001,
          2002,
          2003,
          2004,
          2005,
          2006,
          2007,
          2008,
          2009,
          2010,
          2011,
          2012,
          2013,
          2014,
          2015
         ],
         "y": [
          0.21875,
          0.0967741935483871,
          0.15625,
          0.2647058823529412,
          0.14285714285714285,
          0.14285714285714285,
          0.06521739130434782,
          0.1,
          0.10256410256410256,
          0.03225806451612903,
          0.12195121951219512,
          0.12727272727272726,
          0.2,
          0.2727272727272727,
          0.1702127659574468,
          0.18181818181818182,
          0.19148936170212766,
          0.24561403508771928,
          0.2923076923076923,
          0.19298245614035087,
          0.20512820512820512,
          0.2926829268292683,
          0.24691358024691357,
          0.1625,
          0.17142857142857143,
          0.12844036697247707,
          0.24793388429752067,
          0.2,
          0.2482758620689655,
          0.18248175182481752,
          0.19696969696969696,
          0.09774436090225563,
          0.12030075187969924,
          0.10112359550561797,
          0.07065217391304347,
          0.10857142857142857,
          0.08333333333333333,
          0.09375,
          0.10952380952380952,
          0.11607142857142858,
          0.09251101321585903,
          0.09504132231404959,
          0.11278195488721804,
          0.08540925266903915,
          0.09446254071661238,
          0.15384615384615385,
          0.13725490196078433,
          0.18036529680365296,
          0.1532258064516129,
          0.16885553470919323,
          0.15918367346938775,
          0.14444444444444443,
          0.17687074829931973,
          0.15477996965098634,
          0.15,
          0.1987281399046105
         ]
        },
        {
         "mode": "lines",
         "name": "is_Documentary",
         "type": "scatter",
         "x": [
          1960,
          1961,
          1962,
          1963,
          1964,
          1965,
          1966,
          1967,
          1968,
          1969,
          1970,
          1971,
          1972,
          1973,
          1974,
          1975,
          1976,
          1977,
          1978,
          1979,
          1980,
          1981,
          1982,
          1983,
          1984,
          1985,
          1986,
          1987,
          1988,
          1989,
          1990,
          1991,
          1992,
          1993,
          1994,
          1995,
          1996,
          1997,
          1998,
          1999,
          2000,
          2001,
          2002,
          2003,
          2004,
          2005,
          2006,
          2007,
          2008,
          2009,
          2010,
          2011,
          2012,
          2013,
          2014,
          2015
         ],
         "y": [
          0,
          0,
          0,
          0,
          0,
          0,
          0.021739130434782608,
          0.025,
          0,
          0,
          0.07317073170731707,
          0,
          0.025,
          0.01818181818181818,
          0.0425531914893617,
          0.022727272727272728,
          0.02127659574468085,
          0.017543859649122806,
          0.046153846153846156,
          0,
          0,
          0.024390243902439025,
          0.012345679012345678,
          0,
          0.01904761904761905,
          0.009174311926605505,
          0,
          0,
          0.034482758620689655,
          0.014598540145985401,
          0.007575757575757576,
          0.022556390977443608,
          0.007518796992481203,
          0.0056179775280898875,
          0.010869565217391304,
          0.011428571428571429,
          0.014705882352941176,
          0.010416666666666666,
          0.014285714285714285,
          0.022321428571428572,
          0.013215859030837005,
          0.02066115702479339,
          0.03759398496240601,
          0.03914590747330961,
          0.03908794788273615,
          0.046703296703296704,
          0.0392156862745098,
          0.04337899543378995,
          0.05241935483870968,
          0.04690431519699812,
          0.07142857142857142,
          0.09074074074074075,
          0.08333333333333333,
          0.09408194233687406,
          0.10428571428571429,
          0.09062003179650238
         ]
        },
        {
         "mode": "lines",
         "name": "is_TV Movie",
         "type": "scatter",
         "x": [
          1960,
          1961,
          1962,
          1963,
          1964,
          1965,
          1966,
          1967,
          1968,
          1969,
          1970,
          1971,
          1972,
          1973,
          1974,
          1975,
          1976,
          1977,
          1978,
          1979,
          1980,
          1981,
          1982,
          1983,
          1984,
          1985,
          1986,
          1987,
          1988,
          1989,
          1990,
          1991,
          1992,
          1993,
          1994,
          1995,
          1996,
          1997,
          1998,
          1999,
          2000,
          2001,
          2002,
          2003,
          2004,
          2005,
          2006,
          2007,
          2008,
          2009,
          2010,
          2011,
          2012,
          2013,
          2014,
          2015
         ],
         "y": [
          0,
          0,
          0,
          0,
          0,
          0.02857142857142857,
          0,
          0,
          0,
          0.03225806451612903,
          0.024390243902439025,
          0.01818181818181818,
          0,
          0.01818181818181818,
          0.02127659574468085,
          0,
          0.02127659574468085,
          0,
          0.046153846153846156,
          0,
          0.01282051282051282,
          0.012195121951219513,
          0.012345679012345678,
          0.0125,
          0.009523809523809525,
          0,
          0,
          0.016,
          0.013793103448275862,
          0,
          0.007575757575757576,
          0,
          0,
          0,
          0.02717391304347826,
          0.005714285714285714,
          0.00980392156862745,
          0.005208333333333333,
          0.014285714285714285,
          0.026785714285714284,
          0.004405286343612335,
          0.04132231404958678,
          0.011278195488721804,
          0.010676156583629894,
          0.019543973941368076,
          0.008241758241758242,
          0.0196078431372549,
          0.0136986301369863,
          0.010080645161290322,
          0.0150093808630394,
          0.0163265306122449,
          0.018518518518518517,
          0.023809523809523808,
          0.015174506828528073,
          0.02,
          0.03179650238473768
         ]
        },
        {
         "mode": "lines",
         "name": "is_Unknown",
         "type": "scatter",
         "x": [
          1960,
          1961,
          1962,
          1963,
          1964,
          1965,
          1966,
          1967,
          1968,
          1969,
          1970,
          1971,
          1972,
          1973,
          1974,
          1975,
          1976,
          1977,
          1978,
          1979,
          1980,
          1981,
          1982,
          1983,
          1984,
          1985,
          1986,
          1987,
          1988,
          1989,
          1990,
          1991,
          1992,
          1993,
          1994,
          1995,
          1996,
          1997,
          1998,
          1999,
          2000,
          2001,
          2002,
          2003,
          2004,
          2005,
          2006,
          2007,
          2008,
          2009,
          2010,
          2011,
          2012,
          2013,
          2014,
          2015
         ],
         "y": [
          0,
          0,
          0,
          0,
          0,
          0,
          0,
          0,
          0,
          0,
          0.024390243902439025,
          0,
          0,
          0,
          0.02127659574468085,
          0,
          0,
          0,
          0,
          0,
          0,
          0,
          0,
          0,
          0,
          0,
          0,
          0,
          0,
          0.0072992700729927005,
          0,
          0,
          0,
          0,
          0,
          0.005714285714285714,
          0.004901960784313725,
          0,
          0,
          0,
          0.004405286343612335,
          0.004132231404958678,
          0,
          0,
          0,
          0.0027472527472527475,
          0,
          0,
          0.0020161290322580645,
          0.00375234521575985,
          0.004081632653061225,
          0,
          0.006802721088435374,
          0.004552352048558422,
          0.0014285714285714286,
          0.003179650238473768
         ]
        },
        {
         "mode": "lines",
         "name": "is_Foreign",
         "type": "scatter",
         "x": [
          1960,
          1961,
          1962,
          1963,
          1964,
          1965,
          1966,
          1967,
          1968,
          1969,
          1970,
          1971,
          1972,
          1973,
          1974,
          1975,
          1976,
          1977,
          1978,
          1979,
          1980,
          1981,
          1982,
          1983,
          1984,
          1985,
          1986,
          1987,
          1988,
          1989,
          1990,
          1991,
          1992,
          1993,
          1994,
          1995,
          1996,
          1997,
          1998,
          1999,
          2000,
          2001,
          2002,
          2003,
          2004,
          2005,
          2006,
          2007,
          2008,
          2009,
          2010,
          2011,
          2012,
          2013,
          2014,
          2015
         ],
         "y": [
          0.03125,
          0.03225806451612903,
          0.03125,
          0.058823529411764705,
          0.023809523809523808,
          0.02857142857142857,
          0.043478260869565216,
          0,
          0,
          0,
          0.024390243902439025,
          0,
          0,
          0,
          0,
          0,
          0.02127659574468085,
          0,
          0.015384615384615385,
          0,
          0.02564102564102564,
          0,
          0.024691358024691357,
          0.0125,
          0,
          0,
          0,
          0,
          0.006896551724137931,
          0.014598540145985401,
          0.007575757575757576,
          0.022556390977443608,
          0.022556390977443608,
          0.028089887640449437,
          0.016304347826086956,
          0.011428571428571429,
          0.00980392156862745,
          0.015625,
          0.01904761904761905,
          0.026785714285714284,
          0.01762114537444934,
          0.01652892561983471,
          0.041353383458646614,
          0.017793594306049824,
          0.02280130293159609,
          0.027472527472527472,
          0.024509803921568627,
          0.03881278538812785,
          0.036290322580645164,
          0.03189493433395872,
          0.026530612244897958,
          0.025925925925925925,
          0.01020408163265306,
          0,
          0,
          0
         ]
        }
       ],
       "layout": {
        "template": {
         "data": {
          "bar": [
           {
            "error_x": {
             "color": "#2a3f5f"
            },
            "error_y": {
             "color": "#2a3f5f"
            },
            "marker": {
             "line": {
              "color": "#E5ECF6",
              "width": 0.5
             }
            },
            "type": "bar"
           }
          ],
          "barpolar": [
           {
            "marker": {
             "line": {
              "color": "#E5ECF6",
              "width": 0.5
             }
            },
            "type": "barpolar"
           }
          ],
          "carpet": [
           {
            "aaxis": {
             "endlinecolor": "#2a3f5f",
             "gridcolor": "white",
             "linecolor": "white",
             "minorgridcolor": "white",
             "startlinecolor": "#2a3f5f"
            },
            "baxis": {
             "endlinecolor": "#2a3f5f",
             "gridcolor": "white",
             "linecolor": "white",
             "minorgridcolor": "white",
             "startlinecolor": "#2a3f5f"
            },
            "type": "carpet"
           }
          ],
          "choropleth": [
           {
            "colorbar": {
             "outlinewidth": 0,
             "ticks": ""
            },
            "type": "choropleth"
           }
          ],
          "contour": [
           {
            "colorbar": {
             "outlinewidth": 0,
             "ticks": ""
            },
            "colorscale": [
             [
              0,
              "#0d0887"
             ],
             [
              0.1111111111111111,
              "#46039f"
             ],
             [
              0.2222222222222222,
              "#7201a8"
             ],
             [
              0.3333333333333333,
              "#9c179e"
             ],
             [
              0.4444444444444444,
              "#bd3786"
             ],
             [
              0.5555555555555556,
              "#d8576b"
             ],
             [
              0.6666666666666666,
              "#ed7953"
             ],
             [
              0.7777777777777778,
              "#fb9f3a"
             ],
             [
              0.8888888888888888,
              "#fdca26"
             ],
             [
              1,
              "#f0f921"
             ]
            ],
            "type": "contour"
           }
          ],
          "contourcarpet": [
           {
            "colorbar": {
             "outlinewidth": 0,
             "ticks": ""
            },
            "type": "contourcarpet"
           }
          ],
          "heatmap": [
           {
            "colorbar": {
             "outlinewidth": 0,
             "ticks": ""
            },
            "colorscale": [
             [
              0,
              "#0d0887"
             ],
             [
              0.1111111111111111,
              "#46039f"
             ],
             [
              0.2222222222222222,
              "#7201a8"
             ],
             [
              0.3333333333333333,
              "#9c179e"
             ],
             [
              0.4444444444444444,
              "#bd3786"
             ],
             [
              0.5555555555555556,
              "#d8576b"
             ],
             [
              0.6666666666666666,
              "#ed7953"
             ],
             [
              0.7777777777777778,
              "#fb9f3a"
             ],
             [
              0.8888888888888888,
              "#fdca26"
             ],
             [
              1,
              "#f0f921"
             ]
            ],
            "type": "heatmap"
           }
          ],
          "heatmapgl": [
           {
            "colorbar": {
             "outlinewidth": 0,
             "ticks": ""
            },
            "colorscale": [
             [
              0,
              "#0d0887"
             ],
             [
              0.1111111111111111,
              "#46039f"
             ],
             [
              0.2222222222222222,
              "#7201a8"
             ],
             [
              0.3333333333333333,
              "#9c179e"
             ],
             [
              0.4444444444444444,
              "#bd3786"
             ],
             [
              0.5555555555555556,
              "#d8576b"
             ],
             [
              0.6666666666666666,
              "#ed7953"
             ],
             [
              0.7777777777777778,
              "#fb9f3a"
             ],
             [
              0.8888888888888888,
              "#fdca26"
             ],
             [
              1,
              "#f0f921"
             ]
            ],
            "type": "heatmapgl"
           }
          ],
          "histogram": [
           {
            "marker": {
             "colorbar": {
              "outlinewidth": 0,
              "ticks": ""
             }
            },
            "type": "histogram"
           }
          ],
          "histogram2d": [
           {
            "colorbar": {
             "outlinewidth": 0,
             "ticks": ""
            },
            "colorscale": [
             [
              0,
              "#0d0887"
             ],
             [
              0.1111111111111111,
              "#46039f"
             ],
             [
              0.2222222222222222,
              "#7201a8"
             ],
             [
              0.3333333333333333,
              "#9c179e"
             ],
             [
              0.4444444444444444,
              "#bd3786"
             ],
             [
              0.5555555555555556,
              "#d8576b"
             ],
             [
              0.6666666666666666,
              "#ed7953"
             ],
             [
              0.7777777777777778,
              "#fb9f3a"
             ],
             [
              0.8888888888888888,
              "#fdca26"
             ],
             [
              1,
              "#f0f921"
             ]
            ],
            "type": "histogram2d"
           }
          ],
          "histogram2dcontour": [
           {
            "colorbar": {
             "outlinewidth": 0,
             "ticks": ""
            },
            "colorscale": [
             [
              0,
              "#0d0887"
             ],
             [
              0.1111111111111111,
              "#46039f"
             ],
             [
              0.2222222222222222,
              "#7201a8"
             ],
             [
              0.3333333333333333,
              "#9c179e"
             ],
             [
              0.4444444444444444,
              "#bd3786"
             ],
             [
              0.5555555555555556,
              "#d8576b"
             ],
             [
              0.6666666666666666,
              "#ed7953"
             ],
             [
              0.7777777777777778,
              "#fb9f3a"
             ],
             [
              0.8888888888888888,
              "#fdca26"
             ],
             [
              1,
              "#f0f921"
             ]
            ],
            "type": "histogram2dcontour"
           }
          ],
          "mesh3d": [
           {
            "colorbar": {
             "outlinewidth": 0,
             "ticks": ""
            },
            "type": "mesh3d"
           }
          ],
          "parcoords": [
           {
            "line": {
             "colorbar": {
              "outlinewidth": 0,
              "ticks": ""
             }
            },
            "type": "parcoords"
           }
          ],
          "pie": [
           {
            "automargin": true,
            "type": "pie"
           }
          ],
          "scatter": [
           {
            "marker": {
             "colorbar": {
              "outlinewidth": 0,
              "ticks": ""
             }
            },
            "type": "scatter"
           }
          ],
          "scatter3d": [
           {
            "line": {
             "colorbar": {
              "outlinewidth": 0,
              "ticks": ""
             }
            },
            "marker": {
             "colorbar": {
              "outlinewidth": 0,
              "ticks": ""
             }
            },
            "type": "scatter3d"
           }
          ],
          "scattercarpet": [
           {
            "marker": {
             "colorbar": {
              "outlinewidth": 0,
              "ticks": ""
             }
            },
            "type": "scattercarpet"
           }
          ],
          "scattergeo": [
           {
            "marker": {
             "colorbar": {
              "outlinewidth": 0,
              "ticks": ""
             }
            },
            "type": "scattergeo"
           }
          ],
          "scattergl": [
           {
            "marker": {
             "colorbar": {
              "outlinewidth": 0,
              "ticks": ""
             }
            },
            "type": "scattergl"
           }
          ],
          "scattermapbox": [
           {
            "marker": {
             "colorbar": {
              "outlinewidth": 0,
              "ticks": ""
             }
            },
            "type": "scattermapbox"
           }
          ],
          "scatterpolar": [
           {
            "marker": {
             "colorbar": {
              "outlinewidth": 0,
              "ticks": ""
             }
            },
            "type": "scatterpolar"
           }
          ],
          "scatterpolargl": [
           {
            "marker": {
             "colorbar": {
              "outlinewidth": 0,
              "ticks": ""
             }
            },
            "type": "scatterpolargl"
           }
          ],
          "scatterternary": [
           {
            "marker": {
             "colorbar": {
              "outlinewidth": 0,
              "ticks": ""
             }
            },
            "type": "scatterternary"
           }
          ],
          "surface": [
           {
            "colorbar": {
             "outlinewidth": 0,
             "ticks": ""
            },
            "colorscale": [
             [
              0,
              "#0d0887"
             ],
             [
              0.1111111111111111,
              "#46039f"
             ],
             [
              0.2222222222222222,
              "#7201a8"
             ],
             [
              0.3333333333333333,
              "#9c179e"
             ],
             [
              0.4444444444444444,
              "#bd3786"
             ],
             [
              0.5555555555555556,
              "#d8576b"
             ],
             [
              0.6666666666666666,
              "#ed7953"
             ],
             [
              0.7777777777777778,
              "#fb9f3a"
             ],
             [
              0.8888888888888888,
              "#fdca26"
             ],
             [
              1,
              "#f0f921"
             ]
            ],
            "type": "surface"
           }
          ],
          "table": [
           {
            "cells": {
             "fill": {
              "color": "#EBF0F8"
             },
             "line": {
              "color": "white"
             }
            },
            "header": {
             "fill": {
              "color": "#C8D4E3"
             },
             "line": {
              "color": "white"
             }
            },
            "type": "table"
           }
          ]
         },
         "layout": {
          "annotationdefaults": {
           "arrowcolor": "#2a3f5f",
           "arrowhead": 0,
           "arrowwidth": 1
          },
          "coloraxis": {
           "colorbar": {
            "outlinewidth": 0,
            "ticks": ""
           }
          },
          "colorscale": {
           "diverging": [
            [
             0,
             "#8e0152"
            ],
            [
             0.1,
             "#c51b7d"
            ],
            [
             0.2,
             "#de77ae"
            ],
            [
             0.3,
             "#f1b6da"
            ],
            [
             0.4,
             "#fde0ef"
            ],
            [
             0.5,
             "#f7f7f7"
            ],
            [
             0.6,
             "#e6f5d0"
            ],
            [
             0.7,
             "#b8e186"
            ],
            [
             0.8,
             "#7fbc41"
            ],
            [
             0.9,
             "#4d9221"
            ],
            [
             1,
             "#276419"
            ]
           ],
           "sequential": [
            [
             0,
             "#0d0887"
            ],
            [
             0.1111111111111111,
             "#46039f"
            ],
            [
             0.2222222222222222,
             "#7201a8"
            ],
            [
             0.3333333333333333,
             "#9c179e"
            ],
            [
             0.4444444444444444,
             "#bd3786"
            ],
            [
             0.5555555555555556,
             "#d8576b"
            ],
            [
             0.6666666666666666,
             "#ed7953"
            ],
            [
             0.7777777777777778,
             "#fb9f3a"
            ],
            [
             0.8888888888888888,
             "#fdca26"
            ],
            [
             1,
             "#f0f921"
            ]
           ],
           "sequentialminus": [
            [
             0,
             "#0d0887"
            ],
            [
             0.1111111111111111,
             "#46039f"
            ],
            [
             0.2222222222222222,
             "#7201a8"
            ],
            [
             0.3333333333333333,
             "#9c179e"
            ],
            [
             0.4444444444444444,
             "#bd3786"
            ],
            [
             0.5555555555555556,
             "#d8576b"
            ],
            [
             0.6666666666666666,
             "#ed7953"
            ],
            [
             0.7777777777777778,
             "#fb9f3a"
            ],
            [
             0.8888888888888888,
             "#fdca26"
            ],
            [
             1,
             "#f0f921"
            ]
           ]
          },
          "colorway": [
           "#636efa",
           "#EF553B",
           "#00cc96",
           "#ab63fa",
           "#FFA15A",
           "#19d3f3",
           "#FF6692",
           "#B6E880",
           "#FF97FF",
           "#FECB52"
          ],
          "font": {
           "color": "#2a3f5f"
          },
          "geo": {
           "bgcolor": "white",
           "lakecolor": "white",
           "landcolor": "#E5ECF6",
           "showlakes": true,
           "showland": true,
           "subunitcolor": "white"
          },
          "hoverlabel": {
           "align": "left"
          },
          "hovermode": "closest",
          "mapbox": {
           "style": "light"
          },
          "paper_bgcolor": "white",
          "plot_bgcolor": "#E5ECF6",
          "polar": {
           "angularaxis": {
            "gridcolor": "white",
            "linecolor": "white",
            "ticks": ""
           },
           "bgcolor": "#E5ECF6",
           "radialaxis": {
            "gridcolor": "white",
            "linecolor": "white",
            "ticks": ""
           }
          },
          "scene": {
           "xaxis": {
            "backgroundcolor": "#E5ECF6",
            "gridcolor": "white",
            "gridwidth": 2,
            "linecolor": "white",
            "showbackground": true,
            "ticks": "",
            "zerolinecolor": "white"
           },
           "yaxis": {
            "backgroundcolor": "#E5ECF6",
            "gridcolor": "white",
            "gridwidth": 2,
            "linecolor": "white",
            "showbackground": true,
            "ticks": "",
            "zerolinecolor": "white"
           },
           "zaxis": {
            "backgroundcolor": "#E5ECF6",
            "gridcolor": "white",
            "gridwidth": 2,
            "linecolor": "white",
            "showbackground": true,
            "ticks": "",
            "zerolinecolor": "white"
           }
          },
          "shapedefaults": {
           "line": {
            "color": "#2a3f5f"
           }
          },
          "ternary": {
           "aaxis": {
            "gridcolor": "white",
            "linecolor": "white",
            "ticks": ""
           },
           "baxis": {
            "gridcolor": "white",
            "linecolor": "white",
            "ticks": ""
           },
           "bgcolor": "#E5ECF6",
           "caxis": {
            "gridcolor": "white",
            "linecolor": "white",
            "ticks": ""
           }
          },
          "title": {
           "x": 0.05
          },
          "xaxis": {
           "automargin": true,
           "gridcolor": "white",
           "linecolor": "white",
           "ticks": "",
           "title": {
            "standoff": 15
           },
           "zerolinecolor": "white",
           "zerolinewidth": 2
          },
          "yaxis": {
           "automargin": true,
           "gridcolor": "white",
           "linecolor": "white",
           "ticks": "",
           "title": {
            "standoff": 15
           },
           "zerolinecolor": "white",
           "zerolinewidth": 2
          }
         }
        },
        "title": {
         "text": "Relative genre popularity over years",
         "x": 0.5
        }
       }
      },
      "text/html": [
       "<div>\n",
       "        \n",
       "        \n",
       "            <div id=\"ac340d60-dbdd-4109-97fd-9ff5f5a6fc80\" class=\"plotly-graph-div\" style=\"height:525px; width:100%;\"></div>\n",
       "            <script type=\"text/javascript\">\n",
       "                require([\"plotly\"], function(Plotly) {\n",
       "                    window.PLOTLYENV=window.PLOTLYENV || {};\n",
       "                    \n",
       "                if (document.getElementById(\"ac340d60-dbdd-4109-97fd-9ff5f5a6fc80\")) {\n",
       "                    Plotly.newPlot(\n",
       "                        'ac340d60-dbdd-4109-97fd-9ff5f5a6fc80',\n",
       "                        [{\"mode\": \"lines\", \"name\": \"is_Action\", \"type\": \"scatter\", \"x\": [1960, 1961, 1962, 1963, 1964, 1965, 1966, 1967, 1968, 1969, 1970, 1971, 1972, 1973, 1974, 1975, 1976, 1977, 1978, 1979, 1980, 1981, 1982, 1983, 1984, 1985, 1986, 1987, 1988, 1989, 1990, 1991, 1992, 1993, 1994, 1995, 1996, 1997, 1998, 1999, 2000, 2001, 2002, 2003, 2004, 2005, 2006, 2007, 2008, 2009, 2010, 2011, 2012, 2013, 2014, 2015], \"y\": [0.25, 0.22580645161290322, 0.25, 0.11764705882352941, 0.11904761904761904, 0.2571428571428571, 0.30434782608695654, 0.175, 0.15384615384615385, 0.3225806451612903, 0.2682926829268293, 0.2, 0.25, 0.2727272727272727, 0.2978723404255319, 0.22727272727272727, 0.2765957446808511, 0.24561403508771928, 0.23076923076923078, 0.14035087719298245, 0.34615384615384615, 0.2073170731707317, 0.20987654320987653, 0.2625, 0.3142857142857143, 0.25688073394495414, 0.24793388429752067, 0.232, 0.2206896551724138, 0.2773722627737226, 0.29545454545454547, 0.2932330827067669, 0.2556390977443609, 0.29775280898876405, 0.33152173913043476, 0.26857142857142857, 0.20588235294117646, 0.3072916666666667, 0.20476190476190476, 0.16964285714285715, 0.20704845814977973, 0.25206611570247933, 0.2706766917293233, 0.2597864768683274, 0.24429967426710097, 0.19230769230769232, 0.19607843137254902, 0.21689497716894976, 0.19959677419354838, 0.2026266416510319, 0.22040816326530613, 0.21296296296296297, 0.1683673469387755, 0.18361153262518967, 0.18428571428571427, 0.17011128775834658]}, {\"mode\": \"lines\", \"name\": \"is_Adventure\", \"type\": \"scatter\", \"x\": [1960, 1961, 1962, 1963, 1964, 1965, 1966, 1967, 1968, 1969, 1970, 1971, 1972, 1973, 1974, 1975, 1976, 1977, 1978, 1979, 1980, 1981, 1982, 1983, 1984, 1985, 1986, 1987, 1988, 1989, 1990, 1991, 1992, 1993, 1994, 1995, 1996, 1997, 1998, 1999, 2000, 2001, 2002, 2003, 2004, 2005, 2006, 2007, 2008, 2009, 2010, 2011, 2012, 2013, 2014, 2015], \"y\": [0.15625, 0.1935483870967742, 0.21875, 0.20588235294117646, 0.11904761904761904, 0.17142857142857143, 0.2391304347826087, 0.175, 0.1282051282051282, 0.16129032258064516, 0.14634146341463414, 0.09090909090909091, 0.125, 0.09090909090909091, 0.1702127659574468, 0.18181818181818182, 0.1276595744680851, 0.2631578947368421, 0.16923076923076924, 0.14035087719298245, 0.1794871794871795, 0.17073170731707318, 0.12345679012345678, 0.175, 0.20952380952380953, 0.25688073394495414, 0.14049586776859505, 0.136, 0.10344827586206896, 0.17518248175182483, 0.17424242424242425, 0.15789473684210525, 0.12781954887218044, 0.14606741573033707, 0.1793478260869565, 0.18285714285714286, 0.14705882352941177, 0.18229166666666666, 0.18095238095238095, 0.08928571428571429, 0.12334801762114538, 0.1652892561983471, 0.16917293233082706, 0.14590747330960854, 0.15960912052117263, 0.14560439560439561, 0.13480392156862744, 0.136986301369863, 0.12701612903225806, 0.1350844277673546, 0.12040816326530612, 0.11481481481481481, 0.08503401360544217, 0.10166919575113809, 0.09571428571428571, 0.10969793322734499]}, {\"mode\": \"lines\", \"name\": \"is_Science Fiction\", \"type\": \"scatter\", \"x\": [1960, 1961, 1962, 1963, 1964, 1965, 1966, 1967, 1968, 1969, 1970, 1971, 1972, 1973, 1974, 1975, 1976, 1977, 1978, 1979, 1980, 1981, 1982, 1983, 1984, 1985, 1986, 1987, 1988, 1989, 1990, 1991, 1992, 1993, 1994, 1995, 1996, 1997, 1998, 1999, 2000, 2001, 2002, 2003, 2004, 2005, 2006, 2007, 2008, 2009, 2010, 2011, 2012, 2013, 2014, 2015], \"y\": [0.09375, 0.12903225806451613, 0.0625, 0.058823529411764705, 0.09523809523809523, 0.05714285714285714, 0.13043478260869565, 0.1, 0.10256410256410256, 0.0967741935483871, 0.07317073170731707, 0.10909090909090909, 0.1, 0.10909090909090909, 0.10638297872340426, 0.25, 0.10638297872340426, 0.19298245614035087, 0.24615384615384617, 0.17543859649122806, 0.14102564102564102, 0.12195121951219512, 0.16049382716049382, 0.2, 0.2571428571428571, 0.1559633027522936, 0.17355371900826447, 0.144, 0.12413793103448276, 0.15328467153284672, 0.13636363636363635, 0.09774436090225563, 0.12030075187969924, 0.10112359550561797, 0.10869565217391304, 0.10285714285714286, 0.11764705882352941, 0.15104166666666666, 0.12380952380952381, 0.12946428571428573, 0.10572687224669604, 0.10330578512396695, 0.10526315789473684, 0.14590747330960854, 0.11074918566775244, 0.06868131868131869, 0.07352941176470588, 0.09360730593607305, 0.10483870967741936, 0.13320825515947468, 0.09387755102040816, 0.1037037037037037, 0.09183673469387756, 0.09256449165402124, 0.08857142857142856, 0.13672496025437203]}, {\"mode\": \"lines\", \"name\": \"is_Thriller\", \"type\": \"scatter\", \"x\": [1960, 1961, 1962, 1963, 1964, 1965, 1966, 1967, 1968, 1969, 1970, 1971, 1972, 1973, 1974, 1975, 1976, 1977, 1978, 1979, 1980, 1981, 1982, 1983, 1984, 1985, 1986, 1987, 1988, 1989, 1990, 1991, 1992, 1993, 1994, 1995, 1996, 1997, 1998, 1999, 2000, 2001, 2002, 2003, 2004, 2005, 2006, 2007, 2008, 2009, 2010, 2011, 2012, 2013, 2014, 2015], \"y\": [0.1875, 0.0, 0.21875, 0.29411764705882354, 0.21428571428571427, 0.3142857142857143, 0.17391304347826086, 0.125, 0.1282051282051282, 0.0967741935483871, 0.12195121951219512, 0.3090909090909091, 0.25, 0.2909090909090909, 0.425531914893617, 0.29545454545454547, 0.3617021276595745, 0.21052631578947367, 0.3384615384615385, 0.2807017543859649, 0.32051282051282054, 0.32926829268292684, 0.20987654320987653, 0.3, 0.22857142857142856, 0.22018348623853212, 0.19008264462809918, 0.224, 0.22758620689655173, 0.25547445255474455, 0.3484848484848485, 0.2781954887218045, 0.3383458646616541, 0.25280898876404495, 0.24456521739130435, 0.28, 0.29901960784313725, 0.3177083333333333, 0.2523809523809524, 0.23660714285714285, 0.2775330396475771, 0.2727272727272727, 0.3157894736842105, 0.2597864768683274, 0.24104234527687296, 0.25274725274725274, 0.27941176470588236, 0.2853881278538813, 0.2560483870967742, 0.2945590994371482, 0.2755102040816326, 0.27037037037037037, 0.272108843537415, 0.26555386949924126, 0.2557142857142857, 0.2718600953895072]}, {\"mode\": \"lines\", \"name\": \"is_Fantasy\", \"type\": \"scatter\", \"x\": [1960, 1961, 1962, 1963, 1964, 1965, 1966, 1967, 1968, 1969, 1970, 1971, 1972, 1973, 1974, 1975, 1976, 1977, 1978, 1979, 1980, 1981, 1982, 1983, 1984, 1985, 1986, 1987, 1988, 1989, 1990, 1991, 1992, 1993, 1994, 1995, 1996, 1997, 1998, 1999, 2000, 2001, 2002, 2003, 2004, 2005, 2006, 2007, 2008, 2009, 2010, 2011, 2012, 2013, 2014, 2015], \"y\": [0.0625, 0.06451612903225806, 0.03125, 0.058823529411764705, 0.09523809523809523, 0.0, 0.043478260869565216, 0.075, 0.1282051282051282, 0.06451612903225806, 0.07317073170731707, 0.03636363636363636, 0.025, 0.01818181818181818, 0.06382978723404255, 0.09090909090909091, 0.0425531914893617, 0.15789473684210525, 0.07692307692307693, 0.0, 0.08974358974358974, 0.036585365853658534, 0.16049382716049382, 0.125, 0.14285714285714285, 0.12844036697247707, 0.09090909090909091, 0.144, 0.1103448275862069, 0.11678832116788321, 0.09848484848484848, 0.14285714285714285, 0.10526315789473684, 0.07303370786516854, 0.13043478260869565, 0.09714285714285714, 0.10784313725490197, 0.109375, 0.10476190476190476, 0.10267857142857142, 0.09251101321585903, 0.10330578512396695, 0.07518796992481203, 0.09608540925266904, 0.06188925081433225, 0.09615384615384616, 0.08333333333333333, 0.10730593607305935, 0.08669354838709678, 0.09193245778611632, 0.08979591836734693, 0.08518518518518518, 0.05782312925170068, 0.05918057663125948, 0.05142857142857143, 0.05246422893481717]}, {\"mode\": \"lines\", \"name\": \"is_Crime\", \"type\": \"scatter\", \"x\": [1960, 1961, 1962, 1963, 1964, 1965, 1966, 1967, 1968, 1969, 1970, 1971, 1972, 1973, 1974, 1975, 1976, 1977, 1978, 1979, 1980, 1981, 1982, 1983, 1984, 1985, 1986, 1987, 1988, 1989, 1990, 1991, 1992, 1993, 1994, 1995, 1996, 1997, 1998, 1999, 2000, 2001, 2002, 2003, 2004, 2005, 2006, 2007, 2008, 2009, 2010, 2011, 2012, 2013, 2014, 2015], \"y\": [0.0625, 0.06451612903225806, 0.09375, 0.11764705882352941, 0.23809523809523808, 0.05714285714285714, 0.10869565217391304, 0.175, 0.1282051282051282, 0.0967741935483871, 0.0975609756097561, 0.18181818181818182, 0.175, 0.3090909090909091, 0.3191489361702128, 0.13636363636363635, 0.1702127659574468, 0.03508771929824561, 0.09230769230769231, 0.14035087719298245, 0.11538461538461539, 0.12195121951219512, 0.1111111111111111, 0.1375, 0.14285714285714285, 0.12844036697247707, 0.1487603305785124, 0.168, 0.14482758620689656, 0.18248175182481752, 0.22727272727272727, 0.15037593984962405, 0.18796992481203006, 0.15730337078651685, 0.14130434782608695, 0.17714285714285713, 0.09313725490196079, 0.14583333333333334, 0.1619047619047619, 0.12946428571428573, 0.13656387665198239, 0.16115702479338842, 0.15413533834586465, 0.16370106761565836, 0.10423452768729642, 0.12362637362637363, 0.12990196078431374, 0.14840182648401826, 0.125, 0.0975609756097561, 0.10408163265306122, 0.08888888888888889, 0.09183673469387756, 0.10773899848254932, 0.09285714285714286, 0.08108108108108109]}, {\"mode\": \"lines\", \"name\": \"is_Western\", \"type\": \"scatter\", \"x\": [1960, 1961, 1962, 1963, 1964, 1965, 1966, 1967, 1968, 1969, 1970, 1971, 1972, 1973, 1974, 1975, 1976, 1977, 1978, 1979, 1980, 1981, 1982, 1983, 1984, 1985, 1986, 1987, 1988, 1989, 1990, 1991, 1992, 1993, 1994, 1995, 1996, 1997, 1998, 1999, 2000, 2001, 2002, 2003, 2004, 2005, 2006, 2007, 2008, 2009, 2010, 2011, 2012, 2013, 2014, 2015], \"y\": [0.1875, 0.0967741935483871, 0.09375, 0.058823529411764705, 0.023809523809523808, 0.11428571428571428, 0.15217391304347827, 0.05, 0.02564102564102564, 0.22580645161290322, 0.1951219512195122, 0.09090909090909091, 0.125, 0.07272727272727272, 0.0425531914893617, 0.06818181818181818, 0.06382978723404255, 0.017543859649122806, 0.015384615384615385, 0.07017543859649122, 0.0641025641025641, 0.0, 0.024691358024691357, 0.0125, 0.0, 0.027522935779816515, 0.008264462809917356, 0.008, 0.0, 0.0072992700729927005, 0.022727272727272728, 0.015037593984962405, 0.015037593984962405, 0.016853932584269662, 0.043478260869565216, 0.017142857142857144, 0.0, 0.0, 0.004761904761904762, 0.013392857142857142, 0.00881057268722467, 0.008264462809917356, 0.0037593984962406013, 0.014234875444839857, 0.02280130293159609, 0.005494505494505495, 0.0024509803921568627, 0.01141552511415525, 0.004032258064516129, 0.0, 0.012244897959183673, 0.005555555555555556, 0.006802721088435374, 0.004552352048558422, 0.008571428571428572, 0.009538950715421303]}, {\"mode\": \"lines\", \"name\": \"is_Drama\", \"type\": \"scatter\", \"x\": [1960, 1961, 1962, 1963, 1964, 1965, 1966, 1967, 1968, 1969, 1970, 1971, 1972, 1973, 1974, 1975, 1976, 1977, 1978, 1979, 1980, 1981, 1982, 1983, 1984, 1985, 1986, 1987, 1988, 1989, 1990, 1991, 1992, 1993, 1994, 1995, 1996, 1997, 1998, 1999, 2000, 2001, 2002, 2003, 2004, 2005, 2006, 2007, 2008, 2009, 2010, 2011, 2012, 2013, 2014, 2015], \"y\": [0.40625, 0.5161290322580645, 0.65625, 0.38235294117647056, 0.47619047619047616, 0.5714285714285714, 0.34782608695652173, 0.4, 0.5128205128205128, 0.41935483870967744, 0.4634146341463415, 0.5454545454545454, 0.4, 0.5636363636363636, 0.44680851063829785, 0.38636363636363635, 0.46808510638297873, 0.42105263157894735, 0.4461538461538462, 0.5263157894736842, 0.41025641025641024, 0.3902439024390244, 0.4074074074074074, 0.4375, 0.38095238095238093, 0.3669724770642202, 0.4214876033057851, 0.416, 0.3724137931034483, 0.39416058394160586, 0.45454545454545453, 0.47368421052631576, 0.48872180451127817, 0.5056179775280899, 0.45108695652173914, 0.5314285714285715, 0.5098039215686274, 0.4322916666666667, 0.5142857142857142, 0.5044642857142857, 0.44493392070484583, 0.4132231404958678, 0.48872180451127817, 0.3914590747330961, 0.4592833876221498, 0.5, 0.48284313725490197, 0.4497716894977169, 0.46975806451612906, 0.4202626641651032, 0.4306122448979592, 0.3962962962962963, 0.3945578231292517, 0.38391502276176026, 0.4057142857142857, 0.4133545310015898]}, {\"mode\": \"lines\", \"name\": \"is_Family\", \"type\": \"scatter\", \"x\": [1960, 1961, 1962, 1963, 1964, 1965, 1966, 1967, 1968, 1969, 1970, 1971, 1972, 1973, 1974, 1975, 1976, 1977, 1978, 1979, 1980, 1981, 1982, 1983, 1984, 1985, 1986, 1987, 1988, 1989, 1990, 1991, 1992, 1993, 1994, 1995, 1996, 1997, 1998, 1999, 2000, 2001, 2002, 2003, 2004, 2005, 2006, 2007, 2008, 2009, 2010, 2011, 2012, 2013, 2014, 2015], \"y\": [0.09375, 0.16129032258064516, 0.0625, 0.08823529411764706, 0.09523809523809523, 0.08571428571428572, 0.15217391304347827, 0.075, 0.1282051282051282, 0.12903225806451613, 0.07317073170731707, 0.03636363636363636, 0.05, 0.07272727272727272, 0.0851063829787234, 0.045454545454545456, 0.06382978723404255, 0.14035087719298245, 0.09230769230769231, 0.08771929824561403, 0.05128205128205128, 0.06097560975609756, 0.09876543209876543, 0.05, 0.08571428571428572, 0.11009174311926606, 0.10743801652892562, 0.128, 0.11724137931034483, 0.12408759124087591, 0.09090909090909091, 0.15789473684210525, 0.12030075187969924, 0.16292134831460675, 0.19021739130434784, 0.18857142857142858, 0.15196078431372548, 0.171875, 0.1619047619047619, 0.12946428571428573, 0.14977973568281938, 0.128099173553719, 0.14661654135338345, 0.15658362989323843, 0.13029315960912052, 0.1565934065934066, 0.15931372549019607, 0.10273972602739725, 0.11290322580645161, 0.1125703564727955, 0.11224489795918367, 0.13333333333333333, 0.07142857142857142, 0.07283763277693475, 0.06142857142857143, 0.06995230524642289]}, {\"mode\": \"lines\", \"name\": \"is_Animation\", \"type\": \"scatter\", \"x\": [1960, 1961, 1962, 1963, 1964, 1965, 1966, 1967, 1968, 1969, 1970, 1971, 1972, 1973, 1974, 1975, 1976, 1977, 1978, 1979, 1980, 1981, 1982, 1983, 1984, 1985, 1986, 1987, 1988, 1989, 1990, 1991, 1992, 1993, 1994, 1995, 1996, 1997, 1998, 1999, 2000, 2001, 2002, 2003, 2004, 2005, 2006, 2007, 2008, 2009, 2010, 2011, 2012, 2013, 2014, 2015], \"y\": [0.0, 0.03225806451612903, 0.0, 0.029411764705882353, 0.047619047619047616, 0.02857142857142857, 0.06521739130434782, 0.05, 0.07692307692307693, 0.0967741935483871, 0.04878048780487805, 0.01818181818181818, 0.025, 0.05454545454545454, 0.02127659574468085, 0.022727272727272728, 0.0, 0.08771929824561403, 0.03076923076923077, 0.017543859649122806, 0.0, 0.036585365853658534, 0.07407407407407407, 0.0375, 0.009523809523809525, 0.01834862385321101, 0.05785123966942149, 0.032, 0.04827586206896552, 0.0364963503649635, 0.030303030303030304, 0.022556390977443608, 0.03007518796992481, 0.033707865168539325, 0.043478260869565216, 0.04, 0.0392156862745098, 0.052083333333333336, 0.0761904761904762, 0.05803571428571429, 0.11894273127753303, 0.0743801652892562, 0.07894736842105263, 0.10320284697508897, 0.0749185667752443, 0.07142857142857142, 0.09558823529411764, 0.0730593607305936, 0.06653225806451613, 0.0900562851782364, 0.10204081632653061, 0.08518518518518518, 0.06802721088435375, 0.0637329286798179, 0.05142857142857143, 0.06200317965023847]}, {\"mode\": \"lines\", \"name\": \"is_Comedy\", \"type\": \"scatter\", \"x\": [1960, 1961, 1962, 1963, 1964, 1965, 1966, 1967, 1968, 1969, 1970, 1971, 1972, 1973, 1974, 1975, 1976, 1977, 1978, 1979, 1980, 1981, 1982, 1983, 1984, 1985, 1986, 1987, 1988, 1989, 1990, 1991, 1992, 1993, 1994, 1995, 1996, 1997, 1998, 1999, 2000, 2001, 2002, 2003, 2004, 2005, 2006, 2007, 2008, 2009, 2010, 2011, 2012, 2013, 2014, 2015], \"y\": [0.25, 0.3225806451612903, 0.15625, 0.38235294117647056, 0.38095238095238093, 0.2, 0.34782608695652173, 0.425, 0.23076923076923078, 0.3870967741935484, 0.2926829268292683, 0.16363636363636364, 0.325, 0.14545454545454545, 0.2553191489361702, 0.2727272727272727, 0.2553191489361702, 0.19298245614035087, 0.2153846153846154, 0.3333333333333333, 0.32051282051282054, 0.24390243902439024, 0.345679012345679, 0.35, 0.3619047619047619, 0.46788990825688076, 0.4049586776859504, 0.456, 0.47586206896551725, 0.45985401459854014, 0.36363636363636365, 0.45112781954887216, 0.40601503759398494, 0.4044943820224719, 0.4782608695652174, 0.36, 0.44607843137254904, 0.4010416666666667, 0.4, 0.44642857142857145, 0.42731277533039647, 0.41735537190082644, 0.39097744360902253, 0.39501779359430605, 0.40716612377850164, 0.39285714285714285, 0.3799019607843137, 0.3447488584474886, 0.3407258064516129, 0.3714821763602251, 0.3448979591836735, 0.31851851851851853, 0.29931972789115646, 0.26555386949924126, 0.2642857142857143, 0.2575516693163752]}, {\"mode\": \"lines\", \"name\": \"is_Mystery\", \"type\": \"scatter\", \"x\": [1960, 1961, 1962, 1963, 1964, 1965, 1966, 1967, 1968, 1969, 1970, 1971, 1972, 1973, 1974, 1975, 1976, 1977, 1978, 1979, 1980, 1981, 1982, 1983, 1984, 1985, 1986, 1987, 1988, 1989, 1990, 1991, 1992, 1993, 1994, 1995, 1996, 1997, 1998, 1999, 2000, 2001, 2002, 2003, 2004, 2005, 2006, 2007, 2008, 2009, 2010, 2011, 2012, 2013, 2014, 2015], \"y\": [0.0, 0.03225806451612903, 0.125, 0.17647058823529413, 0.09523809523809523, 0.08571428571428572, 0.13043478260869565, 0.075, 0.10256410256410256, 0.03225806451612903, 0.07317073170731707, 0.10909090909090909, 0.1, 0.12727272727272726, 0.10638297872340426, 0.18181818181818182, 0.14893617021276595, 0.08771929824561403, 0.1076923076923077, 0.07017543859649122, 0.11538461538461539, 0.12195121951219512, 0.12345679012345678, 0.0625, 0.0380952380952381, 0.027522935779816515, 0.05785123966942149, 0.056, 0.06206896551724138, 0.058394160583941604, 0.10606060606060606, 0.06766917293233082, 0.07518796992481203, 0.08426966292134831, 0.05434782608695652, 0.08, 0.06372549019607843, 0.109375, 0.08571428571428572, 0.10714285714285714, 0.06167400881057269, 0.09090909090909091, 0.10526315789473684, 0.06761565836298933, 0.08794788273615635, 0.07967032967032966, 0.07352941176470588, 0.0776255707762557, 0.05846774193548387, 0.09568480300187618, 0.0653061224489796, 0.07037037037037037, 0.05612244897959184, 0.057663125948406675, 0.05142857142857143, 0.06677265500794913]}, {\"mode\": \"lines\", \"name\": \"is_Romance\", \"type\": \"scatter\", \"x\": [1960, 1961, 1962, 1963, 1964, 1965, 1966, 1967, 1968, 1969, 1970, 1971, 1972, 1973, 1974, 1975, 1976, 1977, 1978, 1979, 1980, 1981, 1982, 1983, 1984, 1985, 1986, 1987, 1988, 1989, 1990, 1991, 1992, 1993, 1994, 1995, 1996, 1997, 1998, 1999, 2000, 2001, 2002, 2003, 2004, 2005, 2006, 2007, 2008, 2009, 2010, 2011, 2012, 2013, 2014, 2015], \"y\": [0.1875, 0.22580645161290322, 0.15625, 0.23529411764705882, 0.21428571428571427, 0.14285714285714285, 0.13043478260869565, 0.275, 0.15384615384615385, 0.12903225806451613, 0.14634146341463414, 0.16363636363636364, 0.125, 0.05454545454545454, 0.0851063829787234, 0.045454545454545456, 0.10638297872340426, 0.07017543859649122, 0.07692307692307693, 0.14035087719298245, 0.11538461538461539, 0.12195121951219512, 0.14814814814814814, 0.175, 0.18095238095238095, 0.1926605504587156, 0.2066115702479339, 0.192, 0.1310344827586207, 0.16058394160583941, 0.14393939393939395, 0.19548872180451127, 0.23308270676691728, 0.19101123595505617, 0.19021739130434784, 0.21142857142857144, 0.21568627450980393, 0.16666666666666666, 0.19523809523809524, 0.1875, 0.20704845814977973, 0.2190082644628099, 0.18045112781954886, 0.17437722419928825, 0.20521172638436483, 0.17032967032967034, 0.1715686274509804, 0.1689497716894977, 0.1693548387096774, 0.15572232645403378, 0.17346938775510204, 0.1388888888888889, 0.13435374149659865, 0.09863429438543247, 0.12, 0.09062003179650238]}, {\"mode\": \"lines\", \"name\": \"is_War\", \"type\": \"scatter\", \"x\": [1960, 1961, 1962, 1963, 1964, 1965, 1966, 1967, 1968, 1969, 1970, 1971, 1972, 1973, 1974, 1975, 1976, 1977, 1978, 1979, 1980, 1981, 1982, 1983, 1984, 1985, 1986, 1987, 1988, 1989, 1990, 1991, 1992, 1993, 1994, 1995, 1996, 1997, 1998, 1999, 2000, 2001, 2002, 2003, 2004, 2005, 2006, 2007, 2008, 2009, 2010, 2011, 2012, 2013, 2014, 2015], \"y\": [0.0625, 0.06451612903225806, 0.09375, 0.029411764705882353, 0.07142857142857142, 0.22857142857142856, 0.08695652173913043, 0.025, 0.10256410256410256, 0.0967741935483871, 0.12195121951219512, 0.07272727272727272, 0.0, 0.0, 0.02127659574468085, 0.045454545454545456, 0.0425531914893617, 0.07017543859649122, 0.06153846153846154, 0.05263157894736842, 0.02564102564102564, 0.024390243902439025, 0.024691358024691357, 0.0125, 0.02857142857142857, 0.01834862385321101, 0.03305785123966942, 0.048, 0.041379310344827586, 0.029197080291970802, 0.015151515151515152, 0.015037593984962405, 0.007518796992481203, 0.033707865168539325, 0.016304347826086956, 0.02857142857142857, 0.014705882352941176, 0.005208333333333333, 0.014285714285714285, 0.013392857142857142, 0.022026431718061675, 0.049586776859504134, 0.02631578947368421, 0.028469750889679714, 0.026058631921824105, 0.013736263736263736, 0.01715686274509804, 0.0136986301369863, 0.036290322580645164, 0.0225140712945591, 0.014285714285714285, 0.016666666666666666, 0.017006802721088437, 0.010622154779969651, 0.032857142857142856, 0.014308426073131956]}, {\"mode\": \"lines\", \"name\": \"is_History\", \"type\": \"scatter\", \"x\": [1960, 1961, 1962, 1963, 1964, 1965, 1966, 1967, 1968, 1969, 1970, 1971, 1972, 1973, 1974, 1975, 1976, 1977, 1978, 1979, 1980, 1981, 1982, 1983, 1984, 1985, 1986, 1987, 1988, 1989, 1990, 1991, 1992, 1993, 1994, 1995, 1996, 1997, 1998, 1999, 2000, 2001, 2002, 2003, 2004, 2005, 2006, 2007, 2008, 2009, 2010, 2011, 2012, 2013, 2014, 2015], \"y\": [0.15625, 0.0967741935483871, 0.125, 0.11764705882352941, 0.07142857142857142, 0.11428571428571428, 0.043478260869565216, 0.0, 0.07692307692307693, 0.0967741935483871, 0.07317073170731707, 0.05454545454545454, 0.0, 0.03636363636363636, 0.02127659574468085, 0.06818181818181818, 0.0425531914893617, 0.07017543859649122, 0.03076923076923077, 0.05263157894736842, 0.0641025641025641, 0.06097560975609756, 0.024691358024691357, 0.0125, 0.047619047619047616, 0.009174311926605505, 0.024793388429752067, 0.024, 0.027586206896551724, 0.029197080291970802, 0.030303030303030304, 0.007518796992481203, 0.03007518796992481, 0.0449438202247191, 0.016304347826086956, 0.04, 0.024509803921568627, 0.036458333333333336, 0.03333333333333333, 0.03125, 0.01762114537444934, 0.049586776859504134, 0.03007518796992481, 0.03202846975088968, 0.02280130293159609, 0.027472527472527472, 0.029411764705882353, 0.02968036529680365, 0.04838709677419355, 0.0300187617260788, 0.02857142857142857, 0.014814814814814815, 0.022108843537414966, 0.021244309559939303, 0.02142857142857143, 0.02384737678855326]}, {\"mode\": \"lines\", \"name\": \"is_Music\", \"type\": \"scatter\", \"x\": [1960, 1961, 1962, 1963, 1964, 1965, 1966, 1967, 1968, 1969, 1970, 1971, 1972, 1973, 1974, 1975, 1976, 1977, 1978, 1979, 1980, 1981, 1982, 1983, 1984, 1985, 1986, 1987, 1988, 1989, 1990, 1991, 1992, 1993, 1994, 1995, 1996, 1997, 1998, 1999, 2000, 2001, 2002, 2003, 2004, 2005, 2006, 2007, 2008, 2009, 2010, 2011, 2012, 2013, 2014, 2015], \"y\": [0.03125, 0.06451612903225806, 0.03125, 0.0, 0.11904761904761904, 0.05714285714285714, 0.0, 0.125, 0.07692307692307693, 0.06451612903225806, 0.0975609756097561, 0.01818181818181818, 0.05, 0.01818181818181818, 0.02127659574468085, 0.06818181818181818, 0.06382978723404255, 0.05263157894736842, 0.046153846153846156, 0.07017543859649122, 0.05128205128205128, 0.036585365853658534, 0.07407407407407407, 0.0625, 0.10476190476190476, 0.01834862385321101, 0.049586776859504134, 0.032, 0.05517241379310345, 0.021897810218978103, 0.015151515151515152, 0.05263157894736842, 0.045112781954887216, 0.033707865168539325, 0.016304347826086956, 0.0, 0.0196078431372549, 0.020833333333333332, 0.05714285714285714, 0.022321428571428572, 0.04405286343612335, 0.024793388429752067, 0.015037593984962405, 0.03914590747330961, 0.04234527687296417, 0.03571428571428571, 0.029411764705882353, 0.03424657534246575, 0.04032258064516129, 0.03189493433395872, 0.02040816326530612, 0.03148148148148148, 0.03741496598639456, 0.04552352048558422, 0.04, 0.05246422893481717]}, {\"mode\": \"lines\", \"name\": \"is_Horror\", \"type\": \"scatter\", \"x\": [1960, 1961, 1962, 1963, 1964, 1965, 1966, 1967, 1968, 1969, 1970, 1971, 1972, 1973, 1974, 1975, 1976, 1977, 1978, 1979, 1980, 1981, 1982, 1983, 1984, 1985, 1986, 1987, 1988, 1989, 1990, 1991, 1992, 1993, 1994, 1995, 1996, 1997, 1998, 1999, 2000, 2001, 2002, 2003, 2004, 2005, 2006, 2007, 2008, 2009, 2010, 2011, 2012, 2013, 2014, 2015], \"y\": [0.21875, 0.0967741935483871, 0.15625, 0.2647058823529412, 0.14285714285714285, 0.14285714285714285, 0.06521739130434782, 0.1, 0.10256410256410256, 0.03225806451612903, 0.12195121951219512, 0.12727272727272726, 0.2, 0.2727272727272727, 0.1702127659574468, 0.18181818181818182, 0.19148936170212766, 0.24561403508771928, 0.2923076923076923, 0.19298245614035087, 0.20512820512820512, 0.2926829268292683, 0.24691358024691357, 0.1625, 0.17142857142857143, 0.12844036697247707, 0.24793388429752067, 0.2, 0.2482758620689655, 0.18248175182481752, 0.19696969696969696, 0.09774436090225563, 0.12030075187969924, 0.10112359550561797, 0.07065217391304347, 0.10857142857142857, 0.08333333333333333, 0.09375, 0.10952380952380952, 0.11607142857142858, 0.09251101321585903, 0.09504132231404959, 0.11278195488721804, 0.08540925266903915, 0.09446254071661238, 0.15384615384615385, 0.13725490196078433, 0.18036529680365296, 0.1532258064516129, 0.16885553470919323, 0.15918367346938775, 0.14444444444444443, 0.17687074829931973, 0.15477996965098634, 0.15, 0.1987281399046105]}, {\"mode\": \"lines\", \"name\": \"is_Documentary\", \"type\": \"scatter\", \"x\": [1960, 1961, 1962, 1963, 1964, 1965, 1966, 1967, 1968, 1969, 1970, 1971, 1972, 1973, 1974, 1975, 1976, 1977, 1978, 1979, 1980, 1981, 1982, 1983, 1984, 1985, 1986, 1987, 1988, 1989, 1990, 1991, 1992, 1993, 1994, 1995, 1996, 1997, 1998, 1999, 2000, 2001, 2002, 2003, 2004, 2005, 2006, 2007, 2008, 2009, 2010, 2011, 2012, 2013, 2014, 2015], \"y\": [0.0, 0.0, 0.0, 0.0, 0.0, 0.0, 0.021739130434782608, 0.025, 0.0, 0.0, 0.07317073170731707, 0.0, 0.025, 0.01818181818181818, 0.0425531914893617, 0.022727272727272728, 0.02127659574468085, 0.017543859649122806, 0.046153846153846156, 0.0, 0.0, 0.024390243902439025, 0.012345679012345678, 0.0, 0.01904761904761905, 0.009174311926605505, 0.0, 0.0, 0.034482758620689655, 0.014598540145985401, 0.007575757575757576, 0.022556390977443608, 0.007518796992481203, 0.0056179775280898875, 0.010869565217391304, 0.011428571428571429, 0.014705882352941176, 0.010416666666666666, 0.014285714285714285, 0.022321428571428572, 0.013215859030837005, 0.02066115702479339, 0.03759398496240601, 0.03914590747330961, 0.03908794788273615, 0.046703296703296704, 0.0392156862745098, 0.04337899543378995, 0.05241935483870968, 0.04690431519699812, 0.07142857142857142, 0.09074074074074075, 0.08333333333333333, 0.09408194233687406, 0.10428571428571429, 0.09062003179650238]}, {\"mode\": \"lines\", \"name\": \"is_TV Movie\", \"type\": \"scatter\", \"x\": [1960, 1961, 1962, 1963, 1964, 1965, 1966, 1967, 1968, 1969, 1970, 1971, 1972, 1973, 1974, 1975, 1976, 1977, 1978, 1979, 1980, 1981, 1982, 1983, 1984, 1985, 1986, 1987, 1988, 1989, 1990, 1991, 1992, 1993, 1994, 1995, 1996, 1997, 1998, 1999, 2000, 2001, 2002, 2003, 2004, 2005, 2006, 2007, 2008, 2009, 2010, 2011, 2012, 2013, 2014, 2015], \"y\": [0.0, 0.0, 0.0, 0.0, 0.0, 0.02857142857142857, 0.0, 0.0, 0.0, 0.03225806451612903, 0.024390243902439025, 0.01818181818181818, 0.0, 0.01818181818181818, 0.02127659574468085, 0.0, 0.02127659574468085, 0.0, 0.046153846153846156, 0.0, 0.01282051282051282, 0.012195121951219513, 0.012345679012345678, 0.0125, 0.009523809523809525, 0.0, 0.0, 0.016, 0.013793103448275862, 0.0, 0.007575757575757576, 0.0, 0.0, 0.0, 0.02717391304347826, 0.005714285714285714, 0.00980392156862745, 0.005208333333333333, 0.014285714285714285, 0.026785714285714284, 0.004405286343612335, 0.04132231404958678, 0.011278195488721804, 0.010676156583629894, 0.019543973941368076, 0.008241758241758242, 0.0196078431372549, 0.0136986301369863, 0.010080645161290322, 0.0150093808630394, 0.0163265306122449, 0.018518518518518517, 0.023809523809523808, 0.015174506828528073, 0.02, 0.03179650238473768]}, {\"mode\": \"lines\", \"name\": \"is_Unknown\", \"type\": \"scatter\", \"x\": [1960, 1961, 1962, 1963, 1964, 1965, 1966, 1967, 1968, 1969, 1970, 1971, 1972, 1973, 1974, 1975, 1976, 1977, 1978, 1979, 1980, 1981, 1982, 1983, 1984, 1985, 1986, 1987, 1988, 1989, 1990, 1991, 1992, 1993, 1994, 1995, 1996, 1997, 1998, 1999, 2000, 2001, 2002, 2003, 2004, 2005, 2006, 2007, 2008, 2009, 2010, 2011, 2012, 2013, 2014, 2015], \"y\": [0.0, 0.0, 0.0, 0.0, 0.0, 0.0, 0.0, 0.0, 0.0, 0.0, 0.024390243902439025, 0.0, 0.0, 0.0, 0.02127659574468085, 0.0, 0.0, 0.0, 0.0, 0.0, 0.0, 0.0, 0.0, 0.0, 0.0, 0.0, 0.0, 0.0, 0.0, 0.0072992700729927005, 0.0, 0.0, 0.0, 0.0, 0.0, 0.005714285714285714, 0.004901960784313725, 0.0, 0.0, 0.0, 0.004405286343612335, 0.004132231404958678, 0.0, 0.0, 0.0, 0.0027472527472527475, 0.0, 0.0, 0.0020161290322580645, 0.00375234521575985, 0.004081632653061225, 0.0, 0.006802721088435374, 0.004552352048558422, 0.0014285714285714286, 0.003179650238473768]}, {\"mode\": \"lines\", \"name\": \"is_Foreign\", \"type\": \"scatter\", \"x\": [1960, 1961, 1962, 1963, 1964, 1965, 1966, 1967, 1968, 1969, 1970, 1971, 1972, 1973, 1974, 1975, 1976, 1977, 1978, 1979, 1980, 1981, 1982, 1983, 1984, 1985, 1986, 1987, 1988, 1989, 1990, 1991, 1992, 1993, 1994, 1995, 1996, 1997, 1998, 1999, 2000, 2001, 2002, 2003, 2004, 2005, 2006, 2007, 2008, 2009, 2010, 2011, 2012, 2013, 2014, 2015], \"y\": [0.03125, 0.03225806451612903, 0.03125, 0.058823529411764705, 0.023809523809523808, 0.02857142857142857, 0.043478260869565216, 0.0, 0.0, 0.0, 0.024390243902439025, 0.0, 0.0, 0.0, 0.0, 0.0, 0.02127659574468085, 0.0, 0.015384615384615385, 0.0, 0.02564102564102564, 0.0, 0.024691358024691357, 0.0125, 0.0, 0.0, 0.0, 0.0, 0.006896551724137931, 0.014598540145985401, 0.007575757575757576, 0.022556390977443608, 0.022556390977443608, 0.028089887640449437, 0.016304347826086956, 0.011428571428571429, 0.00980392156862745, 0.015625, 0.01904761904761905, 0.026785714285714284, 0.01762114537444934, 0.01652892561983471, 0.041353383458646614, 0.017793594306049824, 0.02280130293159609, 0.027472527472527472, 0.024509803921568627, 0.03881278538812785, 0.036290322580645164, 0.03189493433395872, 0.026530612244897958, 0.025925925925925925, 0.01020408163265306, 0.0, 0.0, 0.0]}],\n",
       "                        {\"template\": {\"data\": {\"bar\": [{\"error_x\": {\"color\": \"#2a3f5f\"}, \"error_y\": {\"color\": \"#2a3f5f\"}, \"marker\": {\"line\": {\"color\": \"#E5ECF6\", \"width\": 0.5}}, \"type\": \"bar\"}], \"barpolar\": [{\"marker\": {\"line\": {\"color\": \"#E5ECF6\", \"width\": 0.5}}, \"type\": \"barpolar\"}], \"carpet\": [{\"aaxis\": {\"endlinecolor\": \"#2a3f5f\", \"gridcolor\": \"white\", \"linecolor\": \"white\", \"minorgridcolor\": \"white\", \"startlinecolor\": \"#2a3f5f\"}, \"baxis\": {\"endlinecolor\": \"#2a3f5f\", \"gridcolor\": \"white\", \"linecolor\": \"white\", \"minorgridcolor\": \"white\", \"startlinecolor\": \"#2a3f5f\"}, \"type\": \"carpet\"}], \"choropleth\": [{\"colorbar\": {\"outlinewidth\": 0, \"ticks\": \"\"}, \"type\": \"choropleth\"}], \"contour\": [{\"colorbar\": {\"outlinewidth\": 0, \"ticks\": \"\"}, \"colorscale\": [[0.0, \"#0d0887\"], [0.1111111111111111, \"#46039f\"], [0.2222222222222222, \"#7201a8\"], [0.3333333333333333, \"#9c179e\"], [0.4444444444444444, \"#bd3786\"], [0.5555555555555556, \"#d8576b\"], [0.6666666666666666, \"#ed7953\"], [0.7777777777777778, \"#fb9f3a\"], [0.8888888888888888, \"#fdca26\"], [1.0, \"#f0f921\"]], \"type\": \"contour\"}], \"contourcarpet\": [{\"colorbar\": {\"outlinewidth\": 0, \"ticks\": \"\"}, \"type\": \"contourcarpet\"}], \"heatmap\": [{\"colorbar\": {\"outlinewidth\": 0, \"ticks\": \"\"}, \"colorscale\": [[0.0, \"#0d0887\"], [0.1111111111111111, \"#46039f\"], [0.2222222222222222, \"#7201a8\"], [0.3333333333333333, \"#9c179e\"], [0.4444444444444444, \"#bd3786\"], [0.5555555555555556, \"#d8576b\"], [0.6666666666666666, \"#ed7953\"], [0.7777777777777778, \"#fb9f3a\"], [0.8888888888888888, \"#fdca26\"], [1.0, \"#f0f921\"]], \"type\": \"heatmap\"}], \"heatmapgl\": [{\"colorbar\": {\"outlinewidth\": 0, \"ticks\": \"\"}, \"colorscale\": [[0.0, \"#0d0887\"], [0.1111111111111111, \"#46039f\"], [0.2222222222222222, \"#7201a8\"], [0.3333333333333333, \"#9c179e\"], [0.4444444444444444, \"#bd3786\"], [0.5555555555555556, \"#d8576b\"], [0.6666666666666666, \"#ed7953\"], [0.7777777777777778, \"#fb9f3a\"], [0.8888888888888888, \"#fdca26\"], [1.0, \"#f0f921\"]], \"type\": \"heatmapgl\"}], \"histogram\": [{\"marker\": {\"colorbar\": {\"outlinewidth\": 0, \"ticks\": \"\"}}, \"type\": \"histogram\"}], \"histogram2d\": [{\"colorbar\": {\"outlinewidth\": 0, \"ticks\": \"\"}, \"colorscale\": [[0.0, \"#0d0887\"], [0.1111111111111111, \"#46039f\"], [0.2222222222222222, \"#7201a8\"], [0.3333333333333333, \"#9c179e\"], [0.4444444444444444, \"#bd3786\"], [0.5555555555555556, \"#d8576b\"], [0.6666666666666666, \"#ed7953\"], [0.7777777777777778, \"#fb9f3a\"], [0.8888888888888888, \"#fdca26\"], [1.0, \"#f0f921\"]], \"type\": \"histogram2d\"}], \"histogram2dcontour\": [{\"colorbar\": {\"outlinewidth\": 0, \"ticks\": \"\"}, \"colorscale\": [[0.0, \"#0d0887\"], [0.1111111111111111, \"#46039f\"], [0.2222222222222222, \"#7201a8\"], [0.3333333333333333, \"#9c179e\"], [0.4444444444444444, \"#bd3786\"], [0.5555555555555556, \"#d8576b\"], [0.6666666666666666, \"#ed7953\"], [0.7777777777777778, \"#fb9f3a\"], [0.8888888888888888, \"#fdca26\"], [1.0, \"#f0f921\"]], \"type\": \"histogram2dcontour\"}], \"mesh3d\": [{\"colorbar\": {\"outlinewidth\": 0, \"ticks\": \"\"}, \"type\": \"mesh3d\"}], \"parcoords\": [{\"line\": {\"colorbar\": {\"outlinewidth\": 0, \"ticks\": \"\"}}, \"type\": \"parcoords\"}], \"pie\": [{\"automargin\": true, \"type\": \"pie\"}], \"scatter\": [{\"marker\": {\"colorbar\": {\"outlinewidth\": 0, \"ticks\": \"\"}}, \"type\": \"scatter\"}], \"scatter3d\": [{\"line\": {\"colorbar\": {\"outlinewidth\": 0, \"ticks\": \"\"}}, \"marker\": {\"colorbar\": {\"outlinewidth\": 0, \"ticks\": \"\"}}, \"type\": \"scatter3d\"}], \"scattercarpet\": [{\"marker\": {\"colorbar\": {\"outlinewidth\": 0, \"ticks\": \"\"}}, \"type\": \"scattercarpet\"}], \"scattergeo\": [{\"marker\": {\"colorbar\": {\"outlinewidth\": 0, \"ticks\": \"\"}}, \"type\": \"scattergeo\"}], \"scattergl\": [{\"marker\": {\"colorbar\": {\"outlinewidth\": 0, \"ticks\": \"\"}}, \"type\": \"scattergl\"}], \"scattermapbox\": [{\"marker\": {\"colorbar\": {\"outlinewidth\": 0, \"ticks\": \"\"}}, \"type\": \"scattermapbox\"}], \"scatterpolar\": [{\"marker\": {\"colorbar\": {\"outlinewidth\": 0, \"ticks\": \"\"}}, \"type\": \"scatterpolar\"}], \"scatterpolargl\": [{\"marker\": {\"colorbar\": {\"outlinewidth\": 0, \"ticks\": \"\"}}, \"type\": \"scatterpolargl\"}], \"scatterternary\": [{\"marker\": {\"colorbar\": {\"outlinewidth\": 0, \"ticks\": \"\"}}, \"type\": \"scatterternary\"}], \"surface\": [{\"colorbar\": {\"outlinewidth\": 0, \"ticks\": \"\"}, \"colorscale\": [[0.0, \"#0d0887\"], [0.1111111111111111, \"#46039f\"], [0.2222222222222222, \"#7201a8\"], [0.3333333333333333, \"#9c179e\"], [0.4444444444444444, \"#bd3786\"], [0.5555555555555556, \"#d8576b\"], [0.6666666666666666, \"#ed7953\"], [0.7777777777777778, \"#fb9f3a\"], [0.8888888888888888, \"#fdca26\"], [1.0, \"#f0f921\"]], \"type\": \"surface\"}], \"table\": [{\"cells\": {\"fill\": {\"color\": \"#EBF0F8\"}, \"line\": {\"color\": \"white\"}}, \"header\": {\"fill\": {\"color\": \"#C8D4E3\"}, \"line\": {\"color\": \"white\"}}, \"type\": \"table\"}]}, \"layout\": {\"annotationdefaults\": {\"arrowcolor\": \"#2a3f5f\", \"arrowhead\": 0, \"arrowwidth\": 1}, \"coloraxis\": {\"colorbar\": {\"outlinewidth\": 0, \"ticks\": \"\"}}, \"colorscale\": {\"diverging\": [[0, \"#8e0152\"], [0.1, \"#c51b7d\"], [0.2, \"#de77ae\"], [0.3, \"#f1b6da\"], [0.4, \"#fde0ef\"], [0.5, \"#f7f7f7\"], [0.6, \"#e6f5d0\"], [0.7, \"#b8e186\"], [0.8, \"#7fbc41\"], [0.9, \"#4d9221\"], [1, \"#276419\"]], \"sequential\": [[0.0, \"#0d0887\"], [0.1111111111111111, \"#46039f\"], [0.2222222222222222, \"#7201a8\"], [0.3333333333333333, \"#9c179e\"], [0.4444444444444444, \"#bd3786\"], [0.5555555555555556, \"#d8576b\"], [0.6666666666666666, \"#ed7953\"], [0.7777777777777778, \"#fb9f3a\"], [0.8888888888888888, \"#fdca26\"], [1.0, \"#f0f921\"]], \"sequentialminus\": [[0.0, \"#0d0887\"], [0.1111111111111111, \"#46039f\"], [0.2222222222222222, \"#7201a8\"], [0.3333333333333333, \"#9c179e\"], [0.4444444444444444, \"#bd3786\"], [0.5555555555555556, \"#d8576b\"], [0.6666666666666666, \"#ed7953\"], [0.7777777777777778, \"#fb9f3a\"], [0.8888888888888888, \"#fdca26\"], [1.0, \"#f0f921\"]]}, \"colorway\": [\"#636efa\", \"#EF553B\", \"#00cc96\", \"#ab63fa\", \"#FFA15A\", \"#19d3f3\", \"#FF6692\", \"#B6E880\", \"#FF97FF\", \"#FECB52\"], \"font\": {\"color\": \"#2a3f5f\"}, \"geo\": {\"bgcolor\": \"white\", \"lakecolor\": \"white\", \"landcolor\": \"#E5ECF6\", \"showlakes\": true, \"showland\": true, \"subunitcolor\": \"white\"}, \"hoverlabel\": {\"align\": \"left\"}, \"hovermode\": \"closest\", \"mapbox\": {\"style\": \"light\"}, \"paper_bgcolor\": \"white\", \"plot_bgcolor\": \"#E5ECF6\", \"polar\": {\"angularaxis\": {\"gridcolor\": \"white\", \"linecolor\": \"white\", \"ticks\": \"\"}, \"bgcolor\": \"#E5ECF6\", \"radialaxis\": {\"gridcolor\": \"white\", \"linecolor\": \"white\", \"ticks\": \"\"}}, \"scene\": {\"xaxis\": {\"backgroundcolor\": \"#E5ECF6\", \"gridcolor\": \"white\", \"gridwidth\": 2, \"linecolor\": \"white\", \"showbackground\": true, \"ticks\": \"\", \"zerolinecolor\": \"white\"}, \"yaxis\": {\"backgroundcolor\": \"#E5ECF6\", \"gridcolor\": \"white\", \"gridwidth\": 2, \"linecolor\": \"white\", \"showbackground\": true, \"ticks\": \"\", \"zerolinecolor\": \"white\"}, \"zaxis\": {\"backgroundcolor\": \"#E5ECF6\", \"gridcolor\": \"white\", \"gridwidth\": 2, \"linecolor\": \"white\", \"showbackground\": true, \"ticks\": \"\", \"zerolinecolor\": \"white\"}}, \"shapedefaults\": {\"line\": {\"color\": \"#2a3f5f\"}}, \"ternary\": {\"aaxis\": {\"gridcolor\": \"white\", \"linecolor\": \"white\", \"ticks\": \"\"}, \"baxis\": {\"gridcolor\": \"white\", \"linecolor\": \"white\", \"ticks\": \"\"}, \"bgcolor\": \"#E5ECF6\", \"caxis\": {\"gridcolor\": \"white\", \"linecolor\": \"white\", \"ticks\": \"\"}}, \"title\": {\"x\": 0.05}, \"xaxis\": {\"automargin\": true, \"gridcolor\": \"white\", \"linecolor\": \"white\", \"ticks\": \"\", \"title\": {\"standoff\": 15}, \"zerolinecolor\": \"white\", \"zerolinewidth\": 2}, \"yaxis\": {\"automargin\": true, \"gridcolor\": \"white\", \"linecolor\": \"white\", \"ticks\": \"\", \"title\": {\"standoff\": 15}, \"zerolinecolor\": \"white\", \"zerolinewidth\": 2}}}, \"title\": {\"text\": \"Relative genre popularity over years\", \"x\": 0.5}},\n",
       "                        {\"responsive\": true}\n",
       "                    ).then(function(){\n",
       "                            \n",
       "var gd = document.getElementById('ac340d60-dbdd-4109-97fd-9ff5f5a6fc80');\n",
       "var x = new MutationObserver(function (mutations, observer) {{\n",
       "        var display = window.getComputedStyle(gd).display;\n",
       "        if (!display || display === 'none') {{\n",
       "            console.log([gd, 'removed!']);\n",
       "            Plotly.purge(gd);\n",
       "            observer.disconnect();\n",
       "        }}\n",
       "}});\n",
       "\n",
       "// Listen for the removal of the full notebook cells\n",
       "var notebookContainer = gd.closest('#notebook-container');\n",
       "if (notebookContainer) {{\n",
       "    x.observe(notebookContainer, {childList: true});\n",
       "}}\n",
       "\n",
       "// Listen for the clearing of the current output cell\n",
       "var outputEl = gd.closest('.output');\n",
       "if (outputEl) {{\n",
       "    x.observe(outputEl, {childList: true});\n",
       "}}\n",
       "\n",
       "                        })\n",
       "                };\n",
       "                });\n",
       "            </script>\n",
       "        </div>"
      ]
     },
     "metadata": {},
     "output_type": "display_data"
    }
   ],
   "source": [
    "rel_genres_by_year = genres_fun(relative=True)\n",
    "plot_genres(rel_genres_by_year,title=\"Relative genre popularity over years\")"
   ]
  },
  {
   "cell_type": "code",
   "execution_count": 130,
   "metadata": {
    "ExecuteTime": {
     "end_time": "2020-02-15T13:36:36.199311Z",
     "start_time": "2020-02-15T13:36:36.072676Z"
    }
   },
   "outputs": [
    {
     "data": {
      "application/vnd.plotly.v1+json": {
       "config": {
        "plotlyServerURL": "https://plot.ly"
       },
       "data": [
        {
         "mode": "lines",
         "name": "is_Action",
         "type": "scatter",
         "x": [
          1960,
          1961,
          1962,
          1963,
          1964,
          1965,
          1966,
          1967,
          1968,
          1969,
          1970,
          1971,
          1972,
          1973,
          1974,
          1975,
          1976,
          1977,
          1978,
          1979,
          1980,
          1981,
          1982,
          1983,
          1984,
          1985,
          1986,
          1987,
          1988,
          1989,
          1990,
          1991,
          1992,
          1993,
          1994,
          1995,
          1996,
          1997,
          1998,
          1999,
          2000,
          2001,
          2002,
          2003,
          2004,
          2005,
          2006,
          2007,
          2008,
          2009,
          2010,
          2011,
          2012,
          2013,
          2014,
          2015
         ],
         "y": [
          0.25,
          0.22580645161290322,
          0.25,
          0.11764705882352941,
          0.11904761904761904,
          0.2571428571428571,
          0.30434782608695654,
          0.175,
          0.15384615384615385,
          0.3225806451612903,
          0.2682926829268293,
          0.2,
          0.25,
          0.2727272727272727,
          0.2978723404255319,
          0.22727272727272727,
          0.2765957446808511,
          0.24561403508771928,
          0.23076923076923078,
          0.14035087719298245,
          0.34615384615384615,
          0.2073170731707317,
          0.20987654320987653,
          0.2625,
          0.3142857142857143,
          0.25688073394495414,
          0.24793388429752067,
          0.232,
          0.2206896551724138,
          0.2773722627737226,
          0.29545454545454547,
          0.2932330827067669,
          0.2556390977443609,
          0.29775280898876405,
          0.33152173913043476,
          0.26857142857142857,
          0.20588235294117646,
          0.3072916666666667,
          0.20476190476190476,
          0.16964285714285715,
          0.20704845814977973,
          0.25206611570247933,
          0.2706766917293233,
          0.2597864768683274,
          0.24429967426710097,
          0.19230769230769232,
          0.19607843137254902,
          0.21689497716894976,
          0.19959677419354838,
          0.2026266416510319,
          0.22040816326530613,
          0.21296296296296297,
          0.1683673469387755,
          0.18361153262518967,
          0.18428571428571427,
          0.17011128775834658
         ]
        },
        {
         "mode": "lines",
         "name": "is_Thriller",
         "type": "scatter",
         "x": [
          1960,
          1961,
          1962,
          1963,
          1964,
          1965,
          1966,
          1967,
          1968,
          1969,
          1970,
          1971,
          1972,
          1973,
          1974,
          1975,
          1976,
          1977,
          1978,
          1979,
          1980,
          1981,
          1982,
          1983,
          1984,
          1985,
          1986,
          1987,
          1988,
          1989,
          1990,
          1991,
          1992,
          1993,
          1994,
          1995,
          1996,
          1997,
          1998,
          1999,
          2000,
          2001,
          2002,
          2003,
          2004,
          2005,
          2006,
          2007,
          2008,
          2009,
          2010,
          2011,
          2012,
          2013,
          2014,
          2015
         ],
         "y": [
          0.1875,
          0,
          0.21875,
          0.29411764705882354,
          0.21428571428571427,
          0.3142857142857143,
          0.17391304347826086,
          0.125,
          0.1282051282051282,
          0.0967741935483871,
          0.12195121951219512,
          0.3090909090909091,
          0.25,
          0.2909090909090909,
          0.425531914893617,
          0.29545454545454547,
          0.3617021276595745,
          0.21052631578947367,
          0.3384615384615385,
          0.2807017543859649,
          0.32051282051282054,
          0.32926829268292684,
          0.20987654320987653,
          0.3,
          0.22857142857142856,
          0.22018348623853212,
          0.19008264462809918,
          0.224,
          0.22758620689655173,
          0.25547445255474455,
          0.3484848484848485,
          0.2781954887218045,
          0.3383458646616541,
          0.25280898876404495,
          0.24456521739130435,
          0.28,
          0.29901960784313725,
          0.3177083333333333,
          0.2523809523809524,
          0.23660714285714285,
          0.2775330396475771,
          0.2727272727272727,
          0.3157894736842105,
          0.2597864768683274,
          0.24104234527687296,
          0.25274725274725274,
          0.27941176470588236,
          0.2853881278538813,
          0.2560483870967742,
          0.2945590994371482,
          0.2755102040816326,
          0.27037037037037037,
          0.272108843537415,
          0.26555386949924126,
          0.2557142857142857,
          0.2718600953895072
         ]
        },
        {
         "mode": "lines",
         "name": "is_Drama",
         "type": "scatter",
         "x": [
          1960,
          1961,
          1962,
          1963,
          1964,
          1965,
          1966,
          1967,
          1968,
          1969,
          1970,
          1971,
          1972,
          1973,
          1974,
          1975,
          1976,
          1977,
          1978,
          1979,
          1980,
          1981,
          1982,
          1983,
          1984,
          1985,
          1986,
          1987,
          1988,
          1989,
          1990,
          1991,
          1992,
          1993,
          1994,
          1995,
          1996,
          1997,
          1998,
          1999,
          2000,
          2001,
          2002,
          2003,
          2004,
          2005,
          2006,
          2007,
          2008,
          2009,
          2010,
          2011,
          2012,
          2013,
          2014,
          2015
         ],
         "y": [
          0.40625,
          0.5161290322580645,
          0.65625,
          0.38235294117647056,
          0.47619047619047616,
          0.5714285714285714,
          0.34782608695652173,
          0.4,
          0.5128205128205128,
          0.41935483870967744,
          0.4634146341463415,
          0.5454545454545454,
          0.4,
          0.5636363636363636,
          0.44680851063829785,
          0.38636363636363635,
          0.46808510638297873,
          0.42105263157894735,
          0.4461538461538462,
          0.5263157894736842,
          0.41025641025641024,
          0.3902439024390244,
          0.4074074074074074,
          0.4375,
          0.38095238095238093,
          0.3669724770642202,
          0.4214876033057851,
          0.416,
          0.3724137931034483,
          0.39416058394160586,
          0.45454545454545453,
          0.47368421052631576,
          0.48872180451127817,
          0.5056179775280899,
          0.45108695652173914,
          0.5314285714285715,
          0.5098039215686274,
          0.4322916666666667,
          0.5142857142857142,
          0.5044642857142857,
          0.44493392070484583,
          0.4132231404958678,
          0.48872180451127817,
          0.3914590747330961,
          0.4592833876221498,
          0.5,
          0.48284313725490197,
          0.4497716894977169,
          0.46975806451612906,
          0.4202626641651032,
          0.4306122448979592,
          0.3962962962962963,
          0.3945578231292517,
          0.38391502276176026,
          0.4057142857142857,
          0.4133545310015898
         ]
        },
        {
         "mode": "lines",
         "name": "is_Comedy",
         "type": "scatter",
         "x": [
          1960,
          1961,
          1962,
          1963,
          1964,
          1965,
          1966,
          1967,
          1968,
          1969,
          1970,
          1971,
          1972,
          1973,
          1974,
          1975,
          1976,
          1977,
          1978,
          1979,
          1980,
          1981,
          1982,
          1983,
          1984,
          1985,
          1986,
          1987,
          1988,
          1989,
          1990,
          1991,
          1992,
          1993,
          1994,
          1995,
          1996,
          1997,
          1998,
          1999,
          2000,
          2001,
          2002,
          2003,
          2004,
          2005,
          2006,
          2007,
          2008,
          2009,
          2010,
          2011,
          2012,
          2013,
          2014,
          2015
         ],
         "y": [
          0.25,
          0.3225806451612903,
          0.15625,
          0.38235294117647056,
          0.38095238095238093,
          0.2,
          0.34782608695652173,
          0.425,
          0.23076923076923078,
          0.3870967741935484,
          0.2926829268292683,
          0.16363636363636364,
          0.325,
          0.14545454545454545,
          0.2553191489361702,
          0.2727272727272727,
          0.2553191489361702,
          0.19298245614035087,
          0.2153846153846154,
          0.3333333333333333,
          0.32051282051282054,
          0.24390243902439024,
          0.345679012345679,
          0.35,
          0.3619047619047619,
          0.46788990825688076,
          0.4049586776859504,
          0.456,
          0.47586206896551725,
          0.45985401459854014,
          0.36363636363636365,
          0.45112781954887216,
          0.40601503759398494,
          0.4044943820224719,
          0.4782608695652174,
          0.36,
          0.44607843137254904,
          0.4010416666666667,
          0.4,
          0.44642857142857145,
          0.42731277533039647,
          0.41735537190082644,
          0.39097744360902253,
          0.39501779359430605,
          0.40716612377850164,
          0.39285714285714285,
          0.3799019607843137,
          0.3447488584474886,
          0.3407258064516129,
          0.3714821763602251,
          0.3448979591836735,
          0.31851851851851853,
          0.29931972789115646,
          0.26555386949924126,
          0.2642857142857143,
          0.2575516693163752
         ]
        },
        {
         "mode": "lines",
         "name": "is_Romance",
         "type": "scatter",
         "x": [
          1960,
          1961,
          1962,
          1963,
          1964,
          1965,
          1966,
          1967,
          1968,
          1969,
          1970,
          1971,
          1972,
          1973,
          1974,
          1975,
          1976,
          1977,
          1978,
          1979,
          1980,
          1981,
          1982,
          1983,
          1984,
          1985,
          1986,
          1987,
          1988,
          1989,
          1990,
          1991,
          1992,
          1993,
          1994,
          1995,
          1996,
          1997,
          1998,
          1999,
          2000,
          2001,
          2002,
          2003,
          2004,
          2005,
          2006,
          2007,
          2008,
          2009,
          2010,
          2011,
          2012,
          2013,
          2014,
          2015
         ],
         "y": [
          0.1875,
          0.22580645161290322,
          0.15625,
          0.23529411764705882,
          0.21428571428571427,
          0.14285714285714285,
          0.13043478260869565,
          0.275,
          0.15384615384615385,
          0.12903225806451613,
          0.14634146341463414,
          0.16363636363636364,
          0.125,
          0.05454545454545454,
          0.0851063829787234,
          0.045454545454545456,
          0.10638297872340426,
          0.07017543859649122,
          0.07692307692307693,
          0.14035087719298245,
          0.11538461538461539,
          0.12195121951219512,
          0.14814814814814814,
          0.175,
          0.18095238095238095,
          0.1926605504587156,
          0.2066115702479339,
          0.192,
          0.1310344827586207,
          0.16058394160583941,
          0.14393939393939395,
          0.19548872180451127,
          0.23308270676691728,
          0.19101123595505617,
          0.19021739130434784,
          0.21142857142857144,
          0.21568627450980393,
          0.16666666666666666,
          0.19523809523809524,
          0.1875,
          0.20704845814977973,
          0.2190082644628099,
          0.18045112781954886,
          0.17437722419928825,
          0.20521172638436483,
          0.17032967032967034,
          0.1715686274509804,
          0.1689497716894977,
          0.1693548387096774,
          0.15572232645403378,
          0.17346938775510204,
          0.1388888888888889,
          0.13435374149659865,
          0.09863429438543247,
          0.12,
          0.09062003179650238
         ]
        }
       ],
       "layout": {
        "template": {
         "data": {
          "bar": [
           {
            "error_x": {
             "color": "#2a3f5f"
            },
            "error_y": {
             "color": "#2a3f5f"
            },
            "marker": {
             "line": {
              "color": "#E5ECF6",
              "width": 0.5
             }
            },
            "type": "bar"
           }
          ],
          "barpolar": [
           {
            "marker": {
             "line": {
              "color": "#E5ECF6",
              "width": 0.5
             }
            },
            "type": "barpolar"
           }
          ],
          "carpet": [
           {
            "aaxis": {
             "endlinecolor": "#2a3f5f",
             "gridcolor": "white",
             "linecolor": "white",
             "minorgridcolor": "white",
             "startlinecolor": "#2a3f5f"
            },
            "baxis": {
             "endlinecolor": "#2a3f5f",
             "gridcolor": "white",
             "linecolor": "white",
             "minorgridcolor": "white",
             "startlinecolor": "#2a3f5f"
            },
            "type": "carpet"
           }
          ],
          "choropleth": [
           {
            "colorbar": {
             "outlinewidth": 0,
             "ticks": ""
            },
            "type": "choropleth"
           }
          ],
          "contour": [
           {
            "colorbar": {
             "outlinewidth": 0,
             "ticks": ""
            },
            "colorscale": [
             [
              0,
              "#0d0887"
             ],
             [
              0.1111111111111111,
              "#46039f"
             ],
             [
              0.2222222222222222,
              "#7201a8"
             ],
             [
              0.3333333333333333,
              "#9c179e"
             ],
             [
              0.4444444444444444,
              "#bd3786"
             ],
             [
              0.5555555555555556,
              "#d8576b"
             ],
             [
              0.6666666666666666,
              "#ed7953"
             ],
             [
              0.7777777777777778,
              "#fb9f3a"
             ],
             [
              0.8888888888888888,
              "#fdca26"
             ],
             [
              1,
              "#f0f921"
             ]
            ],
            "type": "contour"
           }
          ],
          "contourcarpet": [
           {
            "colorbar": {
             "outlinewidth": 0,
             "ticks": ""
            },
            "type": "contourcarpet"
           }
          ],
          "heatmap": [
           {
            "colorbar": {
             "outlinewidth": 0,
             "ticks": ""
            },
            "colorscale": [
             [
              0,
              "#0d0887"
             ],
             [
              0.1111111111111111,
              "#46039f"
             ],
             [
              0.2222222222222222,
              "#7201a8"
             ],
             [
              0.3333333333333333,
              "#9c179e"
             ],
             [
              0.4444444444444444,
              "#bd3786"
             ],
             [
              0.5555555555555556,
              "#d8576b"
             ],
             [
              0.6666666666666666,
              "#ed7953"
             ],
             [
              0.7777777777777778,
              "#fb9f3a"
             ],
             [
              0.8888888888888888,
              "#fdca26"
             ],
             [
              1,
              "#f0f921"
             ]
            ],
            "type": "heatmap"
           }
          ],
          "heatmapgl": [
           {
            "colorbar": {
             "outlinewidth": 0,
             "ticks": ""
            },
            "colorscale": [
             [
              0,
              "#0d0887"
             ],
             [
              0.1111111111111111,
              "#46039f"
             ],
             [
              0.2222222222222222,
              "#7201a8"
             ],
             [
              0.3333333333333333,
              "#9c179e"
             ],
             [
              0.4444444444444444,
              "#bd3786"
             ],
             [
              0.5555555555555556,
              "#d8576b"
             ],
             [
              0.6666666666666666,
              "#ed7953"
             ],
             [
              0.7777777777777778,
              "#fb9f3a"
             ],
             [
              0.8888888888888888,
              "#fdca26"
             ],
             [
              1,
              "#f0f921"
             ]
            ],
            "type": "heatmapgl"
           }
          ],
          "histogram": [
           {
            "marker": {
             "colorbar": {
              "outlinewidth": 0,
              "ticks": ""
             }
            },
            "type": "histogram"
           }
          ],
          "histogram2d": [
           {
            "colorbar": {
             "outlinewidth": 0,
             "ticks": ""
            },
            "colorscale": [
             [
              0,
              "#0d0887"
             ],
             [
              0.1111111111111111,
              "#46039f"
             ],
             [
              0.2222222222222222,
              "#7201a8"
             ],
             [
              0.3333333333333333,
              "#9c179e"
             ],
             [
              0.4444444444444444,
              "#bd3786"
             ],
             [
              0.5555555555555556,
              "#d8576b"
             ],
             [
              0.6666666666666666,
              "#ed7953"
             ],
             [
              0.7777777777777778,
              "#fb9f3a"
             ],
             [
              0.8888888888888888,
              "#fdca26"
             ],
             [
              1,
              "#f0f921"
             ]
            ],
            "type": "histogram2d"
           }
          ],
          "histogram2dcontour": [
           {
            "colorbar": {
             "outlinewidth": 0,
             "ticks": ""
            },
            "colorscale": [
             [
              0,
              "#0d0887"
             ],
             [
              0.1111111111111111,
              "#46039f"
             ],
             [
              0.2222222222222222,
              "#7201a8"
             ],
             [
              0.3333333333333333,
              "#9c179e"
             ],
             [
              0.4444444444444444,
              "#bd3786"
             ],
             [
              0.5555555555555556,
              "#d8576b"
             ],
             [
              0.6666666666666666,
              "#ed7953"
             ],
             [
              0.7777777777777778,
              "#fb9f3a"
             ],
             [
              0.8888888888888888,
              "#fdca26"
             ],
             [
              1,
              "#f0f921"
             ]
            ],
            "type": "histogram2dcontour"
           }
          ],
          "mesh3d": [
           {
            "colorbar": {
             "outlinewidth": 0,
             "ticks": ""
            },
            "type": "mesh3d"
           }
          ],
          "parcoords": [
           {
            "line": {
             "colorbar": {
              "outlinewidth": 0,
              "ticks": ""
             }
            },
            "type": "parcoords"
           }
          ],
          "pie": [
           {
            "automargin": true,
            "type": "pie"
           }
          ],
          "scatter": [
           {
            "marker": {
             "colorbar": {
              "outlinewidth": 0,
              "ticks": ""
             }
            },
            "type": "scatter"
           }
          ],
          "scatter3d": [
           {
            "line": {
             "colorbar": {
              "outlinewidth": 0,
              "ticks": ""
             }
            },
            "marker": {
             "colorbar": {
              "outlinewidth": 0,
              "ticks": ""
             }
            },
            "type": "scatter3d"
           }
          ],
          "scattercarpet": [
           {
            "marker": {
             "colorbar": {
              "outlinewidth": 0,
              "ticks": ""
             }
            },
            "type": "scattercarpet"
           }
          ],
          "scattergeo": [
           {
            "marker": {
             "colorbar": {
              "outlinewidth": 0,
              "ticks": ""
             }
            },
            "type": "scattergeo"
           }
          ],
          "scattergl": [
           {
            "marker": {
             "colorbar": {
              "outlinewidth": 0,
              "ticks": ""
             }
            },
            "type": "scattergl"
           }
          ],
          "scattermapbox": [
           {
            "marker": {
             "colorbar": {
              "outlinewidth": 0,
              "ticks": ""
             }
            },
            "type": "scattermapbox"
           }
          ],
          "scatterpolar": [
           {
            "marker": {
             "colorbar": {
              "outlinewidth": 0,
              "ticks": ""
             }
            },
            "type": "scatterpolar"
           }
          ],
          "scatterpolargl": [
           {
            "marker": {
             "colorbar": {
              "outlinewidth": 0,
              "ticks": ""
             }
            },
            "type": "scatterpolargl"
           }
          ],
          "scatterternary": [
           {
            "marker": {
             "colorbar": {
              "outlinewidth": 0,
              "ticks": ""
             }
            },
            "type": "scatterternary"
           }
          ],
          "surface": [
           {
            "colorbar": {
             "outlinewidth": 0,
             "ticks": ""
            },
            "colorscale": [
             [
              0,
              "#0d0887"
             ],
             [
              0.1111111111111111,
              "#46039f"
             ],
             [
              0.2222222222222222,
              "#7201a8"
             ],
             [
              0.3333333333333333,
              "#9c179e"
             ],
             [
              0.4444444444444444,
              "#bd3786"
             ],
             [
              0.5555555555555556,
              "#d8576b"
             ],
             [
              0.6666666666666666,
              "#ed7953"
             ],
             [
              0.7777777777777778,
              "#fb9f3a"
             ],
             [
              0.8888888888888888,
              "#fdca26"
             ],
             [
              1,
              "#f0f921"
             ]
            ],
            "type": "surface"
           }
          ],
          "table": [
           {
            "cells": {
             "fill": {
              "color": "#EBF0F8"
             },
             "line": {
              "color": "white"
             }
            },
            "header": {
             "fill": {
              "color": "#C8D4E3"
             },
             "line": {
              "color": "white"
             }
            },
            "type": "table"
           }
          ]
         },
         "layout": {
          "annotationdefaults": {
           "arrowcolor": "#2a3f5f",
           "arrowhead": 0,
           "arrowwidth": 1
          },
          "coloraxis": {
           "colorbar": {
            "outlinewidth": 0,
            "ticks": ""
           }
          },
          "colorscale": {
           "diverging": [
            [
             0,
             "#8e0152"
            ],
            [
             0.1,
             "#c51b7d"
            ],
            [
             0.2,
             "#de77ae"
            ],
            [
             0.3,
             "#f1b6da"
            ],
            [
             0.4,
             "#fde0ef"
            ],
            [
             0.5,
             "#f7f7f7"
            ],
            [
             0.6,
             "#e6f5d0"
            ],
            [
             0.7,
             "#b8e186"
            ],
            [
             0.8,
             "#7fbc41"
            ],
            [
             0.9,
             "#4d9221"
            ],
            [
             1,
             "#276419"
            ]
           ],
           "sequential": [
            [
             0,
             "#0d0887"
            ],
            [
             0.1111111111111111,
             "#46039f"
            ],
            [
             0.2222222222222222,
             "#7201a8"
            ],
            [
             0.3333333333333333,
             "#9c179e"
            ],
            [
             0.4444444444444444,
             "#bd3786"
            ],
            [
             0.5555555555555556,
             "#d8576b"
            ],
            [
             0.6666666666666666,
             "#ed7953"
            ],
            [
             0.7777777777777778,
             "#fb9f3a"
            ],
            [
             0.8888888888888888,
             "#fdca26"
            ],
            [
             1,
             "#f0f921"
            ]
           ],
           "sequentialminus": [
            [
             0,
             "#0d0887"
            ],
            [
             0.1111111111111111,
             "#46039f"
            ],
            [
             0.2222222222222222,
             "#7201a8"
            ],
            [
             0.3333333333333333,
             "#9c179e"
            ],
            [
             0.4444444444444444,
             "#bd3786"
            ],
            [
             0.5555555555555556,
             "#d8576b"
            ],
            [
             0.6666666666666666,
             "#ed7953"
            ],
            [
             0.7777777777777778,
             "#fb9f3a"
            ],
            [
             0.8888888888888888,
             "#fdca26"
            ],
            [
             1,
             "#f0f921"
            ]
           ]
          },
          "colorway": [
           "#636efa",
           "#EF553B",
           "#00cc96",
           "#ab63fa",
           "#FFA15A",
           "#19d3f3",
           "#FF6692",
           "#B6E880",
           "#FF97FF",
           "#FECB52"
          ],
          "font": {
           "color": "#2a3f5f"
          },
          "geo": {
           "bgcolor": "white",
           "lakecolor": "white",
           "landcolor": "#E5ECF6",
           "showlakes": true,
           "showland": true,
           "subunitcolor": "white"
          },
          "hoverlabel": {
           "align": "left"
          },
          "hovermode": "closest",
          "mapbox": {
           "style": "light"
          },
          "paper_bgcolor": "white",
          "plot_bgcolor": "#E5ECF6",
          "polar": {
           "angularaxis": {
            "gridcolor": "white",
            "linecolor": "white",
            "ticks": ""
           },
           "bgcolor": "#E5ECF6",
           "radialaxis": {
            "gridcolor": "white",
            "linecolor": "white",
            "ticks": ""
           }
          },
          "scene": {
           "xaxis": {
            "backgroundcolor": "#E5ECF6",
            "gridcolor": "white",
            "gridwidth": 2,
            "linecolor": "white",
            "showbackground": true,
            "ticks": "",
            "zerolinecolor": "white"
           },
           "yaxis": {
            "backgroundcolor": "#E5ECF6",
            "gridcolor": "white",
            "gridwidth": 2,
            "linecolor": "white",
            "showbackground": true,
            "ticks": "",
            "zerolinecolor": "white"
           },
           "zaxis": {
            "backgroundcolor": "#E5ECF6",
            "gridcolor": "white",
            "gridwidth": 2,
            "linecolor": "white",
            "showbackground": true,
            "ticks": "",
            "zerolinecolor": "white"
           }
          },
          "shapedefaults": {
           "line": {
            "color": "#2a3f5f"
           }
          },
          "ternary": {
           "aaxis": {
            "gridcolor": "white",
            "linecolor": "white",
            "ticks": ""
           },
           "baxis": {
            "gridcolor": "white",
            "linecolor": "white",
            "ticks": ""
           },
           "bgcolor": "#E5ECF6",
           "caxis": {
            "gridcolor": "white",
            "linecolor": "white",
            "ticks": ""
           }
          },
          "title": {
           "x": 0.05
          },
          "xaxis": {
           "automargin": true,
           "gridcolor": "white",
           "linecolor": "white",
           "ticks": "",
           "title": {
            "standoff": 15
           },
           "zerolinecolor": "white",
           "zerolinewidth": 2
          },
          "yaxis": {
           "automargin": true,
           "gridcolor": "white",
           "linecolor": "white",
           "ticks": "",
           "title": {
            "standoff": 15
           },
           "zerolinecolor": "white",
           "zerolinewidth": 2
          }
         }
        },
        "title": {
         "text": "Relative genre popularity - top 5 genres",
         "x": 0.5
        }
       }
      },
      "text/html": [
       "<div>\n",
       "        \n",
       "        \n",
       "            <div id=\"b0527ebf-26d3-44ca-98f6-49281859b902\" class=\"plotly-graph-div\" style=\"height:525px; width:100%;\"></div>\n",
       "            <script type=\"text/javascript\">\n",
       "                require([\"plotly\"], function(Plotly) {\n",
       "                    window.PLOTLYENV=window.PLOTLYENV || {};\n",
       "                    \n",
       "                if (document.getElementById(\"b0527ebf-26d3-44ca-98f6-49281859b902\")) {\n",
       "                    Plotly.newPlot(\n",
       "                        'b0527ebf-26d3-44ca-98f6-49281859b902',\n",
       "                        [{\"mode\": \"lines\", \"name\": \"is_Action\", \"type\": \"scatter\", \"x\": [1960, 1961, 1962, 1963, 1964, 1965, 1966, 1967, 1968, 1969, 1970, 1971, 1972, 1973, 1974, 1975, 1976, 1977, 1978, 1979, 1980, 1981, 1982, 1983, 1984, 1985, 1986, 1987, 1988, 1989, 1990, 1991, 1992, 1993, 1994, 1995, 1996, 1997, 1998, 1999, 2000, 2001, 2002, 2003, 2004, 2005, 2006, 2007, 2008, 2009, 2010, 2011, 2012, 2013, 2014, 2015], \"y\": [0.25, 0.22580645161290322, 0.25, 0.11764705882352941, 0.11904761904761904, 0.2571428571428571, 0.30434782608695654, 0.175, 0.15384615384615385, 0.3225806451612903, 0.2682926829268293, 0.2, 0.25, 0.2727272727272727, 0.2978723404255319, 0.22727272727272727, 0.2765957446808511, 0.24561403508771928, 0.23076923076923078, 0.14035087719298245, 0.34615384615384615, 0.2073170731707317, 0.20987654320987653, 0.2625, 0.3142857142857143, 0.25688073394495414, 0.24793388429752067, 0.232, 0.2206896551724138, 0.2773722627737226, 0.29545454545454547, 0.2932330827067669, 0.2556390977443609, 0.29775280898876405, 0.33152173913043476, 0.26857142857142857, 0.20588235294117646, 0.3072916666666667, 0.20476190476190476, 0.16964285714285715, 0.20704845814977973, 0.25206611570247933, 0.2706766917293233, 0.2597864768683274, 0.24429967426710097, 0.19230769230769232, 0.19607843137254902, 0.21689497716894976, 0.19959677419354838, 0.2026266416510319, 0.22040816326530613, 0.21296296296296297, 0.1683673469387755, 0.18361153262518967, 0.18428571428571427, 0.17011128775834658]}, {\"mode\": \"lines\", \"name\": \"is_Thriller\", \"type\": \"scatter\", \"x\": [1960, 1961, 1962, 1963, 1964, 1965, 1966, 1967, 1968, 1969, 1970, 1971, 1972, 1973, 1974, 1975, 1976, 1977, 1978, 1979, 1980, 1981, 1982, 1983, 1984, 1985, 1986, 1987, 1988, 1989, 1990, 1991, 1992, 1993, 1994, 1995, 1996, 1997, 1998, 1999, 2000, 2001, 2002, 2003, 2004, 2005, 2006, 2007, 2008, 2009, 2010, 2011, 2012, 2013, 2014, 2015], \"y\": [0.1875, 0.0, 0.21875, 0.29411764705882354, 0.21428571428571427, 0.3142857142857143, 0.17391304347826086, 0.125, 0.1282051282051282, 0.0967741935483871, 0.12195121951219512, 0.3090909090909091, 0.25, 0.2909090909090909, 0.425531914893617, 0.29545454545454547, 0.3617021276595745, 0.21052631578947367, 0.3384615384615385, 0.2807017543859649, 0.32051282051282054, 0.32926829268292684, 0.20987654320987653, 0.3, 0.22857142857142856, 0.22018348623853212, 0.19008264462809918, 0.224, 0.22758620689655173, 0.25547445255474455, 0.3484848484848485, 0.2781954887218045, 0.3383458646616541, 0.25280898876404495, 0.24456521739130435, 0.28, 0.29901960784313725, 0.3177083333333333, 0.2523809523809524, 0.23660714285714285, 0.2775330396475771, 0.2727272727272727, 0.3157894736842105, 0.2597864768683274, 0.24104234527687296, 0.25274725274725274, 0.27941176470588236, 0.2853881278538813, 0.2560483870967742, 0.2945590994371482, 0.2755102040816326, 0.27037037037037037, 0.272108843537415, 0.26555386949924126, 0.2557142857142857, 0.2718600953895072]}, {\"mode\": \"lines\", \"name\": \"is_Drama\", \"type\": \"scatter\", \"x\": [1960, 1961, 1962, 1963, 1964, 1965, 1966, 1967, 1968, 1969, 1970, 1971, 1972, 1973, 1974, 1975, 1976, 1977, 1978, 1979, 1980, 1981, 1982, 1983, 1984, 1985, 1986, 1987, 1988, 1989, 1990, 1991, 1992, 1993, 1994, 1995, 1996, 1997, 1998, 1999, 2000, 2001, 2002, 2003, 2004, 2005, 2006, 2007, 2008, 2009, 2010, 2011, 2012, 2013, 2014, 2015], \"y\": [0.40625, 0.5161290322580645, 0.65625, 0.38235294117647056, 0.47619047619047616, 0.5714285714285714, 0.34782608695652173, 0.4, 0.5128205128205128, 0.41935483870967744, 0.4634146341463415, 0.5454545454545454, 0.4, 0.5636363636363636, 0.44680851063829785, 0.38636363636363635, 0.46808510638297873, 0.42105263157894735, 0.4461538461538462, 0.5263157894736842, 0.41025641025641024, 0.3902439024390244, 0.4074074074074074, 0.4375, 0.38095238095238093, 0.3669724770642202, 0.4214876033057851, 0.416, 0.3724137931034483, 0.39416058394160586, 0.45454545454545453, 0.47368421052631576, 0.48872180451127817, 0.5056179775280899, 0.45108695652173914, 0.5314285714285715, 0.5098039215686274, 0.4322916666666667, 0.5142857142857142, 0.5044642857142857, 0.44493392070484583, 0.4132231404958678, 0.48872180451127817, 0.3914590747330961, 0.4592833876221498, 0.5, 0.48284313725490197, 0.4497716894977169, 0.46975806451612906, 0.4202626641651032, 0.4306122448979592, 0.3962962962962963, 0.3945578231292517, 0.38391502276176026, 0.4057142857142857, 0.4133545310015898]}, {\"mode\": \"lines\", \"name\": \"is_Comedy\", \"type\": \"scatter\", \"x\": [1960, 1961, 1962, 1963, 1964, 1965, 1966, 1967, 1968, 1969, 1970, 1971, 1972, 1973, 1974, 1975, 1976, 1977, 1978, 1979, 1980, 1981, 1982, 1983, 1984, 1985, 1986, 1987, 1988, 1989, 1990, 1991, 1992, 1993, 1994, 1995, 1996, 1997, 1998, 1999, 2000, 2001, 2002, 2003, 2004, 2005, 2006, 2007, 2008, 2009, 2010, 2011, 2012, 2013, 2014, 2015], \"y\": [0.25, 0.3225806451612903, 0.15625, 0.38235294117647056, 0.38095238095238093, 0.2, 0.34782608695652173, 0.425, 0.23076923076923078, 0.3870967741935484, 0.2926829268292683, 0.16363636363636364, 0.325, 0.14545454545454545, 0.2553191489361702, 0.2727272727272727, 0.2553191489361702, 0.19298245614035087, 0.2153846153846154, 0.3333333333333333, 0.32051282051282054, 0.24390243902439024, 0.345679012345679, 0.35, 0.3619047619047619, 0.46788990825688076, 0.4049586776859504, 0.456, 0.47586206896551725, 0.45985401459854014, 0.36363636363636365, 0.45112781954887216, 0.40601503759398494, 0.4044943820224719, 0.4782608695652174, 0.36, 0.44607843137254904, 0.4010416666666667, 0.4, 0.44642857142857145, 0.42731277533039647, 0.41735537190082644, 0.39097744360902253, 0.39501779359430605, 0.40716612377850164, 0.39285714285714285, 0.3799019607843137, 0.3447488584474886, 0.3407258064516129, 0.3714821763602251, 0.3448979591836735, 0.31851851851851853, 0.29931972789115646, 0.26555386949924126, 0.2642857142857143, 0.2575516693163752]}, {\"mode\": \"lines\", \"name\": \"is_Romance\", \"type\": \"scatter\", \"x\": [1960, 1961, 1962, 1963, 1964, 1965, 1966, 1967, 1968, 1969, 1970, 1971, 1972, 1973, 1974, 1975, 1976, 1977, 1978, 1979, 1980, 1981, 1982, 1983, 1984, 1985, 1986, 1987, 1988, 1989, 1990, 1991, 1992, 1993, 1994, 1995, 1996, 1997, 1998, 1999, 2000, 2001, 2002, 2003, 2004, 2005, 2006, 2007, 2008, 2009, 2010, 2011, 2012, 2013, 2014, 2015], \"y\": [0.1875, 0.22580645161290322, 0.15625, 0.23529411764705882, 0.21428571428571427, 0.14285714285714285, 0.13043478260869565, 0.275, 0.15384615384615385, 0.12903225806451613, 0.14634146341463414, 0.16363636363636364, 0.125, 0.05454545454545454, 0.0851063829787234, 0.045454545454545456, 0.10638297872340426, 0.07017543859649122, 0.07692307692307693, 0.14035087719298245, 0.11538461538461539, 0.12195121951219512, 0.14814814814814814, 0.175, 0.18095238095238095, 0.1926605504587156, 0.2066115702479339, 0.192, 0.1310344827586207, 0.16058394160583941, 0.14393939393939395, 0.19548872180451127, 0.23308270676691728, 0.19101123595505617, 0.19021739130434784, 0.21142857142857144, 0.21568627450980393, 0.16666666666666666, 0.19523809523809524, 0.1875, 0.20704845814977973, 0.2190082644628099, 0.18045112781954886, 0.17437722419928825, 0.20521172638436483, 0.17032967032967034, 0.1715686274509804, 0.1689497716894977, 0.1693548387096774, 0.15572232645403378, 0.17346938775510204, 0.1388888888888889, 0.13435374149659865, 0.09863429438543247, 0.12, 0.09062003179650238]}],\n",
       "                        {\"template\": {\"data\": {\"bar\": [{\"error_x\": {\"color\": \"#2a3f5f\"}, \"error_y\": {\"color\": \"#2a3f5f\"}, \"marker\": {\"line\": {\"color\": \"#E5ECF6\", \"width\": 0.5}}, \"type\": \"bar\"}], \"barpolar\": [{\"marker\": {\"line\": {\"color\": \"#E5ECF6\", \"width\": 0.5}}, \"type\": \"barpolar\"}], \"carpet\": [{\"aaxis\": {\"endlinecolor\": \"#2a3f5f\", \"gridcolor\": \"white\", \"linecolor\": \"white\", \"minorgridcolor\": \"white\", \"startlinecolor\": \"#2a3f5f\"}, \"baxis\": {\"endlinecolor\": \"#2a3f5f\", \"gridcolor\": \"white\", \"linecolor\": \"white\", \"minorgridcolor\": \"white\", \"startlinecolor\": \"#2a3f5f\"}, \"type\": \"carpet\"}], \"choropleth\": [{\"colorbar\": {\"outlinewidth\": 0, \"ticks\": \"\"}, \"type\": \"choropleth\"}], \"contour\": [{\"colorbar\": {\"outlinewidth\": 0, \"ticks\": \"\"}, \"colorscale\": [[0.0, \"#0d0887\"], [0.1111111111111111, \"#46039f\"], [0.2222222222222222, \"#7201a8\"], [0.3333333333333333, \"#9c179e\"], [0.4444444444444444, \"#bd3786\"], [0.5555555555555556, \"#d8576b\"], [0.6666666666666666, \"#ed7953\"], [0.7777777777777778, \"#fb9f3a\"], [0.8888888888888888, \"#fdca26\"], [1.0, \"#f0f921\"]], \"type\": \"contour\"}], \"contourcarpet\": [{\"colorbar\": {\"outlinewidth\": 0, \"ticks\": \"\"}, \"type\": \"contourcarpet\"}], \"heatmap\": [{\"colorbar\": {\"outlinewidth\": 0, \"ticks\": \"\"}, \"colorscale\": [[0.0, \"#0d0887\"], [0.1111111111111111, \"#46039f\"], [0.2222222222222222, \"#7201a8\"], [0.3333333333333333, \"#9c179e\"], [0.4444444444444444, \"#bd3786\"], [0.5555555555555556, \"#d8576b\"], [0.6666666666666666, \"#ed7953\"], [0.7777777777777778, \"#fb9f3a\"], [0.8888888888888888, \"#fdca26\"], [1.0, \"#f0f921\"]], \"type\": \"heatmap\"}], \"heatmapgl\": [{\"colorbar\": {\"outlinewidth\": 0, \"ticks\": \"\"}, \"colorscale\": [[0.0, \"#0d0887\"], [0.1111111111111111, \"#46039f\"], [0.2222222222222222, \"#7201a8\"], [0.3333333333333333, \"#9c179e\"], [0.4444444444444444, \"#bd3786\"], [0.5555555555555556, \"#d8576b\"], [0.6666666666666666, \"#ed7953\"], [0.7777777777777778, \"#fb9f3a\"], [0.8888888888888888, \"#fdca26\"], [1.0, \"#f0f921\"]], \"type\": \"heatmapgl\"}], \"histogram\": [{\"marker\": {\"colorbar\": {\"outlinewidth\": 0, \"ticks\": \"\"}}, \"type\": \"histogram\"}], \"histogram2d\": [{\"colorbar\": {\"outlinewidth\": 0, \"ticks\": \"\"}, \"colorscale\": [[0.0, \"#0d0887\"], [0.1111111111111111, \"#46039f\"], [0.2222222222222222, \"#7201a8\"], [0.3333333333333333, \"#9c179e\"], [0.4444444444444444, \"#bd3786\"], [0.5555555555555556, \"#d8576b\"], [0.6666666666666666, \"#ed7953\"], [0.7777777777777778, \"#fb9f3a\"], [0.8888888888888888, \"#fdca26\"], [1.0, \"#f0f921\"]], \"type\": \"histogram2d\"}], \"histogram2dcontour\": [{\"colorbar\": {\"outlinewidth\": 0, \"ticks\": \"\"}, \"colorscale\": [[0.0, \"#0d0887\"], [0.1111111111111111, \"#46039f\"], [0.2222222222222222, \"#7201a8\"], [0.3333333333333333, \"#9c179e\"], [0.4444444444444444, \"#bd3786\"], [0.5555555555555556, \"#d8576b\"], [0.6666666666666666, \"#ed7953\"], [0.7777777777777778, \"#fb9f3a\"], [0.8888888888888888, \"#fdca26\"], [1.0, \"#f0f921\"]], \"type\": \"histogram2dcontour\"}], \"mesh3d\": [{\"colorbar\": {\"outlinewidth\": 0, \"ticks\": \"\"}, \"type\": \"mesh3d\"}], \"parcoords\": [{\"line\": {\"colorbar\": {\"outlinewidth\": 0, \"ticks\": \"\"}}, \"type\": \"parcoords\"}], \"pie\": [{\"automargin\": true, \"type\": \"pie\"}], \"scatter\": [{\"marker\": {\"colorbar\": {\"outlinewidth\": 0, \"ticks\": \"\"}}, \"type\": \"scatter\"}], \"scatter3d\": [{\"line\": {\"colorbar\": {\"outlinewidth\": 0, \"ticks\": \"\"}}, \"marker\": {\"colorbar\": {\"outlinewidth\": 0, \"ticks\": \"\"}}, \"type\": \"scatter3d\"}], \"scattercarpet\": [{\"marker\": {\"colorbar\": {\"outlinewidth\": 0, \"ticks\": \"\"}}, \"type\": \"scattercarpet\"}], \"scattergeo\": [{\"marker\": {\"colorbar\": {\"outlinewidth\": 0, \"ticks\": \"\"}}, \"type\": \"scattergeo\"}], \"scattergl\": [{\"marker\": {\"colorbar\": {\"outlinewidth\": 0, \"ticks\": \"\"}}, \"type\": \"scattergl\"}], \"scattermapbox\": [{\"marker\": {\"colorbar\": {\"outlinewidth\": 0, \"ticks\": \"\"}}, \"type\": \"scattermapbox\"}], \"scatterpolar\": [{\"marker\": {\"colorbar\": {\"outlinewidth\": 0, \"ticks\": \"\"}}, \"type\": \"scatterpolar\"}], \"scatterpolargl\": [{\"marker\": {\"colorbar\": {\"outlinewidth\": 0, \"ticks\": \"\"}}, \"type\": \"scatterpolargl\"}], \"scatterternary\": [{\"marker\": {\"colorbar\": {\"outlinewidth\": 0, \"ticks\": \"\"}}, \"type\": \"scatterternary\"}], \"surface\": [{\"colorbar\": {\"outlinewidth\": 0, \"ticks\": \"\"}, \"colorscale\": [[0.0, \"#0d0887\"], [0.1111111111111111, \"#46039f\"], [0.2222222222222222, \"#7201a8\"], [0.3333333333333333, \"#9c179e\"], [0.4444444444444444, \"#bd3786\"], [0.5555555555555556, \"#d8576b\"], [0.6666666666666666, \"#ed7953\"], [0.7777777777777778, \"#fb9f3a\"], [0.8888888888888888, \"#fdca26\"], [1.0, \"#f0f921\"]], \"type\": \"surface\"}], \"table\": [{\"cells\": {\"fill\": {\"color\": \"#EBF0F8\"}, \"line\": {\"color\": \"white\"}}, \"header\": {\"fill\": {\"color\": \"#C8D4E3\"}, \"line\": {\"color\": \"white\"}}, \"type\": \"table\"}]}, \"layout\": {\"annotationdefaults\": {\"arrowcolor\": \"#2a3f5f\", \"arrowhead\": 0, \"arrowwidth\": 1}, \"coloraxis\": {\"colorbar\": {\"outlinewidth\": 0, \"ticks\": \"\"}}, \"colorscale\": {\"diverging\": [[0, \"#8e0152\"], [0.1, \"#c51b7d\"], [0.2, \"#de77ae\"], [0.3, \"#f1b6da\"], [0.4, \"#fde0ef\"], [0.5, \"#f7f7f7\"], [0.6, \"#e6f5d0\"], [0.7, \"#b8e186\"], [0.8, \"#7fbc41\"], [0.9, \"#4d9221\"], [1, \"#276419\"]], \"sequential\": [[0.0, \"#0d0887\"], [0.1111111111111111, \"#46039f\"], [0.2222222222222222, \"#7201a8\"], [0.3333333333333333, \"#9c179e\"], [0.4444444444444444, \"#bd3786\"], [0.5555555555555556, \"#d8576b\"], [0.6666666666666666, \"#ed7953\"], [0.7777777777777778, \"#fb9f3a\"], [0.8888888888888888, \"#fdca26\"], [1.0, \"#f0f921\"]], \"sequentialminus\": [[0.0, \"#0d0887\"], [0.1111111111111111, \"#46039f\"], [0.2222222222222222, \"#7201a8\"], [0.3333333333333333, \"#9c179e\"], [0.4444444444444444, \"#bd3786\"], [0.5555555555555556, \"#d8576b\"], [0.6666666666666666, \"#ed7953\"], [0.7777777777777778, \"#fb9f3a\"], [0.8888888888888888, \"#fdca26\"], [1.0, \"#f0f921\"]]}, \"colorway\": [\"#636efa\", \"#EF553B\", \"#00cc96\", \"#ab63fa\", \"#FFA15A\", \"#19d3f3\", \"#FF6692\", \"#B6E880\", \"#FF97FF\", \"#FECB52\"], \"font\": {\"color\": \"#2a3f5f\"}, \"geo\": {\"bgcolor\": \"white\", \"lakecolor\": \"white\", \"landcolor\": \"#E5ECF6\", \"showlakes\": true, \"showland\": true, \"subunitcolor\": \"white\"}, \"hoverlabel\": {\"align\": \"left\"}, \"hovermode\": \"closest\", \"mapbox\": {\"style\": \"light\"}, \"paper_bgcolor\": \"white\", \"plot_bgcolor\": \"#E5ECF6\", \"polar\": {\"angularaxis\": {\"gridcolor\": \"white\", \"linecolor\": \"white\", \"ticks\": \"\"}, \"bgcolor\": \"#E5ECF6\", \"radialaxis\": {\"gridcolor\": \"white\", \"linecolor\": \"white\", \"ticks\": \"\"}}, \"scene\": {\"xaxis\": {\"backgroundcolor\": \"#E5ECF6\", \"gridcolor\": \"white\", \"gridwidth\": 2, \"linecolor\": \"white\", \"showbackground\": true, \"ticks\": \"\", \"zerolinecolor\": \"white\"}, \"yaxis\": {\"backgroundcolor\": \"#E5ECF6\", \"gridcolor\": \"white\", \"gridwidth\": 2, \"linecolor\": \"white\", \"showbackground\": true, \"ticks\": \"\", \"zerolinecolor\": \"white\"}, \"zaxis\": {\"backgroundcolor\": \"#E5ECF6\", \"gridcolor\": \"white\", \"gridwidth\": 2, \"linecolor\": \"white\", \"showbackground\": true, \"ticks\": \"\", \"zerolinecolor\": \"white\"}}, \"shapedefaults\": {\"line\": {\"color\": \"#2a3f5f\"}}, \"ternary\": {\"aaxis\": {\"gridcolor\": \"white\", \"linecolor\": \"white\", \"ticks\": \"\"}, \"baxis\": {\"gridcolor\": \"white\", \"linecolor\": \"white\", \"ticks\": \"\"}, \"bgcolor\": \"#E5ECF6\", \"caxis\": {\"gridcolor\": \"white\", \"linecolor\": \"white\", \"ticks\": \"\"}}, \"title\": {\"x\": 0.05}, \"xaxis\": {\"automargin\": true, \"gridcolor\": \"white\", \"linecolor\": \"white\", \"ticks\": \"\", \"title\": {\"standoff\": 15}, \"zerolinecolor\": \"white\", \"zerolinewidth\": 2}, \"yaxis\": {\"automargin\": true, \"gridcolor\": \"white\", \"linecolor\": \"white\", \"ticks\": \"\", \"title\": {\"standoff\": 15}, \"zerolinecolor\": \"white\", \"zerolinewidth\": 2}}}, \"title\": {\"text\": \"Relative genre popularity - top 5 genres\", \"x\": 0.5}},\n",
       "                        {\"responsive\": true}\n",
       "                    ).then(function(){\n",
       "                            \n",
       "var gd = document.getElementById('b0527ebf-26d3-44ca-98f6-49281859b902');\n",
       "var x = new MutationObserver(function (mutations, observer) {{\n",
       "        var display = window.getComputedStyle(gd).display;\n",
       "        if (!display || display === 'none') {{\n",
       "            console.log([gd, 'removed!']);\n",
       "            Plotly.purge(gd);\n",
       "            observer.disconnect();\n",
       "        }}\n",
       "}});\n",
       "\n",
       "// Listen for the removal of the full notebook cells\n",
       "var notebookContainer = gd.closest('#notebook-container');\n",
       "if (notebookContainer) {{\n",
       "    x.observe(notebookContainer, {childList: true});\n",
       "}}\n",
       "\n",
       "// Listen for the clearing of the current output cell\n",
       "var outputEl = gd.closest('.output');\n",
       "if (outputEl) {{\n",
       "    x.observe(outputEl, {childList: true});\n",
       "}}\n",
       "\n",
       "                        })\n",
       "                };\n",
       "                });\n",
       "            </script>\n",
       "        </div>"
      ]
     },
     "metadata": {},
     "output_type": "display_data"
    }
   ],
   "source": [
    "top5_popular = list(genres_counts.index[:5])\n",
    "\n",
    "plot_genres(rel_genres_by_year,title=\"Relative genre popularity - top 5 genres\", columns=top5_popular)"
   ]
  },
  {
   "cell_type": "code",
   "execution_count": 129,
   "metadata": {
    "ExecuteTime": {
     "end_time": "2020-02-15T13:36:19.675914Z",
     "start_time": "2020-02-15T13:36:19.546257Z"
    }
   },
   "outputs": [
    {
     "data": {
      "application/vnd.plotly.v1+json": {
       "config": {
        "plotlyServerURL": "https://plot.ly"
       },
       "data": [
        {
         "mode": "lines",
         "name": "is_Adventure",
         "type": "scatter",
         "x": [
          1960,
          1961,
          1962,
          1963,
          1964,
          1965,
          1966,
          1967,
          1968,
          1969,
          1970,
          1971,
          1972,
          1973,
          1974,
          1975,
          1976,
          1977,
          1978,
          1979,
          1980,
          1981,
          1982,
          1983,
          1984,
          1985,
          1986,
          1987,
          1988,
          1989,
          1990,
          1991,
          1992,
          1993,
          1994,
          1995,
          1996,
          1997,
          1998,
          1999,
          2000,
          2001,
          2002,
          2003,
          2004,
          2005,
          2006,
          2007,
          2008,
          2009,
          2010,
          2011,
          2012,
          2013,
          2014,
          2015
         ],
         "y": [
          0.15625,
          0.1935483870967742,
          0.21875,
          0.20588235294117646,
          0.11904761904761904,
          0.17142857142857143,
          0.2391304347826087,
          0.175,
          0.1282051282051282,
          0.16129032258064516,
          0.14634146341463414,
          0.09090909090909091,
          0.125,
          0.09090909090909091,
          0.1702127659574468,
          0.18181818181818182,
          0.1276595744680851,
          0.2631578947368421,
          0.16923076923076924,
          0.14035087719298245,
          0.1794871794871795,
          0.17073170731707318,
          0.12345679012345678,
          0.175,
          0.20952380952380953,
          0.25688073394495414,
          0.14049586776859505,
          0.136,
          0.10344827586206896,
          0.17518248175182483,
          0.17424242424242425,
          0.15789473684210525,
          0.12781954887218044,
          0.14606741573033707,
          0.1793478260869565,
          0.18285714285714286,
          0.14705882352941177,
          0.18229166666666666,
          0.18095238095238095,
          0.08928571428571429,
          0.12334801762114538,
          0.1652892561983471,
          0.16917293233082706,
          0.14590747330960854,
          0.15960912052117263,
          0.14560439560439561,
          0.13480392156862744,
          0.136986301369863,
          0.12701612903225806,
          0.1350844277673546,
          0.12040816326530612,
          0.11481481481481481,
          0.08503401360544217,
          0.10166919575113809,
          0.09571428571428571,
          0.10969793322734499
         ]
        },
        {
         "mode": "lines",
         "name": "is_Fantasy",
         "type": "scatter",
         "x": [
          1960,
          1961,
          1962,
          1963,
          1964,
          1965,
          1966,
          1967,
          1968,
          1969,
          1970,
          1971,
          1972,
          1973,
          1974,
          1975,
          1976,
          1977,
          1978,
          1979,
          1980,
          1981,
          1982,
          1983,
          1984,
          1985,
          1986,
          1987,
          1988,
          1989,
          1990,
          1991,
          1992,
          1993,
          1994,
          1995,
          1996,
          1997,
          1998,
          1999,
          2000,
          2001,
          2002,
          2003,
          2004,
          2005,
          2006,
          2007,
          2008,
          2009,
          2010,
          2011,
          2012,
          2013,
          2014,
          2015
         ],
         "y": [
          0.0625,
          0.06451612903225806,
          0.03125,
          0.058823529411764705,
          0.09523809523809523,
          0,
          0.043478260869565216,
          0.075,
          0.1282051282051282,
          0.06451612903225806,
          0.07317073170731707,
          0.03636363636363636,
          0.025,
          0.01818181818181818,
          0.06382978723404255,
          0.09090909090909091,
          0.0425531914893617,
          0.15789473684210525,
          0.07692307692307693,
          0,
          0.08974358974358974,
          0.036585365853658534,
          0.16049382716049382,
          0.125,
          0.14285714285714285,
          0.12844036697247707,
          0.09090909090909091,
          0.144,
          0.1103448275862069,
          0.11678832116788321,
          0.09848484848484848,
          0.14285714285714285,
          0.10526315789473684,
          0.07303370786516854,
          0.13043478260869565,
          0.09714285714285714,
          0.10784313725490197,
          0.109375,
          0.10476190476190476,
          0.10267857142857142,
          0.09251101321585903,
          0.10330578512396695,
          0.07518796992481203,
          0.09608540925266904,
          0.06188925081433225,
          0.09615384615384616,
          0.08333333333333333,
          0.10730593607305935,
          0.08669354838709678,
          0.09193245778611632,
          0.08979591836734693,
          0.08518518518518518,
          0.05782312925170068,
          0.05918057663125948,
          0.05142857142857143,
          0.05246422893481717
         ]
        },
        {
         "mode": "lines",
         "name": "is_Western",
         "type": "scatter",
         "x": [
          1960,
          1961,
          1962,
          1963,
          1964,
          1965,
          1966,
          1967,
          1968,
          1969,
          1970,
          1971,
          1972,
          1973,
          1974,
          1975,
          1976,
          1977,
          1978,
          1979,
          1980,
          1981,
          1982,
          1983,
          1984,
          1985,
          1986,
          1987,
          1988,
          1989,
          1990,
          1991,
          1992,
          1993,
          1994,
          1995,
          1996,
          1997,
          1998,
          1999,
          2000,
          2001,
          2002,
          2003,
          2004,
          2005,
          2006,
          2007,
          2008,
          2009,
          2010,
          2011,
          2012,
          2013,
          2014,
          2015
         ],
         "y": [
          0.1875,
          0.0967741935483871,
          0.09375,
          0.058823529411764705,
          0.023809523809523808,
          0.11428571428571428,
          0.15217391304347827,
          0.05,
          0.02564102564102564,
          0.22580645161290322,
          0.1951219512195122,
          0.09090909090909091,
          0.125,
          0.07272727272727272,
          0.0425531914893617,
          0.06818181818181818,
          0.06382978723404255,
          0.017543859649122806,
          0.015384615384615385,
          0.07017543859649122,
          0.0641025641025641,
          0,
          0.024691358024691357,
          0.0125,
          0,
          0.027522935779816515,
          0.008264462809917356,
          0.008,
          0,
          0.0072992700729927005,
          0.022727272727272728,
          0.015037593984962405,
          0.015037593984962405,
          0.016853932584269662,
          0.043478260869565216,
          0.017142857142857144,
          0,
          0,
          0.004761904761904762,
          0.013392857142857142,
          0.00881057268722467,
          0.008264462809917356,
          0.0037593984962406013,
          0.014234875444839857,
          0.02280130293159609,
          0.005494505494505495,
          0.0024509803921568627,
          0.01141552511415525,
          0.004032258064516129,
          0,
          0.012244897959183673,
          0.005555555555555556,
          0.006802721088435374,
          0.004552352048558422,
          0.008571428571428572,
          0.009538950715421303
         ]
        },
        {
         "mode": "lines",
         "name": "is_Comedy",
         "type": "scatter",
         "x": [
          1960,
          1961,
          1962,
          1963,
          1964,
          1965,
          1966,
          1967,
          1968,
          1969,
          1970,
          1971,
          1972,
          1973,
          1974,
          1975,
          1976,
          1977,
          1978,
          1979,
          1980,
          1981,
          1982,
          1983,
          1984,
          1985,
          1986,
          1987,
          1988,
          1989,
          1990,
          1991,
          1992,
          1993,
          1994,
          1995,
          1996,
          1997,
          1998,
          1999,
          2000,
          2001,
          2002,
          2003,
          2004,
          2005,
          2006,
          2007,
          2008,
          2009,
          2010,
          2011,
          2012,
          2013,
          2014,
          2015
         ],
         "y": [
          0.25,
          0.3225806451612903,
          0.15625,
          0.38235294117647056,
          0.38095238095238093,
          0.2,
          0.34782608695652173,
          0.425,
          0.23076923076923078,
          0.3870967741935484,
          0.2926829268292683,
          0.16363636363636364,
          0.325,
          0.14545454545454545,
          0.2553191489361702,
          0.2727272727272727,
          0.2553191489361702,
          0.19298245614035087,
          0.2153846153846154,
          0.3333333333333333,
          0.32051282051282054,
          0.24390243902439024,
          0.345679012345679,
          0.35,
          0.3619047619047619,
          0.46788990825688076,
          0.4049586776859504,
          0.456,
          0.47586206896551725,
          0.45985401459854014,
          0.36363636363636365,
          0.45112781954887216,
          0.40601503759398494,
          0.4044943820224719,
          0.4782608695652174,
          0.36,
          0.44607843137254904,
          0.4010416666666667,
          0.4,
          0.44642857142857145,
          0.42731277533039647,
          0.41735537190082644,
          0.39097744360902253,
          0.39501779359430605,
          0.40716612377850164,
          0.39285714285714285,
          0.3799019607843137,
          0.3447488584474886,
          0.3407258064516129,
          0.3714821763602251,
          0.3448979591836735,
          0.31851851851851853,
          0.29931972789115646,
          0.26555386949924126,
          0.2642857142857143,
          0.2575516693163752
         ]
        },
        {
         "mode": "lines",
         "name": "is_Romance",
         "type": "scatter",
         "x": [
          1960,
          1961,
          1962,
          1963,
          1964,
          1965,
          1966,
          1967,
          1968,
          1969,
          1970,
          1971,
          1972,
          1973,
          1974,
          1975,
          1976,
          1977,
          1978,
          1979,
          1980,
          1981,
          1982,
          1983,
          1984,
          1985,
          1986,
          1987,
          1988,
          1989,
          1990,
          1991,
          1992,
          1993,
          1994,
          1995,
          1996,
          1997,
          1998,
          1999,
          2000,
          2001,
          2002,
          2003,
          2004,
          2005,
          2006,
          2007,
          2008,
          2009,
          2010,
          2011,
          2012,
          2013,
          2014,
          2015
         ],
         "y": [
          0.1875,
          0.22580645161290322,
          0.15625,
          0.23529411764705882,
          0.21428571428571427,
          0.14285714285714285,
          0.13043478260869565,
          0.275,
          0.15384615384615385,
          0.12903225806451613,
          0.14634146341463414,
          0.16363636363636364,
          0.125,
          0.05454545454545454,
          0.0851063829787234,
          0.045454545454545456,
          0.10638297872340426,
          0.07017543859649122,
          0.07692307692307693,
          0.14035087719298245,
          0.11538461538461539,
          0.12195121951219512,
          0.14814814814814814,
          0.175,
          0.18095238095238095,
          0.1926605504587156,
          0.2066115702479339,
          0.192,
          0.1310344827586207,
          0.16058394160583941,
          0.14393939393939395,
          0.19548872180451127,
          0.23308270676691728,
          0.19101123595505617,
          0.19021739130434784,
          0.21142857142857144,
          0.21568627450980393,
          0.16666666666666666,
          0.19523809523809524,
          0.1875,
          0.20704845814977973,
          0.2190082644628099,
          0.18045112781954886,
          0.17437722419928825,
          0.20521172638436483,
          0.17032967032967034,
          0.1715686274509804,
          0.1689497716894977,
          0.1693548387096774,
          0.15572232645403378,
          0.17346938775510204,
          0.1388888888888889,
          0.13435374149659865,
          0.09863429438543247,
          0.12,
          0.09062003179650238
         ]
        },
        {
         "mode": "lines",
         "name": "is_History",
         "type": "scatter",
         "x": [
          1960,
          1961,
          1962,
          1963,
          1964,
          1965,
          1966,
          1967,
          1968,
          1969,
          1970,
          1971,
          1972,
          1973,
          1974,
          1975,
          1976,
          1977,
          1978,
          1979,
          1980,
          1981,
          1982,
          1983,
          1984,
          1985,
          1986,
          1987,
          1988,
          1989,
          1990,
          1991,
          1992,
          1993,
          1994,
          1995,
          1996,
          1997,
          1998,
          1999,
          2000,
          2001,
          2002,
          2003,
          2004,
          2005,
          2006,
          2007,
          2008,
          2009,
          2010,
          2011,
          2012,
          2013,
          2014,
          2015
         ],
         "y": [
          0.15625,
          0.0967741935483871,
          0.125,
          0.11764705882352941,
          0.07142857142857142,
          0.11428571428571428,
          0.043478260869565216,
          0,
          0.07692307692307693,
          0.0967741935483871,
          0.07317073170731707,
          0.05454545454545454,
          0,
          0.03636363636363636,
          0.02127659574468085,
          0.06818181818181818,
          0.0425531914893617,
          0.07017543859649122,
          0.03076923076923077,
          0.05263157894736842,
          0.0641025641025641,
          0.06097560975609756,
          0.024691358024691357,
          0.0125,
          0.047619047619047616,
          0.009174311926605505,
          0.024793388429752067,
          0.024,
          0.027586206896551724,
          0.029197080291970802,
          0.030303030303030304,
          0.007518796992481203,
          0.03007518796992481,
          0.0449438202247191,
          0.016304347826086956,
          0.04,
          0.024509803921568627,
          0.036458333333333336,
          0.03333333333333333,
          0.03125,
          0.01762114537444934,
          0.049586776859504134,
          0.03007518796992481,
          0.03202846975088968,
          0.02280130293159609,
          0.027472527472527472,
          0.029411764705882353,
          0.02968036529680365,
          0.04838709677419355,
          0.0300187617260788,
          0.02857142857142857,
          0.014814814814814815,
          0.022108843537414966,
          0.021244309559939303,
          0.02142857142857143,
          0.02384737678855326
         ]
        },
        {
         "mode": "lines",
         "name": "is_Horror",
         "type": "scatter",
         "x": [
          1960,
          1961,
          1962,
          1963,
          1964,
          1965,
          1966,
          1967,
          1968,
          1969,
          1970,
          1971,
          1972,
          1973,
          1974,
          1975,
          1976,
          1977,
          1978,
          1979,
          1980,
          1981,
          1982,
          1983,
          1984,
          1985,
          1986,
          1987,
          1988,
          1989,
          1990,
          1991,
          1992,
          1993,
          1994,
          1995,
          1996,
          1997,
          1998,
          1999,
          2000,
          2001,
          2002,
          2003,
          2004,
          2005,
          2006,
          2007,
          2008,
          2009,
          2010,
          2011,
          2012,
          2013,
          2014,
          2015
         ],
         "y": [
          0.21875,
          0.0967741935483871,
          0.15625,
          0.2647058823529412,
          0.14285714285714285,
          0.14285714285714285,
          0.06521739130434782,
          0.1,
          0.10256410256410256,
          0.03225806451612903,
          0.12195121951219512,
          0.12727272727272726,
          0.2,
          0.2727272727272727,
          0.1702127659574468,
          0.18181818181818182,
          0.19148936170212766,
          0.24561403508771928,
          0.2923076923076923,
          0.19298245614035087,
          0.20512820512820512,
          0.2926829268292683,
          0.24691358024691357,
          0.1625,
          0.17142857142857143,
          0.12844036697247707,
          0.24793388429752067,
          0.2,
          0.2482758620689655,
          0.18248175182481752,
          0.19696969696969696,
          0.09774436090225563,
          0.12030075187969924,
          0.10112359550561797,
          0.07065217391304347,
          0.10857142857142857,
          0.08333333333333333,
          0.09375,
          0.10952380952380952,
          0.11607142857142858,
          0.09251101321585903,
          0.09504132231404959,
          0.11278195488721804,
          0.08540925266903915,
          0.09446254071661238,
          0.15384615384615385,
          0.13725490196078433,
          0.18036529680365296,
          0.1532258064516129,
          0.16885553470919323,
          0.15918367346938775,
          0.14444444444444443,
          0.17687074829931973,
          0.15477996965098634,
          0.15,
          0.1987281399046105
         ]
        }
       ],
       "layout": {
        "template": {
         "data": {
          "bar": [
           {
            "error_x": {
             "color": "#2a3f5f"
            },
            "error_y": {
             "color": "#2a3f5f"
            },
            "marker": {
             "line": {
              "color": "#E5ECF6",
              "width": 0.5
             }
            },
            "type": "bar"
           }
          ],
          "barpolar": [
           {
            "marker": {
             "line": {
              "color": "#E5ECF6",
              "width": 0.5
             }
            },
            "type": "barpolar"
           }
          ],
          "carpet": [
           {
            "aaxis": {
             "endlinecolor": "#2a3f5f",
             "gridcolor": "white",
             "linecolor": "white",
             "minorgridcolor": "white",
             "startlinecolor": "#2a3f5f"
            },
            "baxis": {
             "endlinecolor": "#2a3f5f",
             "gridcolor": "white",
             "linecolor": "white",
             "minorgridcolor": "white",
             "startlinecolor": "#2a3f5f"
            },
            "type": "carpet"
           }
          ],
          "choropleth": [
           {
            "colorbar": {
             "outlinewidth": 0,
             "ticks": ""
            },
            "type": "choropleth"
           }
          ],
          "contour": [
           {
            "colorbar": {
             "outlinewidth": 0,
             "ticks": ""
            },
            "colorscale": [
             [
              0,
              "#0d0887"
             ],
             [
              0.1111111111111111,
              "#46039f"
             ],
             [
              0.2222222222222222,
              "#7201a8"
             ],
             [
              0.3333333333333333,
              "#9c179e"
             ],
             [
              0.4444444444444444,
              "#bd3786"
             ],
             [
              0.5555555555555556,
              "#d8576b"
             ],
             [
              0.6666666666666666,
              "#ed7953"
             ],
             [
              0.7777777777777778,
              "#fb9f3a"
             ],
             [
              0.8888888888888888,
              "#fdca26"
             ],
             [
              1,
              "#f0f921"
             ]
            ],
            "type": "contour"
           }
          ],
          "contourcarpet": [
           {
            "colorbar": {
             "outlinewidth": 0,
             "ticks": ""
            },
            "type": "contourcarpet"
           }
          ],
          "heatmap": [
           {
            "colorbar": {
             "outlinewidth": 0,
             "ticks": ""
            },
            "colorscale": [
             [
              0,
              "#0d0887"
             ],
             [
              0.1111111111111111,
              "#46039f"
             ],
             [
              0.2222222222222222,
              "#7201a8"
             ],
             [
              0.3333333333333333,
              "#9c179e"
             ],
             [
              0.4444444444444444,
              "#bd3786"
             ],
             [
              0.5555555555555556,
              "#d8576b"
             ],
             [
              0.6666666666666666,
              "#ed7953"
             ],
             [
              0.7777777777777778,
              "#fb9f3a"
             ],
             [
              0.8888888888888888,
              "#fdca26"
             ],
             [
              1,
              "#f0f921"
             ]
            ],
            "type": "heatmap"
           }
          ],
          "heatmapgl": [
           {
            "colorbar": {
             "outlinewidth": 0,
             "ticks": ""
            },
            "colorscale": [
             [
              0,
              "#0d0887"
             ],
             [
              0.1111111111111111,
              "#46039f"
             ],
             [
              0.2222222222222222,
              "#7201a8"
             ],
             [
              0.3333333333333333,
              "#9c179e"
             ],
             [
              0.4444444444444444,
              "#bd3786"
             ],
             [
              0.5555555555555556,
              "#d8576b"
             ],
             [
              0.6666666666666666,
              "#ed7953"
             ],
             [
              0.7777777777777778,
              "#fb9f3a"
             ],
             [
              0.8888888888888888,
              "#fdca26"
             ],
             [
              1,
              "#f0f921"
             ]
            ],
            "type": "heatmapgl"
           }
          ],
          "histogram": [
           {
            "marker": {
             "colorbar": {
              "outlinewidth": 0,
              "ticks": ""
             }
            },
            "type": "histogram"
           }
          ],
          "histogram2d": [
           {
            "colorbar": {
             "outlinewidth": 0,
             "ticks": ""
            },
            "colorscale": [
             [
              0,
              "#0d0887"
             ],
             [
              0.1111111111111111,
              "#46039f"
             ],
             [
              0.2222222222222222,
              "#7201a8"
             ],
             [
              0.3333333333333333,
              "#9c179e"
             ],
             [
              0.4444444444444444,
              "#bd3786"
             ],
             [
              0.5555555555555556,
              "#d8576b"
             ],
             [
              0.6666666666666666,
              "#ed7953"
             ],
             [
              0.7777777777777778,
              "#fb9f3a"
             ],
             [
              0.8888888888888888,
              "#fdca26"
             ],
             [
              1,
              "#f0f921"
             ]
            ],
            "type": "histogram2d"
           }
          ],
          "histogram2dcontour": [
           {
            "colorbar": {
             "outlinewidth": 0,
             "ticks": ""
            },
            "colorscale": [
             [
              0,
              "#0d0887"
             ],
             [
              0.1111111111111111,
              "#46039f"
             ],
             [
              0.2222222222222222,
              "#7201a8"
             ],
             [
              0.3333333333333333,
              "#9c179e"
             ],
             [
              0.4444444444444444,
              "#bd3786"
             ],
             [
              0.5555555555555556,
              "#d8576b"
             ],
             [
              0.6666666666666666,
              "#ed7953"
             ],
             [
              0.7777777777777778,
              "#fb9f3a"
             ],
             [
              0.8888888888888888,
              "#fdca26"
             ],
             [
              1,
              "#f0f921"
             ]
            ],
            "type": "histogram2dcontour"
           }
          ],
          "mesh3d": [
           {
            "colorbar": {
             "outlinewidth": 0,
             "ticks": ""
            },
            "type": "mesh3d"
           }
          ],
          "parcoords": [
           {
            "line": {
             "colorbar": {
              "outlinewidth": 0,
              "ticks": ""
             }
            },
            "type": "parcoords"
           }
          ],
          "pie": [
           {
            "automargin": true,
            "type": "pie"
           }
          ],
          "scatter": [
           {
            "marker": {
             "colorbar": {
              "outlinewidth": 0,
              "ticks": ""
             }
            },
            "type": "scatter"
           }
          ],
          "scatter3d": [
           {
            "line": {
             "colorbar": {
              "outlinewidth": 0,
              "ticks": ""
             }
            },
            "marker": {
             "colorbar": {
              "outlinewidth": 0,
              "ticks": ""
             }
            },
            "type": "scatter3d"
           }
          ],
          "scattercarpet": [
           {
            "marker": {
             "colorbar": {
              "outlinewidth": 0,
              "ticks": ""
             }
            },
            "type": "scattercarpet"
           }
          ],
          "scattergeo": [
           {
            "marker": {
             "colorbar": {
              "outlinewidth": 0,
              "ticks": ""
             }
            },
            "type": "scattergeo"
           }
          ],
          "scattergl": [
           {
            "marker": {
             "colorbar": {
              "outlinewidth": 0,
              "ticks": ""
             }
            },
            "type": "scattergl"
           }
          ],
          "scattermapbox": [
           {
            "marker": {
             "colorbar": {
              "outlinewidth": 0,
              "ticks": ""
             }
            },
            "type": "scattermapbox"
           }
          ],
          "scatterpolar": [
           {
            "marker": {
             "colorbar": {
              "outlinewidth": 0,
              "ticks": ""
             }
            },
            "type": "scatterpolar"
           }
          ],
          "scatterpolargl": [
           {
            "marker": {
             "colorbar": {
              "outlinewidth": 0,
              "ticks": ""
             }
            },
            "type": "scatterpolargl"
           }
          ],
          "scatterternary": [
           {
            "marker": {
             "colorbar": {
              "outlinewidth": 0,
              "ticks": ""
             }
            },
            "type": "scatterternary"
           }
          ],
          "surface": [
           {
            "colorbar": {
             "outlinewidth": 0,
             "ticks": ""
            },
            "colorscale": [
             [
              0,
              "#0d0887"
             ],
             [
              0.1111111111111111,
              "#46039f"
             ],
             [
              0.2222222222222222,
              "#7201a8"
             ],
             [
              0.3333333333333333,
              "#9c179e"
             ],
             [
              0.4444444444444444,
              "#bd3786"
             ],
             [
              0.5555555555555556,
              "#d8576b"
             ],
             [
              0.6666666666666666,
              "#ed7953"
             ],
             [
              0.7777777777777778,
              "#fb9f3a"
             ],
             [
              0.8888888888888888,
              "#fdca26"
             ],
             [
              1,
              "#f0f921"
             ]
            ],
            "type": "surface"
           }
          ],
          "table": [
           {
            "cells": {
             "fill": {
              "color": "#EBF0F8"
             },
             "line": {
              "color": "white"
             }
            },
            "header": {
             "fill": {
              "color": "#C8D4E3"
             },
             "line": {
              "color": "white"
             }
            },
            "type": "table"
           }
          ]
         },
         "layout": {
          "annotationdefaults": {
           "arrowcolor": "#2a3f5f",
           "arrowhead": 0,
           "arrowwidth": 1
          },
          "coloraxis": {
           "colorbar": {
            "outlinewidth": 0,
            "ticks": ""
           }
          },
          "colorscale": {
           "diverging": [
            [
             0,
             "#8e0152"
            ],
            [
             0.1,
             "#c51b7d"
            ],
            [
             0.2,
             "#de77ae"
            ],
            [
             0.3,
             "#f1b6da"
            ],
            [
             0.4,
             "#fde0ef"
            ],
            [
             0.5,
             "#f7f7f7"
            ],
            [
             0.6,
             "#e6f5d0"
            ],
            [
             0.7,
             "#b8e186"
            ],
            [
             0.8,
             "#7fbc41"
            ],
            [
             0.9,
             "#4d9221"
            ],
            [
             1,
             "#276419"
            ]
           ],
           "sequential": [
            [
             0,
             "#0d0887"
            ],
            [
             0.1111111111111111,
             "#46039f"
            ],
            [
             0.2222222222222222,
             "#7201a8"
            ],
            [
             0.3333333333333333,
             "#9c179e"
            ],
            [
             0.4444444444444444,
             "#bd3786"
            ],
            [
             0.5555555555555556,
             "#d8576b"
            ],
            [
             0.6666666666666666,
             "#ed7953"
            ],
            [
             0.7777777777777778,
             "#fb9f3a"
            ],
            [
             0.8888888888888888,
             "#fdca26"
            ],
            [
             1,
             "#f0f921"
            ]
           ],
           "sequentialminus": [
            [
             0,
             "#0d0887"
            ],
            [
             0.1111111111111111,
             "#46039f"
            ],
            [
             0.2222222222222222,
             "#7201a8"
            ],
            [
             0.3333333333333333,
             "#9c179e"
            ],
            [
             0.4444444444444444,
             "#bd3786"
            ],
            [
             0.5555555555555556,
             "#d8576b"
            ],
            [
             0.6666666666666666,
             "#ed7953"
            ],
            [
             0.7777777777777778,
             "#fb9f3a"
            ],
            [
             0.8888888888888888,
             "#fdca26"
            ],
            [
             1,
             "#f0f921"
            ]
           ]
          },
          "colorway": [
           "#636efa",
           "#EF553B",
           "#00cc96",
           "#ab63fa",
           "#FFA15A",
           "#19d3f3",
           "#FF6692",
           "#B6E880",
           "#FF97FF",
           "#FECB52"
          ],
          "font": {
           "color": "#2a3f5f"
          },
          "geo": {
           "bgcolor": "white",
           "lakecolor": "white",
           "landcolor": "#E5ECF6",
           "showlakes": true,
           "showland": true,
           "subunitcolor": "white"
          },
          "hoverlabel": {
           "align": "left"
          },
          "hovermode": "closest",
          "mapbox": {
           "style": "light"
          },
          "paper_bgcolor": "white",
          "plot_bgcolor": "#E5ECF6",
          "polar": {
           "angularaxis": {
            "gridcolor": "white",
            "linecolor": "white",
            "ticks": ""
           },
           "bgcolor": "#E5ECF6",
           "radialaxis": {
            "gridcolor": "white",
            "linecolor": "white",
            "ticks": ""
           }
          },
          "scene": {
           "xaxis": {
            "backgroundcolor": "#E5ECF6",
            "gridcolor": "white",
            "gridwidth": 2,
            "linecolor": "white",
            "showbackground": true,
            "ticks": "",
            "zerolinecolor": "white"
           },
           "yaxis": {
            "backgroundcolor": "#E5ECF6",
            "gridcolor": "white",
            "gridwidth": 2,
            "linecolor": "white",
            "showbackground": true,
            "ticks": "",
            "zerolinecolor": "white"
           },
           "zaxis": {
            "backgroundcolor": "#E5ECF6",
            "gridcolor": "white",
            "gridwidth": 2,
            "linecolor": "white",
            "showbackground": true,
            "ticks": "",
            "zerolinecolor": "white"
           }
          },
          "shapedefaults": {
           "line": {
            "color": "#2a3f5f"
           }
          },
          "ternary": {
           "aaxis": {
            "gridcolor": "white",
            "linecolor": "white",
            "ticks": ""
           },
           "baxis": {
            "gridcolor": "white",
            "linecolor": "white",
            "ticks": ""
           },
           "bgcolor": "#E5ECF6",
           "caxis": {
            "gridcolor": "white",
            "linecolor": "white",
            "ticks": ""
           }
          },
          "title": {
           "x": 0.05
          },
          "xaxis": {
           "automargin": true,
           "gridcolor": "white",
           "linecolor": "white",
           "ticks": "",
           "title": {
            "standoff": 15
           },
           "zerolinecolor": "white",
           "zerolinewidth": 2
          },
          "yaxis": {
           "automargin": true,
           "gridcolor": "white",
           "linecolor": "white",
           "ticks": "",
           "title": {
            "standoff": 15
           },
           "zerolinecolor": "white",
           "zerolinewidth": 2
          }
         }
        },
        "title": {
         "text": "Interesting trends",
         "x": 0.5
        }
       }
      },
      "text/html": [
       "<div>\n",
       "        \n",
       "        \n",
       "            <div id=\"582c674a-ac49-4663-8d8c-ffe32ad21dfe\" class=\"plotly-graph-div\" style=\"height:525px; width:100%;\"></div>\n",
       "            <script type=\"text/javascript\">\n",
       "                require([\"plotly\"], function(Plotly) {\n",
       "                    window.PLOTLYENV=window.PLOTLYENV || {};\n",
       "                    \n",
       "                if (document.getElementById(\"582c674a-ac49-4663-8d8c-ffe32ad21dfe\")) {\n",
       "                    Plotly.newPlot(\n",
       "                        '582c674a-ac49-4663-8d8c-ffe32ad21dfe',\n",
       "                        [{\"mode\": \"lines\", \"name\": \"is_Adventure\", \"type\": \"scatter\", \"x\": [1960, 1961, 1962, 1963, 1964, 1965, 1966, 1967, 1968, 1969, 1970, 1971, 1972, 1973, 1974, 1975, 1976, 1977, 1978, 1979, 1980, 1981, 1982, 1983, 1984, 1985, 1986, 1987, 1988, 1989, 1990, 1991, 1992, 1993, 1994, 1995, 1996, 1997, 1998, 1999, 2000, 2001, 2002, 2003, 2004, 2005, 2006, 2007, 2008, 2009, 2010, 2011, 2012, 2013, 2014, 2015], \"y\": [0.15625, 0.1935483870967742, 0.21875, 0.20588235294117646, 0.11904761904761904, 0.17142857142857143, 0.2391304347826087, 0.175, 0.1282051282051282, 0.16129032258064516, 0.14634146341463414, 0.09090909090909091, 0.125, 0.09090909090909091, 0.1702127659574468, 0.18181818181818182, 0.1276595744680851, 0.2631578947368421, 0.16923076923076924, 0.14035087719298245, 0.1794871794871795, 0.17073170731707318, 0.12345679012345678, 0.175, 0.20952380952380953, 0.25688073394495414, 0.14049586776859505, 0.136, 0.10344827586206896, 0.17518248175182483, 0.17424242424242425, 0.15789473684210525, 0.12781954887218044, 0.14606741573033707, 0.1793478260869565, 0.18285714285714286, 0.14705882352941177, 0.18229166666666666, 0.18095238095238095, 0.08928571428571429, 0.12334801762114538, 0.1652892561983471, 0.16917293233082706, 0.14590747330960854, 0.15960912052117263, 0.14560439560439561, 0.13480392156862744, 0.136986301369863, 0.12701612903225806, 0.1350844277673546, 0.12040816326530612, 0.11481481481481481, 0.08503401360544217, 0.10166919575113809, 0.09571428571428571, 0.10969793322734499]}, {\"mode\": \"lines\", \"name\": \"is_Fantasy\", \"type\": \"scatter\", \"x\": [1960, 1961, 1962, 1963, 1964, 1965, 1966, 1967, 1968, 1969, 1970, 1971, 1972, 1973, 1974, 1975, 1976, 1977, 1978, 1979, 1980, 1981, 1982, 1983, 1984, 1985, 1986, 1987, 1988, 1989, 1990, 1991, 1992, 1993, 1994, 1995, 1996, 1997, 1998, 1999, 2000, 2001, 2002, 2003, 2004, 2005, 2006, 2007, 2008, 2009, 2010, 2011, 2012, 2013, 2014, 2015], \"y\": [0.0625, 0.06451612903225806, 0.03125, 0.058823529411764705, 0.09523809523809523, 0.0, 0.043478260869565216, 0.075, 0.1282051282051282, 0.06451612903225806, 0.07317073170731707, 0.03636363636363636, 0.025, 0.01818181818181818, 0.06382978723404255, 0.09090909090909091, 0.0425531914893617, 0.15789473684210525, 0.07692307692307693, 0.0, 0.08974358974358974, 0.036585365853658534, 0.16049382716049382, 0.125, 0.14285714285714285, 0.12844036697247707, 0.09090909090909091, 0.144, 0.1103448275862069, 0.11678832116788321, 0.09848484848484848, 0.14285714285714285, 0.10526315789473684, 0.07303370786516854, 0.13043478260869565, 0.09714285714285714, 0.10784313725490197, 0.109375, 0.10476190476190476, 0.10267857142857142, 0.09251101321585903, 0.10330578512396695, 0.07518796992481203, 0.09608540925266904, 0.06188925081433225, 0.09615384615384616, 0.08333333333333333, 0.10730593607305935, 0.08669354838709678, 0.09193245778611632, 0.08979591836734693, 0.08518518518518518, 0.05782312925170068, 0.05918057663125948, 0.05142857142857143, 0.05246422893481717]}, {\"mode\": \"lines\", \"name\": \"is_Western\", \"type\": \"scatter\", \"x\": [1960, 1961, 1962, 1963, 1964, 1965, 1966, 1967, 1968, 1969, 1970, 1971, 1972, 1973, 1974, 1975, 1976, 1977, 1978, 1979, 1980, 1981, 1982, 1983, 1984, 1985, 1986, 1987, 1988, 1989, 1990, 1991, 1992, 1993, 1994, 1995, 1996, 1997, 1998, 1999, 2000, 2001, 2002, 2003, 2004, 2005, 2006, 2007, 2008, 2009, 2010, 2011, 2012, 2013, 2014, 2015], \"y\": [0.1875, 0.0967741935483871, 0.09375, 0.058823529411764705, 0.023809523809523808, 0.11428571428571428, 0.15217391304347827, 0.05, 0.02564102564102564, 0.22580645161290322, 0.1951219512195122, 0.09090909090909091, 0.125, 0.07272727272727272, 0.0425531914893617, 0.06818181818181818, 0.06382978723404255, 0.017543859649122806, 0.015384615384615385, 0.07017543859649122, 0.0641025641025641, 0.0, 0.024691358024691357, 0.0125, 0.0, 0.027522935779816515, 0.008264462809917356, 0.008, 0.0, 0.0072992700729927005, 0.022727272727272728, 0.015037593984962405, 0.015037593984962405, 0.016853932584269662, 0.043478260869565216, 0.017142857142857144, 0.0, 0.0, 0.004761904761904762, 0.013392857142857142, 0.00881057268722467, 0.008264462809917356, 0.0037593984962406013, 0.014234875444839857, 0.02280130293159609, 0.005494505494505495, 0.0024509803921568627, 0.01141552511415525, 0.004032258064516129, 0.0, 0.012244897959183673, 0.005555555555555556, 0.006802721088435374, 0.004552352048558422, 0.008571428571428572, 0.009538950715421303]}, {\"mode\": \"lines\", \"name\": \"is_Comedy\", \"type\": \"scatter\", \"x\": [1960, 1961, 1962, 1963, 1964, 1965, 1966, 1967, 1968, 1969, 1970, 1971, 1972, 1973, 1974, 1975, 1976, 1977, 1978, 1979, 1980, 1981, 1982, 1983, 1984, 1985, 1986, 1987, 1988, 1989, 1990, 1991, 1992, 1993, 1994, 1995, 1996, 1997, 1998, 1999, 2000, 2001, 2002, 2003, 2004, 2005, 2006, 2007, 2008, 2009, 2010, 2011, 2012, 2013, 2014, 2015], \"y\": [0.25, 0.3225806451612903, 0.15625, 0.38235294117647056, 0.38095238095238093, 0.2, 0.34782608695652173, 0.425, 0.23076923076923078, 0.3870967741935484, 0.2926829268292683, 0.16363636363636364, 0.325, 0.14545454545454545, 0.2553191489361702, 0.2727272727272727, 0.2553191489361702, 0.19298245614035087, 0.2153846153846154, 0.3333333333333333, 0.32051282051282054, 0.24390243902439024, 0.345679012345679, 0.35, 0.3619047619047619, 0.46788990825688076, 0.4049586776859504, 0.456, 0.47586206896551725, 0.45985401459854014, 0.36363636363636365, 0.45112781954887216, 0.40601503759398494, 0.4044943820224719, 0.4782608695652174, 0.36, 0.44607843137254904, 0.4010416666666667, 0.4, 0.44642857142857145, 0.42731277533039647, 0.41735537190082644, 0.39097744360902253, 0.39501779359430605, 0.40716612377850164, 0.39285714285714285, 0.3799019607843137, 0.3447488584474886, 0.3407258064516129, 0.3714821763602251, 0.3448979591836735, 0.31851851851851853, 0.29931972789115646, 0.26555386949924126, 0.2642857142857143, 0.2575516693163752]}, {\"mode\": \"lines\", \"name\": \"is_Romance\", \"type\": \"scatter\", \"x\": [1960, 1961, 1962, 1963, 1964, 1965, 1966, 1967, 1968, 1969, 1970, 1971, 1972, 1973, 1974, 1975, 1976, 1977, 1978, 1979, 1980, 1981, 1982, 1983, 1984, 1985, 1986, 1987, 1988, 1989, 1990, 1991, 1992, 1993, 1994, 1995, 1996, 1997, 1998, 1999, 2000, 2001, 2002, 2003, 2004, 2005, 2006, 2007, 2008, 2009, 2010, 2011, 2012, 2013, 2014, 2015], \"y\": [0.1875, 0.22580645161290322, 0.15625, 0.23529411764705882, 0.21428571428571427, 0.14285714285714285, 0.13043478260869565, 0.275, 0.15384615384615385, 0.12903225806451613, 0.14634146341463414, 0.16363636363636364, 0.125, 0.05454545454545454, 0.0851063829787234, 0.045454545454545456, 0.10638297872340426, 0.07017543859649122, 0.07692307692307693, 0.14035087719298245, 0.11538461538461539, 0.12195121951219512, 0.14814814814814814, 0.175, 0.18095238095238095, 0.1926605504587156, 0.2066115702479339, 0.192, 0.1310344827586207, 0.16058394160583941, 0.14393939393939395, 0.19548872180451127, 0.23308270676691728, 0.19101123595505617, 0.19021739130434784, 0.21142857142857144, 0.21568627450980393, 0.16666666666666666, 0.19523809523809524, 0.1875, 0.20704845814977973, 0.2190082644628099, 0.18045112781954886, 0.17437722419928825, 0.20521172638436483, 0.17032967032967034, 0.1715686274509804, 0.1689497716894977, 0.1693548387096774, 0.15572232645403378, 0.17346938775510204, 0.1388888888888889, 0.13435374149659865, 0.09863429438543247, 0.12, 0.09062003179650238]}, {\"mode\": \"lines\", \"name\": \"is_History\", \"type\": \"scatter\", \"x\": [1960, 1961, 1962, 1963, 1964, 1965, 1966, 1967, 1968, 1969, 1970, 1971, 1972, 1973, 1974, 1975, 1976, 1977, 1978, 1979, 1980, 1981, 1982, 1983, 1984, 1985, 1986, 1987, 1988, 1989, 1990, 1991, 1992, 1993, 1994, 1995, 1996, 1997, 1998, 1999, 2000, 2001, 2002, 2003, 2004, 2005, 2006, 2007, 2008, 2009, 2010, 2011, 2012, 2013, 2014, 2015], \"y\": [0.15625, 0.0967741935483871, 0.125, 0.11764705882352941, 0.07142857142857142, 0.11428571428571428, 0.043478260869565216, 0.0, 0.07692307692307693, 0.0967741935483871, 0.07317073170731707, 0.05454545454545454, 0.0, 0.03636363636363636, 0.02127659574468085, 0.06818181818181818, 0.0425531914893617, 0.07017543859649122, 0.03076923076923077, 0.05263157894736842, 0.0641025641025641, 0.06097560975609756, 0.024691358024691357, 0.0125, 0.047619047619047616, 0.009174311926605505, 0.024793388429752067, 0.024, 0.027586206896551724, 0.029197080291970802, 0.030303030303030304, 0.007518796992481203, 0.03007518796992481, 0.0449438202247191, 0.016304347826086956, 0.04, 0.024509803921568627, 0.036458333333333336, 0.03333333333333333, 0.03125, 0.01762114537444934, 0.049586776859504134, 0.03007518796992481, 0.03202846975088968, 0.02280130293159609, 0.027472527472527472, 0.029411764705882353, 0.02968036529680365, 0.04838709677419355, 0.0300187617260788, 0.02857142857142857, 0.014814814814814815, 0.022108843537414966, 0.021244309559939303, 0.02142857142857143, 0.02384737678855326]}, {\"mode\": \"lines\", \"name\": \"is_Horror\", \"type\": \"scatter\", \"x\": [1960, 1961, 1962, 1963, 1964, 1965, 1966, 1967, 1968, 1969, 1970, 1971, 1972, 1973, 1974, 1975, 1976, 1977, 1978, 1979, 1980, 1981, 1982, 1983, 1984, 1985, 1986, 1987, 1988, 1989, 1990, 1991, 1992, 1993, 1994, 1995, 1996, 1997, 1998, 1999, 2000, 2001, 2002, 2003, 2004, 2005, 2006, 2007, 2008, 2009, 2010, 2011, 2012, 2013, 2014, 2015], \"y\": [0.21875, 0.0967741935483871, 0.15625, 0.2647058823529412, 0.14285714285714285, 0.14285714285714285, 0.06521739130434782, 0.1, 0.10256410256410256, 0.03225806451612903, 0.12195121951219512, 0.12727272727272726, 0.2, 0.2727272727272727, 0.1702127659574468, 0.18181818181818182, 0.19148936170212766, 0.24561403508771928, 0.2923076923076923, 0.19298245614035087, 0.20512820512820512, 0.2926829268292683, 0.24691358024691357, 0.1625, 0.17142857142857143, 0.12844036697247707, 0.24793388429752067, 0.2, 0.2482758620689655, 0.18248175182481752, 0.19696969696969696, 0.09774436090225563, 0.12030075187969924, 0.10112359550561797, 0.07065217391304347, 0.10857142857142857, 0.08333333333333333, 0.09375, 0.10952380952380952, 0.11607142857142858, 0.09251101321585903, 0.09504132231404959, 0.11278195488721804, 0.08540925266903915, 0.09446254071661238, 0.15384615384615385, 0.13725490196078433, 0.18036529680365296, 0.1532258064516129, 0.16885553470919323, 0.15918367346938775, 0.14444444444444443, 0.17687074829931973, 0.15477996965098634, 0.15, 0.1987281399046105]}],\n",
       "                        {\"template\": {\"data\": {\"bar\": [{\"error_x\": {\"color\": \"#2a3f5f\"}, \"error_y\": {\"color\": \"#2a3f5f\"}, \"marker\": {\"line\": {\"color\": \"#E5ECF6\", \"width\": 0.5}}, \"type\": \"bar\"}], \"barpolar\": [{\"marker\": {\"line\": {\"color\": \"#E5ECF6\", \"width\": 0.5}}, \"type\": \"barpolar\"}], \"carpet\": [{\"aaxis\": {\"endlinecolor\": \"#2a3f5f\", \"gridcolor\": \"white\", \"linecolor\": \"white\", \"minorgridcolor\": \"white\", \"startlinecolor\": \"#2a3f5f\"}, \"baxis\": {\"endlinecolor\": \"#2a3f5f\", \"gridcolor\": \"white\", \"linecolor\": \"white\", \"minorgridcolor\": \"white\", \"startlinecolor\": \"#2a3f5f\"}, \"type\": \"carpet\"}], \"choropleth\": [{\"colorbar\": {\"outlinewidth\": 0, \"ticks\": \"\"}, \"type\": \"choropleth\"}], \"contour\": [{\"colorbar\": {\"outlinewidth\": 0, \"ticks\": \"\"}, \"colorscale\": [[0.0, \"#0d0887\"], [0.1111111111111111, \"#46039f\"], [0.2222222222222222, \"#7201a8\"], [0.3333333333333333, \"#9c179e\"], [0.4444444444444444, \"#bd3786\"], [0.5555555555555556, \"#d8576b\"], [0.6666666666666666, \"#ed7953\"], [0.7777777777777778, \"#fb9f3a\"], [0.8888888888888888, \"#fdca26\"], [1.0, \"#f0f921\"]], \"type\": \"contour\"}], \"contourcarpet\": [{\"colorbar\": {\"outlinewidth\": 0, \"ticks\": \"\"}, \"type\": \"contourcarpet\"}], \"heatmap\": [{\"colorbar\": {\"outlinewidth\": 0, \"ticks\": \"\"}, \"colorscale\": [[0.0, \"#0d0887\"], [0.1111111111111111, \"#46039f\"], [0.2222222222222222, \"#7201a8\"], [0.3333333333333333, \"#9c179e\"], [0.4444444444444444, \"#bd3786\"], [0.5555555555555556, \"#d8576b\"], [0.6666666666666666, \"#ed7953\"], [0.7777777777777778, \"#fb9f3a\"], [0.8888888888888888, \"#fdca26\"], [1.0, \"#f0f921\"]], \"type\": \"heatmap\"}], \"heatmapgl\": [{\"colorbar\": {\"outlinewidth\": 0, \"ticks\": \"\"}, \"colorscale\": [[0.0, \"#0d0887\"], [0.1111111111111111, \"#46039f\"], [0.2222222222222222, \"#7201a8\"], [0.3333333333333333, \"#9c179e\"], [0.4444444444444444, \"#bd3786\"], [0.5555555555555556, \"#d8576b\"], [0.6666666666666666, \"#ed7953\"], [0.7777777777777778, \"#fb9f3a\"], [0.8888888888888888, \"#fdca26\"], [1.0, \"#f0f921\"]], \"type\": \"heatmapgl\"}], \"histogram\": [{\"marker\": {\"colorbar\": {\"outlinewidth\": 0, \"ticks\": \"\"}}, \"type\": \"histogram\"}], \"histogram2d\": [{\"colorbar\": {\"outlinewidth\": 0, \"ticks\": \"\"}, \"colorscale\": [[0.0, \"#0d0887\"], [0.1111111111111111, \"#46039f\"], [0.2222222222222222, \"#7201a8\"], [0.3333333333333333, \"#9c179e\"], [0.4444444444444444, \"#bd3786\"], [0.5555555555555556, \"#d8576b\"], [0.6666666666666666, \"#ed7953\"], [0.7777777777777778, \"#fb9f3a\"], [0.8888888888888888, \"#fdca26\"], [1.0, \"#f0f921\"]], \"type\": \"histogram2d\"}], \"histogram2dcontour\": [{\"colorbar\": {\"outlinewidth\": 0, \"ticks\": \"\"}, \"colorscale\": [[0.0, \"#0d0887\"], [0.1111111111111111, \"#46039f\"], [0.2222222222222222, \"#7201a8\"], [0.3333333333333333, \"#9c179e\"], [0.4444444444444444, \"#bd3786\"], [0.5555555555555556, \"#d8576b\"], [0.6666666666666666, \"#ed7953\"], [0.7777777777777778, \"#fb9f3a\"], [0.8888888888888888, \"#fdca26\"], [1.0, \"#f0f921\"]], \"type\": \"histogram2dcontour\"}], \"mesh3d\": [{\"colorbar\": {\"outlinewidth\": 0, \"ticks\": \"\"}, \"type\": \"mesh3d\"}], \"parcoords\": [{\"line\": {\"colorbar\": {\"outlinewidth\": 0, \"ticks\": \"\"}}, \"type\": \"parcoords\"}], \"pie\": [{\"automargin\": true, \"type\": \"pie\"}], \"scatter\": [{\"marker\": {\"colorbar\": {\"outlinewidth\": 0, \"ticks\": \"\"}}, \"type\": \"scatter\"}], \"scatter3d\": [{\"line\": {\"colorbar\": {\"outlinewidth\": 0, \"ticks\": \"\"}}, \"marker\": {\"colorbar\": {\"outlinewidth\": 0, \"ticks\": \"\"}}, \"type\": \"scatter3d\"}], \"scattercarpet\": [{\"marker\": {\"colorbar\": {\"outlinewidth\": 0, \"ticks\": \"\"}}, \"type\": \"scattercarpet\"}], \"scattergeo\": [{\"marker\": {\"colorbar\": {\"outlinewidth\": 0, \"ticks\": \"\"}}, \"type\": \"scattergeo\"}], \"scattergl\": [{\"marker\": {\"colorbar\": {\"outlinewidth\": 0, \"ticks\": \"\"}}, \"type\": \"scattergl\"}], \"scattermapbox\": [{\"marker\": {\"colorbar\": {\"outlinewidth\": 0, \"ticks\": \"\"}}, \"type\": \"scattermapbox\"}], \"scatterpolar\": [{\"marker\": {\"colorbar\": {\"outlinewidth\": 0, \"ticks\": \"\"}}, \"type\": \"scatterpolar\"}], \"scatterpolargl\": [{\"marker\": {\"colorbar\": {\"outlinewidth\": 0, \"ticks\": \"\"}}, \"type\": \"scatterpolargl\"}], \"scatterternary\": [{\"marker\": {\"colorbar\": {\"outlinewidth\": 0, \"ticks\": \"\"}}, \"type\": \"scatterternary\"}], \"surface\": [{\"colorbar\": {\"outlinewidth\": 0, \"ticks\": \"\"}, \"colorscale\": [[0.0, \"#0d0887\"], [0.1111111111111111, \"#46039f\"], [0.2222222222222222, \"#7201a8\"], [0.3333333333333333, \"#9c179e\"], [0.4444444444444444, \"#bd3786\"], [0.5555555555555556, \"#d8576b\"], [0.6666666666666666, \"#ed7953\"], [0.7777777777777778, \"#fb9f3a\"], [0.8888888888888888, \"#fdca26\"], [1.0, \"#f0f921\"]], \"type\": \"surface\"}], \"table\": [{\"cells\": {\"fill\": {\"color\": \"#EBF0F8\"}, \"line\": {\"color\": \"white\"}}, \"header\": {\"fill\": {\"color\": \"#C8D4E3\"}, \"line\": {\"color\": \"white\"}}, \"type\": \"table\"}]}, \"layout\": {\"annotationdefaults\": {\"arrowcolor\": \"#2a3f5f\", \"arrowhead\": 0, \"arrowwidth\": 1}, \"coloraxis\": {\"colorbar\": {\"outlinewidth\": 0, \"ticks\": \"\"}}, \"colorscale\": {\"diverging\": [[0, \"#8e0152\"], [0.1, \"#c51b7d\"], [0.2, \"#de77ae\"], [0.3, \"#f1b6da\"], [0.4, \"#fde0ef\"], [0.5, \"#f7f7f7\"], [0.6, \"#e6f5d0\"], [0.7, \"#b8e186\"], [0.8, \"#7fbc41\"], [0.9, \"#4d9221\"], [1, \"#276419\"]], \"sequential\": [[0.0, \"#0d0887\"], [0.1111111111111111, \"#46039f\"], [0.2222222222222222, \"#7201a8\"], [0.3333333333333333, \"#9c179e\"], [0.4444444444444444, \"#bd3786\"], [0.5555555555555556, \"#d8576b\"], [0.6666666666666666, \"#ed7953\"], [0.7777777777777778, \"#fb9f3a\"], [0.8888888888888888, \"#fdca26\"], [1.0, \"#f0f921\"]], \"sequentialminus\": [[0.0, \"#0d0887\"], [0.1111111111111111, \"#46039f\"], [0.2222222222222222, \"#7201a8\"], [0.3333333333333333, \"#9c179e\"], [0.4444444444444444, \"#bd3786\"], [0.5555555555555556, \"#d8576b\"], [0.6666666666666666, \"#ed7953\"], [0.7777777777777778, \"#fb9f3a\"], [0.8888888888888888, \"#fdca26\"], [1.0, \"#f0f921\"]]}, \"colorway\": [\"#636efa\", \"#EF553B\", \"#00cc96\", \"#ab63fa\", \"#FFA15A\", \"#19d3f3\", \"#FF6692\", \"#B6E880\", \"#FF97FF\", \"#FECB52\"], \"font\": {\"color\": \"#2a3f5f\"}, \"geo\": {\"bgcolor\": \"white\", \"lakecolor\": \"white\", \"landcolor\": \"#E5ECF6\", \"showlakes\": true, \"showland\": true, \"subunitcolor\": \"white\"}, \"hoverlabel\": {\"align\": \"left\"}, \"hovermode\": \"closest\", \"mapbox\": {\"style\": \"light\"}, \"paper_bgcolor\": \"white\", \"plot_bgcolor\": \"#E5ECF6\", \"polar\": {\"angularaxis\": {\"gridcolor\": \"white\", \"linecolor\": \"white\", \"ticks\": \"\"}, \"bgcolor\": \"#E5ECF6\", \"radialaxis\": {\"gridcolor\": \"white\", \"linecolor\": \"white\", \"ticks\": \"\"}}, \"scene\": {\"xaxis\": {\"backgroundcolor\": \"#E5ECF6\", \"gridcolor\": \"white\", \"gridwidth\": 2, \"linecolor\": \"white\", \"showbackground\": true, \"ticks\": \"\", \"zerolinecolor\": \"white\"}, \"yaxis\": {\"backgroundcolor\": \"#E5ECF6\", \"gridcolor\": \"white\", \"gridwidth\": 2, \"linecolor\": \"white\", \"showbackground\": true, \"ticks\": \"\", \"zerolinecolor\": \"white\"}, \"zaxis\": {\"backgroundcolor\": \"#E5ECF6\", \"gridcolor\": \"white\", \"gridwidth\": 2, \"linecolor\": \"white\", \"showbackground\": true, \"ticks\": \"\", \"zerolinecolor\": \"white\"}}, \"shapedefaults\": {\"line\": {\"color\": \"#2a3f5f\"}}, \"ternary\": {\"aaxis\": {\"gridcolor\": \"white\", \"linecolor\": \"white\", \"ticks\": \"\"}, \"baxis\": {\"gridcolor\": \"white\", \"linecolor\": \"white\", \"ticks\": \"\"}, \"bgcolor\": \"#E5ECF6\", \"caxis\": {\"gridcolor\": \"white\", \"linecolor\": \"white\", \"ticks\": \"\"}}, \"title\": {\"x\": 0.05}, \"xaxis\": {\"automargin\": true, \"gridcolor\": \"white\", \"linecolor\": \"white\", \"ticks\": \"\", \"title\": {\"standoff\": 15}, \"zerolinecolor\": \"white\", \"zerolinewidth\": 2}, \"yaxis\": {\"automargin\": true, \"gridcolor\": \"white\", \"linecolor\": \"white\", \"ticks\": \"\", \"title\": {\"standoff\": 15}, \"zerolinecolor\": \"white\", \"zerolinewidth\": 2}}}, \"title\": {\"text\": \"Interesting trends\", \"x\": 0.5}},\n",
       "                        {\"responsive\": true}\n",
       "                    ).then(function(){\n",
       "                            \n",
       "var gd = document.getElementById('582c674a-ac49-4663-8d8c-ffe32ad21dfe');\n",
       "var x = new MutationObserver(function (mutations, observer) {{\n",
       "        var display = window.getComputedStyle(gd).display;\n",
       "        if (!display || display === 'none') {{\n",
       "            console.log([gd, 'removed!']);\n",
       "            Plotly.purge(gd);\n",
       "            observer.disconnect();\n",
       "        }}\n",
       "}});\n",
       "\n",
       "// Listen for the removal of the full notebook cells\n",
       "var notebookContainer = gd.closest('#notebook-container');\n",
       "if (notebookContainer) {{\n",
       "    x.observe(notebookContainer, {childList: true});\n",
       "}}\n",
       "\n",
       "// Listen for the clearing of the current output cell\n",
       "var outputEl = gd.closest('.output');\n",
       "if (outputEl) {{\n",
       "    x.observe(outputEl, {childList: true});\n",
       "}}\n",
       "\n",
       "                        })\n",
       "                };\n",
       "                });\n",
       "            </script>\n",
       "        </div>"
      ]
     },
     "metadata": {},
     "output_type": "display_data"
    }
   ],
   "source": [
    "interesting_trends = ['is_Romance','is_Adventure','is_Horror','is_Fantasy','is_Western','is_History','is_Comedy']\n",
    "plot_genres(rel_genres_by_year,title=\"Interesting trends\", columns=interesting_trends)"
   ]
  },
  {
   "cell_type": "markdown",
   "metadata": {},
   "source": [
    "### Part 6.1: What can you conclude from the above visualizations?\n",
    "[15 min]\n",
    "\n",
    "Pick two or three genres and describe how the popularity of these genres fluctuates with time.  "
   ]
  },
  {
   "cell_type": "markdown",
   "metadata": {
    "ExecuteTime": {
     "end_time": "2020-02-15T13:16:43.034407Z",
     "start_time": "2020-02-15T13:16:43.030386Z"
    }
   },
   "source": [
    "#### Insights:\n",
    "* Romance drops in 70s, then rises and drops again since 2000. \n",
    "* Adventure also decreases since in the new millenium. \n",
    "* Horror - drop in mid-60s for almost a decade, since late 70s until 1990 was a good period for horror and then substnatial drop, rising again in recent years. \n",
    "* Fantasy was very unstable, peak in 1982 and since then a steady decrease. \n",
    "* Western quite popular before 80s. \n",
    "* History continuously dropping until leveling out in mid-80s. Documentary sky-rocketing since 90s. \n",
    "* Comedy rised in years 1980-2000 and dropping since then."
   ]
  },
  {
   "cell_type": "markdown",
   "metadata": {},
   "source": [
    "## Part 7: Conclusions\n",
    "\n",
    "[15 min/remaining time]\n",
    "\n",
    "\n",
    "Summarize your conclusions here by highlighting some of your achievements. Make sure to answer both parts below\n",
    "\n",
    "### 7.1 Limitations\n",
    "Are there any specific limitations in this dataset? Can we consider it complete? Is it noisy? Are there any ethical concerns?\n",
    "\n",
    "### 7.2 Main findings\n",
    "Summarize your findings below"
   ]
  },
  {
   "cell_type": "code",
   "execution_count": null,
   "metadata": {},
   "outputs": [],
   "source": []
  }
 ],
 "metadata": {
  "anaconda-cloud": {},
  "kernelspec": {
   "display_name": "Python 3",
   "language": "python",
   "name": "python3"
  },
  "language_info": {
   "codemirror_mode": {
    "name": "ipython",
    "version": 3
   },
   "file_extension": ".py",
   "mimetype": "text/x-python",
   "name": "python",
   "nbconvert_exporter": "python",
   "pygments_lexer": "ipython3",
   "version": "3.7.3"
  }
 },
 "nbformat": 4,
 "nbformat_minor": 1
}
