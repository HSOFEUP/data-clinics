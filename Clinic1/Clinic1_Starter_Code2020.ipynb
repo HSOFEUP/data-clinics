{
 "cells": [
  {
   "cell_type": "markdown",
   "metadata": {},
   "source": [
    "# KEN3450, Data Analysis, Spring 2020 \n",
    "\n",
    "## Clinic 1: EDA of Movies \n",
    "\n",
    "**Błażej Dolicki - i6155906**\n",
    "\n",
    "---"
   ]
  },
  {
   "cell_type": "markdown",
   "metadata": {},
   "source": [
    "## Part 1: Loading and Cleaning with Pandas \n",
    "Here is a description of the columns (in order) present in this csv file:\n",
    "\n",
    "```\n",
    "id: a unique identifier for each movie\n",
    "title: the title of the movie\n",
    "cast: name of most recognizeable cast members seperated by a \"|\"\n",
    "director: name of the director (if more than one, different names seperated by a \"|\"\n",
    "runtime: duration of movie in min.\n",
    "genres: categories of the movie seperated by a \"|\"\n",
    "release_date: exact date of the release in the format MM/DD/YY or MM/DD/YYYY\n",
    "users_voted: how many users have cast their vote for this movie\n",
    "rating: average rating for the movie (scale 0-5)\n",
    "release_year: the year of release\n",
    "budget: production costs in US dollars\n",
    "revenue: revenue income in US dollars\n",
    "```\n",
    "\n",
    "----"
   ]
  },
  {
   "cell_type": "markdown",
   "metadata": {},
   "source": [
    "Load the appropriate libraries"
   ]
  },
  {
   "cell_type": "code",
   "execution_count": 1,
   "metadata": {
    "ExecuteTime": {
     "end_time": "2020-02-15T16:57:59.043578Z",
     "start_time": "2020-02-15T16:57:52.125315Z"
    }
   },
   "outputs": [],
   "source": [
    "%matplotlib inline\n",
    "import numpy as np\n",
    "import matplotlib.pyplot as plt\n",
    "import pandas as pd\n",
    "import seaborn as sns\n",
    "pd.set_option('display.width', 500)\n",
    "pd.set_option('display.max_columns', 100)"
   ]
  },
  {
   "cell_type": "markdown",
   "metadata": {},
   "source": [
    "### Cleaning: Reading in the data"
   ]
  },
  {
   "cell_type": "code",
   "execution_count": 2,
   "metadata": {
    "ExecuteTime": {
     "end_time": "2020-02-15T16:57:59.846343Z",
     "start_time": "2020-02-15T16:57:59.044549Z"
    }
   },
   "outputs": [],
   "source": [
    "#Read the data into a dataframe\n",
    "df = pd.read_csv(\"movies.csv\", parse_dates=[\"release_date\"])"
   ]
  },
  {
   "cell_type": "code",
   "execution_count": 3,
   "metadata": {
    "ExecuteTime": {
     "end_time": "2020-02-15T16:57:59.962959Z",
     "start_time": "2020-02-15T16:57:59.848264Z"
    }
   },
   "outputs": [
    {
     "data": {
      "text/html": [
       "<div>\n",
       "<style scoped>\n",
       "    .dataframe tbody tr th:only-of-type {\n",
       "        vertical-align: middle;\n",
       "    }\n",
       "\n",
       "    .dataframe tbody tr th {\n",
       "        vertical-align: top;\n",
       "    }\n",
       "\n",
       "    .dataframe thead th {\n",
       "        text-align: right;\n",
       "    }\n",
       "</style>\n",
       "<table border=\"1\" class=\"dataframe\">\n",
       "  <thead>\n",
       "    <tr style=\"text-align: right;\">\n",
       "      <th></th>\n",
       "      <th>id</th>\n",
       "      <th>title</th>\n",
       "      <th>cast</th>\n",
       "      <th>director</th>\n",
       "      <th>runtime</th>\n",
       "      <th>genres</th>\n",
       "      <th>release_date</th>\n",
       "      <th>users_voted</th>\n",
       "      <th>rating</th>\n",
       "      <th>release_year</th>\n",
       "      <th>budget</th>\n",
       "      <th>revenue</th>\n",
       "    </tr>\n",
       "  </thead>\n",
       "  <tbody>\n",
       "    <tr>\n",
       "      <th>0</th>\n",
       "      <td>135397</td>\n",
       "      <td>Jurassic World</td>\n",
       "      <td>Chris Pratt|Bryce Dallas Howard|Irrfan Khan|Vi...</td>\n",
       "      <td>Colin Trevorrow</td>\n",
       "      <td>124</td>\n",
       "      <td>Action|Adventure|Science Fiction|Thriller</td>\n",
       "      <td>2015-06-09</td>\n",
       "      <td>5562</td>\n",
       "      <td>3.25</td>\n",
       "      <td>2015</td>\n",
       "      <td>150000000</td>\n",
       "      <td>1513528810</td>\n",
       "    </tr>\n",
       "    <tr>\n",
       "      <th>1</th>\n",
       "      <td>76341</td>\n",
       "      <td>Mad Max: Fury Road</td>\n",
       "      <td>Tom Hardy|Charlize Theron|Hugh Keays-Byrne|Nic...</td>\n",
       "      <td>George Miller</td>\n",
       "      <td>120</td>\n",
       "      <td>Action|Adventure|Science Fiction|Thriller</td>\n",
       "      <td>2015-05-13</td>\n",
       "      <td>6185</td>\n",
       "      <td>3.55</td>\n",
       "      <td>2015</td>\n",
       "      <td>150000000</td>\n",
       "      <td>378436354</td>\n",
       "    </tr>\n",
       "    <tr>\n",
       "      <th>2</th>\n",
       "      <td>262500</td>\n",
       "      <td>Insurgent</td>\n",
       "      <td>Shailene Woodley|Theo James|Kate Winslet|Ansel...</td>\n",
       "      <td>Robert Schwentke</td>\n",
       "      <td>119</td>\n",
       "      <td>Adventure|Science Fiction|Thriller</td>\n",
       "      <td>2015-03-18</td>\n",
       "      <td>2480</td>\n",
       "      <td>3.15</td>\n",
       "      <td>2015</td>\n",
       "      <td>110000000</td>\n",
       "      <td>295238201</td>\n",
       "    </tr>\n",
       "    <tr>\n",
       "      <th>3</th>\n",
       "      <td>140607</td>\n",
       "      <td>Star Wars: The Force Awakens</td>\n",
       "      <td>Harrison Ford|Mark Hamill|Carrie Fisher|Adam D...</td>\n",
       "      <td>J.J. Abrams</td>\n",
       "      <td>136</td>\n",
       "      <td>Action|Adventure|Science Fiction|Fantasy</td>\n",
       "      <td>2015-12-15</td>\n",
       "      <td>5292</td>\n",
       "      <td>3.75</td>\n",
       "      <td>2015</td>\n",
       "      <td>200000000</td>\n",
       "      <td>2068178225</td>\n",
       "    </tr>\n",
       "    <tr>\n",
       "      <th>4</th>\n",
       "      <td>168259</td>\n",
       "      <td>Furious 7</td>\n",
       "      <td>Vin Diesel|Paul Walker|Jason Statham|Michelle ...</td>\n",
       "      <td>James Wan</td>\n",
       "      <td>137</td>\n",
       "      <td>Action|Crime|Thriller</td>\n",
       "      <td>2015-04-01</td>\n",
       "      <td>2947</td>\n",
       "      <td>3.65</td>\n",
       "      <td>2015</td>\n",
       "      <td>190000000</td>\n",
       "      <td>1506249360</td>\n",
       "    </tr>\n",
       "  </tbody>\n",
       "</table>\n",
       "</div>"
      ],
      "text/plain": [
       "       id                         title                                               cast          director  runtime                                     genres release_date  users_voted  rating  release_year     budget     revenue\n",
       "0  135397                Jurassic World  Chris Pratt|Bryce Dallas Howard|Irrfan Khan|Vi...   Colin Trevorrow      124  Action|Adventure|Science Fiction|Thriller   2015-06-09         5562    3.25          2015  150000000  1513528810\n",
       "1   76341            Mad Max: Fury Road  Tom Hardy|Charlize Theron|Hugh Keays-Byrne|Nic...     George Miller      120  Action|Adventure|Science Fiction|Thriller   2015-05-13         6185    3.55          2015  150000000   378436354\n",
       "2  262500                     Insurgent  Shailene Woodley|Theo James|Kate Winslet|Ansel...  Robert Schwentke      119         Adventure|Science Fiction|Thriller   2015-03-18         2480    3.15          2015  110000000   295238201\n",
       "3  140607  Star Wars: The Force Awakens  Harrison Ford|Mark Hamill|Carrie Fisher|Adam D...       J.J. Abrams      136   Action|Adventure|Science Fiction|Fantasy   2015-12-15         5292    3.75          2015  200000000  2068178225\n",
       "4  168259                     Furious 7  Vin Diesel|Paul Walker|Jason Statham|Michelle ...         James Wan      137                      Action|Crime|Thriller   2015-04-01         2947    3.65          2015  190000000  1506249360"
      ]
     },
     "execution_count": 3,
     "metadata": {},
     "output_type": "execute_result"
    }
   ],
   "source": [
    "df.head()"
   ]
  },
  {
   "cell_type": "markdown",
   "metadata": {},
   "source": [
    "There are more than two date formats in `release_date` column, therefore it's not possible to parse the dates with `to_datetime()` method. Thankfully, this issue is solved by adding the `parse_dates` argument - the dates are properly parsed."
   ]
  },
  {
   "cell_type": "markdown",
   "metadata": {},
   "source": [
    "### Cleaning: Examing the dataframe - quick checks\n",
    "\n",
    "We should examine the dataframe to get a overall sense of the content. "
   ]
  },
  {
   "cell_type": "code",
   "execution_count": 4,
   "metadata": {
    "ExecuteTime": {
     "end_time": "2020-02-15T16:57:59.969921Z",
     "start_time": "2020-02-15T16:57:59.963935Z"
    }
   },
   "outputs": [
    {
     "data": {
      "text/plain": [
       "id                       int64\n",
       "title                   object\n",
       "cast                    object\n",
       "director                object\n",
       "runtime                  int64\n",
       "genres                  object\n",
       "release_date    datetime64[ns]\n",
       "users_voted              int64\n",
       "rating                 float64\n",
       "release_year             int64\n",
       "budget                   int64\n",
       "revenue                  int64\n",
       "dtype: object"
      ]
     },
     "execution_count": 4,
     "metadata": {},
     "output_type": "execute_result"
    }
   ],
   "source": [
    "df.dtypes"
   ]
  },
  {
   "cell_type": "markdown",
   "metadata": {},
   "source": [
    "Everything seems okay, numeric variables are indeed numeric and string variables are of type object."
   ]
  },
  {
   "cell_type": "code",
   "execution_count": 5,
   "metadata": {
    "ExecuteTime": {
     "end_time": "2020-02-15T16:57:59.988868Z",
     "start_time": "2020-02-15T16:57:59.971914Z"
    }
   },
   "outputs": [
    {
     "data": {
      "text/plain": [
       "(10866, 12)"
      ]
     },
     "execution_count": 5,
     "metadata": {},
     "output_type": "execute_result"
    }
   ],
   "source": [
    "df.shape"
   ]
  },
  {
   "cell_type": "markdown",
   "metadata": {},
   "source": [
    "There are 10866 movies, each with 12 features"
   ]
  },
  {
   "cell_type": "code",
   "execution_count": 6,
   "metadata": {
    "ExecuteTime": {
     "end_time": "2020-02-15T16:58:00.057688Z",
     "start_time": "2020-02-15T16:57:59.990862Z"
    }
   },
   "outputs": [
    {
     "data": {
      "text/html": [
       "<div>\n",
       "<style scoped>\n",
       "    .dataframe tbody tr th:only-of-type {\n",
       "        vertical-align: middle;\n",
       "    }\n",
       "\n",
       "    .dataframe tbody tr th {\n",
       "        vertical-align: top;\n",
       "    }\n",
       "\n",
       "    .dataframe thead th {\n",
       "        text-align: right;\n",
       "    }\n",
       "</style>\n",
       "<table border=\"1\" class=\"dataframe\">\n",
       "  <thead>\n",
       "    <tr style=\"text-align: right;\">\n",
       "      <th></th>\n",
       "      <th>id</th>\n",
       "      <th>runtime</th>\n",
       "      <th>users_voted</th>\n",
       "      <th>rating</th>\n",
       "      <th>release_year</th>\n",
       "      <th>budget</th>\n",
       "      <th>revenue</th>\n",
       "    </tr>\n",
       "  </thead>\n",
       "  <tbody>\n",
       "    <tr>\n",
       "      <th>count</th>\n",
       "      <td>10866.000000</td>\n",
       "      <td>10866.000000</td>\n",
       "      <td>10866.000000</td>\n",
       "      <td>10861.000000</td>\n",
       "      <td>10866.000000</td>\n",
       "      <td>1.086600e+04</td>\n",
       "      <td>1.086600e+04</td>\n",
       "    </tr>\n",
       "    <tr>\n",
       "      <th>mean</th>\n",
       "      <td>66064.177434</td>\n",
       "      <td>102.070863</td>\n",
       "      <td>217.389748</td>\n",
       "      <td>2.987386</td>\n",
       "      <td>2001.322658</td>\n",
       "      <td>1.462570e+07</td>\n",
       "      <td>3.982332e+07</td>\n",
       "    </tr>\n",
       "    <tr>\n",
       "      <th>std</th>\n",
       "      <td>92130.136561</td>\n",
       "      <td>31.381405</td>\n",
       "      <td>575.619058</td>\n",
       "      <td>0.467639</td>\n",
       "      <td>12.812941</td>\n",
       "      <td>3.091321e+07</td>\n",
       "      <td>1.170035e+08</td>\n",
       "    </tr>\n",
       "    <tr>\n",
       "      <th>min</th>\n",
       "      <td>5.000000</td>\n",
       "      <td>0.000000</td>\n",
       "      <td>10.000000</td>\n",
       "      <td>0.750000</td>\n",
       "      <td>1960.000000</td>\n",
       "      <td>0.000000e+00</td>\n",
       "      <td>0.000000e+00</td>\n",
       "    </tr>\n",
       "    <tr>\n",
       "      <th>25%</th>\n",
       "      <td>10596.250000</td>\n",
       "      <td>90.000000</td>\n",
       "      <td>17.000000</td>\n",
       "      <td>2.700000</td>\n",
       "      <td>1995.000000</td>\n",
       "      <td>0.000000e+00</td>\n",
       "      <td>0.000000e+00</td>\n",
       "    </tr>\n",
       "    <tr>\n",
       "      <th>50%</th>\n",
       "      <td>20669.000000</td>\n",
       "      <td>99.000000</td>\n",
       "      <td>38.000000</td>\n",
       "      <td>3.000000</td>\n",
       "      <td>2006.000000</td>\n",
       "      <td>0.000000e+00</td>\n",
       "      <td>0.000000e+00</td>\n",
       "    </tr>\n",
       "    <tr>\n",
       "      <th>75%</th>\n",
       "      <td>75610.000000</td>\n",
       "      <td>111.000000</td>\n",
       "      <td>145.750000</td>\n",
       "      <td>3.300000</td>\n",
       "      <td>2011.000000</td>\n",
       "      <td>1.500000e+07</td>\n",
       "      <td>2.400000e+07</td>\n",
       "    </tr>\n",
       "    <tr>\n",
       "      <th>max</th>\n",
       "      <td>417859.000000</td>\n",
       "      <td>900.000000</td>\n",
       "      <td>9767.000000</td>\n",
       "      <td>4.600000</td>\n",
       "      <td>2015.000000</td>\n",
       "      <td>4.250000e+08</td>\n",
       "      <td>2.781506e+09</td>\n",
       "    </tr>\n",
       "  </tbody>\n",
       "</table>\n",
       "</div>"
      ],
      "text/plain": [
       "                  id       runtime   users_voted        rating  release_year        budget       revenue\n",
       "count   10866.000000  10866.000000  10866.000000  10861.000000  10866.000000  1.086600e+04  1.086600e+04\n",
       "mean    66064.177434    102.070863    217.389748      2.987386   2001.322658  1.462570e+07  3.982332e+07\n",
       "std     92130.136561     31.381405    575.619058      0.467639     12.812941  3.091321e+07  1.170035e+08\n",
       "min         5.000000      0.000000     10.000000      0.750000   1960.000000  0.000000e+00  0.000000e+00\n",
       "25%     10596.250000     90.000000     17.000000      2.700000   1995.000000  0.000000e+00  0.000000e+00\n",
       "50%     20669.000000     99.000000     38.000000      3.000000   2006.000000  0.000000e+00  0.000000e+00\n",
       "75%     75610.000000    111.000000    145.750000      3.300000   2011.000000  1.500000e+07  2.400000e+07\n",
       "max    417859.000000    900.000000   9767.000000      4.600000   2015.000000  4.250000e+08  2.781506e+09"
      ]
     },
     "execution_count": 6,
     "metadata": {},
     "output_type": "execute_result"
    }
   ],
   "source": [
    "df.describe()"
   ]
  },
  {
   "cell_type": "markdown",
   "metadata": {
    "ExecuteTime": {
     "end_time": "2020-02-07T09:06:46.772255Z",
     "start_time": "2020-02-07T09:06:46.767299Z"
    }
   },
   "source": [
    "The above method summarizes some basic statistics. It helps to make sanity checks on edge values - for example rating should be between 0 and 5. Here you can see that min value of rating is 0.75 and max value is 4.6 so this is correct. Based on common sense, none of the numerical variables should be negative - looking at the above table, it checks out (this may seem irrelevant, but even from my short work experience I can tell situations like that happen in real-life situations)."
   ]
  },
  {
   "cell_type": "markdown",
   "metadata": {},
   "source": [
    "It's also worth checking any numbers that seem weird. Often this means that there's an error. For example maximum runtime is 900 - some movie supposedly is 15 hours long, which would be quite bizarre. After checking the title and googling it, it appears that the film was presented in 15 one-hour chapters. So everything is correct in this case."
   ]
  },
  {
   "cell_type": "markdown",
   "metadata": {},
   "source": [
    "In this dataset a really important insight is that medians of budget and revenue - i.e. half (or more) examples - are zeros. However, common sense suggests that every movie needs a non-zero budget and revenue. "
   ]
  },
  {
   "cell_type": "code",
   "execution_count": 7,
   "metadata": {
    "ExecuteTime": {
     "end_time": "2020-02-15T16:58:00.074639Z",
     "start_time": "2020-02-15T16:58:00.059679Z"
    }
   },
   "outputs": [
    {
     "data": {
      "text/html": [
       "<div>\n",
       "<style scoped>\n",
       "    .dataframe tbody tr th:only-of-type {\n",
       "        vertical-align: middle;\n",
       "    }\n",
       "\n",
       "    .dataframe tbody tr th {\n",
       "        vertical-align: top;\n",
       "    }\n",
       "\n",
       "    .dataframe thead th {\n",
       "        text-align: right;\n",
       "    }\n",
       "</style>\n",
       "<table border=\"1\" class=\"dataframe\">\n",
       "  <thead>\n",
       "    <tr style=\"text-align: right;\">\n",
       "      <th></th>\n",
       "      <th>id</th>\n",
       "      <th>title</th>\n",
       "      <th>cast</th>\n",
       "      <th>director</th>\n",
       "      <th>runtime</th>\n",
       "      <th>genres</th>\n",
       "      <th>release_date</th>\n",
       "      <th>users_voted</th>\n",
       "      <th>rating</th>\n",
       "      <th>release_year</th>\n",
       "      <th>budget</th>\n",
       "      <th>revenue</th>\n",
       "    </tr>\n",
       "  </thead>\n",
       "  <tbody>\n",
       "    <tr>\n",
       "      <th>7410</th>\n",
       "      <td>4638</td>\n",
       "      <td>Hot Fuzz</td>\n",
       "      <td>Simon Pegg|Nick Frost|Timothy Dalton|Jim Broad...</td>\n",
       "      <td>Edgar Wright</td>\n",
       "      <td>121</td>\n",
       "      <td>Crime|Action|Comedy</td>\n",
       "      <td>2007-02-14</td>\n",
       "      <td>1329</td>\n",
       "      <td>3.60</td>\n",
       "      <td>2007</td>\n",
       "      <td>0</td>\n",
       "      <td>80573774</td>\n",
       "    </tr>\n",
       "    <tr>\n",
       "      <th>5450</th>\n",
       "      <td>122906</td>\n",
       "      <td>About Time</td>\n",
       "      <td>Rachel McAdams|Bill Nighy|Domhnall Gleeson|Tom...</td>\n",
       "      <td>Richard Curtis</td>\n",
       "      <td>123</td>\n",
       "      <td>Comedy|Drama|Science Fiction</td>\n",
       "      <td>2013-08-16</td>\n",
       "      <td>1329</td>\n",
       "      <td>3.85</td>\n",
       "      <td>2013</td>\n",
       "      <td>0</td>\n",
       "      <td>87100449</td>\n",
       "    </tr>\n",
       "    <tr>\n",
       "      <th>746</th>\n",
       "      <td>188161</td>\n",
       "      <td>A Million Ways to Die in the West</td>\n",
       "      <td>Seth MacFarlane|Charlize Theron|Liam Neeson|Am...</td>\n",
       "      <td>Seth MacFarlane</td>\n",
       "      <td>116</td>\n",
       "      <td>Comedy|Western</td>\n",
       "      <td>2014-05-22</td>\n",
       "      <td>1074</td>\n",
       "      <td>2.95</td>\n",
       "      <td>2014</td>\n",
       "      <td>0</td>\n",
       "      <td>0</td>\n",
       "    </tr>\n",
       "    <tr>\n",
       "      <th>2419</th>\n",
       "      <td>37135</td>\n",
       "      <td>Tarzan</td>\n",
       "      <td>Tony Goldwyn|Glenn Close|Minnie Driver|Brian B...</td>\n",
       "      <td>Chris Buck|Kevin Lima</td>\n",
       "      <td>88</td>\n",
       "      <td>Adventure|Animation|Drama|Family</td>\n",
       "      <td>1999-06-18</td>\n",
       "      <td>912</td>\n",
       "      <td>3.45</td>\n",
       "      <td>1999</td>\n",
       "      <td>0</td>\n",
       "      <td>0</td>\n",
       "    </tr>\n",
       "    <tr>\n",
       "      <th>693</th>\n",
       "      <td>200727</td>\n",
       "      <td>Love, Rosie</td>\n",
       "      <td>Lily Collins|Sam Claflin|Suki Waterhouse|Chris...</td>\n",
       "      <td>Christian Ditter</td>\n",
       "      <td>102</td>\n",
       "      <td>Comedy|Romance</td>\n",
       "      <td>2014-07-02</td>\n",
       "      <td>904</td>\n",
       "      <td>3.80</td>\n",
       "      <td>2014</td>\n",
       "      <td>0</td>\n",
       "      <td>4439431</td>\n",
       "    </tr>\n",
       "  </tbody>\n",
       "</table>\n",
       "</div>"
      ],
      "text/plain": [
       "          id                              title                                               cast               director  runtime                            genres release_date  users_voted  rating  release_year  budget   revenue\n",
       "7410    4638                           Hot Fuzz  Simon Pegg|Nick Frost|Timothy Dalton|Jim Broad...           Edgar Wright      121               Crime|Action|Comedy   2007-02-14         1329    3.60          2007       0  80573774\n",
       "5450  122906                         About Time  Rachel McAdams|Bill Nighy|Domhnall Gleeson|Tom...         Richard Curtis      123      Comedy|Drama|Science Fiction   2013-08-16         1329    3.85          2013       0  87100449\n",
       "746   188161  A Million Ways to Die in the West  Seth MacFarlane|Charlize Theron|Liam Neeson|Am...        Seth MacFarlane      116                    Comedy|Western   2014-05-22         1074    2.95          2014       0         0\n",
       "2419   37135                             Tarzan  Tony Goldwyn|Glenn Close|Minnie Driver|Brian B...  Chris Buck|Kevin Lima       88  Adventure|Animation|Drama|Family   1999-06-18          912    3.45          1999       0         0\n",
       "693   200727                        Love, Rosie  Lily Collins|Sam Claflin|Suki Waterhouse|Chris...       Christian Ditter      102                    Comedy|Romance   2014-07-02          904    3.80          2014       0   4439431"
      ]
     },
     "execution_count": 7,
     "metadata": {},
     "output_type": "execute_result"
    }
   ],
   "source": [
    "df[df.budget==0].sort_values(by='users_voted',ascending=False).head()"
   ]
  },
  {
   "cell_type": "markdown",
   "metadata": {},
   "source": [
    "Thanks to the nature of this specific dataset we can use external sources (aka the Internet) to check the data. The movie \"Hot Fuzz\" that is on the top of the table in the cell above can be found on iMDB (https://www.imdb.com/title/tt0425112/). It's budget was 8 million pounds. So clearly many (if not all) the movies that have zeros as in the budget column in fact have missing data."
   ]
  },
  {
   "cell_type": "code",
   "execution_count": 8,
   "metadata": {
    "ExecuteTime": {
     "end_time": "2020-02-15T16:58:00.089599Z",
     "start_time": "2020-02-15T16:58:00.076633Z"
    }
   },
   "outputs": [
    {
     "name": "stdout",
     "output_type": "stream",
     "text": [
      "There are 5696 examples with missing values in the budget column\n",
      "There are 6016 examples with missing values in the revenue column\n",
      "There are 6165 examples with missing values in both budget or revenue columns\n"
     ]
    }
   ],
   "source": [
    "print(\"There are {} examples with missing values in the budget column\".format(df[df.budget==0].shape[0]))\n",
    "print(\"There are {} examples with missing values in the revenue column\".format(df[df.revenue==0].shape[0]))\n",
    "print(\"There are {} examples with missing values in both budget or revenue columns\".format(df[(df.budget>0) | (df.revenue>0)].shape[0]))"
   ]
  },
  {
   "cell_type": "markdown",
   "metadata": {},
   "source": [
    "**How to handle this problem?** If we wanted to train the model on this data, I would probably impute the missing values with predictions from an estimator trained on examples with non-missing budget and revenue (given that we have several thousands of those). However, for data analysis like this one, I will stick to the original dataset and only filter out rows with missing data in some cases when it makes sense."
   ]
  },
  {
   "cell_type": "markdown",
   "metadata": {},
   "source": [
    "After working for some time with this notebook I realized that \"The Karate Kid, Part II\" has supposedly budget of 113 dollars. So let us make the cutoff point around 1000, instead of 0, that seems reasonable."
   ]
  },
  {
   "cell_type": "code",
   "execution_count": 9,
   "metadata": {
    "ExecuteTime": {
     "end_time": "2020-02-15T16:58:00.102564Z",
     "start_time": "2020-02-15T16:58:00.091595Z"
    }
   },
   "outputs": [],
   "source": [
    "df_filtered = df[(df.budget>1000) & (df.revenue>0)]"
   ]
  },
  {
   "cell_type": "markdown",
   "metadata": {},
   "source": [
    "### Cleaning: Examining the dataframe - a deeper look"
   ]
  },
  {
   "cell_type": "code",
   "execution_count": 10,
   "metadata": {
    "ExecuteTime": {
     "end_time": "2020-02-15T16:58:00.126500Z",
     "start_time": "2020-02-15T16:58:00.103561Z"
    }
   },
   "outputs": [
    {
     "data": {
      "text/plain": [
       "id               0\n",
       "title            0\n",
       "cast            76\n",
       "director        44\n",
       "runtime          0\n",
       "genres          23\n",
       "release_date     0\n",
       "users_voted      0\n",
       "rating           5\n",
       "release_year     0\n",
       "budget           0\n",
       "revenue          0\n",
       "dtype: int64"
      ]
     },
     "execution_count": 10,
     "metadata": {},
     "output_type": "execute_result"
    }
   ],
   "source": [
    "df.isna().sum()"
   ]
  },
  {
   "cell_type": "markdown",
   "metadata": {},
   "source": [
    "As mentioned in the docs, the `describe()` method excludes NaN values when computing statistics."
   ]
  },
  {
   "cell_type": "markdown",
   "metadata": {},
   "source": [
    "### Cleaning: Dealing with Missing Values\n",
    "How should we interpret 'missing' or 'invalid' values in the data (hint: look at where these values occur)?"
   ]
  },
  {
   "cell_type": "markdown",
   "metadata": {},
   "source": [
    "For the purpose of data exploration, I think the best choice is to use a separate \"Unknown\" class for categorical variables. This is a common choice in many visualizations. Substituting missing values with the most common categories etc. might significantly change the dataset. For `rating` we can just replace it with the mean, it's only 5 rows anyway..."
   ]
  },
  {
   "cell_type": "code",
   "execution_count": 11,
   "metadata": {
    "ExecuteTime": {
     "end_time": "2020-02-15T16:58:00.146446Z",
     "start_time": "2020-02-15T16:58:00.127496Z"
    }
   },
   "outputs": [],
   "source": [
    "df[['cast','director','genres']] = df[['cast','director','genres']].fillna(\"Unknown\")"
   ]
  },
  {
   "cell_type": "code",
   "execution_count": 12,
   "metadata": {
    "ExecuteTime": {
     "end_time": "2020-02-15T16:58:00.174371Z",
     "start_time": "2020-02-15T16:58:00.148448Z"
    }
   },
   "outputs": [],
   "source": [
    "df['rating'].fillna(df['rating'].mean(),inplace=True)"
   ]
  },
  {
   "cell_type": "markdown",
   "metadata": {},
   "source": [
    "It's always good to check if the code is actually doing what you think it is doing..."
   ]
  },
  {
   "cell_type": "code",
   "execution_count": 13,
   "metadata": {
    "ExecuteTime": {
     "end_time": "2020-02-15T16:58:00.194955Z",
     "start_time": "2020-02-15T16:58:00.175368Z"
    }
   },
   "outputs": [
    {
     "name": "stdout",
     "output_type": "stream",
     "text": [
      "Any missing values left? False\n"
     ]
    }
   ],
   "source": [
    "print(\"Any missing values left?\",df.isna().sum().any())"
   ]
  },
  {
   "cell_type": "markdown",
   "metadata": {},
   "source": [
    "##  Part 2: Asking Questions\n",
    "Think of few questions we want to ask and then examine the data and decide if the dataframe contains what you need to address these questions. \n",
    "\n",
    "**Example:** Which are the highest rated movies? To determine this, you'll only need the data in two columns: `title` and `rating`. The task will be to sort these two columns by the value in `rating`.\n",
    "\n",
    "Try to formulate questions that you can explain to non-scientists and use your imagination (e.g. look for your favorite actor or movie)\n",
    "\n",
    "[5 min]"
   ]
  },
  {
   "cell_type": "code",
   "execution_count": 14,
   "metadata": {
    "ExecuteTime": {
     "end_time": "2020-02-15T16:58:00.217912Z",
     "start_time": "2020-02-15T16:58:00.195953Z"
    }
   },
   "outputs": [
    {
     "data": {
      "text/html": [
       "<div>\n",
       "<style scoped>\n",
       "    .dataframe tbody tr th:only-of-type {\n",
       "        vertical-align: middle;\n",
       "    }\n",
       "\n",
       "    .dataframe tbody tr th {\n",
       "        vertical-align: top;\n",
       "    }\n",
       "\n",
       "    .dataframe thead th {\n",
       "        text-align: right;\n",
       "    }\n",
       "</style>\n",
       "<table border=\"1\" class=\"dataframe\">\n",
       "  <thead>\n",
       "    <tr style=\"text-align: right;\">\n",
       "      <th></th>\n",
       "      <th>id</th>\n",
       "      <th>title</th>\n",
       "      <th>cast</th>\n",
       "      <th>director</th>\n",
       "      <th>runtime</th>\n",
       "      <th>genres</th>\n",
       "      <th>release_date</th>\n",
       "      <th>users_voted</th>\n",
       "      <th>rating</th>\n",
       "      <th>release_year</th>\n",
       "      <th>budget</th>\n",
       "      <th>revenue</th>\n",
       "    </tr>\n",
       "  </thead>\n",
       "  <tbody>\n",
       "    <tr>\n",
       "      <th>0</th>\n",
       "      <td>135397</td>\n",
       "      <td>Jurassic World</td>\n",
       "      <td>Chris Pratt|Bryce Dallas Howard|Irrfan Khan|Vi...</td>\n",
       "      <td>Colin Trevorrow</td>\n",
       "      <td>124</td>\n",
       "      <td>Action|Adventure|Science Fiction|Thriller</td>\n",
       "      <td>2015-06-09</td>\n",
       "      <td>5562</td>\n",
       "      <td>3.25</td>\n",
       "      <td>2015</td>\n",
       "      <td>150000000</td>\n",
       "      <td>1513528810</td>\n",
       "    </tr>\n",
       "    <tr>\n",
       "      <th>1</th>\n",
       "      <td>76341</td>\n",
       "      <td>Mad Max: Fury Road</td>\n",
       "      <td>Tom Hardy|Charlize Theron|Hugh Keays-Byrne|Nic...</td>\n",
       "      <td>George Miller</td>\n",
       "      <td>120</td>\n",
       "      <td>Action|Adventure|Science Fiction|Thriller</td>\n",
       "      <td>2015-05-13</td>\n",
       "      <td>6185</td>\n",
       "      <td>3.55</td>\n",
       "      <td>2015</td>\n",
       "      <td>150000000</td>\n",
       "      <td>378436354</td>\n",
       "    </tr>\n",
       "    <tr>\n",
       "      <th>2</th>\n",
       "      <td>262500</td>\n",
       "      <td>Insurgent</td>\n",
       "      <td>Shailene Woodley|Theo James|Kate Winslet|Ansel...</td>\n",
       "      <td>Robert Schwentke</td>\n",
       "      <td>119</td>\n",
       "      <td>Adventure|Science Fiction|Thriller</td>\n",
       "      <td>2015-03-18</td>\n",
       "      <td>2480</td>\n",
       "      <td>3.15</td>\n",
       "      <td>2015</td>\n",
       "      <td>110000000</td>\n",
       "      <td>295238201</td>\n",
       "    </tr>\n",
       "    <tr>\n",
       "      <th>3</th>\n",
       "      <td>140607</td>\n",
       "      <td>Star Wars: The Force Awakens</td>\n",
       "      <td>Harrison Ford|Mark Hamill|Carrie Fisher|Adam D...</td>\n",
       "      <td>J.J. Abrams</td>\n",
       "      <td>136</td>\n",
       "      <td>Action|Adventure|Science Fiction|Fantasy</td>\n",
       "      <td>2015-12-15</td>\n",
       "      <td>5292</td>\n",
       "      <td>3.75</td>\n",
       "      <td>2015</td>\n",
       "      <td>200000000</td>\n",
       "      <td>2068178225</td>\n",
       "    </tr>\n",
       "    <tr>\n",
       "      <th>4</th>\n",
       "      <td>168259</td>\n",
       "      <td>Furious 7</td>\n",
       "      <td>Vin Diesel|Paul Walker|Jason Statham|Michelle ...</td>\n",
       "      <td>James Wan</td>\n",
       "      <td>137</td>\n",
       "      <td>Action|Crime|Thriller</td>\n",
       "      <td>2015-04-01</td>\n",
       "      <td>2947</td>\n",
       "      <td>3.65</td>\n",
       "      <td>2015</td>\n",
       "      <td>190000000</td>\n",
       "      <td>1506249360</td>\n",
       "    </tr>\n",
       "  </tbody>\n",
       "</table>\n",
       "</div>"
      ],
      "text/plain": [
       "       id                         title                                               cast          director  runtime                                     genres release_date  users_voted  rating  release_year     budget     revenue\n",
       "0  135397                Jurassic World  Chris Pratt|Bryce Dallas Howard|Irrfan Khan|Vi...   Colin Trevorrow      124  Action|Adventure|Science Fiction|Thriller   2015-06-09         5562    3.25          2015  150000000  1513528810\n",
       "1   76341            Mad Max: Fury Road  Tom Hardy|Charlize Theron|Hugh Keays-Byrne|Nic...     George Miller      120  Action|Adventure|Science Fiction|Thriller   2015-05-13         6185    3.55          2015  150000000   378436354\n",
       "2  262500                     Insurgent  Shailene Woodley|Theo James|Kate Winslet|Ansel...  Robert Schwentke      119         Adventure|Science Fiction|Thriller   2015-03-18         2480    3.15          2015  110000000   295238201\n",
       "3  140607  Star Wars: The Force Awakens  Harrison Ford|Mark Hamill|Carrie Fisher|Adam D...       J.J. Abrams      136   Action|Adventure|Science Fiction|Fantasy   2015-12-15         5292    3.75          2015  200000000  2068178225\n",
       "4  168259                     Furious 7  Vin Diesel|Paul Walker|Jason Statham|Michelle ...         James Wan      137                      Action|Crime|Thriller   2015-04-01         2947    3.65          2015  190000000  1506249360"
      ]
     },
     "execution_count": 14,
     "metadata": {},
     "output_type": "execute_result"
    }
   ],
   "source": [
    "df.head()"
   ]
  },
  {
   "cell_type": "markdown",
   "metadata": {
    "ExecuteTime": {
     "end_time": "2020-02-07T19:58:52.682698Z",
     "start_time": "2020-02-07T19:58:52.665750Z"
    }
   },
   "source": [
    "### Questions"
   ]
  },
  {
   "cell_type": "markdown",
   "metadata": {
    "ExecuteTime": {
     "end_time": "2020-02-07T19:58:52.682698Z",
     "start_time": "2020-02-07T19:58:52.665750Z"
    }
   },
   "source": [
    "1. Which actor has the best average movie rating?"
   ]
  },
  {
   "cell_type": "code",
   "execution_count": 15,
   "metadata": {
    "ExecuteTime": {
     "end_time": "2020-02-15T16:58:00.250804Z",
     "start_time": "2020-02-15T16:58:00.218891Z"
    }
   },
   "outputs": [],
   "source": [
    "unique_actors = {}\n",
    "for a in df.cast.unique():\n",
    "    for actor in a.split(\"|\"):\n",
    "        if actor not in unique_actors:\n",
    "            unique_actors[actor] = 0\n",
    "            "
   ]
  },
  {
   "cell_type": "code",
   "execution_count": null,
   "metadata": {
    "ExecuteTime": {
     "start_time": "2020-02-15T16:57:52.162Z"
    }
   },
   "outputs": [],
   "source": [
    "for actor in unique_actors:\n",
    "    actor_df =  df[df.cast.str.contains(actor)]\n",
    "    if actor_df.shape[0]>5:\n",
    "        unique_actors[actor] = actor_df['rating'].mean()"
   ]
  },
  {
   "cell_type": "code",
   "execution_count": null,
   "metadata": {
    "ExecuteTime": {
     "start_time": "2020-02-15T16:57:52.164Z"
    }
   },
   "outputs": [],
   "source": [
    "best_actors = sorted(unique_actors.items(), key=lambda item: item[1],reverse=True)[:20]\n",
    "best_actors"
   ]
  },
  {
   "cell_type": "markdown",
   "metadata": {
    "ExecuteTime": {
     "end_time": "2020-02-15T15:32:28.045794Z",
     "start_time": "2020-02-15T15:32:28.041826Z"
    }
   },
   "source": [
    "By answering that question we want to find the best actor. We check only actors that played in more than 5 movies, because otherwise the top scores would consist of actors that played in one amazing movie.<br>\n",
    "Answer: Martin Scorsese"
   ]
  },
  {
   "cell_type": "markdown",
   "metadata": {
    "ExecuteTime": {
     "end_time": "2020-02-07T19:58:52.682698Z",
     "start_time": "2020-02-07T19:58:52.665750Z"
    }
   },
   "source": [
    "2. Which director made the most movies?"
   ]
  },
  {
   "cell_type": "code",
   "execution_count": null,
   "metadata": {
    "ExecuteTime": {
     "start_time": "2020-02-15T16:57:52.167Z"
    }
   },
   "outputs": [],
   "source": [
    "df.director.value_counts().sort_values(ascending=False)[:5]"
   ]
  },
  {
   "cell_type": "markdown",
   "metadata": {},
   "source": [
    "Answer: Woody Allen"
   ]
  },
  {
   "cell_type": "markdown",
   "metadata": {
    "ExecuteTime": {
     "end_time": "2020-02-07T19:58:52.682698Z",
     "start_time": "2020-02-07T19:58:52.665750Z"
    }
   },
   "source": [
    "3. Is there a correlation betwen release date and revenue? Are there any periods especially beneficial for releasing a movie? (For example winter, when days are short and it's cold outside)"
   ]
  },
  {
   "cell_type": "code",
   "execution_count": null,
   "metadata": {
    "ExecuteTime": {
     "start_time": "2020-02-15T16:57:52.169Z"
    }
   },
   "outputs": [],
   "source": [
    "df[\"release_month\"] = pd.DatetimeIndex(df['release_date']).month"
   ]
  },
  {
   "cell_type": "code",
   "execution_count": null,
   "metadata": {
    "ExecuteTime": {
     "start_time": "2020-02-15T16:57:52.171Z"
    }
   },
   "outputs": [],
   "source": [
    "d = df.groupby(by='release_month')['revenue'].mean()"
   ]
  },
  {
   "cell_type": "code",
   "execution_count": null,
   "metadata": {
    "ExecuteTime": {
     "start_time": "2020-02-15T16:57:52.173Z"
    }
   },
   "outputs": [],
   "source": [
    "sns.barplot(x=d.index,y=d.values)\n",
    "plt.title(\"Average movie revenues by month\",fontsize=15)\n",
    "plt.show()"
   ]
  },
  {
   "cell_type": "markdown",
   "metadata": {},
   "source": [
    "Answer: There are two peaks - around June and December."
   ]
  },
  {
   "cell_type": "markdown",
   "metadata": {
    "ExecuteTime": {
     "end_time": "2020-02-07T19:58:52.682698Z",
     "start_time": "2020-02-07T19:58:52.665750Z"
    }
   },
   "source": [
    "4. Is there a correlation between the budget and revenue? (Intuitively, there should be a positive correlation)\n",
    "5. Is there a correlation between the revenue and the rating? (Theoretically, revenue means a lot of people saw the film -> a lot of people recommended the film -> the film is good)\n",
    "\n",
    "Answer: Later in the notebook"
   ]
  },
  {
   "cell_type": "markdown",
   "metadata": {},
   "source": [
    "---"
   ]
  },
  {
   "cell_type": "markdown",
   "metadata": {},
   "source": [
    "## Part 3: EDA \n",
    "Before proceeding any further, get to know the dataset using a few \"global property\" visualizations, illustrating histograms or other visualizations. Do you find anything interesting or strange? Report it.\n",
    "\n",
    "\n",
    "[20 minutes]\n",
    "\n",
    "---"
   ]
  },
  {
   "cell_type": "markdown",
   "metadata": {},
   "source": [
    "Choose the numerical (quantitative) columns to generate some histograms."
   ]
  },
  {
   "cell_type": "code",
   "execution_count": null,
   "metadata": {
    "ExecuteTime": {
     "start_time": "2020-02-15T16:57:52.177Z"
    }
   },
   "outputs": [],
   "source": [
    "num_cols = ['runtime','users_voted','release_year','budget','revenue']"
   ]
  },
  {
   "cell_type": "code",
   "execution_count": null,
   "metadata": {
    "ExecuteTime": {
     "start_time": "2020-02-15T16:57:52.179Z"
    }
   },
   "outputs": [],
   "source": [
    "df.runtime.hist(bins=50)\n",
    "plt.xlabel('Runtime (in minutes)')\n",
    "plt.ylabel('Movies count')\n",
    "plt.title('Runtime histogram')\n",
    "plt.xlim((0,300))\n",
    "plt.show()"
   ]
  },
  {
   "cell_type": "markdown",
   "metadata": {},
   "source": [
    "We can see that the histogram is unimodal, skewed right. Most of the movies are between 1 and 3 hours long, which seems plausible."
   ]
  },
  {
   "cell_type": "code",
   "execution_count": null,
   "metadata": {
    "ExecuteTime": {
     "start_time": "2020-02-15T16:57:52.181Z"
    }
   },
   "outputs": [],
   "source": [
    "df.users_voted.hist(bins=50)\n",
    "plt.xlabel('Users\\' votes count')\n",
    "plt.ylabel('Movies count')\n",
    "plt.title('Users\\' votes histogram')\n",
    "plt.xlim((0,2000))\n",
    "plt.show()"
   ]
  },
  {
   "cell_type": "markdown",
   "metadata": {},
   "source": [
    "Seems that the majority of movies don't have any votes, the distribution is similar to exponential, but even steeper. Let's zoom in a bit more."
   ]
  },
  {
   "cell_type": "code",
   "execution_count": null,
   "metadata": {
    "ExecuteTime": {
     "start_time": "2020-02-15T16:57:52.184Z"
    }
   },
   "outputs": [],
   "source": [
    "df.users_voted.hist(bins=1000)\n",
    "plt.xlabel('Users\\' votes count')\n",
    "plt.ylabel('Movies count')\n",
    "plt.title('Users\\' votes histogram')\n",
    "plt.xlim((0,500))\n",
    "plt.show()"
   ]
  },
  {
   "cell_type": "code",
   "execution_count": null,
   "metadata": {
    "ExecuteTime": {
     "start_time": "2020-02-15T16:57:52.185Z"
    }
   },
   "outputs": [],
   "source": [
    "df[df.users_voted<20].shape[0]"
   ]
  },
  {
   "cell_type": "markdown",
   "metadata": {},
   "source": [
    "After having a closer look, we can see that every movie has some votes, but 3330 (about 1/3 of the whole dataset) of them has less than 20 votes"
   ]
  },
  {
   "cell_type": "code",
   "execution_count": null,
   "metadata": {
    "ExecuteTime": {
     "start_time": "2020-02-15T16:57:52.189Z"
    }
   },
   "outputs": [],
   "source": [
    "unique_years = df.release_year.nunique()\n",
    "for num_bins in [30,40,unique_years]:\n",
    "    df.release_year.hist(bins=num_bins)\n",
    "    plt.xlabel('Realese year')\n",
    "    plt.ylabel('Movies count')\n",
    "    plt.title('Release year histogram - {} bins'.format(num_bins))\n",
    "    plt.show()"
   ]
  },
  {
   "cell_type": "markdown",
   "metadata": {},
   "source": [
    "For `release year` the smoothness of the plot differs a lot depending on the selected bin size. First diagram has a few sudden drops. Conversely, on the second one we can observe multiple significant spikes and the last one in which there is one bin per year displays a much smoother distribution. Despite the differences, all plots render an increasing number of movies made over time. This does not necessarily mean that in general less movies were made in earlier years, because it might be that for newer movie it is easier to obtain the data and that is why they are better represented in the dataset."
   ]
  },
  {
   "cell_type": "code",
   "execution_count": null,
   "metadata": {
    "ExecuteTime": {
     "start_time": "2020-02-15T16:57:52.192Z"
    }
   },
   "outputs": [],
   "source": [
    "df_filtered.shape"
   ]
  },
  {
   "cell_type": "code",
   "execution_count": null,
   "metadata": {
    "ExecuteTime": {
     "start_time": "2020-02-15T16:57:52.193Z"
    }
   },
   "outputs": [],
   "source": [
    "df_filtered.budget.hist(bins=100)\n",
    "plt.xlabel('Budget')\n",
    "plt.ylabel('Movies count')\n",
    "plt.title('Budget histogram')\n",
    "plt.show()"
   ]
  },
  {
   "cell_type": "markdown",
   "metadata": {
    "ExecuteTime": {
     "end_time": "2020-02-09T18:38:45.197844Z",
     "start_time": "2020-02-09T18:38:45.191861Z"
    }
   },
   "source": [
    "Of course, the movie count decreases as the budget increases."
   ]
  },
  {
   "cell_type": "code",
   "execution_count": null,
   "metadata": {
    "ExecuteTime": {
     "start_time": "2020-02-15T16:57:52.195Z"
    }
   },
   "outputs": [],
   "source": [
    "df_filtered.revenue.hist(bins=100)\n",
    "plt.xlabel('Revenue')\n",
    "plt.ylabel('Movies count')\n",
    "plt.title('Revenue histogram')\n",
    "# plt.ylim((0,1000))\n",
    "plt.show()"
   ]
  },
  {
   "cell_type": "markdown",
   "metadata": {},
   "source": [
    "## Part 4: Basic associations\n",
    "\n",
    "After we have inspected the individual values, it's time to start checking combinations of events, e.g. does the rating correlate with the budget or the revenue? Does the budget correlate with revenue? Analyze what your findings mean\n",
    "\n",
    "[20 minutes]\n",
    "\n",
    "---"
   ]
  },
  {
   "cell_type": "markdown",
   "metadata": {},
   "source": [
    "Especially for big datasets when inspecting correlations with scatterplots, it's important to increase transparency of ticks with the alpha parameter. This is a common practice for data visualization in many Kaggle competitions. Otherwise, ticks are overlapping each other and it's really difficult to read anything from the plots."
   ]
  },
  {
   "cell_type": "code",
   "execution_count": null,
   "metadata": {
    "ExecuteTime": {
     "start_time": "2020-02-15T16:57:52.198Z"
    }
   },
   "outputs": [],
   "source": [
    "sns.set()\n",
    "g = sns.PairGrid(df, vars=num_cols)\n",
    "g.map_diag(sns.distplot)\n",
    "g.map_offdiag(plt.scatter, s=15,alpha=0.1)"
   ]
  },
  {
   "cell_type": "code",
   "execution_count": null,
   "metadata": {
    "ExecuteTime": {
     "start_time": "2020-02-15T16:57:52.200Z"
    }
   },
   "outputs": [],
   "source": [
    "f, ax = plt.subplots(figsize= [15,12])\n",
    "sns.heatmap(df_filtered.corr(), annot=True, fmt=\".2f\", ax=ax, \n",
    "            cbar_kws={'label': 'Correlation Coefficient'}, cmap='viridis')\n",
    "ax.set_title(\"Correlation Matrix\", fontsize=15)\n",
    "plt.show()"
   ]
  },
  {
   "cell_type": "markdown",
   "metadata": {},
   "source": [
    "A correlation heatmap is more informative. Here we can clearly see that there is a strong positive correlation between budget, revenue and users_voted. This is not surprising. The more money was invested into a film, the more the movie should earn to make a profit. Similarly the higher the budget, the better promotion, thus more viewers and thus more votes. Apart from that, there are no strong correlations. Interestingly enough, there is a small correlation of 0.25 between users_voted and rating, which may lead to a conclusion that popularity doesn't always go together with positive reception of the audience.<br><br>\n",
    "Here I am using `df` instead of `df_filtered` because a correlation based on 10k examples is much more reliable than on 4k examples. The only precaution we need to bear in mind is that correlations between revenue (and budget) and other variables are a bit biased. However, after plotting a heatmap for `df_filtered` I checked that the differences beetween them are not signficant."
   ]
  },
  {
   "cell_type": "markdown",
   "metadata": {
    "ExecuteTime": {
     "end_time": "2020-02-13T11:45:37.247921Z",
     "start_time": "2020-02-13T11:45:37.231921Z"
    }
   },
   "source": [
    "Let's make a table with sorted correlations, to make sure we didn't overlook anything. It's important to pay close attention both to the top (strongest positive correlations) and to the bottom (strongest negative correlations) of the table. In this dataset, there are no strong negative correlations."
   ]
  },
  {
   "cell_type": "code",
   "execution_count": null,
   "metadata": {
    "ExecuteTime": {
     "start_time": "2020-02-15T16:57:52.203Z"
    }
   },
   "outputs": [],
   "source": [
    "cols = df.corr().columns\n",
    "corrs = {'col1':[],'col2':[],'corr':[]}\n",
    "for i in range(len(cols)):\n",
    "    for j in range(len(cols)):\n",
    "#         It's a symmetric matrix which leads to repeated values. We can avoid the duplicated using the following if statement\n",
    "        if i>j:\n",
    "            corrs['col1'].append(cols[i])\n",
    "            corrs['col2'].append(cols[j])\n",
    "            corrs['corr'].append(df.corr().iat[i,j])\n",
    "        \n",
    "corrs = pd.DataFrame.from_dict(corrs).sort_values(by='corr',ascending=False)\n",
    "corrs"
   ]
  },
  {
   "cell_type": "code",
   "execution_count": null,
   "metadata": {
    "ExecuteTime": {
     "start_time": "2020-02-15T16:57:52.205Z"
    }
   },
   "outputs": [],
   "source": [
    "df.columns"
   ]
  },
  {
   "cell_type": "markdown",
   "metadata": {},
   "source": [
    "\n",
    "## Part 5:  Determining the Most Successful Movies \n",
    "\n",
    "Roughly speaking, we can say that `rating` is a proxy for quality of a movie and profit (`revenue`-`budget`) indicates popularity and financial success. Thus a natural choice would be to combine these two. However, a profit of 200 thousand euros is an incredible success for some indie movie with a budget of 20 thousand euros, but quite a disappointment for a blockbuster with a few million dollars budget. This is why instead of a difference, it is smarter to use a quotient (revenue divided by budget). <br>\n",
    "\n",
    "To compare different approaches we will try multiple methods of calculating success. Unfortunately, for this analysis we need to discard movies with missing values in revenue and budget.\n",
    "\n",
    "---"
   ]
  },
  {
   "cell_type": "markdown",
   "metadata": {},
   "source": [
    "For example, we can determine the \"best successful\" movie by year! Determine the best movie in each year."
   ]
  },
  {
   "cell_type": "code",
   "execution_count": null,
   "metadata": {
    "ExecuteTime": {
     "start_time": "2020-02-15T16:57:52.207Z"
    }
   },
   "outputs": [],
   "source": [
    "df_filtered['income'] = df_filtered.revenue-df_filtered.budget\n",
    "df_filtered['relative_income'] = df_filtered.revenue/df_filtered.budget\n",
    "df_filtered['relative_income*rating'] = df_filtered['relative_income']*df_filtered['rating']"
   ]
  },
  {
   "cell_type": "code",
   "execution_count": null,
   "metadata": {
    "ExecuteTime": {
     "start_time": "2020-02-15T16:57:52.210Z"
    }
   },
   "outputs": [],
   "source": [
    "#Using .groupby, we can divide the dataframe into subsets by the values of 'year'.\n",
    "#We can then iterate over these subsets\n",
    "best_movies = {\"year\":[],\"#movies\":[],\"rating\":[],\"income\":[],\"relative_income\":[],\"relative_income*rating\":[]}\n",
    "for year, year_df in df_filtered.groupby('release_year'):\n",
    "    for key in best_movies:\n",
    "        if key==\"year\":\n",
    "            best_movies[key].append(year)\n",
    "        elif key==\"#movies\":\n",
    "            best_movies[key].append(df_filtered.release_year.value_counts()[year])\n",
    "        else:\n",
    "            best_movie_index = year_df[key].idxmax()\n",
    "            best_movie_title = year_df.at[best_movie_index,\"title\"]\n",
    "            best_movies[key].append(best_movie_title)\n",
    "\n",
    "best_movies = pd.DataFrame.from_dict(best_movies)"
   ]
  },
  {
   "cell_type": "code",
   "execution_count": null,
   "metadata": {
    "ExecuteTime": {
     "start_time": "2020-02-15T16:57:52.212Z"
    }
   },
   "outputs": [],
   "source": [
    "best_movies"
   ]
  },
  {
   "cell_type": "markdown",
   "metadata": {},
   "source": [
    "If we wanted to go further, we could pick up the best film by selecting the film that is the best in the largest number of criteria, for example for 2015 \"The Gallows\" is the only movie that is the most successful in two criteria.<br>\n",
    "Now that we know the titles, let's see how the scores changed over years."
   ]
  },
  {
   "cell_type": "code",
   "execution_count": null,
   "metadata": {
    "ExecuteTime": {
     "start_time": "2020-02-15T16:57:52.214Z"
    }
   },
   "outputs": [],
   "source": [
    "year_df['income'].max()"
   ]
  },
  {
   "cell_type": "code",
   "execution_count": null,
   "metadata": {
    "ExecuteTime": {
     "start_time": "2020-02-15T16:57:52.216Z"
    }
   },
   "outputs": [],
   "source": [
    "best_movies_values = {\"year\":[],\"#movies\":[],\"rating\":[],\"income\":[],\"relative_income\":[],\"relative_income*rating\":[]}\n",
    "for year, year_df in df_filtered.groupby('release_year'):\n",
    "    for key in best_movies_values:\n",
    "        if key==\"year\":\n",
    "            best_movies_values[key].append(year)\n",
    "        elif key==\"#movies\":\n",
    "            best_movies_values[key].append(df_filtered.release_year.value_counts()[year])\n",
    "        else:\n",
    "            best_movies_values[key].append(year_df[key].max())\n",
    "\n",
    "best_movies_values = pd.DataFrame.from_dict(best_movies_values)"
   ]
  },
  {
   "cell_type": "code",
   "execution_count": null,
   "metadata": {
    "ExecuteTime": {
     "start_time": "2020-02-15T16:57:52.219Z"
    }
   },
   "outputs": [],
   "source": [
    "best_movies_values"
   ]
  },
  {
   "cell_type": "code",
   "execution_count": null,
   "metadata": {
    "ExecuteTime": {
     "start_time": "2020-02-15T16:57:52.221Z"
    }
   },
   "outputs": [],
   "source": [
    "def plot_best_movies_over_time(criterium,y_range=None):\n",
    "    plt.figure(figsize=(9,9))\n",
    "    plt.title(\"Best movies based on \"+criterium+\" over years\",fontsize=16)\n",
    "    if y_range:\n",
    "        plt.ylim(y_range)\n",
    "    sns.scatterplot(x='year',y=criterium,data=best_movies_values)\n",
    "    \n",
    "criteria = [\"rating\",\"#movies\",\"income\",\"relative_income\",\"relative_income*rating\"]\n",
    "y_ranges = [None,None,None,(0,1000),(0,5000)]\n",
    "for i,c in enumerate(criteria):\n",
    "    plot_best_movies_over_time(c,y_ranges[i])"
   ]
  },
  {
   "cell_type": "code",
   "execution_count": null,
   "metadata": {
    "ExecuteTime": {
     "start_time": "2020-02-15T16:57:52.222Z"
    }
   },
   "outputs": [],
   "source": [
    "best_movies_values.corr().year"
   ]
  },
  {
   "cell_type": "markdown",
   "metadata": {},
   "source": [
    "We can see number of movies produced and income have been steadily increasing over time (strong correlation), however the rest of variables has quite weak correlations with time. This is plausible because nowadays the budgets are much larger than a few decades ago, but so are the revenues, so the proportion stays roughly similar. Also a movie rated 4 out of 5 in 1967 might be in fact worse than 4/5 movie in 2010 because the expectations and taste changed since then."
   ]
  },
  {
   "cell_type": "markdown",
   "metadata": {},
   "source": [
    "## Part 6:  Trends in Popularity of Genres \n",
    "\n",
    "This is an example of an analysis of the \"grouped property\" type.\n",
    "\n",
    "There are a lot of questions you could ask about genres.\n",
    "* Which genre is currently the most popular?\n",
    "* Do you reach the same conclusions if you use as indication of popularity the revenue or the rating?\n",
    "* Better, based on our data, what draw conclusions can you draw about the time evolution of the popularity of each genre?\n",
    "\n",
    "[20 minutes]\n",
    "\n",
    "---"
   ]
  },
  {
   "cell_type": "markdown",
   "metadata": {},
   "source": [
    "First we need to find the distinct genres in the dataframe. \n",
    "\n",
    "To do this, notice that each string is a pipe (|) separated list of genres. For each string, we ask if the genre is in that pipe separated list.  If it is, we return True, else False\n",
    "\n",
    "**Hint: remember that python sets have unique (non-repeating) items.**"
   ]
  },
  {
   "cell_type": "code",
   "execution_count": null,
   "metadata": {
    "ExecuteTime": {
     "start_time": "2020-02-15T16:57:52.224Z"
    }
   },
   "outputs": [],
   "source": [
    "unique_genres = []\n",
    "for g in df.genres.unique():\n",
    "    for genre in g.split(\"|\"):\n",
    "        if genre not in unique_genres:\n",
    "            unique_genres.append(genre)"
   ]
  },
  {
   "cell_type": "code",
   "execution_count": null,
   "metadata": {
    "ExecuteTime": {
     "start_time": "2020-02-15T16:57:52.226Z"
    }
   },
   "outputs": [],
   "source": [
    "for genre in unique_genres:\n",
    "    df[\"is_\"+genre] = df.genres.str.contains(genre)\n",
    "df.columns"
   ]
  },
  {
   "cell_type": "markdown",
   "metadata": {},
   "source": [
    "Now explore some ways to visualize the genres represented in the dataframe. \n",
    "\n",
    "For example, you might ask which is the most represented genre."
   ]
  },
  {
   "cell_type": "code",
   "execution_count": null,
   "metadata": {
    "ExecuteTime": {
     "start_time": "2020-02-15T16:57:52.228Z"
    }
   },
   "outputs": [],
   "source": [
    "genres_columns = [\"is_\"+genre for genre in unique_genres]"
   ]
  },
  {
   "cell_type": "code",
   "execution_count": null,
   "metadata": {
    "ExecuteTime": {
     "start_time": "2020-02-15T16:57:52.229Z"
    }
   },
   "outputs": [],
   "source": [
    "genres_counts = df.loc[:, genres_columns].sum().sort_values(ascending=False)\n",
    "plt.figure(figsize=(9,6))\n",
    "plt.xticks(rotation=45)\n",
    "sns.barplot(x=genres_counts.index,y=genres_counts.values)\n",
    "plt.show()"
   ]
  },
  {
   "cell_type": "code",
   "execution_count": null,
   "metadata": {
    "ExecuteTime": {
     "start_time": "2020-02-15T16:57:52.231Z"
    }
   },
   "outputs": [],
   "source": [
    "def genres_fun(relative=False):\n",
    "    genres_by_year = {\"year\":[]}\n",
    "\n",
    "    for g in genres_columns:\n",
    "        genres_by_year[g] = []\n",
    "\n",
    "    for year, year_df in df.groupby('release_year'):\n",
    "        for key in genres_by_year:\n",
    "            if key==\"year\":\n",
    "                genres_by_year[key].append(year)\n",
    "            else:\n",
    "                if relative:\n",
    "                    genres_by_year[key].append(year_df[key].sum()/year_df[key].shape[0])\n",
    "                else:\n",
    "                    genres_by_year[key].append(year_df[key].sum())\n",
    "\n",
    "    genres_by_year = pd.DataFrame.from_dict(genres_by_year)\n",
    "    return genres_by_year"
   ]
  },
  {
   "cell_type": "code",
   "execution_count": null,
   "metadata": {
    "ExecuteTime": {
     "start_time": "2020-02-15T16:57:52.233Z"
    }
   },
   "outputs": [],
   "source": [
    "import plotly.express as px"
   ]
  },
  {
   "cell_type": "code",
   "execution_count": null,
   "metadata": {
    "ExecuteTime": {
     "start_time": "2020-02-15T16:57:52.234Z"
    }
   },
   "outputs": [],
   "source": [
    "import plotly.graph_objects as go\n",
    "\n",
    "def plot_genres(genres_by_year,title=\"Genre popularity over years\", columns=genres_columns):\n",
    "    fig = go.Figure()\n",
    "    for col in genres_columns:\n",
    "        if col in columns:\n",
    "            fig.add_trace(go.Scatter(x=genres_by_year.year, y=genres_by_year[col],mode='lines',name=col))\n",
    "    fig.update_layout(title={\n",
    "            'text': title,\n",
    "            'x':0.5})\n",
    "    fig.show()"
   ]
  },
  {
   "cell_type": "markdown",
   "metadata": {},
   "source": [
    "There are a lot of genres, so plotting them all in one graph will be messy. Plotly is an interactive data visualization package that allows to tweak a plot after it is created. If you hover your mouse on the data points you can see the corresponding value of y- and x-axis and the genre this point belongs to. By clicking on a genre in the legend you can clear it from the plot, the second click will make it appear again. Zooming in and out is also possible using the options in top-right corner of every plot. This tool allows for better inspection of the graph."
   ]
  },
  {
   "cell_type": "code",
   "execution_count": null,
   "metadata": {
    "ExecuteTime": {
     "start_time": "2020-02-15T16:57:52.237Z"
    }
   },
   "outputs": [],
   "source": [
    "genres_by_year = genres_fun()\n",
    "plot_genres(genres_by_year)"
   ]
  },
  {
   "cell_type": "markdown",
   "metadata": {},
   "source": [
    "As we already know number of movies is strongly correlated with time. Thus, every line the plot above is increasing over time. To see relative popularity we need to divide the values for every gender by the number of movies released on a given year."
   ]
  },
  {
   "cell_type": "code",
   "execution_count": null,
   "metadata": {
    "ExecuteTime": {
     "start_time": "2020-02-15T16:57:52.240Z"
    }
   },
   "outputs": [],
   "source": [
    "rel_genres_by_year = genres_fun(relative=True)\n",
    "plot_genres(rel_genres_by_year,title=\"Relative genre popularity over years\")"
   ]
  },
  {
   "cell_type": "markdown",
   "metadata": {},
   "source": [
    "Let us see 5 most popular genres"
   ]
  },
  {
   "cell_type": "code",
   "execution_count": null,
   "metadata": {
    "ExecuteTime": {
     "start_time": "2020-02-15T16:57:52.243Z"
    }
   },
   "outputs": [],
   "source": [
    "top5_popular = list(genres_counts.index[:5])\n",
    "\n",
    "plot_genres(rel_genres_by_year,title=\"Relative genre popularity - top 5 genres\", columns=top5_popular)"
   ]
  },
  {
   "cell_type": "markdown",
   "metadata": {},
   "source": [
    "After examining every genre separately, the following genres have the most interesting trends."
   ]
  },
  {
   "cell_type": "code",
   "execution_count": null,
   "metadata": {
    "ExecuteTime": {
     "start_time": "2020-02-15T16:57:52.246Z"
    }
   },
   "outputs": [],
   "source": [
    "interesting_trends = ['is_Romance','is_Adventure','is_Horror','is_Fantasy','is_Western','is_History','is_Comedy']\n",
    "plot_genres(rel_genres_by_year,title=\"Interesting trends\", columns=interesting_trends)"
   ]
  },
  {
   "cell_type": "markdown",
   "metadata": {},
   "source": [
    "### Part 6.1: What can you conclude from the above visualizations?\n",
    "[15 min]\n",
    "\n",
    "Pick two or three genres and describe how the popularity of these genres fluctuates with time.  "
   ]
  },
  {
   "cell_type": "markdown",
   "metadata": {
    "ExecuteTime": {
     "end_time": "2020-02-15T13:16:43.034407Z",
     "start_time": "2020-02-15T13:16:43.030386Z"
    }
   },
   "source": [
    "#### Insights:\n",
    "* Romance drops in 70s, then rises and drops again since 2000. \n",
    "* Adventure also decreases since in the new millenium. \n",
    "* Horror - drop in mid-60s for almost a decade, since late 70s until 1990 was a good period for horror and then substnatial drop, rising again in recent years. \n",
    "* Fantasy was very unstable, peak in 1982 and since then a steady decrease. \n",
    "* Western quite popular before 80s. \n",
    "* History continuously dropping until leveling out in mid-80s. Documentary sky-rocketing since 90s. \n",
    "* Comedy rised in years 1980-2000 and dropping since then."
   ]
  },
  {
   "cell_type": "markdown",
   "metadata": {},
   "source": [
    "## Part 7: Conclusions\n",
    "\n",
    "[15 min/remaining time]\n",
    "\n",
    "\n",
    "### 7.1 Limitations\n",
    "* I don't see any ethical concerns regarding this dataset\n",
    "* The biggest issue of the dataset is that most of values in `budget` and `revenue` are missing which decreases reliability of our analysis\n",
    "\n",
    "### 7.2 Main findings\n",
    "* The most profitable movies are released around June and December\n",
    "* Revenue, budget and number of votes are strongly correlated (nothing surprising)\n",
    "* Revenue and production per year keeps dramatically increasing years after years\n",
    "* Using our measure of success (relative income*rating), there is no correlation between time and success\n",
    "* Drama is the most popular movie genre and has been for almost every year for the past five decades\n",
    "\n",
    "### 7.3. Future work & interesting directions (aka what I would do if I had more time and patience)\n",
    "* Relate the trends in genres (especially those from the last plot) with contemporary sociopolitical situation and also some classic movies and verify if the data shows their influence - for example how Star Wars impacted Science Fiction.\n",
    "* Investigate actor chemistry - which groups of actors lead to the best movies. Directors often have favourite actors that they like to work with. For example, Samuel L. Jackson, Uma Thurman, Tim Roth and a few other actors frequently star in Tarantino movies. \n",
    "* Are movies in series on average earning more than single films?"
   ]
  }
 ],
 "metadata": {
  "anaconda-cloud": {},
  "kernelspec": {
   "display_name": "Python 3",
   "language": "python",
   "name": "python3"
  },
  "language_info": {
   "codemirror_mode": {
    "name": "ipython",
    "version": 3
   },
   "file_extension": ".py",
   "mimetype": "text/x-python",
   "name": "python",
   "nbconvert_exporter": "python",
   "pygments_lexer": "ipython3",
   "version": "3.7.3"
  }
 },
 "nbformat": 4,
 "nbformat_minor": 1
}
