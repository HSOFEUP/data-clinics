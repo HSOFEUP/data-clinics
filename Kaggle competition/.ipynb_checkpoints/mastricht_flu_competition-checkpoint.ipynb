{
 "cells": [
  {
   "cell_type": "code",
   "execution_count": 31,
   "metadata": {
    "ExecuteTime": {
     "end_time": "2020-02-19T17:21:00.704759Z",
     "start_time": "2020-02-19T17:21:00.079145Z"
    }
   },
   "outputs": [],
   "source": [
    "import numpy as np\n",
    "import pandas as pd\n",
    "import scipy as sp\n",
    "from sklearn import preprocessing\n",
    "from sklearn.model_selection import KFold\n",
    "from sklearn.model_selection import train_test_split\n",
    "from sklearn.metrics import roc_auc_score\n",
    "\n",
    "#import your classifiers here\n",
    "\n",
    "import matplotlib\n",
    "import matplotlib.pyplot as plt\n",
    "import seaborn as sns\n",
    "\n",
    "%matplotlib inline"
   ]
  },
  {
   "cell_type": "code",
   "execution_count": 24,
   "metadata": {
    "ExecuteTime": {
     "end_time": "2020-02-19T17:17:38.458108Z",
     "start_time": "2020-02-19T17:17:38.442485Z"
    }
   },
   "outputs": [],
   "source": [
    "pd.set_option('display.max_rows', None)"
   ]
  },
  {
   "cell_type": "code",
   "execution_count": 25,
   "metadata": {
    "ExecuteTime": {
     "end_time": "2020-02-19T17:17:39.448844Z",
     "start_time": "2020-02-19T17:17:39.403799Z"
    }
   },
   "outputs": [],
   "source": [
    "df = pd.read_csv('data/flu_train.csv')"
   ]
  },
  {
   "cell_type": "code",
   "execution_count": 26,
   "metadata": {
    "ExecuteTime": {
     "end_time": "2020-02-19T17:17:39.665611Z",
     "start_time": "2020-02-19T17:17:39.644485Z"
    }
   },
   "outputs": [],
   "source": [
    "df_test = pd.read_csv('data/flu_test.csv')"
   ]
  },
  {
   "cell_type": "code",
   "execution_count": 38,
   "metadata": {
    "ExecuteTime": {
     "end_time": "2020-02-19T17:22:44.681413Z",
     "start_time": "2020-02-19T17:22:44.675428Z"
    }
   },
   "outputs": [
    {
     "data": {
      "text/plain": [
       "0    4936\n",
       "1     310\n",
       "Name: flu, dtype: int64"
      ]
     },
     "execution_count": 38,
     "metadata": {},
     "output_type": "execute_result"
    }
   ],
   "source": [
    "label_dist = df.flu.value_counts()"
   ]
  },
  {
   "cell_type": "code",
   "execution_count": 39,
   "metadata": {
    "ExecuteTime": {
     "end_time": "2020-02-19T17:22:56.257164Z",
     "start_time": "2020-02-19T17:22:56.176587Z"
    }
   },
   "outputs": [
    {
     "data": {
      "image/png": "[encoded data removed]",
      "text/plain": [
       "<Figure size 432x288 with 1 Axes>"
      ]
     },
     "metadata": {
      "needs_background": "light"
     },
     "output_type": "display_data"
    }
   ],
   "source": [
    "sns.barplot(y=label_dist.values,x=label_dist.index)\n",
    "plt.show()"
   ]
  },
  {
   "cell_type": "code",
   "execution_count": 30,
   "metadata": {
    "ExecuteTime": {
     "end_time": "2020-02-19T17:20:30.495214Z",
     "start_time": "2020-02-19T17:20:30.477231Z"
    }
   },
   "outputs": [
    {
     "data": {
      "text/plain": [
       "HeadCirc            0.988372\n",
       "DiabetesAge         0.937095\n",
       "Length              0.932139\n",
       "TVHrsDayChild       0.920511\n",
       "CompHrsDayChild     0.920511\n",
       "AgeRegMarij         0.880099\n",
       "BMICatUnder20yrs    0.861990\n",
       "UrineVol2           0.854556\n",
       "UrineFlow2          0.854556\n",
       "PregnantNow         0.831681\n",
       "Age1stBaby          0.820625\n",
       "nBabies             0.774685\n",
       "nPregnancies        0.755433\n",
       "AgeFirstMarij       0.746283\n",
       "SmokeAge            0.718071\n",
       "SmokeNow            0.706634\n",
       "Testosterone        0.617232\n",
       "SexOrientation      0.550705\n",
       "PhysActiveDays      0.547465\n",
       "AlcoholDay          0.541746\n",
       "SexNumPartYear      0.541555\n",
       "RegularMarij        0.540412\n",
       "Marijuana           0.540412\n",
       "TVHrsDay            0.539268\n",
       "CompHrsDay          0.538887\n",
       "SexAge              0.490469\n",
       "SexNumPartnLife     0.471407\n",
       "SexEver             0.467022\n",
       "SameSex             0.466641\n",
       "HardDrugs           0.466641\n",
       "AlcoholYear         0.450629\n",
       "Alcohol12PlusYr     0.383912\n",
       "LittleInterest      0.372474\n",
       "Depressed           0.371902\n",
       "Education           0.318719\n",
       "MaritalStatus       0.317575\n",
       "Smoke100            0.317385\n",
       "Smoke100n           0.317385\n",
       "DaysMentHlthBad     0.279832\n",
       "HealthGen           0.278879\n",
       "SleepHrsNight       0.260579\n",
       "Work                0.258673\n",
       "SleepTrouble        0.258483\n",
       "PhysActive          0.198628\n",
       "BPDia1              0.196912\n",
       "BPSys1              0.196912\n",
       "BPDia3              0.187762\n",
       "BPSys3              0.187762\n",
       "BPDia2              0.187381\n",
       "BPSys2              0.187381\n",
       "UrineFlow1          0.180328\n",
       "DirectChol          0.173275\n",
       "TotChol             0.173275\n",
       "BPSysAve            0.167175\n",
       "BPDiaAve            0.167175\n",
       "Pulse               0.165841\n",
       "UrineVol1           0.116088\n",
       "HHIncome            0.085398\n",
       "HHIncomeMid         0.085398\n",
       "Poverty             0.076820\n",
       "BMI_WHO             0.048799\n",
       "BMI                 0.044987\n",
       "Height              0.044224\n",
       "Diabetes            0.019634\n",
       "Weight              0.007625\n",
       "HomeRooms           0.006862\n",
       "HomeOwn             0.006291\n",
       "Age                 0.000000\n",
       "Gender              0.000000\n",
       "flu                 0.000000\n",
       "Race1               0.000000\n",
       "ID                  0.000000\n",
       "dtype: float64"
      ]
     },
     "execution_count": 30,
     "metadata": {},
     "output_type": "execute_result"
    }
   ],
   "source": [
    "missing_perc = df.isna().sum()/df.shape[0]\n",
    "missing_perc.sort_values(ascending=False)"
   ]
  },
  {
   "cell_type": "code",
   "execution_count": 29,
   "metadata": {
    "ExecuteTime": {
     "end_time": "2020-02-19T17:19:34.433489Z",
     "start_time": "2020-02-19T17:19:34.418701Z"
    }
   },
   "outputs": [
    {
     "data": {
      "text/plain": [
       "ID                    int64\n",
       "Gender               object\n",
       "Age                   int64\n",
       "Race1                object\n",
       "Education            object\n",
       "MaritalStatus        object\n",
       "HHIncome             object\n",
       "HHIncomeMid         float64\n",
       "Poverty             float64\n",
       "HomeRooms           float64\n",
       "HomeOwn              object\n",
       "Work                 object\n",
       "Weight              float64\n",
       "Length              float64\n",
       "HeadCirc            float64\n",
       "Height              float64\n",
       "BMI                 float64\n",
       "BMICatUnder20yrs     object\n",
       "BMI_WHO              object\n",
       "Pulse               float64\n",
       "BPSysAve            float64\n",
       "BPDiaAve            float64\n",
       "BPSys1              float64\n",
       "BPDia1              float64\n",
       "BPSys2              float64\n",
       "BPDia2              float64\n",
       "BPSys3              float64\n",
       "BPDia3              float64\n",
       "Testosterone        float64\n",
       "DirectChol          float64\n",
       "TotChol             float64\n",
       "UrineVol1           float64\n",
       "UrineFlow1          float64\n",
       "UrineVol2           float64\n",
       "UrineFlow2          float64\n",
       "Diabetes             object\n",
       "DiabetesAge         float64\n",
       "HealthGen            object\n",
       "DaysMentHlthBad     float64\n",
       "LittleInterest       object\n",
       "Depressed            object\n",
       "nPregnancies        float64\n",
       "nBabies             float64\n",
       "Age1stBaby          float64\n",
       "SleepHrsNight       float64\n",
       "SleepTrouble         object\n",
       "PhysActive           object\n",
       "PhysActiveDays      float64\n",
       "TVHrsDay             object\n",
       "CompHrsDay           object\n",
       "TVHrsDayChild       float64\n",
       "CompHrsDayChild     float64\n",
       "Alcohol12PlusYr      object\n",
       "AlcoholDay          float64\n",
       "AlcoholYear         float64\n",
       "SmokeNow             object\n",
       "Smoke100             object\n",
       "Smoke100n            object\n",
       "SmokeAge            float64\n",
       "Marijuana            object\n",
       "AgeFirstMarij       float64\n",
       "RegularMarij         object\n",
       "AgeRegMarij         float64\n",
       "HardDrugs            object\n",
       "SexEver              object\n",
       "SexAge              float64\n",
       "SexNumPartnLife     float64\n",
       "SexNumPartYear      float64\n",
       "SameSex              object\n",
       "SexOrientation       object\n",
       "PregnantNow          object\n",
       "flu                   int64\n",
       "dtype: object"
      ]
     },
     "execution_count": 29,
     "metadata": {},
     "output_type": "execute_result"
    }
   ],
   "source": [
    "df.dtypes"
   ]
  },
  {
   "cell_type": "code",
   "execution_count": 45,
   "metadata": {
    "ExecuteTime": {
     "end_time": "2020-02-19T17:25:11.038287Z",
     "start_time": "2020-02-19T17:25:11.028313Z"
    }
   },
   "outputs": [
    {
     "data": {
      "text/plain": [
       "(1605, 1633)"
      ]
     },
     "execution_count": 45,
     "metadata": {},
     "output_type": "execute_result"
    }
   ],
   "source": [
    "df[(df.Testosterone.isna())&(df.Gender=='male')].shape[0], df[(df.Testosterone.isna())&(df.Gender=='female')].shape[0]"
   ]
  },
  {
   "cell_type": "code",
   "execution_count": null,
   "metadata": {},
   "outputs": [],
   "source": []
  },
  {
   "cell_type": "code",
   "execution_count": null,
   "metadata": {},
   "outputs": [],
   "source": [
    "# kf = KFold(n_splits=5)\n",
    "# for train_index, test_index in kf.split(X, y):\n",
    "#     xgb_model = xgb.XGBRFRegressor(random_state=42)\n",
    "#     xgb_model.fit(X[train_index], y[train_index])"
   ]
  }
 ],
 "metadata": {
  "kernelspec": {
   "display_name": "Python 3",
   "language": "python",
   "name": "python3"
  },
  "language_info": {
   "codemirror_mode": {
    "name": "ipython",
    "version": 3
   },
   "file_extension": ".py",
   "mimetype": "text/x-python",
   "name": "python",
   "nbconvert_exporter": "python",
   "pygments_lexer": "ipython3",
   "version": "3.7.3"
  }
 },
 "nbformat": 4,
 "nbformat_minor": 2
}
