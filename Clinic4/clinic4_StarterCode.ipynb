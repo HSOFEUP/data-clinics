{
 "cells": [
  {
   "cell_type": "markdown",
   "metadata": {
    "hideCode": true,
    "hidePrompt": true
   },
   "source": [
    "## Clinic 4: UK Visitors timeseries || COVID-19\n",
    "\n",
    "In this clinic we are going to explore a dataset that represents the monthly total number of visits to the UK by overseas residents (in thousands)<br>from January 1980 to December 2018 (inclusive). In the following part, we import the dataset and then you can read what is required/asked from you. For reference, use/read the lecture notebook (uploaded at the portal).\n",
    "\n",
    "Alternatively, you can skip this part and go to the Alt-Clinic (see below). You are asked to attempt one of the two tasks for getting a grade for this clinic."
   ]
  },
  {
   "cell_type": "markdown",
   "metadata": {
    "hidePrompt": true
   },
   "source": [
    "### Load the data into Pandas DataFrame"
   ]
  },
  {
   "cell_type": "code",
   "execution_count": 1,
   "metadata": {
    "hideCode": true,
    "hideOutput": true,
    "hidePrompt": true
   },
   "outputs": [],
   "source": [
    "import IPython.core.display\n",
    "import matplotlib\n",
    "\n",
    "def apply_styles():\n",
    "    matplotlib.rcParams['font.size'] = 12\n",
    "    matplotlib.rcParams['figure.figsize'] = (18, 6)\n",
    "    matplotlib.rcParams['lines.linewidth'] = 1\n",
    "\n",
    "apply_styles()\n",
    "\n",
    "import pandas as pd\n",
    "import numpy as np\n",
    "import seaborn as sns\n",
    "import matplotlib.pyplot as plt\n",
    "%matplotlib inline\n",
    "sns.set(style=\"ticks\")\n",
    "import warnings\n",
    "warnings.filterwarnings('ignore')\n",
    "\n"
   ]
  },
  {
   "cell_type": "code",
   "execution_count": 3,
   "metadata": {
    "hidePrompt": true
   },
   "outputs": [],
   "source": [
    "df = pd.read_csv(\"GMAA-010119.csv\", header=None, skiprows=7, parse_dates=[0], names=['period', 'value'])\n",
    "df.value.astype(int, copy=False);"
   ]
  },
  {
   "cell_type": "code",
   "execution_count": 4,
   "metadata": {
    "hidePrompt": true
   },
   "outputs": [
    {
     "data": {
      "text/html": [
       "<div>\n",
       "<style scoped>\n",
       "    .dataframe tbody tr th:only-of-type {\n",
       "        vertical-align: middle;\n",
       "    }\n",
       "\n",
       "    .dataframe tbody tr th {\n",
       "        vertical-align: top;\n",
       "    }\n",
       "\n",
       "    .dataframe thead th {\n",
       "        text-align: right;\n",
       "    }\n",
       "</style>\n",
       "<table border=\"1\" class=\"dataframe\">\n",
       "  <thead>\n",
       "    <tr style=\"text-align: right;\">\n",
       "      <th></th>\n",
       "      <th>period</th>\n",
       "      <th>value</th>\n",
       "    </tr>\n",
       "  </thead>\n",
       "  <tbody>\n",
       "    <tr>\n",
       "      <th>0</th>\n",
       "      <td>1980-01-01</td>\n",
       "      <td>739</td>\n",
       "    </tr>\n",
       "    <tr>\n",
       "      <th>1</th>\n",
       "      <td>1980-02-01</td>\n",
       "      <td>602</td>\n",
       "    </tr>\n",
       "    <tr>\n",
       "      <th>2</th>\n",
       "      <td>1980-03-01</td>\n",
       "      <td>740</td>\n",
       "    </tr>\n",
       "    <tr>\n",
       "      <th>3</th>\n",
       "      <td>1980-04-01</td>\n",
       "      <td>1028</td>\n",
       "    </tr>\n",
       "    <tr>\n",
       "      <th>4</th>\n",
       "      <td>1980-05-01</td>\n",
       "      <td>1088</td>\n",
       "    </tr>\n",
       "  </tbody>\n",
       "</table>\n",
       "</div>"
      ],
      "text/plain": [
       "      period  value\n",
       "0 1980-01-01    739\n",
       "1 1980-02-01    602\n",
       "2 1980-03-01    740\n",
       "3 1980-04-01   1028\n",
       "4 1980-05-01   1088"
      ]
     },
     "execution_count": 4,
     "metadata": {},
     "output_type": "execute_result"
    }
   ],
   "source": [
    "df.head(5)"
   ]
  },
  {
   "cell_type": "code",
   "execution_count": 5,
   "metadata": {
    "hidePrompt": true
   },
   "outputs": [
    {
     "name": "stdout",
     "output_type": "stream",
     "text": [
      "Date range: 01.01.1980 - 01.12.2019\n",
      "Number of data points: 480 of expected 480\n"
     ]
    }
   ],
   "source": [
    "max_date = df.period.max()\n",
    "min_date = df.period.min()\n",
    "\n",
    "num_of_actual_points = df.index.shape[0]\n",
    "num_of_expected_points = (max_date.year - min_date.year) * 12 + max_date.month - min_date.month + 1\n",
    "\n",
    "print(\"Date range: {} - {}\".format(min_date.strftime(\"%d.%m.%Y\"), max_date.strftime(\"%d.%m.%Y\")))\n",
    "print(\"Number of data points: {} of expected {}\".format(num_of_actual_points, num_of_expected_points))\n"
   ]
  },
  {
   "cell_type": "markdown",
   "metadata": {},
   "source": [
    "## Requirements\n",
    "\n",
    "Assume that you work for a travel agent office in the UK. Your goal is to prepare a report (supported by numbers/models, plots and explanations) for your boss that looks into the data from UK visitors. Your report/analysis should contain the following:\n",
    "\n",
    "* Proper visualizations of the timeseries\n",
    "* Indication of relevant events that might drive the timeseries trends/events (e.g. financial, health events etc.).\n",
    "* Highlight these events by zooming in on these specific periods\n",
    "* What is the best time to visit the UK?\n",
    "* Report on the seasonality and the trend of the timeseries\n",
    "* Check your timeseries for stationarity and correct if necessary\n",
    "* Based on your observations try to fit an ARIMA model for predicting the UK visitors.\n",
    "* Use this guide (http://people.duke.edu/~rnau/arimrule.htm) as indicative rules for which model fits the best\n",
    "* Use data before 2015 (excl.) for training and data after 2015 (incl.) for testing your performance\n",
    "* Show your predictions in a plot\n",
    "* Evaluate your models using MAE, MSE and R-squared\n",
    "* Download the recent data from https://www.ons.gov.uk/peoplepopulationandcommunity/leisureandtourism/timeseries/gmaa/ott (you can use the whole 2019) and persuade your boss that your model is awesome!"
   ]
  },
  {
   "cell_type": "markdown",
   "metadata": {},
   "source": [
    "## Alt-Clinic (COVID-19 data)\n",
    "\n",
    "Please continue reading if you (alternatively) would like to work with the recent COVID-19 data. The data (per country) are provided **daily** via this GitHub repository https://github.com/CSSEGISandData/COVID-19.\n",
    "\n",
    "You are going to follow a similar approach as above, but adapted using the following steps:\n",
    "\n",
    "* Start by exploring the plot of the COVID-19 cases (in total) and justify the exponential rate of increase\n",
    "* Proper visualizations of the timeseries\n",
    "\n",
    "Obviously, one interesting task is to compare how new infection cases appear in different countries and if there is a similarity in the evolution of these timeseries, i.e. can we assume that the timeseries evolution of infections in the Netherlands will have the same evolution as in e.g. China or Italy?\n",
    "\n",
    "* Provide commentary on the problems that arise from the selection bias introduced by different ways that countries handle reporting. If you find fit, do some research into how countries do tests and how do they report their cases\n",
    "\n",
    "* Provide commentary (and eventually a solution) of the \"start day problem\" of the timeseries: The problem is that while in China the outbreak was already in January, in Italy it was in late February and in the Netherlands is not quite yet determined(?). Define your \"day 0\" properly: If you look online, some people consider as day 0, either the day that the country reported the first infection, or the day that a cummulative amount of e.g. 50 infections were reported, or you might think of something else. The reason for this is to have a proper comparison metric for the timeseries of different countries.\n",
    "\n",
    "* Pick some countries (incl. Netherlands) and visualize the results on this \"shifted\"/\"normalized\" time-scale\n",
    "\n",
    "* Report preliminary results on the visual inspection of the plots\n",
    "\n",
    "And now for the most challenging task, let's try to predict! The real challenge here is that we don't have enough data points for having accurate train/test models, so you have to think of a work-around (e.g. fit model for a deep-in-the-outbreak-country like China and then try to see how that model performs on other countries).\n",
    "\n",
    "Here are some steps to follow:\n",
    "\n",
    "* Try to fit an ARIMA model for predicting the evolution of the infected cases worldwide\n",
    "* Try to fit an ARIMA model for a specific country (e.g. China).\n",
    "* Use this guide (http://people.duke.edu/~rnau/arimrule.htm) as indicative rules for which model fits the best\n",
    "* As the situation evolves and since the clinic is delivered in one week, you can use \"real\" world data for testing! Make sure to download the data every day and check your model prediction.\n",
    "* Show your predictions in a plot\n",
    "* Evaluate your models using MAE, MSE and R-squared\n",
    "\n",
    "Since this is \"extra-ordinary\" conditions, let me(us) know how we can help you more into this or if you have any other cool idea. \n",
    "\n",
    "Stay healthy and enjoy!"
   ]
  },
  {
   "cell_type": "markdown",
   "metadata": {},
   "source": []
  }
 ],
 "metadata": {
  "celltoolbar": "Hide code",
  "kernelspec": {
   "display_name": "Python 3",
   "language": "python",
   "name": "python3"
  },
  "language_info": {
   "codemirror_mode": {
    "name": "ipython",
    "version": 3
   },
   "file_extension": ".py",
   "mimetype": "text/x-python",
   "name": "python",
   "nbconvert_exporter": "python",
   "pygments_lexer": "ipython3",
   "version": "3.7.3"
  }
 },
 "nbformat": 4,
 "nbformat_minor": 2
}
