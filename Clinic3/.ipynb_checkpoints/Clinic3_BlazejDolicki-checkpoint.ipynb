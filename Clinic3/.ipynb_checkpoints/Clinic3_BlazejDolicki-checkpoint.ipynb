{
 "cells": [
  {
   "cell_type": "markdown",
   "metadata": {
    "hide": true
   },
   "source": [
    "# KEN3450, Data Analysis, Spring 2020\n",
    "\n",
    "### Clinic 3: Classification in Python\n",
    "\n",
    "**Add your name and i-number here and any other disclaimer info.**\n",
    "\n",
    "**Check the honor policy code posted on the portal before reusing code you found online**\n",
    "\n",
    "***\n",
    "### Learning Goals:\n",
    "\n",
    "By the end of this clinic, you should be able to:\n",
    "\n",
    "* Run Classification Models (Logistic Regression, Decision Trees, Random Forests, etc.) in Python\n",
    "* Explain and tackle issues like missing values or class inbalance in your dataset\n",
    "* Judge the results of a classification model using AUROC scores\n",
    "* Select a proper algorithm that works well with your data using techniques (see also last week) like:\n",
    "    * Cross Validation\n",
    "    * Regularization\n",
    "\n",
    "***"
   ]
  },
  {
   "cell_type": "code",
   "execution_count": 1,
   "metadata": {
    "ExecuteTime": {
     "end_time": "2020-03-02T21:27:46.471090Z",
     "start_time": "2020-03-02T21:27:44.784552Z"
    },
    "hide": true
   },
   "outputs": [],
   "source": [
    "import numpy as np\n",
    "import pandas as pd\n",
    "import matplotlib\n",
    "import matplotlib.pyplot as plt\n",
    "import statsmodels.api as sm\n",
    "from statsmodels.api import OLS\n",
    "from sklearn.decomposition import PCA\n",
    "from sklearn.linear_model import LogisticRegression\n",
    "from sklearn.linear_model import LogisticRegressionCV\n",
    "from sklearn.utils import resample\n",
    "from sklearn.model_selection import cross_val_score\n",
    "from sklearn.metrics import accuracy_score\n",
    "import seaborn as sns\n",
    "from sklearn.metrics import *\n",
    "import xgboost\n",
    "from sklearn.model_selection import *\n",
    "from sklearn.tree import DecisionTreeClassifier\n",
    "from sklearn.ensemble import RandomForestClassifier\n",
    "from sklearn.linear_model import LinearRegression\n",
    "from sklearn.model_selection import train_test_split\n",
    "import warnings\n",
    "\n",
    "sns.set()\n",
    "%matplotlib inline\n",
    "\n",
    "warnings.filterwarnings('ignore')"
   ]
  },
  {
   "cell_type": "markdown",
   "metadata": {},
   "source": [
    "## Part 1: Determine the Inbalance (Asymmetry)"
   ]
  },
  {
   "cell_type": "markdown",
   "metadata": {},
   "source": [
    "First, we would like to notice in our data that they are highly unbalanced (assymetric). Load the data which should contain 9 columns (`health`, `age`, `sex`, `educ`, `sexornt`, `partyid`, `race`, `married`, `income`). `Age`, `educ` (how many years of education a person has) and `income` are quantitative, the others are qualitative."
   ]
  },
  {
   "cell_type": "code",
   "execution_count": 2,
   "metadata": {
    "ExecuteTime": {
     "end_time": "2020-03-02T21:27:46.514904Z",
     "start_time": "2020-03-02T21:27:46.471941Z"
    },
    "scrolled": false
   },
   "outputs": [
    {
     "data": {
      "text/html": [
       "<div>\n",
       "<style scoped>\n",
       "    .dataframe tbody tr th:only-of-type {\n",
       "        vertical-align: middle;\n",
       "    }\n",
       "\n",
       "    .dataframe tbody tr th {\n",
       "        vertical-align: top;\n",
       "    }\n",
       "\n",
       "    .dataframe thead th {\n",
       "        text-align: right;\n",
       "    }\n",
       "</style>\n",
       "<table border=\"1\" class=\"dataframe\">\n",
       "  <thead>\n",
       "    <tr style=\"text-align: right;\">\n",
       "      <th></th>\n",
       "      <th>health</th>\n",
       "      <th>age</th>\n",
       "      <th>sex</th>\n",
       "      <th>educ</th>\n",
       "      <th>sexornt</th>\n",
       "      <th>partyid</th>\n",
       "      <th>race</th>\n",
       "      <th>married</th>\n",
       "      <th>income</th>\n",
       "    </tr>\n",
       "  </thead>\n",
       "  <tbody>\n",
       "    <tr>\n",
       "      <th>0</th>\n",
       "      <td>excellent</td>\n",
       "      <td>53</td>\n",
       "      <td>male</td>\n",
       "      <td>16</td>\n",
       "      <td>heterosexual or straight</td>\n",
       "      <td>rep</td>\n",
       "      <td>white</td>\n",
       "      <td>1</td>\n",
       "      <td>18750.0</td>\n",
       "    </tr>\n",
       "    <tr>\n",
       "      <th>1</th>\n",
       "      <td>excellent</td>\n",
       "      <td>26</td>\n",
       "      <td>female</td>\n",
       "      <td>16</td>\n",
       "      <td>heterosexual or straight</td>\n",
       "      <td>rep</td>\n",
       "      <td>white</td>\n",
       "      <td>1</td>\n",
       "      <td>18750.0</td>\n",
       "    </tr>\n",
       "    <tr>\n",
       "      <th>2</th>\n",
       "      <td>good</td>\n",
       "      <td>59</td>\n",
       "      <td>male</td>\n",
       "      <td>13</td>\n",
       "      <td>heterosexual or straight</td>\n",
       "      <td>rep</td>\n",
       "      <td>white</td>\n",
       "      <td>1</td>\n",
       "      <td>NaN</td>\n",
       "    </tr>\n",
       "    <tr>\n",
       "      <th>3</th>\n",
       "      <td>excellent</td>\n",
       "      <td>74</td>\n",
       "      <td>female</td>\n",
       "      <td>17</td>\n",
       "      <td>heterosexual or straight</td>\n",
       "      <td>other</td>\n",
       "      <td>white</td>\n",
       "      <td>1</td>\n",
       "      <td>NaN</td>\n",
       "    </tr>\n",
       "    <tr>\n",
       "      <th>4</th>\n",
       "      <td>poor</td>\n",
       "      <td>37</td>\n",
       "      <td>female</td>\n",
       "      <td>10</td>\n",
       "      <td>heterosexual or straight</td>\n",
       "      <td>other</td>\n",
       "      <td>white</td>\n",
       "      <td>0</td>\n",
       "      <td>NaN</td>\n",
       "    </tr>\n",
       "  </tbody>\n",
       "</table>\n",
       "</div>"
      ],
      "text/plain": [
       "      health  age     sex  educ                   sexornt partyid   race  \\\n",
       "0  excellent   53    male    16  heterosexual or straight     rep  white   \n",
       "1  excellent   26  female    16  heterosexual or straight     rep  white   \n",
       "2       good   59    male    13  heterosexual or straight     rep  white   \n",
       "3  excellent   74  female    17  heterosexual or straight   other  white   \n",
       "4       poor   37  female    10  heterosexual or straight   other  white   \n",
       "\n",
       "   married   income  \n",
       "0        1  18750.0  \n",
       "1        1  18750.0  \n",
       "2        1      NaN  \n",
       "3        1      NaN  \n",
       "4        0      NaN  "
      ]
     },
     "execution_count": 2,
     "metadata": {},
     "output_type": "execute_result"
    }
   ],
   "source": [
    "gssdata=pd.read_csv(\"gssdata4.csv\")\n",
    "gssdata.head()"
   ]
  },
  {
   "cell_type": "markdown",
   "metadata": {},
   "source": [
    "Our goal is to predict if a person is in poor health or not. Let's create some dummy variables in order to measure that."
   ]
  },
  {
   "cell_type": "code",
   "execution_count": 3,
   "metadata": {
    "ExecuteTime": {
     "end_time": "2020-03-02T21:27:46.522883Z",
     "start_time": "2020-03-02T21:27:46.515901Z"
    }
   },
   "outputs": [],
   "source": [
    "poorhealth = np.where(gssdata['health'] == 'poor',1,0)\n",
    "excellenthealth = np.where(gssdata['health'] == 'excellent',1,0)\n",
    "fairhealth = np.where(gssdata['health'] == 'fair',1,0)\n",
    "gssdata['poorhealth'] = poorhealth\n",
    "gssdata['fairhealth'] = fairhealth\n",
    "gssdata['excellenthealth'] = excellenthealth"
   ]
  },
  {
   "cell_type": "code",
   "execution_count": 4,
   "metadata": {
    "ExecuteTime": {
     "end_time": "2020-03-02T21:27:46.561814Z",
     "start_time": "2020-03-02T21:27:46.523880Z"
    }
   },
   "outputs": [
    {
     "data": {
      "text/html": [
       "<div>\n",
       "<style scoped>\n",
       "    .dataframe tbody tr th:only-of-type {\n",
       "        vertical-align: middle;\n",
       "    }\n",
       "\n",
       "    .dataframe tbody tr th {\n",
       "        vertical-align: top;\n",
       "    }\n",
       "\n",
       "    .dataframe thead th {\n",
       "        text-align: right;\n",
       "    }\n",
       "</style>\n",
       "<table border=\"1\" class=\"dataframe\">\n",
       "  <thead>\n",
       "    <tr style=\"text-align: right;\">\n",
       "      <th></th>\n",
       "      <th>age</th>\n",
       "      <th>educ</th>\n",
       "      <th>married</th>\n",
       "      <th>income</th>\n",
       "      <th>poorhealth</th>\n",
       "      <th>fairhealth</th>\n",
       "      <th>excellenthealth</th>\n",
       "    </tr>\n",
       "  </thead>\n",
       "  <tbody>\n",
       "    <tr>\n",
       "      <th>count</th>\n",
       "      <td>1551.000000</td>\n",
       "      <td>1551.000000</td>\n",
       "      <td>1551.000000</td>\n",
       "      <td>963.000000</td>\n",
       "      <td>1551.000000</td>\n",
       "      <td>1551.000000</td>\n",
       "      <td>1551.000000</td>\n",
       "    </tr>\n",
       "    <tr>\n",
       "      <th>mean</th>\n",
       "      <td>48.172792</td>\n",
       "      <td>13.803353</td>\n",
       "      <td>0.732431</td>\n",
       "      <td>15633.177570</td>\n",
       "      <td>0.063830</td>\n",
       "      <td>0.194068</td>\n",
       "      <td>0.266925</td>\n",
       "    </tr>\n",
       "    <tr>\n",
       "      <th>std</th>\n",
       "      <td>17.051151</td>\n",
       "      <td>3.011700</td>\n",
       "      <td>0.442835</td>\n",
       "      <td>5064.191118</td>\n",
       "      <td>0.244528</td>\n",
       "      <td>0.395609</td>\n",
       "      <td>0.442495</td>\n",
       "    </tr>\n",
       "    <tr>\n",
       "      <th>min</th>\n",
       "      <td>18.000000</td>\n",
       "      <td>0.000000</td>\n",
       "      <td>0.000000</td>\n",
       "      <td>500.000000</td>\n",
       "      <td>0.000000</td>\n",
       "      <td>0.000000</td>\n",
       "      <td>0.000000</td>\n",
       "    </tr>\n",
       "    <tr>\n",
       "      <th>25%</th>\n",
       "      <td>33.500000</td>\n",
       "      <td>12.000000</td>\n",
       "      <td>0.000000</td>\n",
       "      <td>13750.000000</td>\n",
       "      <td>0.000000</td>\n",
       "      <td>0.000000</td>\n",
       "      <td>0.000000</td>\n",
       "    </tr>\n",
       "    <tr>\n",
       "      <th>50%</th>\n",
       "      <td>48.000000</td>\n",
       "      <td>14.000000</td>\n",
       "      <td>1.000000</td>\n",
       "      <td>18750.000000</td>\n",
       "      <td>0.000000</td>\n",
       "      <td>0.000000</td>\n",
       "      <td>0.000000</td>\n",
       "    </tr>\n",
       "    <tr>\n",
       "      <th>75%</th>\n",
       "      <td>61.000000</td>\n",
       "      <td>16.000000</td>\n",
       "      <td>1.000000</td>\n",
       "      <td>18750.000000</td>\n",
       "      <td>0.000000</td>\n",
       "      <td>0.000000</td>\n",
       "      <td>1.000000</td>\n",
       "    </tr>\n",
       "    <tr>\n",
       "      <th>max</th>\n",
       "      <td>89.000000</td>\n",
       "      <td>20.000000</td>\n",
       "      <td>1.000000</td>\n",
       "      <td>18750.000000</td>\n",
       "      <td>1.000000</td>\n",
       "      <td>1.000000</td>\n",
       "      <td>1.000000</td>\n",
       "    </tr>\n",
       "  </tbody>\n",
       "</table>\n",
       "</div>"
      ],
      "text/plain": [
       "               age         educ      married        income   poorhealth  \\\n",
       "count  1551.000000  1551.000000  1551.000000    963.000000  1551.000000   \n",
       "mean     48.172792    13.803353     0.732431  15633.177570     0.063830   \n",
       "std      17.051151     3.011700     0.442835   5064.191118     0.244528   \n",
       "min      18.000000     0.000000     0.000000    500.000000     0.000000   \n",
       "25%      33.500000    12.000000     0.000000  13750.000000     0.000000   \n",
       "50%      48.000000    14.000000     1.000000  18750.000000     0.000000   \n",
       "75%      61.000000    16.000000     1.000000  18750.000000     0.000000   \n",
       "max      89.000000    20.000000     1.000000  18750.000000     1.000000   \n",
       "\n",
       "        fairhealth  excellenthealth  \n",
       "count  1551.000000      1551.000000  \n",
       "mean      0.194068         0.266925  \n",
       "std       0.395609         0.442495  \n",
       "min       0.000000         0.000000  \n",
       "25%       0.000000         0.000000  \n",
       "50%       0.000000         0.000000  \n",
       "75%       0.000000         1.000000  \n",
       "max       1.000000         1.000000  "
      ]
     },
     "execution_count": 4,
     "metadata": {},
     "output_type": "execute_result"
    }
   ],
   "source": [
    "gssdata.describe()"
   ]
  },
  {
   "cell_type": "markdown",
   "metadata": {},
   "source": [
    "In order to make the task easier, we will consider it as a binary classification problem, where we are actually interested into predicting the people that are in poor health (class `poorhealth`) vs. the others (classes `fairhealth` and `excellenthealth` combined)."
   ]
  },
  {
   "cell_type": "code",
   "execution_count": 5,
   "metadata": {
    "ExecuteTime": {
     "end_time": "2020-03-02T21:27:46.576739Z",
     "start_time": "2020-03-02T21:27:46.562776Z"
    }
   },
   "outputs": [
    {
     "data": {
      "text/plain": [
       "0    0.93617\n",
       "1    0.06383\n",
       "Name: poorhealth, dtype: float64"
      ]
     },
     "execution_count": 5,
     "metadata": {},
     "output_type": "execute_result"
    }
   ],
   "source": [
    "gssdata[\"poorhealth\"].value_counts()/gssdata.shape[0]"
   ]
  },
  {
   "cell_type": "markdown",
   "metadata": {},
   "source": [
    "Only 6% of the cases are in poor health, thus the majority class is \"not poor health\" and the minority class is \"poor health\". The accuracy of a classifier that predicts everybody NOT being in poor health would be than 93.6%. This shows why accuracy is not a good metric here - the obtained accuracy is high, however the model is very primitive and misclassifies all positive examples."
   ]
  },
  {
   "cell_type": "markdown",
   "metadata": {},
   "source": [
    "## Part 2: Fit a logistic model ignoring missing values"
   ]
  },
  {
   "cell_type": "markdown",
   "metadata": {},
   "source": [
    "Let's begin by fitting a logistic regression model to predict poor health based on several of the other predictors in the model. In part 3, you will be asked to regularize (with cross-validation) to make sure you do not overfit, but for this part, we will keep things simple.\n",
    "\n",
    "First, we need to do a small amount of data clean-up (ignoring missingness for now in `income`). Best practice would be to split into train/test first before looking at the data, but again, we can keep it simple in this part."
   ]
  },
  {
   "cell_type": "code",
   "execution_count": 6,
   "metadata": {
    "ExecuteTime": {
     "end_time": "2020-03-02T21:27:46.586739Z",
     "start_time": "2020-03-02T21:27:46.577736Z"
    }
   },
   "outputs": [
    {
     "data": {
      "text/plain": [
       "Index(['health', 'age', 'sex', 'educ', 'sexornt', 'partyid', 'race', 'married',\n",
       "       'income', 'poorhealth', 'fairhealth', 'excellenthealth'],\n",
       "      dtype='object')"
      ]
     },
     "execution_count": 6,
     "metadata": {},
     "output_type": "execute_result"
    }
   ],
   "source": [
    "gssdata.columns"
   ]
  },
  {
   "cell_type": "code",
   "execution_count": 7,
   "metadata": {
    "ExecuteTime": {
     "end_time": "2020-03-02T21:27:46.614804Z",
     "start_time": "2020-03-02T21:27:46.587710Z"
    }
   },
   "outputs": [],
   "source": [
    "#creating dummies two ways\n",
    "gssdata['female'] = 1*(gssdata['sex'] ==  'female')\n",
    "dummy_vars = pd.get_dummies(gssdata[['sexornt','partyid','race']])\n",
    "gssdata = gssdata.join(dummy_vars)\n",
    "cat_vars = ['sex','sexornt','partyid','race']\n",
    "target_vars = ['fairhealth','excellenthealth','health']\n",
    "gssdata.drop(cat_vars+target_vars,axis=1,inplace=True)"
   ]
  },
  {
   "cell_type": "code",
   "execution_count": 8,
   "metadata": {
    "ExecuteTime": {
     "end_time": "2020-03-02T21:27:46.635747Z",
     "start_time": "2020-03-02T21:27:46.616798Z"
    },
    "scrolled": true
   },
   "outputs": [
    {
     "name": "stdout",
     "output_type": "stream",
     "text": [
      "(1551, 16)\n"
     ]
    },
    {
     "data": {
      "text/html": [
       "<div>\n",
       "<style scoped>\n",
       "    .dataframe tbody tr th:only-of-type {\n",
       "        vertical-align: middle;\n",
       "    }\n",
       "\n",
       "    .dataframe tbody tr th {\n",
       "        vertical-align: top;\n",
       "    }\n",
       "\n",
       "    .dataframe thead th {\n",
       "        text-align: right;\n",
       "    }\n",
       "</style>\n",
       "<table border=\"1\" class=\"dataframe\">\n",
       "  <thead>\n",
       "    <tr style=\"text-align: right;\">\n",
       "      <th></th>\n",
       "      <th>age</th>\n",
       "      <th>educ</th>\n",
       "      <th>married</th>\n",
       "      <th>income</th>\n",
       "      <th>poorhealth</th>\n",
       "      <th>female</th>\n",
       "      <th>sexornt_bisexual</th>\n",
       "      <th>sexornt_dont know</th>\n",
       "      <th>sexornt_heterosexual or straight</th>\n",
       "      <th>sexornt_homosexual or gay</th>\n",
       "      <th>partyid_dem</th>\n",
       "      <th>partyid_other</th>\n",
       "      <th>partyid_rep</th>\n",
       "      <th>race_black</th>\n",
       "      <th>race_other</th>\n",
       "      <th>race_white</th>\n",
       "    </tr>\n",
       "  </thead>\n",
       "  <tbody>\n",
       "    <tr>\n",
       "      <th>0</th>\n",
       "      <td>53</td>\n",
       "      <td>16</td>\n",
       "      <td>1</td>\n",
       "      <td>18750.0</td>\n",
       "      <td>0</td>\n",
       "      <td>0</td>\n",
       "      <td>0</td>\n",
       "      <td>0</td>\n",
       "      <td>1</td>\n",
       "      <td>0</td>\n",
       "      <td>0</td>\n",
       "      <td>0</td>\n",
       "      <td>1</td>\n",
       "      <td>0</td>\n",
       "      <td>0</td>\n",
       "      <td>1</td>\n",
       "    </tr>\n",
       "    <tr>\n",
       "      <th>1</th>\n",
       "      <td>26</td>\n",
       "      <td>16</td>\n",
       "      <td>1</td>\n",
       "      <td>18750.0</td>\n",
       "      <td>0</td>\n",
       "      <td>1</td>\n",
       "      <td>0</td>\n",
       "      <td>0</td>\n",
       "      <td>1</td>\n",
       "      <td>0</td>\n",
       "      <td>0</td>\n",
       "      <td>0</td>\n",
       "      <td>1</td>\n",
       "      <td>0</td>\n",
       "      <td>0</td>\n",
       "      <td>1</td>\n",
       "    </tr>\n",
       "    <tr>\n",
       "      <th>2</th>\n",
       "      <td>59</td>\n",
       "      <td>13</td>\n",
       "      <td>1</td>\n",
       "      <td>NaN</td>\n",
       "      <td>0</td>\n",
       "      <td>0</td>\n",
       "      <td>0</td>\n",
       "      <td>0</td>\n",
       "      <td>1</td>\n",
       "      <td>0</td>\n",
       "      <td>0</td>\n",
       "      <td>0</td>\n",
       "      <td>1</td>\n",
       "      <td>0</td>\n",
       "      <td>0</td>\n",
       "      <td>1</td>\n",
       "    </tr>\n",
       "    <tr>\n",
       "      <th>3</th>\n",
       "      <td>74</td>\n",
       "      <td>17</td>\n",
       "      <td>1</td>\n",
       "      <td>NaN</td>\n",
       "      <td>0</td>\n",
       "      <td>1</td>\n",
       "      <td>0</td>\n",
       "      <td>0</td>\n",
       "      <td>1</td>\n",
       "      <td>0</td>\n",
       "      <td>0</td>\n",
       "      <td>1</td>\n",
       "      <td>0</td>\n",
       "      <td>0</td>\n",
       "      <td>0</td>\n",
       "      <td>1</td>\n",
       "    </tr>\n",
       "    <tr>\n",
       "      <th>4</th>\n",
       "      <td>37</td>\n",
       "      <td>10</td>\n",
       "      <td>0</td>\n",
       "      <td>NaN</td>\n",
       "      <td>1</td>\n",
       "      <td>1</td>\n",
       "      <td>0</td>\n",
       "      <td>0</td>\n",
       "      <td>1</td>\n",
       "      <td>0</td>\n",
       "      <td>0</td>\n",
       "      <td>1</td>\n",
       "      <td>0</td>\n",
       "      <td>0</td>\n",
       "      <td>0</td>\n",
       "      <td>1</td>\n",
       "    </tr>\n",
       "  </tbody>\n",
       "</table>\n",
       "</div>"
      ],
      "text/plain": [
       "   age  educ  married   income  poorhealth  female  sexornt_bisexual  \\\n",
       "0   53    16        1  18750.0           0       0                 0   \n",
       "1   26    16        1  18750.0           0       1                 0   \n",
       "2   59    13        1      NaN           0       0                 0   \n",
       "3   74    17        1      NaN           0       1                 0   \n",
       "4   37    10        0      NaN           1       1                 0   \n",
       "\n",
       "   sexornt_dont know  sexornt_heterosexual or straight  \\\n",
       "0                  0                                 1   \n",
       "1                  0                                 1   \n",
       "2                  0                                 1   \n",
       "3                  0                                 1   \n",
       "4                  0                                 1   \n",
       "\n",
       "   sexornt_homosexual or gay  partyid_dem  partyid_other  partyid_rep  \\\n",
       "0                          0            0              0            1   \n",
       "1                          0            0              0            1   \n",
       "2                          0            0              0            1   \n",
       "3                          0            0              1            0   \n",
       "4                          0            0              1            0   \n",
       "\n",
       "   race_black  race_other  race_white  \n",
       "0           0           0           1  \n",
       "1           0           0           1  \n",
       "2           0           0           1  \n",
       "3           0           0           1  \n",
       "4           0           0           1  "
      ]
     },
     "execution_count": 8,
     "metadata": {},
     "output_type": "execute_result"
    }
   ],
   "source": [
    "#Let's get a sense of the data we have\n",
    "print(gssdata.shape)\n",
    "gssdata.head()"
   ]
  },
  {
   "cell_type": "code",
   "execution_count": 9,
   "metadata": {
    "ExecuteTime": {
     "end_time": "2020-03-02T21:27:46.652702Z",
     "start_time": "2020-03-02T21:27:46.637743Z"
    }
   },
   "outputs": [],
   "source": [
    "\n",
    "# have to drop income because NaNs cause exceptions\n",
    "X = gssdata[['age','educ','female','partyid_dem','partyid_rep']]\n",
    "y = gssdata[\"poorhealth\"]"
   ]
  },
  {
   "cell_type": "code",
   "execution_count": 10,
   "metadata": {
    "ExecuteTime": {
     "end_time": "2020-03-02T21:27:46.673769Z",
     "start_time": "2020-03-02T21:27:46.653699Z"
    }
   },
   "outputs": [],
   "source": [
    "#making ROC curves for this model\n",
    "\n",
    "#name: name of your model to appear on the figure (can be arbitrary)\n",
    "#clf: the model as you named it - will be used for getting the predictions\n",
    "#ytest, xtest: your test data\n",
    "#skip, labe: steps that control how many points you see in the ROC curve and how many labels are there\n",
    "\n",
    "def make_roc(name, clf, ytest, xtest, ax=None, labe=5, proba=True, skip=0):\n",
    "#     plt.figure(figsize=(15,10))\n",
    "    initial=False\n",
    "    if not ax:\n",
    "        ax=plt.gca()\n",
    "        initial=True\n",
    "    if proba:#for stuff like logistic regression\n",
    "        fpr, tpr, thresholds=roc_curve(ytest, clf.predict_proba(xtest)[:,1])\n",
    "    else:#for stuff like SVM? (but double-check this pleaseee)\n",
    "        fpr, tpr, thresholds=roc_curve(ytest, clf.decision_function(xtest))\n",
    "    \n",
    "    #this is the single value for the AUC score\n",
    "    roc_auc = auc(fpr, tpr)\n",
    "    \n",
    "    if skip: \n",
    "        l=fpr.shape[0]\n",
    "        ax.plot(fpr[0:l:skip], tpr[0:l:skip], '.-', alpha=0.3, label='ROC curve for %s (area = %0.2f)' % (name, roc_auc))\n",
    "    else:\n",
    "        ax.plot(fpr, tpr, '.-', alpha=0.3, label='ROC curve for %s (area = %0.2f)' % (name, roc_auc))\n",
    "    \n",
    "    label_kwargs = {}\n",
    "    label_kwargs['bbox'] = dict(\n",
    "        boxstyle='round,pad=0.3', alpha=0.2,\n",
    "    )\n",
    "    \n",
    "    #add labels to the curve\n",
    "    if labe!=None:\n",
    "        for k in range(0, fpr.shape[0],labe):\n",
    "            #from https://gist.github.com/podshumok/c1d1c9394335d86255b8\n",
    "            threshold = str(np.round(thresholds[k], 2))\n",
    "            ax.annotate(threshold, (fpr[k], tpr[k]), **label_kwargs)\n",
    "    \n",
    "    if initial:\n",
    "        ax.plot([0, 1], [0, 1], 'k--')\n",
    "        ax.set_xlim([0.0, 1.0])\n",
    "        ax.set_ylim([0.0, 1.05])\n",
    "        ax.set_xlabel('False Positive Rate')\n",
    "        ax.set_ylabel('True Positive Rate')\n",
    "        ax.set_title('ROC')\n",
    "    ax.legend(loc=\"lower right\")\n",
    "    return ax"
   ]
  },
  {
   "cell_type": "code",
   "execution_count": 11,
   "metadata": {
    "ExecuteTime": {
     "end_time": "2020-03-02T21:27:47.506551Z",
     "start_time": "2020-03-02T21:27:46.675765Z"
    }
   },
   "outputs": [
    {
     "name": "stdout",
     "output_type": "stream",
     "text": [
      "Drop income\n",
      "ROC AUC 0.5050505050505051\n",
      "Accuracy 0.9368149580915538\n"
     ]
    },
    {
     "data": {
      "image/png": "[encoded data removed]",
      "text/plain": [
       "<Figure size 432x288 with 1 Axes>"
      ]
     },
     "metadata": {
      "needs_background": "light"
     },
     "output_type": "display_data"
    }
   ],
   "source": [
    "\n",
    "logreg = LogisticRegression(C=1000000)\n",
    "logreg.fit(X,y)\n",
    "y_preds = logreg.predict(X)\n",
    "\n",
    "print('Drop income')\n",
    "print('ROC AUC',roc_auc_score(y, y_preds))\n",
    "print('Accuracy',accuracy_score(y,y_preds))\n",
    "ax=make_roc(\"logistic\",logreg, y, X, labe=4, skip=0)"
   ]
  },
  {
   "cell_type": "markdown",
   "metadata": {},
   "source": [
    "---"
   ]
  },
  {
   "cell_type": "markdown",
   "metadata": {},
   "source": [
    "## 2a: Handling missingness approach \\#1: remove observations. \n",
    "\n",
    "We do not know how sklearn will treat the missing values (the `NaN`s), so we should do handle them ourselves.  As a base case, let's remove all observations with missingness."
   ]
  },
  {
   "cell_type": "code",
   "execution_count": 12,
   "metadata": {
    "ExecuteTime": {
     "end_time": "2020-03-02T21:27:47.515538Z",
     "start_time": "2020-03-02T21:27:47.508545Z"
    }
   },
   "outputs": [
    {
     "name": "stdout",
     "output_type": "stream",
     "text": [
      "# observations before: 1551\n",
      "# observations after: 963\n"
     ]
    }
   ],
   "source": [
    "##In the code below: Remove all observations that are not complete\n",
    "##Report on how many samples were dropped.\n",
    "print(\"# observations before:\",gssdata.shape[0])\n",
    "gssdata_full = gssdata.dropna()\n",
    "print(\"# observations after:\",gssdata_full.shape[0])"
   ]
  },
  {
   "cell_type": "code",
   "execution_count": 13,
   "metadata": {
    "ExecuteTime": {
     "end_time": "2020-03-02T21:27:47.688367Z",
     "start_time": "2020-03-02T21:27:47.517522Z"
    }
   },
   "outputs": [
    {
     "data": {
      "image/png": "[encoded data removed]",
      "text/plain": [
       "<Figure size 648x432 with 1 Axes>"
      ]
     },
     "metadata": {
      "needs_background": "light"
     },
     "output_type": "display_data"
    },
    {
     "name": "stdout",
     "output_type": "stream",
     "text": [
      "Poor health examples\n",
      "Before: 99, after: 16\n"
     ]
    }
   ],
   "source": [
    "#Do a quick check to see how dropping observations affected the amount of poor health individuals\n",
    "#Do an appropriate plot to show this (e.g. boxplot)\n",
    "x = [gssdata[gssdata['poorhealth']==1].shape[0], gssdata_full[gssdata_full['poorhealth']==1].shape[0]]\n",
    "\n",
    "plt.figure(figsize=(9,6))\n",
    "plt.title(\"Poor health examples before and after dropping rows with missing values\")\n",
    "\n",
    "sns.barplot(x=x,y=['before','after'])\n",
    "plt.show()\n",
    "print(\"Poor health examples\")\n",
    "print(\"Before: {}, after: {}\".format(x[0],x[1]))"
   ]
  },
  {
   "cell_type": "code",
   "execution_count": 14,
   "metadata": {
    "ExecuteTime": {
     "end_time": "2020-03-02T21:27:47.700329Z",
     "start_time": "2020-03-02T21:27:47.689357Z"
    }
   },
   "outputs": [
    {
     "data": {
      "text/html": [
       "<div>\n",
       "<style scoped>\n",
       "    .dataframe tbody tr th:only-of-type {\n",
       "        vertical-align: middle;\n",
       "    }\n",
       "\n",
       "    .dataframe tbody tr th {\n",
       "        vertical-align: top;\n",
       "    }\n",
       "\n",
       "    .dataframe thead th {\n",
       "        text-align: right;\n",
       "    }\n",
       "</style>\n",
       "<table border=\"1\" class=\"dataframe\">\n",
       "  <thead>\n",
       "    <tr style=\"text-align: right;\">\n",
       "      <th></th>\n",
       "      <th>age</th>\n",
       "      <th>educ</th>\n",
       "      <th>married</th>\n",
       "      <th>income</th>\n",
       "      <th>poorhealth</th>\n",
       "      <th>female</th>\n",
       "      <th>sexornt_bisexual</th>\n",
       "      <th>sexornt_dont know</th>\n",
       "      <th>sexornt_heterosexual or straight</th>\n",
       "      <th>sexornt_homosexual or gay</th>\n",
       "      <th>partyid_dem</th>\n",
       "      <th>partyid_other</th>\n",
       "      <th>partyid_rep</th>\n",
       "      <th>race_black</th>\n",
       "      <th>race_other</th>\n",
       "      <th>race_white</th>\n",
       "    </tr>\n",
       "  </thead>\n",
       "  <tbody>\n",
       "    <tr>\n",
       "      <th>0</th>\n",
       "      <td>53</td>\n",
       "      <td>16</td>\n",
       "      <td>1</td>\n",
       "      <td>18750.0</td>\n",
       "      <td>0</td>\n",
       "      <td>0</td>\n",
       "      <td>0</td>\n",
       "      <td>0</td>\n",
       "      <td>1</td>\n",
       "      <td>0</td>\n",
       "      <td>0</td>\n",
       "      <td>0</td>\n",
       "      <td>1</td>\n",
       "      <td>0</td>\n",
       "      <td>0</td>\n",
       "      <td>1</td>\n",
       "    </tr>\n",
       "    <tr>\n",
       "      <th>1</th>\n",
       "      <td>26</td>\n",
       "      <td>16</td>\n",
       "      <td>1</td>\n",
       "      <td>18750.0</td>\n",
       "      <td>0</td>\n",
       "      <td>1</td>\n",
       "      <td>0</td>\n",
       "      <td>0</td>\n",
       "      <td>1</td>\n",
       "      <td>0</td>\n",
       "      <td>0</td>\n",
       "      <td>0</td>\n",
       "      <td>1</td>\n",
       "      <td>0</td>\n",
       "      <td>0</td>\n",
       "      <td>1</td>\n",
       "    </tr>\n",
       "    <tr>\n",
       "      <th>5</th>\n",
       "      <td>30</td>\n",
       "      <td>15</td>\n",
       "      <td>1</td>\n",
       "      <td>18750.0</td>\n",
       "      <td>0</td>\n",
       "      <td>1</td>\n",
       "      <td>0</td>\n",
       "      <td>0</td>\n",
       "      <td>1</td>\n",
       "      <td>0</td>\n",
       "      <td>0</td>\n",
       "      <td>1</td>\n",
       "      <td>0</td>\n",
       "      <td>0</td>\n",
       "      <td>1</td>\n",
       "      <td>0</td>\n",
       "    </tr>\n",
       "    <tr>\n",
       "      <th>9</th>\n",
       "      <td>30</td>\n",
       "      <td>14</td>\n",
       "      <td>1</td>\n",
       "      <td>16250.0</td>\n",
       "      <td>0</td>\n",
       "      <td>1</td>\n",
       "      <td>0</td>\n",
       "      <td>0</td>\n",
       "      <td>1</td>\n",
       "      <td>0</td>\n",
       "      <td>0</td>\n",
       "      <td>1</td>\n",
       "      <td>0</td>\n",
       "      <td>1</td>\n",
       "      <td>0</td>\n",
       "      <td>0</td>\n",
       "    </tr>\n",
       "    <tr>\n",
       "      <th>12</th>\n",
       "      <td>38</td>\n",
       "      <td>15</td>\n",
       "      <td>0</td>\n",
       "      <td>18750.0</td>\n",
       "      <td>0</td>\n",
       "      <td>1</td>\n",
       "      <td>0</td>\n",
       "      <td>0</td>\n",
       "      <td>1</td>\n",
       "      <td>0</td>\n",
       "      <td>1</td>\n",
       "      <td>0</td>\n",
       "      <td>0</td>\n",
       "      <td>0</td>\n",
       "      <td>0</td>\n",
       "      <td>1</td>\n",
       "    </tr>\n",
       "  </tbody>\n",
       "</table>\n",
       "</div>"
      ],
      "text/plain": [
       "    age  educ  married   income  poorhealth  female  sexornt_bisexual  \\\n",
       "0    53    16        1  18750.0           0       0                 0   \n",
       "1    26    16        1  18750.0           0       1                 0   \n",
       "5    30    15        1  18750.0           0       1                 0   \n",
       "9    30    14        1  16250.0           0       1                 0   \n",
       "12   38    15        0  18750.0           0       1                 0   \n",
       "\n",
       "    sexornt_dont know  sexornt_heterosexual or straight  \\\n",
       "0                   0                                 1   \n",
       "1                   0                                 1   \n",
       "5                   0                                 1   \n",
       "9                   0                                 1   \n",
       "12                  0                                 1   \n",
       "\n",
       "    sexornt_homosexual or gay  partyid_dem  partyid_other  partyid_rep  \\\n",
       "0                           0            0              0            1   \n",
       "1                           0            0              0            1   \n",
       "5                           0            0              1            0   \n",
       "9                           0            0              1            0   \n",
       "12                          0            1              0            0   \n",
       "\n",
       "    race_black  race_other  race_white  \n",
       "0            0           0           1  \n",
       "1            0           0           1  \n",
       "5            0           1           0  \n",
       "9            1           0           0  \n",
       "12           0           0           1  "
      ]
     },
     "execution_count": 14,
     "metadata": {},
     "output_type": "execute_result"
    }
   ],
   "source": [
    "gssdata_full.head()"
   ]
  },
  {
   "cell_type": "code",
   "execution_count": 15,
   "metadata": {
    "ExecuteTime": {
     "end_time": "2020-03-02T21:27:47.720275Z",
     "start_time": "2020-03-02T21:27:47.702324Z"
    }
   },
   "outputs": [],
   "source": [
    "#Now we will split the data before fitting any models, this way of splitting is much more elegant for me.\n",
    "\n",
    "X = gssdata_full.drop(['poorhealth'],axis=1)\n",
    "y = gssdata_full['poorhealth']\n",
    "X_train, X_test, y_train, y_test = train_test_split(X,y,test_size=0.25,random_state=7)"
   ]
  },
  {
   "cell_type": "code",
   "execution_count": 16,
   "metadata": {
    "ExecuteTime": {
     "end_time": "2020-03-02T21:27:47.972274Z",
     "start_time": "2020-03-02T21:27:47.722269Z"
    }
   },
   "outputs": [
    {
     "name": "stdout",
     "output_type": "stream",
     "text": [
      "Remove missing rows\n",
      "ROC AUC 0.5\n",
      "Accuracy 0.979253112033195\n"
     ]
    },
    {
     "data": {
      "image/png": "[encoded data removed]",
      "text/plain": [
       "<Figure size 432x288 with 1 Axes>"
      ]
     },
     "metadata": {
      "needs_background": "light"
     },
     "output_type": "display_data"
    }
   ],
   "source": [
    "#####################\n",
    "# Your code here: fit a logistic model with C=1000000 and evaluate classification accuracy on the test set.\n",
    "# Then move below to be reminded on the confusion matrix\n",
    "#####################\n",
    "logit = LogisticRegression(C=1000000)\n",
    "logit.fit(X_train,y_train)\n",
    "y_preds = logit.predict(X_test)\n",
    "\n",
    "print('Remove missing rows')\n",
    "print('ROC AUC',roc_auc_score(y_test, y_preds))\n",
    "print('Accuracy',accuracy_score(y_test,y_preds))\n",
    "ax=make_roc(\"logistic\",logit, y_test, X_test, labe=4, skip=0)"
   ]
  },
  {
   "cell_type": "markdown",
   "metadata": {},
   "source": [
    "## Reminder: The Confusion Matrix & Some Useful Functions"
   ]
  },
  {
   "cell_type": "markdown",
   "metadata": {},
   "source": [
    "- the samples that are +ive and the classifier predicts as +ive are called True Positives (TP)\n",
    "- the samples that are -ive and the classifier predicts (wrongly) as +ive are called False Positives (FP)\n",
    "- the samples that are -ive and the classifier predicts as -ive are called True Negatives (TN)\n",
    "- the samples that are +ive and the classifier predicts as -ive are called False Negatives (FN)\n",
    "\n",
    "A classifier produces a confusion matrix which looks like this:\n",
    "\n",
    "![confusionmatrix](./confusionmatrix_360.png)\n",
    "\n",
    "\n",
    "IMPORTANT NOTE: In sklearn, to obtain the confusion matrix in the form above, always have the observed `y` first, i.e.: use as `confusion_matrix(y_true, y_pred)`\n",
    "\n"
   ]
  },
  {
   "cell_type": "code",
   "execution_count": 17,
   "metadata": {
    "ExecuteTime": {
     "end_time": "2020-03-02T21:27:48.185693Z",
     "start_time": "2020-03-02T21:27:47.973246Z"
    },
    "scrolled": true
   },
   "outputs": [
    {
     "name": "stdout",
     "output_type": "stream",
     "text": [
      "[[236   0]\n",
      " [  5   0]]\n"
     ]
    },
    {
     "data": {
      "image/png": "[encoded data removed]",
      "text/plain": [
       "<Figure size 432x288 with 1 Axes>"
      ]
     },
     "metadata": {
      "needs_background": "light"
     },
     "output_type": "display_data"
    }
   ],
   "source": [
    "\n",
    "print(confusion_matrix(y_test,logit.predict(X_test)))\n",
    "\n",
    "yhats = logit.predict_proba(X_train)\n",
    "hist = plt.hist(yhats[:,1])"
   ]
  },
  {
   "cell_type": "markdown",
   "metadata": {},
   "source": [
    "The following function can be used to create confusion tables with different thresholds (same as we did in the last example of the lecture slides)"
   ]
  },
  {
   "cell_type": "code",
   "execution_count": 18,
   "metadata": {
    "ExecuteTime": {
     "end_time": "2020-03-02T21:27:48.192661Z",
     "start_time": "2020-03-02T21:27:48.187675Z"
    }
   },
   "outputs": [],
   "source": [
    "###manually making confusion table from a different threshold\n",
    "def t_repredict(est, t, xtest):\n",
    "    probs = est.predict_proba(xtest)\n",
    "    p0 = probs[:,0]\n",
    "    p1 = probs[:,1]\n",
    "    ypred = (p1 > t)*1\n",
    "    return ypred"
   ]
  },
  {
   "cell_type": "code",
   "execution_count": 19,
   "metadata": {
    "ExecuteTime": {
     "end_time": "2020-03-02T21:27:48.216623Z",
     "start_time": "2020-03-02T21:27:48.193671Z"
    }
   },
   "outputs": [
    {
     "name": "stdout",
     "output_type": "stream",
     "text": [
      "[[224  12]\n",
      " [  5   0]]\n",
      "[[667  44]\n",
      " [  7   4]]\n"
     ]
    }
   ],
   "source": [
    "#Try it here!\n",
    "\n",
    "print(confusion_matrix(y_test,t_repredict(logit, 0.06, X_test)))\n",
    "print(confusion_matrix(y_train,t_repredict(logit, 0.06, X_train)))"
   ]
  },
  {
   "cell_type": "markdown",
   "metadata": {},
   "source": [
    "## Let's get back the data with missingness\n",
    "\n",
    "It's time to build a model to impute the missing data!"
   ]
  },
  {
   "cell_type": "code",
   "execution_count": 20,
   "metadata": {
    "ExecuteTime": {
     "end_time": "2020-03-02T21:27:48.461940Z",
     "start_time": "2020-03-02T21:27:48.217594Z"
    }
   },
   "outputs": [
    {
     "data": {
      "image/png": "[encoded data removed]",
      "text/plain": [
       "<Figure size 432x288 with 1 Axes>"
      ]
     },
     "metadata": {
      "needs_background": "light"
     },
     "output_type": "display_data"
    }
   ],
   "source": [
    "#first build a model to impute using data without missing \n",
    "hist = plt.hist(gssdata_full['income'])"
   ]
  },
  {
   "cell_type": "markdown",
   "metadata": {},
   "source": [
    "---"
   ]
  },
  {
   "cell_type": "markdown",
   "metadata": {},
   "source": [
    "## 2b: Handling missingness approach \\#2: impute the mean "
   ]
  },
  {
   "cell_type": "markdown",
   "metadata": {},
   "source": [
    "In your first approach, make a copy of the original data frame and impute the missing values by assuming that every missing value shoudl be replaced by the mean. Make sure to do a histogram as well and compare it with the original!\n",
    "\n",
    "Then fit a model (as before in 2a.) and judge the model accuracy. Use the functions for the ROC curve to establish the result."
   ]
  },
  {
   "cell_type": "code",
   "execution_count": 21,
   "metadata": {
    "ExecuteTime": {
     "end_time": "2020-03-02T21:27:48.467955Z",
     "start_time": "2020-03-02T21:27:48.462961Z"
    }
   },
   "outputs": [],
   "source": [
    "#back to the original data set with missingness, make a copy, and then impute the mean, plot it!\n",
    "mean_income = gssdata['income'].mean()\n",
    "gssdata_full = gssdata.copy()\n",
    "gssdata_full['income'] = gssdata_full['income'].fillna(mean_income)"
   ]
  },
  {
   "cell_type": "code",
   "execution_count": 22,
   "metadata": {
    "ExecuteTime": {
     "end_time": "2020-03-02T21:27:48.772280Z",
     "start_time": "2020-03-02T21:27:48.469919Z"
    }
   },
   "outputs": [
    {
     "name": "stdout",
     "output_type": "stream",
     "text": [
      "Impute with mean\n",
      "ROC AUC 0.5\n",
      "Accuracy 0.9252577319587629\n"
     ]
    },
    {
     "data": {
      "image/png": "[encoded data removed]",
      "text/plain": [
       "<Figure size 432x288 with 1 Axes>"
      ]
     },
     "metadata": {
      "needs_background": "light"
     },
     "output_type": "display_data"
    }
   ],
   "source": [
    "###here, do a proper train/test split and a model training\n",
    "X = gssdata_full.drop(['poorhealth'],axis=1)\n",
    "y = gssdata_full['poorhealth']\n",
    "X_train, X_test, y_train, y_test = train_test_split(X,y,test_size=0.25,random_state=7)\n",
    "\n",
    "logit = LogisticRegression(C=1000000)\n",
    "logit.fit(X_train,y_train)\n",
    "\n",
    "y_preds = logit.predict(X_test)\n",
    "\n",
    "print('Impute with mean')\n",
    "print('ROC AUC',roc_auc_score(y_test, y_preds))\n",
    "print('Accuracy',accuracy_score(y_test,y_preds))\n",
    "ax=make_roc(\"logistic\",logit, y_test, X_test, labe=4, skip=0)"
   ]
  },
  {
   "cell_type": "code",
   "execution_count": 23,
   "metadata": {
    "ExecuteTime": {
     "end_time": "2020-03-02T21:27:48.785254Z",
     "start_time": "2020-03-02T21:27:48.774276Z"
    }
   },
   "outputs": [
    {
     "name": "stdout",
     "output_type": "stream",
     "text": [
      "[[ 11 348]\n",
      " [  0  29]]\n",
      "\n",
      "[[238 121]\n",
      " [  9  20]]\n",
      "\n",
      "[[323  36]\n",
      " [ 23   6]]\n",
      "\n",
      "[[351   8]\n",
      " [ 26   3]]\n",
      "\n"
     ]
    }
   ],
   "source": [
    "#####################\n",
    "#your code here: create confusion tables for some thresholds to have an idea of how data looks like\n",
    "#####################\n",
    "thresholds = [0.01, 0.06, 0.12, 0.2]\n",
    "for thresh in thresholds:\n",
    "    print(confusion_matrix(y_test,t_repredict(logit, thresh, X_test)))\n",
    "    print()\n"
   ]
  },
  {
   "cell_type": "markdown",
   "metadata": {},
   "source": [
    "You will comment on the performance of the models in the end, but feel free to add any comments here as well (or remove this cell)"
   ]
  },
  {
   "cell_type": "markdown",
   "metadata": {},
   "source": [
    "---"
   ]
  },
  {
   "cell_type": "markdown",
   "metadata": {},
   "source": [
    "## 2c: Handling missingness approach \\#3: impute with a model (linear regression here)"
   ]
  },
  {
   "cell_type": "markdown",
   "metadata": {},
   "source": [
    "The third and most sophisticated approach would be to fit a linear model (multiple regression) to estimate income based on the other features (`age`, `educ`, `sex`, `partyid`). Train this model below and then use it in order to compute the missing values."
   ]
  },
  {
   "cell_type": "code",
   "execution_count": 24,
   "metadata": {
    "ExecuteTime": {
     "end_time": "2020-03-02T21:27:48.805191Z",
     "start_time": "2020-03-02T21:27:48.787241Z"
    }
   },
   "outputs": [],
   "source": [
    "#use the dataset without NAs here\n",
    "#train a model\n",
    "\n",
    "gssdata_full = gssdata.dropna()\n",
    "X = gssdata_full.drop(['income'],axis=1)\n",
    "y = gssdata_full['income']\n",
    "\n",
    "reg = LinearRegression().fit(X, y)"
   ]
  },
  {
   "cell_type": "code",
   "execution_count": 25,
   "metadata": {
    "ExecuteTime": {
     "end_time": "2020-03-02T21:27:48.821150Z",
     "start_time": "2020-03-02T21:27:48.806188Z"
    }
   },
   "outputs": [],
   "source": [
    "#####################\n",
    "# your code here: \n",
    "# 1. figure out which observations have missing values for income,\n",
    "# 2. create the values you will use for imputation by:\n",
    "#  - calculating (1) the predicted values for the observations with missingness using the linear model \n",
    "# 3. use these values to impute back into the income variable in the missing entries\n",
    "# 4. Do a histogram to see how does that look like\n",
    "#####################\n",
    "gssdata_linreg = gssdata.copy()\n",
    "gssdata_nans = gssdata_linreg[gssdata_linreg.income.isna()]"
   ]
  },
  {
   "cell_type": "code",
   "execution_count": 26,
   "metadata": {
    "ExecuteTime": {
     "end_time": "2020-03-02T21:27:48.846082Z",
     "start_time": "2020-03-02T21:27:48.822146Z"
    }
   },
   "outputs": [],
   "source": [
    "missing_income = reg.predict(gssdata_nans.drop(['income'],axis=1))\n",
    "gssdata_linreg.loc[gssdata_linreg.income.isna(),'income'] = missing_income"
   ]
  },
  {
   "cell_type": "code",
   "execution_count": 27,
   "metadata": {
    "ExecuteTime": {
     "end_time": "2020-03-02T21:27:49.059537Z",
     "start_time": "2020-03-02T21:27:48.848077Z"
    }
   },
   "outputs": [
    {
     "data": {
      "image/png": "[encoded data removed]",
      "text/plain": [
       "<Figure size 432x288 with 1 Axes>"
      ]
     },
     "metadata": {
      "needs_background": "light"
     },
     "output_type": "display_data"
    }
   ],
   "source": [
    "sns.distplot(gssdata['income'].dropna())\n",
    "plt.title(\"Before imputing with linear regression\")\n",
    "plt.show()"
   ]
  },
  {
   "cell_type": "code",
   "execution_count": 28,
   "metadata": {
    "ExecuteTime": {
     "end_time": "2020-03-02T21:27:49.262999Z",
     "start_time": "2020-03-02T21:27:49.061508Z"
    }
   },
   "outputs": [
    {
     "data": {
      "image/png": "[encoded data removed]",
      "text/plain": [
       "<Figure size 432x288 with 1 Axes>"
      ]
     },
     "metadata": {
      "needs_background": "light"
     },
     "output_type": "display_data"
    }
   ],
   "source": [
    "sns.distplot(gssdata_linreg['income'])\n",
    "plt.title(\"After imputing with linear regression\")\n",
    "plt.show()"
   ]
  },
  {
   "cell_type": "code",
   "execution_count": 29,
   "metadata": {
    "ExecuteTime": {
     "end_time": "2020-03-02T21:27:49.535241Z",
     "start_time": "2020-03-02T21:27:49.263966Z"
    }
   },
   "outputs": [
    {
     "name": "stdout",
     "output_type": "stream",
     "text": [
      "Impute with linear regression\n",
      "ROC AUC 0.5330900009605225\n",
      "Accuracy 0.9278350515463918\n"
     ]
    },
    {
     "data": {
      "image/png": "[encoded data removed]",
      "text/plain": [
       "<Figure size 432x288 with 1 Axes>"
      ]
     },
     "metadata": {
      "needs_background": "light"
     },
     "output_type": "display_data"
    }
   ],
   "source": [
    "#HERE FIT YOUR MODEL AS USUAL FOR PREDICTING THE HEALTH STATUS (POOR OR NOT)\n",
    "X = gssdata_linreg.drop(['poorhealth'],axis=1)\n",
    "y = gssdata_linreg['poorhealth']\n",
    "X_train, X_test, y_train, y_test = train_test_split(X,y,test_size=0.25,random_state=7)\n",
    "logit = LogisticRegression(C=1000000)\n",
    "logit.fit(X_train, y_train)\n",
    "y_preds = logit.predict(X_test)\n",
    "\n",
    "\n",
    "print('Impute with linear regression')\n",
    "print('ROC AUC',roc_auc_score(y_test, y_preds))\n",
    "print('Accuracy',accuracy_score(y_test,y_preds))\n",
    "ax=make_roc(\"logistic\",logit, y_test, X_test, labe=4, skip=0)"
   ]
  },
  {
   "cell_type": "code",
   "execution_count": 30,
   "metadata": {
    "ExecuteTime": {
     "end_time": "2020-03-02T21:27:49.541224Z",
     "start_time": "2020-03-02T21:27:49.536239Z"
    }
   },
   "outputs": [
    {
     "data": {
      "text/plain": [
       "(1551, 16)"
      ]
     },
     "execution_count": 30,
     "metadata": {},
     "output_type": "execute_result"
    }
   ],
   "source": [
    "gssdata_linreg.shape"
   ]
  },
  {
   "cell_type": "code",
   "execution_count": 31,
   "metadata": {
    "ExecuteTime": {
     "end_time": "2020-03-02T21:27:49.568156Z",
     "start_time": "2020-03-02T21:27:49.542235Z"
    }
   },
   "outputs": [
    {
     "name": "stdout",
     "output_type": "stream",
     "text": [
      "[[ 63 296]\n",
      " [  0  29]]\n",
      "\n",
      "[[255 104]\n",
      " [  6  23]]\n",
      "\n",
      "[[311  48]\n",
      " [ 15  14]]\n",
      "\n",
      "[[342  17]\n",
      " [ 22   7]]\n",
      "\n"
     ]
    }
   ],
   "source": [
    "thresholds = [0.01, 0.06, 0.12, 0.2]\n",
    "for thresh in thresholds:\n",
    "    print(confusion_matrix(y_test,t_repredict(logit, thresh, X_test)))\n",
    "    print()"
   ]
  },
  {
   "cell_type": "markdown",
   "metadata": {
    "scrolled": true
   },
   "source": [
    "Which model performs the best when it comes to missing values? Use this cell to report your observations and be critical about them."
   ]
  },
  {
   "cell_type": "markdown",
   "metadata": {},
   "source": [
    "### Summary"
   ]
  },
  {
   "cell_type": "markdown",
   "metadata": {},
   "source": [
    "Drop income\n",
    "ROC AUC 0.5050505050505051\n",
    "Accuracy 0.9368149580915538\n",
    "make_rocs: 0.73\n",
    "\n",
    "Remove missing rows\n",
    "ROC AUC 0.5\n",
    "Accuracy 0.979253112033195\n",
    "make_roc: 0.83\n",
    "\n",
    "Impute with mean\n",
    "ROC AUC 0.5\n",
    "Accuracy 0.9252577319587629\n",
    "make_roc: 0.71\n",
    "\n",
    "Impute with linear regression\n",
    "ROC AUC 0.5330900009605225\n",
    "Accuracy 0.9278350515463918\n",
    "make_roc: 0.82\n"
   ]
  },
  {
   "cell_type": "markdown",
   "metadata": {},
   "source": [
    "Removing missing rows and imputing NaNs with linear regression are clearly better than the other two approaches. The former is slightly superior to the latter with regard to AUC ROC calculated by make_roc, but worse according to sklearn roc_auc_score(). It has significantly higher accuracy, however, as mentioned before, it is not a reliable metric in this case."
   ]
  },
  {
   "cell_type": "markdown",
   "metadata": {},
   "source": [
    "## Part 3: Improving the model.\n",
    "\n",
    "Apply regularization (with cross-validation) to make sure not to overfit to the data and try also different models, like a Decision Tree or a Random Forest. Report on your results for which model handles inbalances in the best way."
   ]
  },
  {
   "cell_type": "code",
   "execution_count": 33,
   "metadata": {
    "ExecuteTime": {
     "end_time": "2020-03-02T21:27:49.602390Z",
     "start_time": "2020-03-02T21:27:49.587195Z"
    }
   },
   "outputs": [],
   "source": [
    "kfold = KFold(n_splits=5, random_state=7)\n",
    "def cv_results(model):\n",
    "    results = cross_validate(model, X, y, scoring=('accuracy', 'roc_auc'),cv=kfold)\n",
    "    print(\"Mean accuracy: {}\\nMean roc auc:  {}\".format(results['test_accuracy'].mean(),results['test_roc_auc'].mean()))\n",
    "    print()"
   ]
  },
  {
   "cell_type": "markdown",
   "metadata": {},
   "source": [
    "### Remove missing rows"
   ]
  },
  {
   "cell_type": "code",
   "execution_count": 45,
   "metadata": {
    "ExecuteTime": {
     "end_time": "2020-03-02T21:35:47.242101Z",
     "start_time": "2020-03-02T21:35:47.235111Z"
    }
   },
   "outputs": [],
   "source": [
    "gssdata_full = gssdata.dropna()\n",
    "X = gssdata_full.drop(['poorhealth'],axis=1)\n",
    "y = gssdata_full['poorhealth']"
   ]
  },
  {
   "cell_type": "code",
   "execution_count": 48,
   "metadata": {
    "ExecuteTime": {
     "end_time": "2020-03-02T21:35:59.124961Z",
     "start_time": "2020-03-02T21:35:57.751470Z"
    }
   },
   "outputs": [
    {
     "name": "stdout",
     "output_type": "stream",
     "text": [
      "Logistic regression - we already used it before, shown here for comparison\n",
      "Mean accuracy: 0.9833927029360968\n",
      "Mean roc auc:  0.7145231285649587\n",
      "\n",
      "Decision tree\n",
      "Mean accuracy: 0.9646804835924007\n",
      "Mean roc auc:  0.4905011064043211\n",
      "\n",
      "Random forest\n",
      "Mean accuracy: 0.9813093696027633\n",
      "Mean roc auc:  0.5714209530237039\n",
      "\n",
      "Xgboost\n",
      "Mean accuracy: 0.9802731001727116\n",
      "Mean roc auc:  0.5965993292924984\n",
      "\n"
     ]
    }
   ],
   "source": [
    "lr_model = LogisticRegression(C=1000000,random_state=7)\n",
    "print(\"Logistic regression - we already used it before, shown here for comparison\")\n",
    "cv_results(lr_model)\n",
    "\n",
    "dt_model = DecisionTreeClassifier(random_state=7)\n",
    "print(\"Decision tree\")\n",
    "cv_results(dt_model)\n",
    "\n",
    "rf_model = RandomForestClassifier(random_state=7)\n",
    "print(\"Random forest\")\n",
    "cv_results(rf_model)\n",
    "\n",
    "xgb_model = xgboost.XGBClassifier(random_state=7)\n",
    "print(\"Xgboost\")\n",
    "cv_results(xgb_model)"
   ]
  },
  {
   "cell_type": "markdown",
   "metadata": {},
   "source": [
    "### Impute with linear regression"
   ]
  },
  {
   "cell_type": "code",
   "execution_count": 49,
   "metadata": {
    "ExecuteTime": {
     "end_time": "2020-03-02T21:36:06.846565Z",
     "start_time": "2020-03-02T21:36:06.842577Z"
    }
   },
   "outputs": [],
   "source": [
    "X = gssdata_linreg.drop(['poorhealth'],axis=1)\n",
    "y = gssdata_linreg['poorhealth']"
   ]
  },
  {
   "cell_type": "code",
   "execution_count": 50,
   "metadata": {
    "ExecuteTime": {
     "end_time": "2020-03-02T21:36:07.789635Z",
     "start_time": "2020-03-02T21:36:07.157358Z"
    }
   },
   "outputs": [
    {
     "name": "stdout",
     "output_type": "stream",
     "text": [
      "Logistic regression - we already used it before, shown here for comparison\n",
      "Mean accuracy: 0.9342329633855408\n",
      "Mean roc auc:  0.8262588601924925\n",
      "\n",
      "Decision tree\n",
      "Mean accuracy: 0.9452048542682293\n",
      "Mean roc auc:  0.7554571377677852\n",
      "\n",
      "Random forest\n",
      "Mean accuracy: 0.948422362825433\n",
      "Mean roc auc:  0.8573663597633564\n",
      "\n",
      "Xgboost\n",
      "Mean accuracy: 0.9651882584794109\n",
      "Mean roc auc:  0.9101003244514494\n",
      "\n"
     ]
    }
   ],
   "source": [
    "lr_model = LogisticRegression(C=1000000,random_state=7)\n",
    "print(\"Logistic regression - we already used it before, shown here for comparison\")\n",
    "cv_results(lr_model)\n",
    "\n",
    "dt_model = DecisionTreeClassifier(random_state=7)\n",
    "print(\"Decision tree\")\n",
    "cv_results(dt_model)\n",
    "\n",
    "rf_model = RandomForestClassifier(random_state=7)\n",
    "print(\"Random forest\")\n",
    "cv_results(rf_model)\n",
    "\n",
    "xgb_model = xgboost.XGBClassifier(random_state=7)\n",
    "print(\"Xgboost\")\n",
    "cv_results(xgb_model)"
   ]
  },
  {
   "cell_type": "markdown",
   "metadata": {},
   "source": [
    "### Discussion"
   ]
  },
  {
   "cell_type": "markdown",
   "metadata": {},
   "source": [
    "I used cross validation and compared two most promising approaches for handling missing data with 4 algorithms: logistic regression, which we used before, and three tree-based method: decision tree, random forest and xgboost. \n",
    "\n",
    "Firstly, roc-auc of LR of the first approach differs a lot between our initial train_test_split and cross-validation, whereas it seems to be intact for th second approach. This shows that imputation with linear regression is much more robust, which is reasonable, as in the first method we remove roughly half of the data.\n",
    "\n",
    "Secondly, in the first approach logistic regression is superior to other algorithm w.r.t roc-auc by a large margin - this algorithm seems to be a better fit for small amounts of data (which are connected to overfitting).\n",
    "\n",
    "Thirdly, as expected, in both cases decision tree is worse than random forest which is worse than xgboost. However, the difference between decision tree and random forest is bigger than between random forest and xgboost.\n",
    "\n",
    "Finally, in the second approach, logistic regression performs worse than random forest and xgboost.\n",
    "\n",
    "To sum up, for small datasets that are easy to overfit it is best to use logistic regression, while when we have more data, xgboost is definitely the optimal choice."
   ]
  }
 ],
 "metadata": {
  "kernelspec": {
   "display_name": "Python 3",
   "language": "python",
   "name": "python3"
  },
  "language_info": {
   "codemirror_mode": {
    "name": "ipython",
    "version": 3
   },
   "file_extension": ".py",
   "mimetype": "text/x-python",
   "name": "python",
   "nbconvert_exporter": "python",
   "pygments_lexer": "ipython3",
   "version": "3.7.3"
  }
 },
 "nbformat": 4,
 "nbformat_minor": 1
}
