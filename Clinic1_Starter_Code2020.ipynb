{
 "cells": [
  {
   "cell_type": "markdown",
   "metadata": {},
   "source": [
    "# KEN3450, Data Analysis, Spring 2020 \n",
    "\n",
    "## Clinic 1: EDA of Movies \n",
    "\n",
    "**Błażej Dolicki - i6155906**\n",
    "\n",
    "---"
   ]
  },
  {
   "cell_type": "markdown",
   "metadata": {},
   "source": [
    "## Part 1: Loading and Cleaning with Pandas \n",
    "Here is a description of the columns (in order) present in this csv file:\n",
    "\n",
    "```\n",
    "id: a unique identifier for each movie\n",
    "title: the title of the movie\n",
    "cast: name of most recognizeable cast members seperated by a \"|\"\n",
    "director: name of the director (if more than one, different names seperated by a \"|\"\n",
    "runtime: duration of movie in min.\n",
    "genres: categories of the movie seperated by a \"|\"\n",
    "release_date: exact date of the release in the format MM/DD/YY or MM/DD/YYYY\n",
    "users_voted: how many users have cast their vote for this movie\n",
    "rating: average rating for the movie (scale 0-5)\n",
    "release_year: the year of release\n",
    "budget: production costs in US dollars\n",
    "revenue: revenue income in US dollars\n",
    "```\n",
    "\n",
    "----"
   ]
  },
  {
   "cell_type": "markdown",
   "metadata": {},
   "source": [
    "Load the appropriate libraries"
   ]
  },
  {
   "cell_type": "code",
   "execution_count": 2,
   "metadata": {
    "ExecuteTime": {
     "end_time": "2020-02-09T17:50:44.385854Z",
     "start_time": "2020-02-09T17:50:43.360310Z"
    }
   },
   "outputs": [],
   "source": [
    "%matplotlib inline\n",
    "import numpy as np\n",
    "import matplotlib.pyplot as plt\n",
    "import pandas as pd\n",
    "import seaborn as sns\n",
    "pd.set_option('display.width', 500)\n",
    "pd.set_option('display.max_columns', 100)"
   ]
  },
  {
   "cell_type": "markdown",
   "metadata": {},
   "source": [
    "### Cleaning: Reading in the data"
   ]
  },
  {
   "cell_type": "code",
   "execution_count": 3,
   "metadata": {
    "ExecuteTime": {
     "end_time": "2020-02-09T17:50:45.139368Z",
     "start_time": "2020-02-09T17:50:44.387849Z"
    }
   },
   "outputs": [],
   "source": [
    "#Read the data into a dataframe\n",
    "df = pd.read_csv(\"movies.csv\", parse_dates=[\"release_date\"])"
   ]
  },
  {
   "cell_type": "code",
   "execution_count": 4,
   "metadata": {
    "ExecuteTime": {
     "end_time": "2020-02-09T17:50:45.158649Z",
     "start_time": "2020-02-09T17:50:45.139368Z"
    }
   },
   "outputs": [
    {
     "data": {
      "text/html": [
       "<div>\n",
       "<style scoped>\n",
       "    .dataframe tbody tr th:only-of-type {\n",
       "        vertical-align: middle;\n",
       "    }\n",
       "\n",
       "    .dataframe tbody tr th {\n",
       "        vertical-align: top;\n",
       "    }\n",
       "\n",
       "    .dataframe thead th {\n",
       "        text-align: right;\n",
       "    }\n",
       "</style>\n",
       "<table border=\"1\" class=\"dataframe\">\n",
       "  <thead>\n",
       "    <tr style=\"text-align: right;\">\n",
       "      <th></th>\n",
       "      <th>id</th>\n",
       "      <th>title</th>\n",
       "      <th>cast</th>\n",
       "      <th>director</th>\n",
       "      <th>runtime</th>\n",
       "      <th>genres</th>\n",
       "      <th>release_date</th>\n",
       "      <th>users_voted</th>\n",
       "      <th>rating</th>\n",
       "      <th>release_year</th>\n",
       "      <th>budget</th>\n",
       "      <th>revenue</th>\n",
       "    </tr>\n",
       "  </thead>\n",
       "  <tbody>\n",
       "    <tr>\n",
       "      <th>0</th>\n",
       "      <td>135397</td>\n",
       "      <td>Jurassic World</td>\n",
       "      <td>Chris Pratt|Bryce Dallas Howard|Irrfan Khan|Vi...</td>\n",
       "      <td>Colin Trevorrow</td>\n",
       "      <td>124</td>\n",
       "      <td>Action|Adventure|Science Fiction|Thriller</td>\n",
       "      <td>2015-06-09</td>\n",
       "      <td>5562</td>\n",
       "      <td>3.25</td>\n",
       "      <td>2015</td>\n",
       "      <td>150000000</td>\n",
       "      <td>1513528810</td>\n",
       "    </tr>\n",
       "    <tr>\n",
       "      <th>1</th>\n",
       "      <td>76341</td>\n",
       "      <td>Mad Max: Fury Road</td>\n",
       "      <td>Tom Hardy|Charlize Theron|Hugh Keays-Byrne|Nic...</td>\n",
       "      <td>George Miller</td>\n",
       "      <td>120</td>\n",
       "      <td>Action|Adventure|Science Fiction|Thriller</td>\n",
       "      <td>2015-05-13</td>\n",
       "      <td>6185</td>\n",
       "      <td>3.55</td>\n",
       "      <td>2015</td>\n",
       "      <td>150000000</td>\n",
       "      <td>378436354</td>\n",
       "    </tr>\n",
       "    <tr>\n",
       "      <th>2</th>\n",
       "      <td>262500</td>\n",
       "      <td>Insurgent</td>\n",
       "      <td>Shailene Woodley|Theo James|Kate Winslet|Ansel...</td>\n",
       "      <td>Robert Schwentke</td>\n",
       "      <td>119</td>\n",
       "      <td>Adventure|Science Fiction|Thriller</td>\n",
       "      <td>2015-03-18</td>\n",
       "      <td>2480</td>\n",
       "      <td>3.15</td>\n",
       "      <td>2015</td>\n",
       "      <td>110000000</td>\n",
       "      <td>295238201</td>\n",
       "    </tr>\n",
       "    <tr>\n",
       "      <th>3</th>\n",
       "      <td>140607</td>\n",
       "      <td>Star Wars: The Force Awakens</td>\n",
       "      <td>Harrison Ford|Mark Hamill|Carrie Fisher|Adam D...</td>\n",
       "      <td>J.J. Abrams</td>\n",
       "      <td>136</td>\n",
       "      <td>Action|Adventure|Science Fiction|Fantasy</td>\n",
       "      <td>2015-12-15</td>\n",
       "      <td>5292</td>\n",
       "      <td>3.75</td>\n",
       "      <td>2015</td>\n",
       "      <td>200000000</td>\n",
       "      <td>2068178225</td>\n",
       "    </tr>\n",
       "    <tr>\n",
       "      <th>4</th>\n",
       "      <td>168259</td>\n",
       "      <td>Furious 7</td>\n",
       "      <td>Vin Diesel|Paul Walker|Jason Statham|Michelle ...</td>\n",
       "      <td>James Wan</td>\n",
       "      <td>137</td>\n",
       "      <td>Action|Crime|Thriller</td>\n",
       "      <td>2015-04-01</td>\n",
       "      <td>2947</td>\n",
       "      <td>3.65</td>\n",
       "      <td>2015</td>\n",
       "      <td>190000000</td>\n",
       "      <td>1506249360</td>\n",
       "    </tr>\n",
       "  </tbody>\n",
       "</table>\n",
       "</div>"
      ],
      "text/plain": [
       "       id                         title                                               cast          director  runtime                                     genres release_date  users_voted  rating  release_year     budget     revenue\n",
       "0  135397                Jurassic World  Chris Pratt|Bryce Dallas Howard|Irrfan Khan|Vi...   Colin Trevorrow      124  Action|Adventure|Science Fiction|Thriller   2015-06-09         5562    3.25          2015  150000000  1513528810\n",
       "1   76341            Mad Max: Fury Road  Tom Hardy|Charlize Theron|Hugh Keays-Byrne|Nic...     George Miller      120  Action|Adventure|Science Fiction|Thriller   2015-05-13         6185    3.55          2015  150000000   378436354\n",
       "2  262500                     Insurgent  Shailene Woodley|Theo James|Kate Winslet|Ansel...  Robert Schwentke      119         Adventure|Science Fiction|Thriller   2015-03-18         2480    3.15          2015  110000000   295238201\n",
       "3  140607  Star Wars: The Force Awakens  Harrison Ford|Mark Hamill|Carrie Fisher|Adam D...       J.J. Abrams      136   Action|Adventure|Science Fiction|Fantasy   2015-12-15         5292    3.75          2015  200000000  2068178225\n",
       "4  168259                     Furious 7  Vin Diesel|Paul Walker|Jason Statham|Michelle ...         James Wan      137                      Action|Crime|Thriller   2015-04-01         2947    3.65          2015  190000000  1506249360"
      ]
     },
     "execution_count": 4,
     "metadata": {},
     "output_type": "execute_result"
    }
   ],
   "source": [
    "df.head()"
   ]
  },
  {
   "cell_type": "markdown",
   "metadata": {},
   "source": [
    "There are more than two date formats in `release_date` column, therefore it's not possible to parse the dates with `to_datetime()` method. Thankfully, this issue is solved by adding the `parse_dates` argument - the dates are properly parsed."
   ]
  },
  {
   "cell_type": "markdown",
   "metadata": {},
   "source": [
    "### Cleaning: Examing the dataframe - quick checks\n",
    "\n",
    "We should examine the dataframe to get a overall sense of the content. "
   ]
  },
  {
   "cell_type": "code",
   "execution_count": 5,
   "metadata": {
    "ExecuteTime": {
     "end_time": "2020-02-09T17:50:45.177602Z",
     "start_time": "2020-02-09T17:50:45.159616Z"
    }
   },
   "outputs": [
    {
     "data": {
      "text/plain": [
       "id                       int64\n",
       "title                   object\n",
       "cast                    object\n",
       "director                object\n",
       "runtime                  int64\n",
       "genres                  object\n",
       "release_date    datetime64[ns]\n",
       "users_voted              int64\n",
       "rating                 float64\n",
       "release_year             int64\n",
       "budget                   int64\n",
       "revenue                  int64\n",
       "dtype: object"
      ]
     },
     "execution_count": 5,
     "metadata": {},
     "output_type": "execute_result"
    }
   ],
   "source": [
    "df.dtypes"
   ]
  },
  {
   "cell_type": "markdown",
   "metadata": {},
   "source": [
    "Everything seems okay, numeric variables are indeed numeric and string variables are of type object."
   ]
  },
  {
   "cell_type": "code",
   "execution_count": 6,
   "metadata": {
    "ExecuteTime": {
     "end_time": "2020-02-09T17:50:45.194993Z",
     "start_time": "2020-02-09T17:50:45.179569Z"
    }
   },
   "outputs": [
    {
     "data": {
      "text/plain": [
       "(10866, 12)"
      ]
     },
     "execution_count": 6,
     "metadata": {},
     "output_type": "execute_result"
    }
   ],
   "source": [
    "df.shape"
   ]
  },
  {
   "cell_type": "markdown",
   "metadata": {},
   "source": [
    "**B** There are 10866 movies, each with 12 features"
   ]
  },
  {
   "cell_type": "code",
   "execution_count": 7,
   "metadata": {
    "ExecuteTime": {
     "end_time": "2020-02-09T17:50:45.234339Z",
     "start_time": "2020-02-09T17:50:45.196957Z"
    }
   },
   "outputs": [
    {
     "data": {
      "text/html": [
       "<div>\n",
       "<style scoped>\n",
       "    .dataframe tbody tr th:only-of-type {\n",
       "        vertical-align: middle;\n",
       "    }\n",
       "\n",
       "    .dataframe tbody tr th {\n",
       "        vertical-align: top;\n",
       "    }\n",
       "\n",
       "    .dataframe thead th {\n",
       "        text-align: right;\n",
       "    }\n",
       "</style>\n",
       "<table border=\"1\" class=\"dataframe\">\n",
       "  <thead>\n",
       "    <tr style=\"text-align: right;\">\n",
       "      <th></th>\n",
       "      <th>id</th>\n",
       "      <th>runtime</th>\n",
       "      <th>users_voted</th>\n",
       "      <th>rating</th>\n",
       "      <th>release_year</th>\n",
       "      <th>budget</th>\n",
       "      <th>revenue</th>\n",
       "    </tr>\n",
       "  </thead>\n",
       "  <tbody>\n",
       "    <tr>\n",
       "      <th>count</th>\n",
       "      <td>10866.000000</td>\n",
       "      <td>10866.000000</td>\n",
       "      <td>10866.000000</td>\n",
       "      <td>10861.000000</td>\n",
       "      <td>10866.000000</td>\n",
       "      <td>1.086600e+04</td>\n",
       "      <td>1.086600e+04</td>\n",
       "    </tr>\n",
       "    <tr>\n",
       "      <th>mean</th>\n",
       "      <td>66064.177434</td>\n",
       "      <td>102.070863</td>\n",
       "      <td>217.389748</td>\n",
       "      <td>2.987386</td>\n",
       "      <td>2001.322658</td>\n",
       "      <td>1.462570e+07</td>\n",
       "      <td>3.982332e+07</td>\n",
       "    </tr>\n",
       "    <tr>\n",
       "      <th>std</th>\n",
       "      <td>92130.136561</td>\n",
       "      <td>31.381405</td>\n",
       "      <td>575.619058</td>\n",
       "      <td>0.467639</td>\n",
       "      <td>12.812941</td>\n",
       "      <td>3.091321e+07</td>\n",
       "      <td>1.170035e+08</td>\n",
       "    </tr>\n",
       "    <tr>\n",
       "      <th>min</th>\n",
       "      <td>5.000000</td>\n",
       "      <td>0.000000</td>\n",
       "      <td>10.000000</td>\n",
       "      <td>0.750000</td>\n",
       "      <td>1960.000000</td>\n",
       "      <td>0.000000e+00</td>\n",
       "      <td>0.000000e+00</td>\n",
       "    </tr>\n",
       "    <tr>\n",
       "      <th>25%</th>\n",
       "      <td>10596.250000</td>\n",
       "      <td>90.000000</td>\n",
       "      <td>17.000000</td>\n",
       "      <td>2.700000</td>\n",
       "      <td>1995.000000</td>\n",
       "      <td>0.000000e+00</td>\n",
       "      <td>0.000000e+00</td>\n",
       "    </tr>\n",
       "    <tr>\n",
       "      <th>50%</th>\n",
       "      <td>20669.000000</td>\n",
       "      <td>99.000000</td>\n",
       "      <td>38.000000</td>\n",
       "      <td>3.000000</td>\n",
       "      <td>2006.000000</td>\n",
       "      <td>0.000000e+00</td>\n",
       "      <td>0.000000e+00</td>\n",
       "    </tr>\n",
       "    <tr>\n",
       "      <th>75%</th>\n",
       "      <td>75610.000000</td>\n",
       "      <td>111.000000</td>\n",
       "      <td>145.750000</td>\n",
       "      <td>3.300000</td>\n",
       "      <td>2011.000000</td>\n",
       "      <td>1.500000e+07</td>\n",
       "      <td>2.400000e+07</td>\n",
       "    </tr>\n",
       "    <tr>\n",
       "      <th>max</th>\n",
       "      <td>417859.000000</td>\n",
       "      <td>900.000000</td>\n",
       "      <td>9767.000000</td>\n",
       "      <td>4.600000</td>\n",
       "      <td>2015.000000</td>\n",
       "      <td>4.250000e+08</td>\n",
       "      <td>2.781506e+09</td>\n",
       "    </tr>\n",
       "  </tbody>\n",
       "</table>\n",
       "</div>"
      ],
      "text/plain": [
       "                  id       runtime   users_voted        rating  release_year        budget       revenue\n",
       "count   10866.000000  10866.000000  10866.000000  10861.000000  10866.000000  1.086600e+04  1.086600e+04\n",
       "mean    66064.177434    102.070863    217.389748      2.987386   2001.322658  1.462570e+07  3.982332e+07\n",
       "std     92130.136561     31.381405    575.619058      0.467639     12.812941  3.091321e+07  1.170035e+08\n",
       "min         5.000000      0.000000     10.000000      0.750000   1960.000000  0.000000e+00  0.000000e+00\n",
       "25%     10596.250000     90.000000     17.000000      2.700000   1995.000000  0.000000e+00  0.000000e+00\n",
       "50%     20669.000000     99.000000     38.000000      3.000000   2006.000000  0.000000e+00  0.000000e+00\n",
       "75%     75610.000000    111.000000    145.750000      3.300000   2011.000000  1.500000e+07  2.400000e+07\n",
       "max    417859.000000    900.000000   9767.000000      4.600000   2015.000000  4.250000e+08  2.781506e+09"
      ]
     },
     "execution_count": 7,
     "metadata": {},
     "output_type": "execute_result"
    }
   ],
   "source": [
    "df.describe()"
   ]
  },
  {
   "cell_type": "markdown",
   "metadata": {
    "ExecuteTime": {
     "end_time": "2020-02-07T09:06:46.772255Z",
     "start_time": "2020-02-07T09:06:46.767299Z"
    }
   },
   "source": [
    "The above method summarizes some basic statistics. It helps to make sanity checks on edge values - for example rating should be between 0 and 5. Here you can see that min value of rating is 0.75 and max value is 4.6 so this is correct. Based on common sense, none of the numerical variables should be negative - looking at the above table, it checks out. This may seem irrelevant, but even from my short work experience I can tell situations like that happen sometimes."
   ]
  },
  {
   "cell_type": "markdown",
   "metadata": {},
   "source": [
    "It's also worth checking any numbers that seem weird. Often this means that there's an error. For example maximum runtime is 900 which means that some movie supposedly is 15 hours long, which would be quite bizarre."
   ]
  },
  {
   "cell_type": "markdown",
   "metadata": {},
   "source": [
    "After checking the title and googling it, it appears that the film was presented in 15 one-hour chapters. So everything is correct in this case."
   ]
  },
  {
   "cell_type": "markdown",
   "metadata": {},
   "source": [
    "### Cleaning: Examining the dataframe - a deeper look"
   ]
  },
  {
   "cell_type": "code",
   "execution_count": 8,
   "metadata": {
    "ExecuteTime": {
     "end_time": "2020-02-09T17:50:45.917671Z",
     "start_time": "2020-02-09T17:50:45.907695Z"
    },
    "scrolled": false
   },
   "outputs": [
    {
     "data": {
      "text/plain": [
       "id               0\n",
       "title            0\n",
       "cast            76\n",
       "director        44\n",
       "runtime          0\n",
       "genres          23\n",
       "release_date     0\n",
       "users_voted      0\n",
       "rating           5\n",
       "release_year     0\n",
       "budget           0\n",
       "revenue          0\n",
       "dtype: int64"
      ]
     },
     "execution_count": 8,
     "metadata": {},
     "output_type": "execute_result"
    }
   ],
   "source": [
    "df.isna().sum()"
   ]
  },
  {
   "cell_type": "markdown",
   "metadata": {},
   "source": [
    "As mentioned in the docs, the `describe()` method excludes NaN values when computing statistics."
   ]
  },
  {
   "cell_type": "markdown",
   "metadata": {},
   "source": [
    "### Cleaning: Dealing with Missing Values\n",
    "How should we interpret 'missing' or 'invalid' values in the data (hint: look at where these values occur)?\n",
    "\n",
    "Think of the techniques we discussed during lecture and apply it below. Remember that there is no golden rule about which technique is best, as long as you as an experienced data scientist report how you handled them."
   ]
  },
  {
   "cell_type": "markdown",
   "metadata": {},
   "source": [
    "Fortunately, there are not many missing values. For the purpose of data exploration, I think the best choice is to use a separate \"Unknown\" class for categorical variables. This is a common choice in many visualizations. Substituting missing values with the most common categories etc. might significantly change the dataset. For `rating` we can just replace it with the mean, it's only 5 rows anyway..."
   ]
  },
  {
   "cell_type": "code",
   "execution_count": 9,
   "metadata": {
    "ExecuteTime": {
     "end_time": "2020-02-09T17:50:46.726355Z",
     "start_time": "2020-02-09T17:50:46.718342Z"
    }
   },
   "outputs": [],
   "source": [
    "df[['cast','director','genres']] = df[['cast','director','genres']].fillna(\"Unknown\")"
   ]
  },
  {
   "cell_type": "code",
   "execution_count": 10,
   "metadata": {
    "ExecuteTime": {
     "end_time": "2020-02-09T17:50:46.933879Z",
     "start_time": "2020-02-09T17:50:46.928880Z"
    }
   },
   "outputs": [],
   "source": [
    "df['rating'].fillna(df['rating'].mean(),inplace=True)"
   ]
  },
  {
   "cell_type": "markdown",
   "metadata": {},
   "source": [
    "Let's check if it worked."
   ]
  },
  {
   "cell_type": "code",
   "execution_count": 11,
   "metadata": {
    "ExecuteTime": {
     "end_time": "2020-02-09T17:50:47.418880Z",
     "start_time": "2020-02-09T17:50:47.409896Z"
    }
   },
   "outputs": [
    {
     "name": "stdout",
     "output_type": "stream",
     "text": [
      "Any missing values left? False\n"
     ]
    }
   ],
   "source": [
    "print(\"Any missing values left?\",df.isna().sum().any())"
   ]
  },
  {
   "cell_type": "markdown",
   "metadata": {},
   "source": [
    "##  Part 2: Asking Questions\n",
    "Think of few questions we want to ask and then examine the data and decide if the dataframe contains what you need to address these questions. \n",
    "\n",
    "**Example:** Which are the highest rated movies? To determine this, you'll only need the data in two columns: `title` and `rating`. The task will be to sort these two columns by the value in `rating`.\n",
    "\n",
    "Try to formulate questions that you can explain to non-scientists and use your imagination (e.g. look for your favorite actor or movie)\n",
    "\n",
    "[5 min]"
   ]
  },
  {
   "cell_type": "code",
   "execution_count": 12,
   "metadata": {
    "ExecuteTime": {
     "end_time": "2020-02-09T17:50:47.742216Z",
     "start_time": "2020-02-09T17:50:47.729219Z"
    }
   },
   "outputs": [
    {
     "data": {
      "text/html": [
       "<div>\n",
       "<style scoped>\n",
       "    .dataframe tbody tr th:only-of-type {\n",
       "        vertical-align: middle;\n",
       "    }\n",
       "\n",
       "    .dataframe tbody tr th {\n",
       "        vertical-align: top;\n",
       "    }\n",
       "\n",
       "    .dataframe thead th {\n",
       "        text-align: right;\n",
       "    }\n",
       "</style>\n",
       "<table border=\"1\" class=\"dataframe\">\n",
       "  <thead>\n",
       "    <tr style=\"text-align: right;\">\n",
       "      <th></th>\n",
       "      <th>id</th>\n",
       "      <th>title</th>\n",
       "      <th>cast</th>\n",
       "      <th>director</th>\n",
       "      <th>runtime</th>\n",
       "      <th>genres</th>\n",
       "      <th>release_date</th>\n",
       "      <th>users_voted</th>\n",
       "      <th>rating</th>\n",
       "      <th>release_year</th>\n",
       "      <th>budget</th>\n",
       "      <th>revenue</th>\n",
       "    </tr>\n",
       "  </thead>\n",
       "  <tbody>\n",
       "    <tr>\n",
       "      <th>0</th>\n",
       "      <td>135397</td>\n",
       "      <td>Jurassic World</td>\n",
       "      <td>Chris Pratt|Bryce Dallas Howard|Irrfan Khan|Vi...</td>\n",
       "      <td>Colin Trevorrow</td>\n",
       "      <td>124</td>\n",
       "      <td>Action|Adventure|Science Fiction|Thriller</td>\n",
       "      <td>2015-06-09</td>\n",
       "      <td>5562</td>\n",
       "      <td>3.25</td>\n",
       "      <td>2015</td>\n",
       "      <td>150000000</td>\n",
       "      <td>1513528810</td>\n",
       "    </tr>\n",
       "    <tr>\n",
       "      <th>1</th>\n",
       "      <td>76341</td>\n",
       "      <td>Mad Max: Fury Road</td>\n",
       "      <td>Tom Hardy|Charlize Theron|Hugh Keays-Byrne|Nic...</td>\n",
       "      <td>George Miller</td>\n",
       "      <td>120</td>\n",
       "      <td>Action|Adventure|Science Fiction|Thriller</td>\n",
       "      <td>2015-05-13</td>\n",
       "      <td>6185</td>\n",
       "      <td>3.55</td>\n",
       "      <td>2015</td>\n",
       "      <td>150000000</td>\n",
       "      <td>378436354</td>\n",
       "    </tr>\n",
       "    <tr>\n",
       "      <th>2</th>\n",
       "      <td>262500</td>\n",
       "      <td>Insurgent</td>\n",
       "      <td>Shailene Woodley|Theo James|Kate Winslet|Ansel...</td>\n",
       "      <td>Robert Schwentke</td>\n",
       "      <td>119</td>\n",
       "      <td>Adventure|Science Fiction|Thriller</td>\n",
       "      <td>2015-03-18</td>\n",
       "      <td>2480</td>\n",
       "      <td>3.15</td>\n",
       "      <td>2015</td>\n",
       "      <td>110000000</td>\n",
       "      <td>295238201</td>\n",
       "    </tr>\n",
       "    <tr>\n",
       "      <th>3</th>\n",
       "      <td>140607</td>\n",
       "      <td>Star Wars: The Force Awakens</td>\n",
       "      <td>Harrison Ford|Mark Hamill|Carrie Fisher|Adam D...</td>\n",
       "      <td>J.J. Abrams</td>\n",
       "      <td>136</td>\n",
       "      <td>Action|Adventure|Science Fiction|Fantasy</td>\n",
       "      <td>2015-12-15</td>\n",
       "      <td>5292</td>\n",
       "      <td>3.75</td>\n",
       "      <td>2015</td>\n",
       "      <td>200000000</td>\n",
       "      <td>2068178225</td>\n",
       "    </tr>\n",
       "    <tr>\n",
       "      <th>4</th>\n",
       "      <td>168259</td>\n",
       "      <td>Furious 7</td>\n",
       "      <td>Vin Diesel|Paul Walker|Jason Statham|Michelle ...</td>\n",
       "      <td>James Wan</td>\n",
       "      <td>137</td>\n",
       "      <td>Action|Crime|Thriller</td>\n",
       "      <td>2015-04-01</td>\n",
       "      <td>2947</td>\n",
       "      <td>3.65</td>\n",
       "      <td>2015</td>\n",
       "      <td>190000000</td>\n",
       "      <td>1506249360</td>\n",
       "    </tr>\n",
       "  </tbody>\n",
       "</table>\n",
       "</div>"
      ],
      "text/plain": [
       "       id                         title                                               cast          director  runtime                                     genres release_date  users_voted  rating  release_year     budget     revenue\n",
       "0  135397                Jurassic World  Chris Pratt|Bryce Dallas Howard|Irrfan Khan|Vi...   Colin Trevorrow      124  Action|Adventure|Science Fiction|Thriller   2015-06-09         5562    3.25          2015  150000000  1513528810\n",
       "1   76341            Mad Max: Fury Road  Tom Hardy|Charlize Theron|Hugh Keays-Byrne|Nic...     George Miller      120  Action|Adventure|Science Fiction|Thriller   2015-05-13         6185    3.55          2015  150000000   378436354\n",
       "2  262500                     Insurgent  Shailene Woodley|Theo James|Kate Winslet|Ansel...  Robert Schwentke      119         Adventure|Science Fiction|Thriller   2015-03-18         2480    3.15          2015  110000000   295238201\n",
       "3  140607  Star Wars: The Force Awakens  Harrison Ford|Mark Hamill|Carrie Fisher|Adam D...       J.J. Abrams      136   Action|Adventure|Science Fiction|Fantasy   2015-12-15         5292    3.75          2015  200000000  2068178225\n",
       "4  168259                     Furious 7  Vin Diesel|Paul Walker|Jason Statham|Michelle ...         James Wan      137                      Action|Crime|Thriller   2015-04-01         2947    3.65          2015  190000000  1506249360"
      ]
     },
     "execution_count": 12,
     "metadata": {},
     "output_type": "execute_result"
    }
   ],
   "source": [
    "df.head()"
   ]
  },
  {
   "cell_type": "markdown",
   "metadata": {
    "ExecuteTime": {
     "end_time": "2020-02-07T19:58:52.682698Z",
     "start_time": "2020-02-07T19:58:52.665750Z"
    }
   },
   "source": [
    "### Questions\n",
    "1. Which actor has the best average movie rating?\n",
    "2. Which director made the most movies?\n",
    "3. Is there a correlation betwen release date and revenue? Are there any periods especially beneficial for releasing a movie? (For example winter, when days are short and it's cold outside)\n",
    "4. Is there a correlation between the budget and revenue? (Intuitively, there should be a positive correlation)\n",
    "5. Is there a correlation between the revenue and the rating? (Theoretically, revenue means a lot of people saw the film -> a lot of people recommended the film -> the film is good)"
   ]
  },
  {
   "cell_type": "markdown",
   "metadata": {},
   "source": [
    "---"
   ]
  },
  {
   "cell_type": "markdown",
   "metadata": {},
   "source": [
    "## Part 3: EDA \n",
    "Before proceeding any further, get to know the dataset using a few \"global property\" visualizations, illustrating histograms or other visualizations. Do you find anything interesting or strange? Report it.\n",
    "\n",
    "\n",
    "[20 minutes]\n",
    "\n",
    "---"
   ]
  },
  {
   "cell_type": "markdown",
   "metadata": {},
   "source": [
    "Choose the numerical (quantitative) columns to generate some histograms."
   ]
  },
  {
   "cell_type": "code",
   "execution_count": 20,
   "metadata": {
    "ExecuteTime": {
     "end_time": "2020-02-09T17:52:35.454260Z",
     "start_time": "2020-02-09T17:52:35.451264Z"
    }
   },
   "outputs": [],
   "source": [
    "num_cols = ['runtime','users_voted','release_year','budget','revenue']"
   ]
  },
  {
   "cell_type": "code",
   "execution_count": 24,
   "metadata": {
    "ExecuteTime": {
     "end_time": "2020-02-09T17:53:53.096895Z",
     "start_time": "2020-02-09T17:53:52.850421Z"
    }
   },
   "outputs": [
    {
     "data": {
      "image/png": "[encoded data removed]",
      "text/plain": [
       "<Figure size 432x288 with 1 Axes>"
      ]
     },
     "metadata": {
      "needs_background": "light"
     },
     "output_type": "display_data"
    }
   ],
   "source": [
    "df.runtime.hist(bins=100)\n",
    "plt.xlabel('Runtime (in minutes)')\n",
    "plt.ylabel('Movies count')\n",
    "plt.title('Runtime histogram')\n",
    "plt.xlim((0,300))\n",
    "plt.show()"
   ]
  },
  {
   "cell_type": "markdown",
   "metadata": {},
   "source": [
    "We can see that the histogram is unimodal, skewed right. Most of the movies are between 1 and 3 hours long, which seems plausible."
   ]
  },
  {
   "cell_type": "code",
   "execution_count": 45,
   "metadata": {
    "ExecuteTime": {
     "end_time": "2020-02-09T18:09:14.670537Z",
     "start_time": "2020-02-09T18:09:13.946239Z"
    }
   },
   "outputs": [
    {
     "data": {
      "image/png": "[encoded data removed]",
      "text/plain": [
       "<Figure size 432x288 with 1 Axes>"
      ]
     },
     "metadata": {
      "needs_background": "light"
     },
     "output_type": "display_data"
    }
   ],
   "source": [
    "df.users_voted.hist(bins=500)\n",
    "plt.xlabel('Users\\' votes count')\n",
    "plt.ylabel('Movies count')\n",
    "plt.title('Users\\' votes histogram')\n",
    "plt.xlim((0,2000))\n",
    "plt.show()"
   ]
  },
  {
   "cell_type": "markdown",
   "metadata": {},
   "source": [
    "Seems that the majority of movies don't have any votes, the distribution is similar to exponential, but even steeper. Let's zoom in a bit more."
   ]
  },
  {
   "cell_type": "code",
   "execution_count": 47,
   "metadata": {
    "ExecuteTime": {
     "end_time": "2020-02-09T18:09:43.402392Z",
     "start_time": "2020-02-09T18:09:42.132795Z"
    }
   },
   "outputs": [
    {
     "data": {
      "image/png": "[encoded data removed]",
      "text/plain": [
       "<Figure size 432x288 with 1 Axes>"
      ]
     },
     "metadata": {
      "needs_background": "light"
     },
     "output_type": "display_data"
    }
   ],
   "source": [
    "df.users_voted.hist(bins=1000)\n",
    "plt.xlabel('Users\\' votes count')\n",
    "plt.ylabel('Movies count')\n",
    "plt.title('Users\\' votes histogram')\n",
    "plt.xlim((0,100))\n",
    "plt.show()"
   ]
  },
  {
   "cell_type": "code",
   "execution_count": 50,
   "metadata": {
    "ExecuteTime": {
     "end_time": "2020-02-09T18:10:18.027160Z",
     "start_time": "2020-02-09T18:10:18.021169Z"
    }
   },
   "outputs": [
    {
     "data": {
      "text/plain": [
       "3330"
      ]
     },
     "execution_count": 50,
     "metadata": {},
     "output_type": "execute_result"
    }
   ],
   "source": [
    "df[df.users_voted<20].shape[0]"
   ]
  },
  {
   "cell_type": "markdown",
   "metadata": {},
   "source": [
    "After having a closer look, we can see that every movie has some votes, but 3330 (about 1/3 of the whole dataset) of them has less than 20 votes"
   ]
  },
  {
   "cell_type": "code",
   "execution_count": 81,
   "metadata": {
    "ExecuteTime": {
     "end_time": "2020-02-09T18:21:41.348379Z",
     "start_time": "2020-02-09T18:21:40.723083Z"
    }
   },
   "outputs": [
    {
     "data": {
      "image/png": "[encoded data removed]",
      "text/plain": [
       "<Figure size 432x288 with 1 Axes>"
      ]
     },
     "metadata": {
      "needs_background": "light"
     },
     "output_type": "display_data"
    },
    {
     "data": {
      "image/png": "[encoded data removed]",
      "text/plain": [
       "<Figure size 432x288 with 1 Axes>"
      ]
     },
     "metadata": {
      "needs_background": "light"
     },
     "output_type": "display_data"
    },
    {
     "data": {
      "image/png": "[encoded data removed]",
      "text/plain": [
       "<Figure size 432x288 with 1 Axes>"
      ]
     },
     "metadata": {
      "needs_background": "light"
     },
     "output_type": "display_data"
    }
   ],
   "source": [
    "unique_years = df.release_year.nunique()\n",
    "for num_bins in [30,40,unique_years]:\n",
    "    df.release_year.hist(bins=num_bins)\n",
    "    plt.xlabel('Realese year')\n",
    "    plt.ylabel('Movies count')\n",
    "    plt.title('Release year histogram - {} bins'.format(num_bins))\n",
    "    plt.show()"
   ]
  },
  {
   "cell_type": "markdown",
   "metadata": {},
   "source": [
    "For release year the shape of the plot differs a lot depending on the selected bin size. First diagram has a few sudden drops, on the second one we can observe multiple significant spikes and the last one in which there is one bin per year displays a much smoother distribution. Despite the differences, all plots render an increasing number of movies made over time. This does not necessarily mean that in general less movies were made in earlier years, because it might be that for newer movie it is easier to obtain the data and that is why they are better represented in the dataset."
   ]
  },
  {
   "cell_type": "code",
   "execution_count": 113,
   "metadata": {
    "ExecuteTime": {
     "end_time": "2020-02-09T18:35:38.662728Z",
     "start_time": "2020-02-09T18:35:38.654751Z"
    }
   },
   "outputs": [
    {
     "data": {
      "text/plain": [
       "5696"
      ]
     },
     "execution_count": 113,
     "metadata": {},
     "output_type": "execute_result"
    }
   ],
   "source": [
    "df[df.budget==0].shape[0]"
   ]
  },
  {
   "cell_type": "code",
   "execution_count": 145,
   "metadata": {
    "ExecuteTime": {
     "end_time": "2020-02-09T18:51:40.942821Z",
     "start_time": "2020-02-09T18:51:40.690031Z"
    }
   },
   "outputs": [
    {
     "data": {
      "image/png": "[encoded data removed]",
      "text/plain": [
       "<Figure size 432x288 with 1 Axes>"
      ]
     },
     "metadata": {
      "needs_background": "light"
     },
     "output_type": "display_data"
    }
   ],
   "source": [
    "df.budget.hist(bins=100)\n",
    "plt.xlabel('Budget')\n",
    "plt.ylabel('Movies count')\n",
    "plt.title('Budget histogram')\n",
    "# plt.ylim((0,1000))\n",
    "plt.show()"
   ]
  },
  {
   "cell_type": "markdown",
   "metadata": {
    "ExecuteTime": {
     "end_time": "2020-02-09T18:38:45.197844Z",
     "start_time": "2020-02-09T18:38:45.191861Z"
    }
   },
   "source": [
    "Of course, the movie count decreases as the budget increases. A lot of movies have hardly any budget, let's check the exact numbers."
   ]
  },
  {
   "cell_type": "code",
   "execution_count": 138,
   "metadata": {
    "ExecuteTime": {
     "end_time": "2020-02-09T18:41:28.498663Z",
     "start_time": "2020-02-09T18:41:28.492703Z"
    }
   },
   "outputs": [
    {
     "name": "stdout",
     "output_type": "stream",
     "text": [
      "5696 movies have no budget\n"
     ]
    }
   ],
   "source": [
    "print(\"{} movies have no budget\".format(df[df.budget==0].shape[0]))"
   ]
  },
  {
   "cell_type": "markdown",
   "metadata": {},
   "source": [
    "It seems unbelievable that more than half of movies in the dataset have no budget. Maybe 0 was used to fill missing values in this column. Let us see some examples of movies that supposedly have no budget. "
   ]
  },
  {
   "cell_type": "code",
   "execution_count": 148,
   "metadata": {
    "ExecuteTime": {
     "end_time": "2020-02-09T18:52:36.766323Z",
     "start_time": "2020-02-09T18:52:36.749392Z"
    }
   },
   "outputs": [
    {
     "data": {
      "text/html": [
       "<div>\n",
       "<style scoped>\n",
       "    .dataframe tbody tr th:only-of-type {\n",
       "        vertical-align: middle;\n",
       "    }\n",
       "\n",
       "    .dataframe tbody tr th {\n",
       "        vertical-align: top;\n",
       "    }\n",
       "\n",
       "    .dataframe thead th {\n",
       "        text-align: right;\n",
       "    }\n",
       "</style>\n",
       "<table border=\"1\" class=\"dataframe\">\n",
       "  <thead>\n",
       "    <tr style=\"text-align: right;\">\n",
       "      <th></th>\n",
       "      <th>id</th>\n",
       "      <th>title</th>\n",
       "      <th>cast</th>\n",
       "      <th>director</th>\n",
       "      <th>runtime</th>\n",
       "      <th>genres</th>\n",
       "      <th>release_date</th>\n",
       "      <th>users_voted</th>\n",
       "      <th>rating</th>\n",
       "      <th>release_year</th>\n",
       "      <th>budget</th>\n",
       "      <th>revenue</th>\n",
       "    </tr>\n",
       "  </thead>\n",
       "  <tbody>\n",
       "    <tr>\n",
       "      <th>7410</th>\n",
       "      <td>4638</td>\n",
       "      <td>Hot Fuzz</td>\n",
       "      <td>Simon Pegg|Nick Frost|Timothy Dalton|Jim Broad...</td>\n",
       "      <td>Edgar Wright</td>\n",
       "      <td>121</td>\n",
       "      <td>Crime|Action|Comedy</td>\n",
       "      <td>2007-02-14</td>\n",
       "      <td>1329</td>\n",
       "      <td>3.60</td>\n",
       "      <td>2007</td>\n",
       "      <td>0</td>\n",
       "      <td>80573774</td>\n",
       "    </tr>\n",
       "    <tr>\n",
       "      <th>5450</th>\n",
       "      <td>122906</td>\n",
       "      <td>About Time</td>\n",
       "      <td>Rachel McAdams|Bill Nighy|Domhnall Gleeson|Tom...</td>\n",
       "      <td>Richard Curtis</td>\n",
       "      <td>123</td>\n",
       "      <td>Comedy|Drama|Science Fiction</td>\n",
       "      <td>2013-08-16</td>\n",
       "      <td>1329</td>\n",
       "      <td>3.85</td>\n",
       "      <td>2013</td>\n",
       "      <td>0</td>\n",
       "      <td>87100449</td>\n",
       "    </tr>\n",
       "    <tr>\n",
       "      <th>746</th>\n",
       "      <td>188161</td>\n",
       "      <td>A Million Ways to Die in the West</td>\n",
       "      <td>Seth MacFarlane|Charlize Theron|Liam Neeson|Am...</td>\n",
       "      <td>Seth MacFarlane</td>\n",
       "      <td>116</td>\n",
       "      <td>Comedy|Western</td>\n",
       "      <td>2014-05-22</td>\n",
       "      <td>1074</td>\n",
       "      <td>2.95</td>\n",
       "      <td>2014</td>\n",
       "      <td>0</td>\n",
       "      <td>0</td>\n",
       "    </tr>\n",
       "    <tr>\n",
       "      <th>2419</th>\n",
       "      <td>37135</td>\n",
       "      <td>Tarzan</td>\n",
       "      <td>Tony Goldwyn|Glenn Close|Minnie Driver|Brian B...</td>\n",
       "      <td>Chris Buck|Kevin Lima</td>\n",
       "      <td>88</td>\n",
       "      <td>Adventure|Animation|Drama|Family</td>\n",
       "      <td>1999-06-18</td>\n",
       "      <td>912</td>\n",
       "      <td>3.45</td>\n",
       "      <td>1999</td>\n",
       "      <td>0</td>\n",
       "      <td>0</td>\n",
       "    </tr>\n",
       "    <tr>\n",
       "      <th>693</th>\n",
       "      <td>200727</td>\n",
       "      <td>Love, Rosie</td>\n",
       "      <td>Lily Collins|Sam Claflin|Suki Waterhouse|Chris...</td>\n",
       "      <td>Christian Ditter</td>\n",
       "      <td>102</td>\n",
       "      <td>Comedy|Romance</td>\n",
       "      <td>2014-07-02</td>\n",
       "      <td>904</td>\n",
       "      <td>3.80</td>\n",
       "      <td>2014</td>\n",
       "      <td>0</td>\n",
       "      <td>4439431</td>\n",
       "    </tr>\n",
       "  </tbody>\n",
       "</table>\n",
       "</div>"
      ],
      "text/plain": [
       "          id                              title                                               cast               director  runtime                            genres release_date  users_voted  rating  release_year  budget   revenue\n",
       "7410    4638                           Hot Fuzz  Simon Pegg|Nick Frost|Timothy Dalton|Jim Broad...           Edgar Wright      121               Crime|Action|Comedy   2007-02-14         1329    3.60          2007       0  80573774\n",
       "5450  122906                         About Time  Rachel McAdams|Bill Nighy|Domhnall Gleeson|Tom...         Richard Curtis      123      Comedy|Drama|Science Fiction   2013-08-16         1329    3.85          2013       0  87100449\n",
       "746   188161  A Million Ways to Die in the West  Seth MacFarlane|Charlize Theron|Liam Neeson|Am...        Seth MacFarlane      116                    Comedy|Western   2014-05-22         1074    2.95          2014       0         0\n",
       "2419   37135                             Tarzan  Tony Goldwyn|Glenn Close|Minnie Driver|Brian B...  Chris Buck|Kevin Lima       88  Adventure|Animation|Drama|Family   1999-06-18          912    3.45          1999       0         0\n",
       "693   200727                        Love, Rosie  Lily Collins|Sam Claflin|Suki Waterhouse|Chris...       Christian Ditter      102                    Comedy|Romance   2014-07-02          904    3.80          2014       0   4439431"
      ]
     },
     "execution_count": 148,
     "metadata": {},
     "output_type": "execute_result"
    }
   ],
   "source": [
    "df[df.budget==0].sort_values(by='users_voted',ascending=False).head()"
   ]
  },
  {
   "cell_type": "markdown",
   "metadata": {},
   "source": [
    "Thanks to the nature of this specific dataset we can use external sources (aka the Internet) to check the data. The movie \"Hot Fuzz\" that is on the top of the table in the cell above can be found on iMDB (https://www.imdb.com/title/tt0425112/). It's budget was 8 million pounds. So clearly many (if not all) the movies that have zeros as in the budget column in fact have missing data. Below is a plot containing movies only with positive budgets."
   ]
  },
  {
   "cell_type": "code",
   "execution_count": 149,
   "metadata": {
    "ExecuteTime": {
     "end_time": "2020-02-09T18:52:58.201669Z",
     "start_time": "2020-02-09T18:52:57.962349Z"
    }
   },
   "outputs": [
    {
     "data": {
      "image/png": "[encoded data removed]",
      "text/plain": [
       "<Figure size 432x288 with 1 Axes>"
      ]
     },
     "metadata": {
      "needs_background": "light"
     },
     "output_type": "display_data"
    }
   ],
   "source": [
    "df[df.budget!=0].budget.hist(bins=100)\n",
    "plt.xlabel('Budget')\n",
    "plt.ylabel('Movies count')\n",
    "plt.title('Budget histogram')\n",
    "# plt.ylim((0,1000))\n",
    "plt.show()"
   ]
  },
  {
   "cell_type": "code",
   "execution_count": 150,
   "metadata": {
    "ExecuteTime": {
     "end_time": "2020-02-09T18:53:29.569007Z",
     "start_time": "2020-02-09T18:53:29.329446Z"
    }
   },
   "outputs": [
    {
     "data": {
      "image/png": "[encoded data removed]",
      "text/plain": [
       "<Figure size 432x288 with 1 Axes>"
      ]
     },
     "metadata": {
      "needs_background": "light"
     },
     "output_type": "display_data"
    }
   ],
   "source": [
    "df.revenue.hist(bins=100)\n",
    "plt.xlabel('Revenue')\n",
    "plt.ylabel('Movies count')\n",
    "plt.title('Revenue histogram')\n",
    "# plt.ylim((0,1000))\n",
    "plt.show()"
   ]
  },
  {
   "cell_type": "code",
   "execution_count": 153,
   "metadata": {
    "ExecuteTime": {
     "end_time": "2020-02-09T18:54:06.498822Z",
     "start_time": "2020-02-09T18:54:06.480840Z"
    }
   },
   "outputs": [
    {
     "data": {
      "text/html": [
       "<div>\n",
       "<style scoped>\n",
       "    .dataframe tbody tr th:only-of-type {\n",
       "        vertical-align: middle;\n",
       "    }\n",
       "\n",
       "    .dataframe tbody tr th {\n",
       "        vertical-align: top;\n",
       "    }\n",
       "\n",
       "    .dataframe thead th {\n",
       "        text-align: right;\n",
       "    }\n",
       "</style>\n",
       "<table border=\"1\" class=\"dataframe\">\n",
       "  <thead>\n",
       "    <tr style=\"text-align: right;\">\n",
       "      <th></th>\n",
       "      <th>id</th>\n",
       "      <th>title</th>\n",
       "      <th>cast</th>\n",
       "      <th>director</th>\n",
       "      <th>runtime</th>\n",
       "      <th>genres</th>\n",
       "      <th>release_date</th>\n",
       "      <th>users_voted</th>\n",
       "      <th>rating</th>\n",
       "      <th>release_year</th>\n",
       "      <th>budget</th>\n",
       "      <th>revenue</th>\n",
       "    </tr>\n",
       "  </thead>\n",
       "  <tbody>\n",
       "    <tr>\n",
       "      <th>5457</th>\n",
       "      <td>107985</td>\n",
       "      <td>The World's End</td>\n",
       "      <td>Simon Pegg|Nick Frost|Martin Freeman|Eddie Mar...</td>\n",
       "      <td>Edgar Wright</td>\n",
       "      <td>109</td>\n",
       "      <td>Comedy|Action|Science Fiction</td>\n",
       "      <td>2013-07-18</td>\n",
       "      <td>1143</td>\n",
       "      <td>3.30</td>\n",
       "      <td>2013</td>\n",
       "      <td>20000000</td>\n",
       "      <td>0</td>\n",
       "    </tr>\n",
       "    <tr>\n",
       "      <th>5460</th>\n",
       "      <td>138697</td>\n",
       "      <td>Don Jon</td>\n",
       "      <td>Joseph Gordon-Levitt|Scarlett Johansson|Julian...</td>\n",
       "      <td>Joseph Gordon-Levitt</td>\n",
       "      <td>90</td>\n",
       "      <td>Comedy|Drama</td>\n",
       "      <td>2013-07-26</td>\n",
       "      <td>1136</td>\n",
       "      <td>2.95</td>\n",
       "      <td>2013</td>\n",
       "      <td>6000000</td>\n",
       "      <td>0</td>\n",
       "    </tr>\n",
       "    <tr>\n",
       "      <th>5470</th>\n",
       "      <td>146216</td>\n",
       "      <td>RED 2</td>\n",
       "      <td>Bruce Willis|Catherine Zeta-Jones|Anthony Hopk...</td>\n",
       "      <td>Dean Parisot</td>\n",
       "      <td>116</td>\n",
       "      <td>Action|Comedy|Crime|Thriller</td>\n",
       "      <td>2013-07-18</td>\n",
       "      <td>1109</td>\n",
       "      <td>3.15</td>\n",
       "      <td>2013</td>\n",
       "      <td>84000000</td>\n",
       "      <td>0</td>\n",
       "    </tr>\n",
       "    <tr>\n",
       "      <th>746</th>\n",
       "      <td>188161</td>\n",
       "      <td>A Million Ways to Die in the West</td>\n",
       "      <td>Seth MacFarlane|Charlize Theron|Liam Neeson|Am...</td>\n",
       "      <td>Seth MacFarlane</td>\n",
       "      <td>116</td>\n",
       "      <td>Comedy|Western</td>\n",
       "      <td>2014-05-22</td>\n",
       "      <td>1074</td>\n",
       "      <td>2.95</td>\n",
       "      <td>2014</td>\n",
       "      <td>0</td>\n",
       "      <td>0</td>\n",
       "    </tr>\n",
       "    <tr>\n",
       "      <th>4408</th>\n",
       "      <td>59962</td>\n",
       "      <td>This Means War</td>\n",
       "      <td>Reese Witherspoon|Chris Pine|Tom Hardy|Laura V...</td>\n",
       "      <td>McG</td>\n",
       "      <td>103</td>\n",
       "      <td>Action|Comedy|Romance</td>\n",
       "      <td>2012-02-14</td>\n",
       "      <td>1011</td>\n",
       "      <td>2.95</td>\n",
       "      <td>2012</td>\n",
       "      <td>65000000</td>\n",
       "      <td>0</td>\n",
       "    </tr>\n",
       "  </tbody>\n",
       "</table>\n",
       "</div>"
      ],
      "text/plain": [
       "          id                              title                                               cast              director  runtime                         genres release_date  users_voted  rating  release_year    budget  revenue\n",
       "5457  107985                    The World's End  Simon Pegg|Nick Frost|Martin Freeman|Eddie Mar...          Edgar Wright      109  Comedy|Action|Science Fiction   2013-07-18         1143    3.30          2013  20000000        0\n",
       "5460  138697                            Don Jon  Joseph Gordon-Levitt|Scarlett Johansson|Julian...  Joseph Gordon-Levitt       90                   Comedy|Drama   2013-07-26         1136    2.95          2013   6000000        0\n",
       "5470  146216                              RED 2  Bruce Willis|Catherine Zeta-Jones|Anthony Hopk...          Dean Parisot      116   Action|Comedy|Crime|Thriller   2013-07-18         1109    3.15          2013  84000000        0\n",
       "746   188161  A Million Ways to Die in the West  Seth MacFarlane|Charlize Theron|Liam Neeson|Am...       Seth MacFarlane      116                 Comedy|Western   2014-05-22         1074    2.95          2014         0        0\n",
       "4408   59962                     This Means War  Reese Witherspoon|Chris Pine|Tom Hardy|Laura V...                   McG      103          Action|Comedy|Romance   2012-02-14         1011    2.95          2012  65000000        0"
      ]
     },
     "execution_count": 153,
     "metadata": {},
     "output_type": "execute_result"
    }
   ],
   "source": [
    "df[df.revenue==0].sort_values(by='users_voted',ascending=False).head()"
   ]
  },
  {
   "cell_type": "markdown",
   "metadata": {},
   "source": [
    "Here we have a similar situation as with the budget. The revenue of \"The World's End\" according to iMDB is $ 26,004,851. A plot with positive revenues should be more informative."
   ]
  },
  {
   "cell_type": "code",
   "execution_count": 157,
   "metadata": {
    "ExecuteTime": {
     "end_time": "2020-02-09T18:56:37.561931Z",
     "start_time": "2020-02-09T18:56:37.328933Z"
    }
   },
   "outputs": [
    {
     "data": {
      "image/png": "[encoded data removed]",
      "text/plain": [
       "<Figure size 432x288 with 1 Axes>"
      ]
     },
     "metadata": {
      "needs_background": "light"
     },
     "output_type": "display_data"
    }
   ],
   "source": [
    "df[df.revenue!=0].revenue.hist(bins=100)\n",
    "plt.xlabel('Revenue')\n",
    "plt.ylabel('Movies count')\n",
    "plt.title('Revenue histogram')\n",
    "# plt.ylim((0,1000))\n",
    "plt.show()"
   ]
  },
  {
   "cell_type": "markdown",
   "metadata": {},
   "source": [
    "## Part 4: Basic associations\n",
    "\n",
    "After we have inspected the individual values, it's time to start checking combinations of events, e.g. does the rating correlate with the budget or the revenue? Does the budget correlate with revenue? Analyze what your findings mean\n",
    "\n",
    "[20 minutes]\n",
    "\n",
    "---"
   ]
  },
  {
   "cell_type": "code",
   "execution_count": 2,
   "metadata": {},
   "outputs": [],
   "source": [
    "#YOUR CODE HERE"
   ]
  },
  {
   "cell_type": "markdown",
   "metadata": {},
   "source": [
    "\n",
    "## Part 5:  Determining the Most Successful Movies \n",
    "\n",
    "This is an example of an analysis of the \"grouped property\" type.\n",
    "\n",
    "Think of some reasonable definitions of what it could mean to be a \"most successful movie\", e.g. could be the movie that brought more income (that is revenue reduced by the budget) or could be the highest rated movies.\n",
    "\n",
    "[15 minutes] \n",
    "\n",
    "---"
   ]
  },
  {
   "cell_type": "markdown",
   "metadata": {},
   "source": [
    "For example, we can determine the \"best successful\" movie by year! Determine the best movie in each year."
   ]
  },
  {
   "cell_type": "code",
   "execution_count": null,
   "metadata": {
    "collapsed": true
   },
   "outputs": [],
   "source": [
    "#Using .groupby, we can divide the dataframe into subsets by the values of 'year'.\n",
    "#We can then iterate over these subsets\n",
    "for year, subset in df.groupby('year'):\n",
    "    #Find the best book of the year\n",
    "    ####### \n",
    "    #   Insert your code\n",
    "    ####### "
   ]
  },
  {
   "cell_type": "markdown",
   "metadata": {},
   "source": [
    "Try this for few other definitions of the \"best book\" using `.groupby`. Comment on the analysis (also use common sense)"
   ]
  },
  {
   "cell_type": "markdown",
   "metadata": {},
   "source": [
    "## Part 6:  Trends in Popularity of Genres \n",
    "\n",
    "This is an example of an analysis of the \"grouped property\" type.\n",
    "\n",
    "There are a lot of questions you could ask about genres.\n",
    "* Which genre is currently the most popular?\n",
    "* Do you reach the same conclusions if you use as indication of popularity the revenue or the rating?\n",
    "* Better, based on our data, what draw conclusions can you draw about the time evolution of the popularity of each genre?\n",
    "\n",
    "[20 minutes]\n",
    "\n",
    "---"
   ]
  },
  {
   "cell_type": "markdown",
   "metadata": {},
   "source": [
    "First we need to find the distinct genres in the dataframe. \n",
    "\n",
    "To do this, notice that each string is a pipe (|) separated list of genres. For each string, we ask if the genre is in that pipe separated list.  If it is, we return True, else False\n",
    "\n",
    "**Hint: remember that python sets have unique (non-repeating) items.**"
   ]
  },
  {
   "cell_type": "code",
   "execution_count": null,
   "metadata": {
    "collapsed": true
   },
   "outputs": [],
   "source": [
    "#Get the unique genres contained in the dataframe.\n",
    "####### \n",
    "#   Insert your code\n",
    "####### "
   ]
  },
  {
   "cell_type": "markdown",
   "metadata": {},
   "source": [
    "What happens if we add a column to the dataframe for each genre? \n",
    "\n",
    "Is this way of representing genre efficient? Allows for easy computation and visualization?\n",
    "\n",
    "Are there other ways to represent genre information in the dataframe that allow for each visualization?"
   ]
  },
  {
   "cell_type": "code",
   "execution_count": null,
   "metadata": {
    "collapsed": true
   },
   "outputs": [],
   "source": [
    "#Add a column for each genre\n",
    "####### \n",
    "#   Insert your code\n",
    "####### \n",
    "df.shape"
   ]
  },
  {
   "cell_type": "markdown",
   "metadata": {},
   "source": [
    "Now explore some ways to visualize the genres represented in the dataframe. \n",
    "\n",
    "For example, you might ask which is the most represented genre."
   ]
  },
  {
   "cell_type": "code",
   "execution_count": null,
   "metadata": {
    "collapsed": true
   },
   "outputs": [],
   "source": [
    "#Explore different ways to visualize information about the genres in the dataframe\n",
    "####### \n",
    "#   Insert your code\n",
    "####### "
   ]
  },
  {
   "cell_type": "markdown",
   "metadata": {},
   "source": [
    "### Part 6.1: What can you conclude from the above visualizations?\n",
    "[15 min]\n",
    "\n",
    "Pick two or three genres and describe how the popularity of these genres fluctuates with time.  "
   ]
  },
  {
   "cell_type": "markdown",
   "metadata": {},
   "source": [
    "## Part 7: Conclusions\n",
    "\n",
    "[15 min/remaining time]\n",
    "\n",
    "\n",
    "Summarize your conclusions here by highlighting some of your achievements. Make sure to answer both parts below\n",
    "\n",
    "### 7.1 Limitations\n",
    "Are there any specific limitations in this dataset? Can we consider it complete? Is it noisy? Are there any ethical concerns?\n",
    "\n",
    "### 7.2 Main findings\n",
    "Summarize your findings below"
   ]
  },
  {
   "cell_type": "code",
   "execution_count": null,
   "metadata": {},
   "outputs": [],
   "source": []
  }
 ],
 "metadata": {
  "anaconda-cloud": {},
  "kernelspec": {
   "display_name": "Python 3",
   "language": "python",
   "name": "python3"
  },
  "language_info": {
   "codemirror_mode": {
    "name": "ipython",
    "version": 3
   },
   "file_extension": ".py",
   "mimetype": "text/x-python",
   "name": "python",
   "nbconvert_exporter": "python",
   "pygments_lexer": "ipython3",
   "version": "3.7.3"
  }
 },
 "nbformat": 4,
 "nbformat_minor": 1
}
